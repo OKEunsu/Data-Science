{
 "cells": [
  {
   "cell_type": "code",
   "execution_count": null,
   "metadata": {
    "id": "Vh4NUzW7zEU7"
   },
   "outputs": [],
   "source": [
    "# Random Forest에 사용할 모듈 호출, 데이터 로딩\n",
    "import pandas as pd\n",
    "import numpy as np\n",
    "\n",
    "from sklearn.ensemble import RandomForestRegressor\n",
    "from sklearn.model_selection import train_test_split, cross_val_score\n",
    "from sklearn.metrics import mean_squared_error, r2_score\n",
    "\n",
    "import seaborn as sns\n",
    "import matplotlib.pyplot as plt\n",
    "%matplotlib inline"
   ]
  },
  {
   "cell_type": "code",
   "execution_count": null,
   "metadata": {
    "colab": {
     "base_uri": "https://localhost:8080/"
    },
    "executionInfo": {
     "elapsed": 19946,
     "status": "ok",
     "timestamp": 1677097592468,
     "user": {
      "displayName": "은수",
      "userId": "00326722399346854456"
     },
     "user_tz": -540
    },
    "id": "rGbKqwjQzf30",
    "outputId": "8aebc09c-0724-4cd8-c56d-643b4afb307a"
   },
   "outputs": [
    {
     "name": "stdout",
     "output_type": "stream",
     "text": [
      "Mounted at /content/drive\n"
     ]
    }
   ],
   "source": [
    "from google.colab import drive\n",
    "drive.mount('/content/drive')"
   ]
  },
  {
   "cell_type": "code",
   "execution_count": null,
   "metadata": {
    "id": "46rWSCmbrec2"
   },
   "outputs": [],
   "source": [
    "housing = pd.read_csv('housing.csv')"
   ]
  },
  {
   "cell_type": "code",
   "execution_count": null,
   "metadata": {
    "colab": {
     "base_uri": "https://localhost:8080/",
     "height": 487
    },
    "executionInfo": {
     "elapsed": 317,
     "status": "ok",
     "timestamp": 1677097686984,
     "user": {
      "displayName": "은수",
      "userId": "00326722399346854456"
     },
     "user_tz": -540
    },
    "id": "6uonoQ2xz8qi",
    "outputId": "e912b90a-2206-4832-e5bb-503442fa25cc"
   },
   "outputs": [
    {
     "data": {
      "text/html": [
       "\n",
       "  <div id=\"df-c3b45d63-cb62-4162-9c82-cf88596216ea\">\n",
       "    <div class=\"colab-df-container\">\n",
       "      <div>\n",
       "<style scoped>\n",
       "    .dataframe tbody tr th:only-of-type {\n",
       "        vertical-align: middle;\n",
       "    }\n",
       "\n",
       "    .dataframe tbody tr th {\n",
       "        vertical-align: top;\n",
       "    }\n",
       "\n",
       "    .dataframe thead th {\n",
       "        text-align: right;\n",
       "    }\n",
       "</style>\n",
       "<table border=\"1\" class=\"dataframe\">\n",
       "  <thead>\n",
       "    <tr style=\"text-align: right;\">\n",
       "      <th></th>\n",
       "      <th>CRIM</th>\n",
       "      <th>ZN</th>\n",
       "      <th>INDUS</th>\n",
       "      <th>CHAS</th>\n",
       "      <th>NOX</th>\n",
       "      <th>RM</th>\n",
       "      <th>AGE</th>\n",
       "      <th>DIS</th>\n",
       "      <th>RAD</th>\n",
       "      <th>TAX</th>\n",
       "      <th>PTRATIO</th>\n",
       "      <th>B</th>\n",
       "      <th>LSTAT</th>\n",
       "      <th>MEDV</th>\n",
       "    </tr>\n",
       "  </thead>\n",
       "  <tbody>\n",
       "    <tr>\n",
       "      <th>0</th>\n",
       "      <td>0.00632</td>\n",
       "      <td>18.0</td>\n",
       "      <td>2.31</td>\n",
       "      <td>0</td>\n",
       "      <td>0.538</td>\n",
       "      <td>6.575</td>\n",
       "      <td>65.2</td>\n",
       "      <td>4.0900</td>\n",
       "      <td>1</td>\n",
       "      <td>296.0</td>\n",
       "      <td>15.3</td>\n",
       "      <td>396.90</td>\n",
       "      <td>4.98</td>\n",
       "      <td>24.0</td>\n",
       "    </tr>\n",
       "    <tr>\n",
       "      <th>1</th>\n",
       "      <td>0.02731</td>\n",
       "      <td>0.0</td>\n",
       "      <td>7.07</td>\n",
       "      <td>0</td>\n",
       "      <td>0.469</td>\n",
       "      <td>6.421</td>\n",
       "      <td>78.9</td>\n",
       "      <td>4.9671</td>\n",
       "      <td>2</td>\n",
       "      <td>242.0</td>\n",
       "      <td>17.8</td>\n",
       "      <td>396.90</td>\n",
       "      <td>9.14</td>\n",
       "      <td>21.6</td>\n",
       "    </tr>\n",
       "    <tr>\n",
       "      <th>2</th>\n",
       "      <td>0.02729</td>\n",
       "      <td>0.0</td>\n",
       "      <td>7.07</td>\n",
       "      <td>0</td>\n",
       "      <td>0.469</td>\n",
       "      <td>7.185</td>\n",
       "      <td>61.1</td>\n",
       "      <td>4.9671</td>\n",
       "      <td>2</td>\n",
       "      <td>242.0</td>\n",
       "      <td>17.8</td>\n",
       "      <td>392.83</td>\n",
       "      <td>4.03</td>\n",
       "      <td>34.7</td>\n",
       "    </tr>\n",
       "    <tr>\n",
       "      <th>3</th>\n",
       "      <td>0.03237</td>\n",
       "      <td>0.0</td>\n",
       "      <td>2.18</td>\n",
       "      <td>0</td>\n",
       "      <td>0.458</td>\n",
       "      <td>6.998</td>\n",
       "      <td>45.8</td>\n",
       "      <td>6.0622</td>\n",
       "      <td>3</td>\n",
       "      <td>222.0</td>\n",
       "      <td>18.7</td>\n",
       "      <td>394.63</td>\n",
       "      <td>2.94</td>\n",
       "      <td>33.4</td>\n",
       "    </tr>\n",
       "    <tr>\n",
       "      <th>4</th>\n",
       "      <td>0.06905</td>\n",
       "      <td>0.0</td>\n",
       "      <td>2.18</td>\n",
       "      <td>0</td>\n",
       "      <td>0.458</td>\n",
       "      <td>7.147</td>\n",
       "      <td>54.2</td>\n",
       "      <td>6.0622</td>\n",
       "      <td>3</td>\n",
       "      <td>222.0</td>\n",
       "      <td>18.7</td>\n",
       "      <td>396.90</td>\n",
       "      <td>5.33</td>\n",
       "      <td>36.2</td>\n",
       "    </tr>\n",
       "    <tr>\n",
       "      <th>...</th>\n",
       "      <td>...</td>\n",
       "      <td>...</td>\n",
       "      <td>...</td>\n",
       "      <td>...</td>\n",
       "      <td>...</td>\n",
       "      <td>...</td>\n",
       "      <td>...</td>\n",
       "      <td>...</td>\n",
       "      <td>...</td>\n",
       "      <td>...</td>\n",
       "      <td>...</td>\n",
       "      <td>...</td>\n",
       "      <td>...</td>\n",
       "      <td>...</td>\n",
       "    </tr>\n",
       "    <tr>\n",
       "      <th>501</th>\n",
       "      <td>0.06263</td>\n",
       "      <td>0.0</td>\n",
       "      <td>11.93</td>\n",
       "      <td>0</td>\n",
       "      <td>0.573</td>\n",
       "      <td>6.593</td>\n",
       "      <td>69.1</td>\n",
       "      <td>2.4786</td>\n",
       "      <td>1</td>\n",
       "      <td>273.0</td>\n",
       "      <td>21.0</td>\n",
       "      <td>391.99</td>\n",
       "      <td>9.67</td>\n",
       "      <td>22.4</td>\n",
       "    </tr>\n",
       "    <tr>\n",
       "      <th>502</th>\n",
       "      <td>0.04527</td>\n",
       "      <td>0.0</td>\n",
       "      <td>11.93</td>\n",
       "      <td>0</td>\n",
       "      <td>0.573</td>\n",
       "      <td>6.120</td>\n",
       "      <td>76.7</td>\n",
       "      <td>2.2875</td>\n",
       "      <td>1</td>\n",
       "      <td>273.0</td>\n",
       "      <td>21.0</td>\n",
       "      <td>396.90</td>\n",
       "      <td>9.08</td>\n",
       "      <td>20.6</td>\n",
       "    </tr>\n",
       "    <tr>\n",
       "      <th>503</th>\n",
       "      <td>0.06076</td>\n",
       "      <td>0.0</td>\n",
       "      <td>11.93</td>\n",
       "      <td>0</td>\n",
       "      <td>0.573</td>\n",
       "      <td>6.976</td>\n",
       "      <td>91.0</td>\n",
       "      <td>2.1675</td>\n",
       "      <td>1</td>\n",
       "      <td>273.0</td>\n",
       "      <td>21.0</td>\n",
       "      <td>396.90</td>\n",
       "      <td>5.64</td>\n",
       "      <td>23.9</td>\n",
       "    </tr>\n",
       "    <tr>\n",
       "      <th>504</th>\n",
       "      <td>0.10959</td>\n",
       "      <td>0.0</td>\n",
       "      <td>11.93</td>\n",
       "      <td>0</td>\n",
       "      <td>0.573</td>\n",
       "      <td>6.794</td>\n",
       "      <td>89.3</td>\n",
       "      <td>2.3889</td>\n",
       "      <td>1</td>\n",
       "      <td>273.0</td>\n",
       "      <td>21.0</td>\n",
       "      <td>393.45</td>\n",
       "      <td>6.48</td>\n",
       "      <td>22.0</td>\n",
       "    </tr>\n",
       "    <tr>\n",
       "      <th>505</th>\n",
       "      <td>0.04741</td>\n",
       "      <td>0.0</td>\n",
       "      <td>11.93</td>\n",
       "      <td>0</td>\n",
       "      <td>0.573</td>\n",
       "      <td>6.030</td>\n",
       "      <td>80.8</td>\n",
       "      <td>2.5050</td>\n",
       "      <td>1</td>\n",
       "      <td>273.0</td>\n",
       "      <td>21.0</td>\n",
       "      <td>396.90</td>\n",
       "      <td>7.88</td>\n",
       "      <td>11.9</td>\n",
       "    </tr>\n",
       "  </tbody>\n",
       "</table>\n",
       "<p>506 rows × 14 columns</p>\n",
       "</div>\n",
       "      <button class=\"colab-df-convert\" onclick=\"convertToInteractive('df-c3b45d63-cb62-4162-9c82-cf88596216ea')\"\n",
       "              title=\"Convert this dataframe to an interactive table.\"\n",
       "              style=\"display:none;\">\n",
       "        \n",
       "  <svg xmlns=\"http://www.w3.org/2000/svg\" height=\"24px\"viewBox=\"0 0 24 24\"\n",
       "       width=\"24px\">\n",
       "    <path d=\"M0 0h24v24H0V0z\" fill=\"none\"/>\n",
       "    <path d=\"M18.56 5.44l.94 2.06.94-2.06 2.06-.94-2.06-.94-.94-2.06-.94 2.06-2.06.94zm-11 1L8.5 8.5l.94-2.06 2.06-.94-2.06-.94L8.5 2.5l-.94 2.06-2.06.94zm10 10l.94 2.06.94-2.06 2.06-.94-2.06-.94-.94-2.06-.94 2.06-2.06.94z\"/><path d=\"M17.41 7.96l-1.37-1.37c-.4-.4-.92-.59-1.43-.59-.52 0-1.04.2-1.43.59L10.3 9.45l-7.72 7.72c-.78.78-.78 2.05 0 2.83L4 21.41c.39.39.9.59 1.41.59.51 0 1.02-.2 1.41-.59l7.78-7.78 2.81-2.81c.8-.78.8-2.07 0-2.86zM5.41 20L4 18.59l7.72-7.72 1.47 1.35L5.41 20z\"/>\n",
       "  </svg>\n",
       "      </button>\n",
       "      \n",
       "  <style>\n",
       "    .colab-df-container {\n",
       "      display:flex;\n",
       "      flex-wrap:wrap;\n",
       "      gap: 12px;\n",
       "    }\n",
       "\n",
       "    .colab-df-convert {\n",
       "      background-color: #E8F0FE;\n",
       "      border: none;\n",
       "      border-radius: 50%;\n",
       "      cursor: pointer;\n",
       "      display: none;\n",
       "      fill: #1967D2;\n",
       "      height: 32px;\n",
       "      padding: 0 0 0 0;\n",
       "      width: 32px;\n",
       "    }\n",
       "\n",
       "    .colab-df-convert:hover {\n",
       "      background-color: #E2EBFA;\n",
       "      box-shadow: 0px 1px 2px rgba(60, 64, 67, 0.3), 0px 1px 3px 1px rgba(60, 64, 67, 0.15);\n",
       "      fill: #174EA6;\n",
       "    }\n",
       "\n",
       "    [theme=dark] .colab-df-convert {\n",
       "      background-color: #3B4455;\n",
       "      fill: #D2E3FC;\n",
       "    }\n",
       "\n",
       "    [theme=dark] .colab-df-convert:hover {\n",
       "      background-color: #434B5C;\n",
       "      box-shadow: 0px 1px 3px 1px rgba(0, 0, 0, 0.15);\n",
       "      filter: drop-shadow(0px 1px 2px rgba(0, 0, 0, 0.3));\n",
       "      fill: #FFFFFF;\n",
       "    }\n",
       "  </style>\n",
       "\n",
       "      <script>\n",
       "        const buttonEl =\n",
       "          document.querySelector('#df-c3b45d63-cb62-4162-9c82-cf88596216ea button.colab-df-convert');\n",
       "        buttonEl.style.display =\n",
       "          google.colab.kernel.accessAllowed ? 'block' : 'none';\n",
       "\n",
       "        async function convertToInteractive(key) {\n",
       "          const element = document.querySelector('#df-c3b45d63-cb62-4162-9c82-cf88596216ea');\n",
       "          const dataTable =\n",
       "            await google.colab.kernel.invokeFunction('convertToInteractive',\n",
       "                                                     [key], {});\n",
       "          if (!dataTable) return;\n",
       "\n",
       "          const docLinkHtml = 'Like what you see? Visit the ' +\n",
       "            '<a target=\"_blank\" href=https://colab.research.google.com/notebooks/data_table.ipynb>data table notebook</a>'\n",
       "            + ' to learn more about interactive tables.';\n",
       "          element.innerHTML = '';\n",
       "          dataTable['output_type'] = 'display_data';\n",
       "          await google.colab.output.renderOutput(dataTable, element);\n",
       "          const docLink = document.createElement('div');\n",
       "          docLink.innerHTML = docLinkHtml;\n",
       "          element.appendChild(docLink);\n",
       "        }\n",
       "      </script>\n",
       "    </div>\n",
       "  </div>\n",
       "  "
      ],
      "text/plain": [
       "        CRIM    ZN  INDUS  CHAS    NOX     RM   AGE     DIS  RAD    TAX  \\\n",
       "0    0.00632  18.0   2.31     0  0.538  6.575  65.2  4.0900    1  296.0   \n",
       "1    0.02731   0.0   7.07     0  0.469  6.421  78.9  4.9671    2  242.0   \n",
       "2    0.02729   0.0   7.07     0  0.469  7.185  61.1  4.9671    2  242.0   \n",
       "3    0.03237   0.0   2.18     0  0.458  6.998  45.8  6.0622    3  222.0   \n",
       "4    0.06905   0.0   2.18     0  0.458  7.147  54.2  6.0622    3  222.0   \n",
       "..       ...   ...    ...   ...    ...    ...   ...     ...  ...    ...   \n",
       "501  0.06263   0.0  11.93     0  0.573  6.593  69.1  2.4786    1  273.0   \n",
       "502  0.04527   0.0  11.93     0  0.573  6.120  76.7  2.2875    1  273.0   \n",
       "503  0.06076   0.0  11.93     0  0.573  6.976  91.0  2.1675    1  273.0   \n",
       "504  0.10959   0.0  11.93     0  0.573  6.794  89.3  2.3889    1  273.0   \n",
       "505  0.04741   0.0  11.93     0  0.573  6.030  80.8  2.5050    1  273.0   \n",
       "\n",
       "     PTRATIO       B  LSTAT  MEDV  \n",
       "0       15.3  396.90   4.98  24.0  \n",
       "1       17.8  396.90   9.14  21.6  \n",
       "2       17.8  392.83   4.03  34.7  \n",
       "3       18.7  394.63   2.94  33.4  \n",
       "4       18.7  396.90   5.33  36.2  \n",
       "..       ...     ...    ...   ...  \n",
       "501     21.0  391.99   9.67  22.4  \n",
       "502     21.0  396.90   9.08  20.6  \n",
       "503     21.0  396.90   5.64  23.9  \n",
       "504     21.0  393.45   6.48  22.0  \n",
       "505     21.0  396.90   7.88  11.9  \n",
       "\n",
       "[506 rows x 14 columns]"
      ]
     },
     "execution_count": 4,
     "metadata": {},
     "output_type": "execute_result"
    }
   ],
   "source": [
    "housing"
   ]
  },
  {
   "cell_type": "code",
   "execution_count": null,
   "metadata": {
    "id": "hvUrhLLvz9H3"
   },
   "outputs": [],
   "source": [
    "# 1) 데이터 준비 : 변수 설정, 학습/테스트 분리\n",
    "y_target = housing['MEDV']\n",
    "X_data = housing.drop(['MEDV'], axis = 1, inplace = False)\n",
    "\n",
    "X_train, X_test, y_train,  y_test = train_test_split(X_data, y_target, test_size = 0.2, random_state=42)"
   ]
  },
  {
   "cell_type": "code",
   "execution_count": null,
   "metadata": {
    "id": "BhFeyPL50Uai"
   },
   "outputs": [],
   "source": [
    "# 2) 모형 세팅과 훈련\n",
    "rf = RandomForestRegressor(random_state = 42, n_estimators = 1000)"
   ]
  },
  {
   "cell_type": "code",
   "execution_count": null,
   "metadata": {
    "colab": {
     "base_uri": "https://localhost:8080/"
    },
    "executionInfo": {
     "elapsed": 15854,
     "status": "ok",
     "timestamp": 1677098213487,
     "user": {
      "displayName": "은수",
      "userId": "00326722399346854456"
     },
     "user_tz": -540
    },
    "id": "wkga6NM21MvZ",
    "outputId": "bb3c6692-26a6-4d89-d6cf-6eedbc28221f"
   },
   "outputs": [
    {
     "name": "stdout",
     "output_type": "stream",
     "text": [
      "Random Forest 모델의 훈련 데이터에 대한 성능 :\n",
      "5 folds의 개별 RMSE :  [3.51 4.91 3.83 3.23 3.69]\n",
      "5 folds의 평균 RMSE : 3.833 \n"
     ]
    }
   ],
   "source": [
    "# 모델의 성능을 학습과정에서 최적화\n",
    "# Train 데이터를 교차검증\n",
    "# 3) 모형의 성능 평가 : 교차검증을 통해 학습과정에서 모형의 성능 최적화\n",
    "cross_scores = cross_val_score(rf, X_train, y_train, scoring = 'neg_mean_squared_error', cv = 5)\n",
    "rmse_scores = np.sqrt(-1 * cross_scores)\n",
    "avg_rmse = np.mean(rmse_scores)\n",
    "\n",
    "print('Random Forest 모델의 훈련 데이터에 대한 성능 :')\n",
    "print('5 folds의 개별 RMSE : ', np.round(rmse_scores, 2))\n",
    "print('5 folds의 평균 RMSE : {0:.3f} '.format(avg_rmse))"
   ]
  },
  {
   "cell_type": "code",
   "execution_count": null,
   "metadata": {
    "colab": {
     "base_uri": "https://localhost:8080/"
    },
    "executionInfo": {
     "elapsed": 295,
     "status": "ok",
     "timestamp": 1677102851366,
     "user": {
      "displayName": "은수",
      "userId": "00326722399346854456"
     },
     "user_tz": -540
    },
    "id": "rEngXWm61zGI",
    "outputId": "37b524f1-2912-4e76-f51f-9fedf22e9c69"
   },
   "outputs": [
    {
     "name": "stdout",
     "output_type": "stream",
     "text": [
      "multiple linear regression 모델의 훈련 데이터에 대한 성능 :\n",
      "5 folds의 개별 RMSE :  [4.15 5.87 4.87 4.5  4.76]\n",
      "5 folds의 평균 RMSE : 4.829 \n"
     ]
    }
   ],
   "source": [
    "# 선형회귀 모델의 best 성능과 비교\n",
    "# 성능 비교 1) Random Forest vs.모든 변수를 다 사용한 선형회귀 모델\n",
    "from sklearn.linear_model import LinearRegression\n",
    "lr = LinearRegression()\n",
    "cross_scores = cross_val_score(lr, X_train, y_train, scoring = 'neg_mean_squared_error', cv = 5)\n",
    "rmse_scores = np.sqrt(-1 * cross_scores)\n",
    "avg_rmse = np.mean(rmse_scores)\n",
    "\n",
    "print('multiple linear regression 모델의 훈련 데이터에 대한 성능 :')\n",
    "print('5 folds의 개별 RMSE : ', np.round(rmse_scores, 2))\n",
    "print('5 folds의 평균 RMSE : {0:.3f} '.format(avg_rmse))"
   ]
  },
  {
   "cell_type": "code",
   "execution_count": null,
   "metadata": {
    "colab": {
     "base_uri": "https://localhost:8080/"
    },
    "executionInfo": {
     "elapsed": 289,
     "status": "ok",
     "timestamp": 1677102909030,
     "user": {
      "displayName": "은수",
      "userId": "00326722399346854456"
     },
     "user_tz": -540
    },
    "id": "EzfraxyyHOLZ",
    "outputId": "9192f549-c5eb-48bd-d294-bd8c2cdbd8d4"
   },
   "outputs": [
    {
     "name": "stdout",
     "output_type": "stream",
     "text": [
      "Decision Tree 모델의 훈련 데이터에 대한 성능 :\n",
      "5 folds의 개별 RMSE :  [4.29 6.16 5.07 6.38 5.07]\n",
      "5 folds의 평균 RMSE : 5.394 \n"
     ]
    }
   ],
   "source": [
    "# 성능 비교 2) Random Forest vs 의사결정나무 중 가장 성능이 좋은 (max_depth=5) 모델\n",
    "from sklearn.tree import DecisionTreeRegressor\n",
    "dt = DecisionTreeRegressor(random_state = 42, max_depth=5)\n",
    "cross_scores = cross_val_score(dt, X_train, y_train, scoring = 'neg_mean_squared_error', cv = 5)\n",
    "rmse_scores = np.sqrt(-1 * cross_scores)\n",
    "avg_rmse = np.mean(rmse_scores)\n",
    "\n",
    "print('Decision Tree 모델의 훈련 데이터에 대한 성능 :')\n",
    "print('5 folds의 개별 RMSE : ', np.round(rmse_scores, 2))\n",
    "print('5 folds의 평균 RMSE : {0:.3f} '.format(avg_rmse))\n"
   ]
  },
  {
   "cell_type": "code",
   "execution_count": null,
   "metadata": {
    "colab": {
     "base_uri": "https://localhost:8080/"
    },
    "executionInfo": {
     "elapsed": 145770,
     "status": "ok",
     "timestamp": 1677104814172,
     "user": {
      "displayName": "은수",
      "userId": "00326722399346854456"
     },
     "user_tz": -540
    },
    "id": "zf_FKpj5H59m",
    "outputId": "022172ac-9e28-4160-d478-edb17b80a25e"
   },
   "outputs": [
    {
     "name": "stdout",
     "output_type": "stream",
     "text": [
      "Random Forest 모델의 훈련 데이터에 대한 성능 :\n",
      "5 folds의 개별 RMSE :  [3.52 4.91 3.8  3.26 3.69]\n",
      "5 folds의 평균 RMSE : 3.837 \n"
     ]
    }
   ],
   "source": [
    "# Random Forest 알고리즘 선정, 모델의 성능 추가 개선 (다양한 파라미터 중 트리의 개수만 변경)\n",
    "rf1 = RandomForestRegressor(random_state = 42, n_estimators = 10000)\n",
    "cross_scores = cross_val_score(rf1, X_train, y_train, scoring = 'neg_mean_squared_error', cv = 5)\n",
    "rmse_scores = np.sqrt(-1 * cross_scores)\n",
    "avg_rmse = np.mean(rmse_scores)\n",
    "\n",
    "print('Random Forest 모델의 훈련 데이터에 대한 성능 :')\n",
    "print('5 folds의 개별 RMSE : ', np.round(rmse_scores, 2))\n",
    "print('5 folds의 평균 RMSE : {0:.3f} '.format(avg_rmse))"
   ]
  },
  {
   "cell_type": "code",
   "execution_count": null,
   "metadata": {
    "colab": {
     "base_uri": "https://localhost:8080/"
    },
    "executionInfo": {
     "elapsed": 1360,
     "status": "ok",
     "timestamp": 1677104815526,
     "user": {
      "displayName": "은수",
      "userId": "00326722399346854456"
     },
     "user_tz": -540
    },
    "id": "7xi-V_FaJnfC",
    "outputId": "7d287af7-b7b3-48bb-8c0e-2fcdf5ead366"
   },
   "outputs": [
    {
     "name": "stdout",
     "output_type": "stream",
     "text": [
      "Random Forest 모델의 훈련 데이터에 대한 성능 :\n",
      "5 folds의 개별 RMSE :  [3.6  4.78 3.81 3.21 3.69]\n",
      "5 folds의 평균 RMSE : 3.819 \n"
     ]
    }
   ],
   "source": [
    "# Random Forest 알고리즘 선정, 모델의 성능 추가 개선 (다양한 파라미터 중 트리의 개수만 변경)\n",
    "rf2 = RandomForestRegressor(random_state = 42, n_estimators = 100)\n",
    "cross_scores = cross_val_score(rf2, X_train, y_train, scoring = 'neg_mean_squared_error', cv = 5)\n",
    "rmse_scores = np.sqrt(-1 * cross_scores)\n",
    "avg_rmse = np.mean(rmse_scores)\n",
    "\n",
    "print('Random Forest 모델의 훈련 데이터에 대한 성능 :')\n",
    "print('5 folds의 개별 RMSE : ', np.round(rmse_scores, 2))\n",
    "print('5 folds의 평균 RMSE : {0:.3f} '.format(avg_rmse))"
   ]
  },
  {
   "cell_type": "code",
   "execution_count": null,
   "metadata": {
    "id": "lSQ_kmwXbnhS"
   },
   "outputs": [],
   "source": [
    "# 최적 파라미터 선택과 교차검증을 한번에 GridSearchCV()\n",
    "from sklearn.model_selection import GridSearchCV\n",
    "rf = RandomForestRegressor(random_state = 42)\n",
    "rf_params_gird = {'n_estimators' : [100, 200, 300, 400, 500],\n",
    "                  'max_depth' : [4, 5, 6]\n",
    "                  }"
   ]
  },
  {
   "cell_type": "code",
   "execution_count": null,
   "metadata": {
    "id": "HAXCv7H2b-Ex"
   },
   "outputs": [],
   "source": [
    "rf_grid = GridSearchCV(rf, param_grid = rf_params_gird, scoring = 'neg_mean_squared_error', n_jobs=-1)"
   ]
  },
  {
   "cell_type": "code",
   "execution_count": null,
   "metadata": {
    "colab": {
     "base_uri": "https://localhost:8080/"
    },
    "executionInfo": {
     "elapsed": 44030,
     "status": "ok",
     "timestamp": 1677108539266,
     "user": {
      "displayName": "은수",
      "userId": "00326722399346854456"
     },
     "user_tz": -540
    },
    "id": "5i2mZ4tac8De",
    "outputId": "e789232b-a867-4eba-811f-9b33f95aa01c"
   },
   "outputs": [
    {
     "data": {
      "text/plain": [
       "GridSearchCV(estimator=RandomForestRegressor(random_state=42), n_jobs=-1,\n",
       "             param_grid={'max_depth': [4, 5, 6],\n",
       "                         'n_estimators': [100, 200, 300, 400, 500]},\n",
       "             scoring='neg_mean_squared_error')"
      ]
     },
     "execution_count": 24,
     "metadata": {},
     "output_type": "execute_result"
    }
   ],
   "source": [
    "rf_grid.fit(X_train, y_train)"
   ]
  },
  {
   "cell_type": "code",
   "execution_count": null,
   "metadata": {
    "colab": {
     "base_uri": "https://localhost:8080/"
    },
    "executionInfo": {
     "elapsed": 403,
     "status": "ok",
     "timestamp": 1677108660039,
     "user": {
      "displayName": "은수",
      "userId": "00326722399346854456"
     },
     "user_tz": -540
    },
    "id": "46HreY6fdL8D",
    "outputId": "478df7d4-d63a-4300-a17b-fa03d4b6cefe"
   },
   "outputs": [
    {
     "name": "stdout",
     "output_type": "stream",
     "text": [
      "최고 평균 정확도(RMSE) : 3.926\n",
      "최고의 파라미터 : {'max_depth': 6, 'n_estimators': 100}\n"
     ]
    }
   ],
   "source": [
    "print('최고 평균 정확도(RMSE) : {0:.3f}'.format(np.sqrt(-1*rf_grid.best_score_)))\n",
    "print('최고의 파라미터 : {}'.format(rf_grid.best_params_))"
   ]
  },
  {
   "cell_type": "code",
   "execution_count": null,
   "metadata": {
    "id": "aW6AbwOkd0Gb"
   },
   "outputs": [],
   "source": [
    "rf_params_gird = {'n_estimators' : [100, 200, 300, 400, 500],\n",
    "                  'max_depth' : [10, 20, 30, 40, 50]\n",
    "                  }"
   ]
  },
  {
   "cell_type": "code",
   "execution_count": null,
   "metadata": {
    "colab": {
     "base_uri": "https://localhost:8080/"
    },
    "executionInfo": {
     "elapsed": 92328,
     "status": "ok",
     "timestamp": 1677108958457,
     "user": {
      "displayName": "은수",
      "userId": "00326722399346854456"
     },
     "user_tz": -540
    },
    "id": "LELmBz6PeeKC",
    "outputId": "97313767-16b4-4502-c2c9-8778d9283465"
   },
   "outputs": [
    {
     "name": "stdout",
     "output_type": "stream",
     "text": [
      "최고 평균 정확도(RMSE) : 3.855\n",
      "최고의 파라미터 : {'max_depth': 30, 'n_estimators': 100}\n"
     ]
    }
   ],
   "source": [
    "rf_grid = GridSearchCV(rf, param_grid = rf_params_gird, scoring = 'neg_mean_squared_error', cv = 5,n_jobs=-1)\n",
    "rf_grid.fit(X_train, y_train)\n",
    "\n",
    "print('최고 평균 정확도(RMSE) : {0:.3f}'.format(np.sqrt(-1*rf_grid.best_score_)))\n",
    "print('최고의 파라미터 : {}'.format(rf_grid.best_params_))"
   ]
  },
  {
   "cell_type": "code",
   "execution_count": null,
   "metadata": {
    "id": "JQoeFEDuemjv"
   },
   "outputs": [],
   "source": [
    "rf_params_gird = {'n_estimators' : [100, 200, 300, 400, 500],\n",
    "                  'max_depth' : [10, 20, 30, 40, 50],\n",
    "                  'max_leaf_nodes' : [10, 20, 30]\n",
    "                  }"
   ]
  },
  {
   "cell_type": "code",
   "execution_count": null,
   "metadata": {
    "colab": {
     "base_uri": "https://localhost:8080/"
    },
    "executionInfo": {
     "elapsed": 217196,
     "status": "ok",
     "timestamp": 1677109512299,
     "user": {
      "displayName": "은수",
      "userId": "00326722399346854456"
     },
     "user_tz": -540
    },
    "id": "3oflI7MJgI9F",
    "outputId": "6562a61e-dd90-423c-b990-e25fdcc316bb"
   },
   "outputs": [
    {
     "name": "stdout",
     "output_type": "stream",
     "text": [
      "최고 평균 정확도(RMSE) : 3.914\n",
      "최고의 파라미터 : {'max_depth': 20, 'max_leaf_nodes': 30, 'n_estimators': 100}\n"
     ]
    }
   ],
   "source": [
    "rf_grid = GridSearchCV(rf, param_grid = rf_params_gird, scoring = 'neg_mean_squared_error', cv = 5,n_jobs=-1)\n",
    "rf_grid.fit(X_train, y_train)\n",
    "\n",
    "print('최고 평균 정확도(RMSE) : {0:.3f}'.format(np.sqrt(-1*rf_grid.best_score_)))\n",
    "print('최고의 파라미터 : {}'.format(rf_grid.best_params_))"
   ]
  },
  {
   "cell_type": "code",
   "execution_count": null,
   "metadata": {
    "colab": {
     "base_uri": "https://localhost:8080/"
    },
    "executionInfo": {
     "elapsed": 358,
     "status": "ok",
     "timestamp": 1677109670534,
     "user": {
      "displayName": "은수",
      "userId": "00326722399346854456"
     },
     "user_tz": -540
    },
    "id": "7ZeumwNHgP8A",
    "outputId": "a5c1a0d8-ba6c-480c-9246-359ec7f6e04c"
   },
   "outputs": [
    {
     "name": "stdout",
     "output_type": "stream",
     "text": [
      "테스트 데이터에 대한 모형의 성능 :\n",
      "정확도(RMSE) : 2.905\n",
      "설명력(R2) : 0.885\n"
     ]
    }
   ],
   "source": [
    "# 최적의 파라미터로 모델 생성\n",
    "rf_good = RandomForestRegressor(random_state = 42,n_estimators= 100,max_depth= 20,max_leaf_nodes= 30\n",
    ")\n",
    "rf_good.fit(X_train, y_train)\n",
    "y_test_pred = rf_good.predict(X_test)\n",
    "\n",
    "# 테스트 데이터에 대한 모형의 정확도 평가\n",
    "mse_test = mean_squared_error(y_test, y_test_pred)\n",
    "rmse_test = np.sqrt(mse_test)\n",
    "\n",
    "print(\"테스트 데이터에 대한 모형의 성능 :\")\n",
    "print(\"정확도(RMSE) : {:.3f}\".format(rmse_test))\n",
    "print(\"설명력(R2) : {:.3f}\".format(r2_score(y_test, y_test_pred)))"
   ]
  },
  {
   "cell_type": "code",
   "execution_count": null,
   "metadata": {
    "id": "6S5tUY1qhq93"
   },
   "outputs": [],
   "source": [
    "from sklearn.tree import DecisionTreeRegressor\n",
    "from sklearn.ensemble import RandomForestRegressor\n",
    "\n",
    "from sklearn.ensemble import GradientBoostingRegressor\n",
    "from xgboost import XGBRegressor\n",
    "from lightgbm import LGBMRegressor\n",
    "\n",
    "y_target = housing['MEDV']\n",
    "X_data = housing.drop(['MEDV'], axis = 1, inplace = False)\n",
    "X_train, X_test, y_train, y_test = train_test_split(X_data, y_target, test_size = 0.2, random_state = 42)\n"
   ]
  },
  {
   "cell_type": "code",
   "execution_count": null,
   "metadata": {
    "id": "CaRScGJmjUp1"
   },
   "outputs": [],
   "source": [
    "def get_model_cv_prediction(model, X_data, y_target):\n",
    "\tneg_mse_scores = cross_val_score(model, X_data, y_target, scoring = 'neg_mean_squared_error', cv = 5)\n",
    "\trmse_scores = np.sqrt(-1* neg_mse_scores)\n",
    "\tavg_rmse = np.mean(rmse_scores)\n",
    "\tprint('##', model.__class__.__name__, ':')\n",
    "\tprint('5 folods의 평균 RMSE : {0:.3f}'.format(avg_rmse))"
   ]
  },
  {
   "cell_type": "code",
   "execution_count": null,
   "metadata": {
    "id": "RuGuBEjBjtrm"
   },
   "outputs": [],
   "source": [
    "dt_reg = DecisionTreeRegressor(random_state=42, max_depth = 5)\n",
    "rf_reg = RandomForestRegressor(random_state=42, n_estimators = 100)\n",
    "gb_reg = GradientBoostingRegressor(random_state=42, n_estimators=100)\n",
    "xgb_reg = XGBRegressor(objective='reg:squarederror', random_state=42, n_estimators=100)\n",
    "lgb_reg = LGBMRegressor(n_estimators=100)"
   ]
  },
  {
   "cell_type": "code",
   "execution_count": null,
   "metadata": {
    "id": "OG_NDkLdkLhC"
   },
   "outputs": [],
   "source": [
    "models = [dt_reg,rf_reg,gb_reg,xgb_reg,lgb_reg]"
   ]
  },
  {
   "cell_type": "code",
   "execution_count": null,
   "metadata": {
    "colab": {
     "base_uri": "https://localhost:8080/"
    },
    "executionInfo": {
     "elapsed": 3427,
     "status": "ok",
     "timestamp": 1677110439351,
     "user": {
      "displayName": "은수",
      "userId": "00326722399346854456"
     },
     "user_tz": -540
    },
    "id": "q-7vv7eskfnl",
    "outputId": "9cad9282-4ef4-48bc-9a62-1933ed4352ab"
   },
   "outputs": [
    {
     "name": "stdout",
     "output_type": "stream",
     "text": [
      "## DecisionTreeRegressor :\n",
      "5 folods의 평균 RMSE : 5.394\n",
      "## RandomForestRegressor :\n",
      "5 folods의 평균 RMSE : 3.819\n",
      "## GradientBoostingRegressor :\n",
      "5 folods의 평균 RMSE : 3.526\n",
      "## XGBRegressor :\n",
      "5 folods의 평균 RMSE : 3.625\n",
      "## LGBMRegressor :\n",
      "5 folods의 평균 RMSE : 3.725\n"
     ]
    }
   ],
   "source": [
    "for model in models:\n",
    "  get_model_cv_prediction(model, X_train, y_train)"
   ]
  },
  {
   "cell_type": "code",
   "execution_count": null,
   "metadata": {
    "id": "JLENq-9Pkl50"
   },
   "outputs": [],
   "source": [
    "# 변수 중요도\n",
    "feature_series = pd.Series(data = rf_good.feature_importances_, index = X_data.columns)\n",
    "feature_series = feature_series.sort_values(ascending=False)"
   ]
  },
  {
   "cell_type": "code",
   "execution_count": null,
   "metadata": {
    "colab": {
     "base_uri": "https://localhost:8080/"
    },
    "executionInfo": {
     "elapsed": 3,
     "status": "ok",
     "timestamp": 1677114627454,
     "user": {
      "displayName": "은수",
      "userId": "00326722399346854456"
     },
     "user_tz": -540
    },
    "id": "LdokAbBs0Aoh",
    "outputId": "ee89b61c-826b-4c40-a42b-e733964345c2"
   },
   "outputs": [
    {
     "data": {
      "text/plain": [
       "RM         0.519235\n",
       "LSTAT      0.316702\n",
       "DIS        0.058389\n",
       "CRIM       0.033408\n",
       "TAX        0.015239\n",
       "PTRATIO    0.014179\n",
       "dtype: float64"
      ]
     },
     "execution_count": 48,
     "metadata": {},
     "output_type": "execute_result"
    }
   ],
   "source": [
    "feature_series.head(6)"
   ]
  },
  {
   "cell_type": "code",
   "execution_count": null,
   "metadata": {
    "colab": {
     "base_uri": "https://localhost:8080/",
     "height": 283
    },
    "executionInfo": {
     "elapsed": 796,
     "status": "ok",
     "timestamp": 1677114736826,
     "user": {
      "displayName": "은수",
      "userId": "00326722399346854456"
     },
     "user_tz": -540
    },
    "id": "S0nEggBr0_aL",
    "outputId": "a299512e-93ec-481e-f9b1-7f0fd0208ba9"
   },
   "outputs": [
    {
     "data": {
      "text/plain": [
       "<matplotlib.axes._subplots.AxesSubplot at 0x7efe4eb5f460>"
      ]
     },
     "execution_count": 49,
     "metadata": {},
     "output_type": "execute_result"
    },
    {
     "data": {
      "image/png": "[encoded data removed]",
      "text/plain": [
       "<Figure size 432x288 with 1 Axes>"
      ]
     },
     "metadata": {
      "needs_background": "light"
     },
     "output_type": "display_data"
    }
   ],
   "source": [
    "sns.barplot(x = feature_series, y = feature_series.index)"
   ]
  },
  {
   "cell_type": "code",
   "execution_count": null,
   "metadata": {
    "id": "JxeSD6KD0_vn"
   },
   "outputs": [],
   "source": []
  }
 ],
 "metadata": {
  "colab": {
   "authorship_tag": "ABX9TyPyIhsgu0URoLJ/oYgpaffA",
   "provenance": []
  },
  "kernelspec": {
   "display_name": "Python 3 (ipykernel)",
   "language": "python",
   "name": "python3"
  },
  "language_info": {
   "codemirror_mode": {
    "name": "ipython",
    "version": 3
   },
   "file_extension": ".py",
   "mimetype": "text/x-python",
   "name": "python",
   "nbconvert_exporter": "python",
   "pygments_lexer": "ipython3",
   "version": "3.10.9"
  }
 },
 "nbformat": 4,
 "nbformat_minor": 1
}
