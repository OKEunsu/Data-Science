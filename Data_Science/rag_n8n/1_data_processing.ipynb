{
 "cells": [
  {
   "cell_type": "markdown",
   "id": "4bf93846",
   "metadata": {},
   "source": [
    "# 1_Data_Processing Notebook\n",
    "\n",
    "데이터 문서를 전처리하고 Pinecone 업로드용 JSON을 준비하는 노트북입니다."
   ]
  },
  {
   "cell_type": "markdown",
   "id": "5f9e1248",
   "metadata": {},
   "source": [
    "## 1. 환경 설정\n",
    "- Jupyter 이벤트 루프 충돌을 방지합니다.\n",
    "- 기본 경로와 출력 폴더를 초기화합니다."
   ]
  },
  {
   "cell_type": "code",
   "execution_count": 1,
   "id": "31f2d9e6",
   "metadata": {},
   "outputs": [],
   "source": [
    "# Jupyter에서 중첩 이벤트 루프 오류 방지 (asyncio 충돌 해결)\n",
    "import nest_asyncio\n",
    "nest_asyncio.apply()"
   ]
  },
  {
   "cell_type": "markdown",
   "id": "80de5a3a",
   "metadata": {},
   "source": [
    "## 2. 데이터 로딩 및 전처리\n",
    "- 원본 Markdown 문서를 불러와 텍스트를 정제합니다.\n",
    "- 헤더/메타데이터 파싱 및 파일명 정규화를 수행합니다."
   ]
  },
  {
   "cell_type": "code",
   "execution_count": 2,
   "id": "c98c244e",
   "metadata": {},
   "outputs": [],
   "source": [
    "# 환경 변수 및 경로 설정\n",
    "from dotenv import load_dotenv, find_dotenv\n",
    "import os\n",
    "import asyncio\n",
    "from pathlib import Path\n",
    "from pyzerox import zerox\n",
    "\n",
    "load_dotenv(find_dotenv())  # .env 파일 로드\n",
    "api_key = os.getenv(\"OPENAI_API_KEY\")\n",
    "if not api_key:\n",
    "    raise RuntimeError(\"OPENAI_API_KEY not set. Check your .env file.\")\n",
    "\n",
    "# PDF 추출용 poppler 바이너리 경로 (Windows 등)\n",
    "poppler_path = os.getenv(\"POPPLER_PATH\")\n",
    "if poppler_path:\n",
    "    poppler_dir = Path(poppler_path)\n",
    "    if poppler_dir.exists():\n",
    "        path_env = os.environ.get(\"PATH\", \"\")\n",
    "        if str(poppler_dir) not in path_env.split(os.pathsep):\n",
    "            # 시스템 PATH에 poppler 경로가 없다면 추가\n",
    "            os.environ[\"PATH\"] = f\"{poppler_dir}{os.pathsep}{path_env}\" if path_env else str(poppler_dir)\n",
    "    else:\n",
    "        raise RuntimeError(f\"POPPLER_PATH not found: {poppler_dir}\")\n"
   ]
  },
  {
   "cell_type": "markdown",
   "id": "2b717ef9",
   "metadata": {},
   "source": [
    "## 3. 결과 저장\n",
    "- 전처리된 텍스트를 JSON/Markdown 등 후속 단계에서 사용할 형식으로 저장합니다."
   ]
  },
  {
   "cell_type": "code",
   "execution_count": null,
   "id": "main-cell",
   "metadata": {},
   "outputs": [
    {
     "name": "stdout",
     "output_type": "stream",
     "text": [
      "documents_with_english_titles\\delegation_of_authority.pdf is done\n",
      "documents_with_english_titles\\employee_benefits_and_welfare_faq.pdf is done\n",
      "documents_with_english_titles\\employee_benefits_and_welfare_guide.pdf is done\n",
      "documents_with_english_titles\\employee_handbook_and_hr_policy.pdf is done\n",
      "documents_with_english_titles\\expense_management_guide.pdf is done\n",
      "documents_with_english_titles\\it_support_guide.pdf is done\n",
      "documents_with_english_titles\\legal_and_compliance_policy.pdf is done\n"
     ]
    }
   ],
   "source": [
    "# 문서 변환 실행 설정 및 배치 처리\n",
    "model = os.getenv(\"OPENAI_MODEL\", \"gpt-4o-mini\")  # 사용할 OpenAI 모델\n",
    "input_dir = Path(\"./documents_with_english_titles\")  # 입력 문서 폴더\n",
    "output_dir = Path(\"./output\")  # 결과 저장 폴더\n",
    "output_dir.mkdir(parents=True, exist_ok=True)  # 폴더 생성\n",
    "\n",
    "async def main():\n",
    "    results = []  # 파일별 처리 결과 저장\n",
    "    for file_path in sorted(input_dir.glob('*')):\n",
    "        if not file_path.is_file():\n",
    "            continue  # 하위 폴더 등은 건너뜀\n",
    "\n",
    "        # pyzerox를 이용해 문서를 Markdown 등으로 변환\n",
    "        result = await zerox(\n",
    "            file_path=str(file_path),\n",
    "            model=model,\n",
    "            output_dir=str(output_dir),\n",
    "            custom_system_prompt=None,\n",
    "            select_pages=None,\n",
    "        )\n",
    "\n",
    "        print(f\"{file_path} is done\")  # 진행상황 로그\n",
    "        results.append(result)\n",
    "\n",
    "    return results\n",
    "\n",
    "results = asyncio.run(main())  # 비동기 실행 시작"
   ]
  }
 ],
 "metadata": {
  "kernelspec": {
   "display_name": "agent-use-cases (3.11.9)",
   "language": "python",
   "name": "python3"
  },
  "language_info": {
   "codemirror_mode": {
    "name": "ipython",
    "version": 3
   },
   "file_extension": ".py",
   "mimetype": "text/x-python",
   "name": "python",
   "nbconvert_exporter": "python",
   "pygments_lexer": "ipython3",
   "version": "3.11.9"
  }
 },
 "nbformat": 4,
 "nbformat_minor": 5
}
