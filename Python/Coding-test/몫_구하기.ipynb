{
  "nbformat": 4,
  "nbformat_minor": 0,
  "metadata": {
    "colab": {
      "provenance": [],
      "authorship_tag": "ABX9TyPnPgB9voMl7dqGFZ1GkXpx",
      "include_colab_link": true
    },
    "kernelspec": {
      "name": "python3",
      "display_name": "Python 3"
    },
    "language_info": {
      "name": "python"
    }
  },
  "cells": [
    {
      "cell_type": "markdown",
      "metadata": {
        "id": "view-in-github",
        "colab_type": "text"
      },
      "source": [
        "<a href=\"https://colab.research.google.com/github/OKEunsu/Data-Science/blob/main/CodingTest/python-reviews/%EB%AA%AB_%EA%B5%AC%ED%95%98%EA%B8%B0.ipynb\" target=\"_parent\"><img src=\"https://colab.research.google.com/assets/colab-badge.svg\" alt=\"Open In Colab\"/></a>"
      ]
    },
    {
      "cell_type": "markdown",
      "source": [
        "## 몫 구하기"
      ],
      "metadata": {
        "id": "_BVxb8L1SSAk"
      }
    },
    {
      "cell_type": "markdown",
      "source": [
        "### 일반적"
      ],
      "metadata": {
        "id": "J1QrftmjS_SH"
      }
    },
    {
      "cell_type": "code",
      "source": [
        "num1 = 10\n",
        "num2 = 5\n",
        "# result = 2"
      ],
      "metadata": {
        "id": "tFqG61vSSd5Z"
      },
      "execution_count": 1,
      "outputs": []
    },
    {
      "cell_type": "code",
      "source": [
        "def solution(num1, num2):\n",
        "    answer = num1 // num2\n",
        "    return answer"
      ],
      "metadata": {
        "id": "_TeeJS6gSTYf"
      },
      "execution_count": 2,
      "outputs": []
    },
    {
      "cell_type": "code",
      "source": [
        "solution(num1, num2)"
      ],
      "metadata": {
        "colab": {
          "base_uri": "https://localhost:8080/"
        },
        "id": "lTn-_xMSSjcT",
        "outputId": "915c19f7-78a8-473d-90af-f554336e4cea"
      },
      "execution_count": 3,
      "outputs": [
        {
          "output_type": "execute_result",
          "data": {
            "text/plain": [
              "2"
            ]
          },
          "metadata": {},
          "execution_count": 3
        }
      ]
    },
    {
      "cell_type": "markdown",
      "source": [
        "## divmod"
      ],
      "metadata": {
        "id": "LJOjFWpmTBVd"
      }
    },
    {
      "cell_type": "code",
      "source": [
        "def solution(num1, num2):\n",
        "    return divmod(num1, num2)[0]"
      ],
      "metadata": {
        "id": "MPK5zHpPSlIX"
      },
      "execution_count": 6,
      "outputs": []
    },
    {
      "cell_type": "code",
      "source": [
        "solution(num1, num2)"
      ],
      "metadata": {
        "colab": {
          "base_uri": "https://localhost:8080/"
        },
        "id": "YjRS_e1TSrqs",
        "outputId": "83d7ac91-f56b-4ab7-b3d9-24322922a6b4"
      },
      "execution_count": 7,
      "outputs": [
        {
          "output_type": "execute_result",
          "data": {
            "text/plain": [
              "2"
            ]
          },
          "metadata": {},
          "execution_count": 7
        }
      ]
    },
    {
      "cell_type": "code",
      "source": [
        "quotient, remainder = divmod(10, 5)\n",
        "print(f\"몫: {quotient}, 나머지: {remainder}\")\n",
        "# 출력: 몫: 3, 나머지: 1"
      ],
      "metadata": {
        "colab": {
          "base_uri": "https://localhost:8080/"
        },
        "id": "AsLZKGEQSs4K",
        "outputId": "5d7c0134-217b-4b22-bd4a-718b16be40b9"
      },
      "execution_count": 8,
      "outputs": [
        {
          "output_type": "stream",
          "name": "stdout",
          "text": [
            "몫: 2, 나머지: 0\n"
          ]
        }
      ]
    }
  ]
}
