{
 "cells": [
  {
   "cell_type": "markdown",
   "id": "0acc7553",
   "metadata": {},
   "source": [
    "# 3_Workflow Notebook\n",
    "\n",
    "정리된 LangGraph 기반 FAQ 워크플로우 노트북입니다. 아래 단계별로 환경 준비, 모델 설정, 상태 정의, 그래프 구성, 테스트 순으로 정리했습니다."
   ]
  },
  {
   "cell_type": "markdown",
   "id": "24430d90",
   "metadata": {},
   "source": [
    "## 1. 환경 준비\n",
    "- `.env` 파일에서 API Key를 읽어옵니다.\n",
    "- 필요한 LangChain, LangGraph 모듈을 임포트합니다."
   ]
  },
  {
   "cell_type": "code",
   "execution_count": 1,
   "id": "4c3e2537",
   "metadata": {},
   "outputs": [
    {
     "data": {
      "text/plain": [
       "True"
      ]
     },
     "execution_count": 1,
     "metadata": {},
     "output_type": "execute_result"
    }
   ],
   "source": [
    "from dotenv import load_dotenv\n",
    "\n",
    "load_dotenv() # OPENAI_API_KEY, PINECONE_API_KEY"
   ]
  },
  {
   "cell_type": "code",
   "execution_count": 2,
   "id": "f67d716e",
   "metadata": {},
   "outputs": [],
   "source": [
    "from langchain_openai import ChatOpenAI, OpenAIEmbeddings\n",
    "from langchain_pinecone import Pinecone"
   ]
  },
  {
   "cell_type": "markdown",
   "id": "2ec24d27",
   "metadata": {},
   "source": [
    "## 2. 모델과 임베딩 설정\n",
    "- 질문 응답용 LLM(`gpt-4.1`)과 경량 테스트용 LLM(`gpt-4.1-mini`)을 초기화합니다.\n",
    "- `text-embedding-3-large` 모델로 임베딩을 생성해 Pinecone 인덱스와 차원을 맞춥니다."
   ]
  },
  {
   "cell_type": "code",
   "execution_count": 3,
   "id": "e0bc310c",
   "metadata": {},
   "outputs": [],
   "source": [
    "llm = ChatOpenAI(model=\"gpt-4.1\", temperature=0)\n",
    "small_llm = ChatOpenAI(model=\"gpt-4.1-mini\", temperature=0)\n",
    "embeddings = OpenAIEmbeddings(model=\"text-embedding-3-large\")"
   ]
  },
  {
   "cell_type": "code",
   "execution_count": 4,
   "id": "798887ea",
   "metadata": {},
   "outputs": [],
   "source": [
    "vector_stroe = Pinecone.from_existing_index(\n",
    "    index_name=\"inhouse-python-index\",\n",
    "    embedding=embeddings\n",
    ")\n",
    "retriever = vector_stroe.as_retriever()"
   ]
  },
  {
   "cell_type": "markdown",
   "id": "180fc3cc",
   "metadata": {},
   "source": [
    "## 3. 벡터스토어와 리트리버 구성\n",
    "- 기존 Pinecone 인덱스(`inhouse-python-index`)를 불러옵니다.\n",
    "- `.as_retriever()`로 LangChain 표준 리트리버를 생성합니다."
   ]
  },
  {
   "cell_type": "code",
   "execution_count": 23,
   "id": "812589cc",
   "metadata": {},
   "outputs": [
    {
     "data": {
      "text/markdown": [
       "파이썬(Python)은 1991년에 귀도 반 로섬(Guido van Rossum)이 개발한 고급 프로그래밍 언어입니다. 파이썬은 문법이 간결하고 읽기 쉬워 초보자부터 전문가까지 널리 사용되고 있습니다. 다음은 파이썬에 대한 주요 특징과 정보입니다.\n",
       "\n",
       "1. **간결하고 명확한 문법**  \n",
       "   파이썬은 코드가 직관적이고 가독성이 좋아 배우기 쉽습니다. 들여쓰기를 통해 코드 블록을 구분하는 독특한 문법을 사용합니다.\n",
       "\n",
       "2. **인터프리터 언어**  \n",
       "   파이썬은 컴파일 과정 없이 한 줄씩 실행되는 인터프리터 언어로, 빠른 개발과 테스트가 가능합니다.\n",
       "\n",
       "3. **다양한 용도**  \n",
       "   웹 개발, 데이터 분석, 인공지능, 머신러닝, 자동화, 게임 개발, 네트워크 프로그래밍 등 다양한 분야에서 활용됩니다.\n",
       "\n",
       "4. **풍부한 라이브러리와 프레임워크**  \n",
       "   표준 라이브러리가 매우 방대하며, Django(웹), Flask(웹), NumPy(수치 계산), Pandas(데이터 분석), TensorFlow(머신러닝) 등 다양한 서드파티 라이브러리를 지원합니다.\n",
       "\n",
       "5. **객체지향 및 함수형 프로그래밍 지원**  \n",
       "   객체지향 프로그래밍(OOP)뿐만 아니라 함수형 프로그래밍 스타일도 지원합니다.\n",
       "\n",
       "6. **크로스 플랫폼**  \n",
       "   Windows, macOS, Linux 등 다양한 운영체제에서 실행할 수 있습니다.\n",
       "\n",
       "7. **커뮤니티와 생태계**  \n",
       "   전 세계적으로 활발한 개발자 커뮤니티가 있어 자료와 도움을 쉽게 구할 수 있습니다.\n",
       "\n",
       "### 간단한 예제 코드\n",
       "\n",
       "```python\n",
       "# Hello, World! 출력\n",
       "print(\"Hello, World!\")\n",
       "\n",
       "# 변수와 연산\n",
       "a = 10\n",
       "b = 20\n",
       "print(a + b)\n",
       "\n",
       "# 함수 정의\n",
       "def greet(name):\n",
       "    return f\"Hello, {name}!\"\n",
       "\n",
       "print(greet(\"Alice\"))\n",
       "```\n",
       "\n",
       "파이썬을 배우고 싶다면 공식 홈페이지(https://www.python.org/)에서 설치 파일과 문서를 참고할 수 있으며, 다양한 온라인 강의와 튜토리얼도 많이 제공되고 있습니다."
      ],
      "text/plain": [
       "<IPython.core.display.Markdown object>"
      ]
     },
     "metadata": {},
     "output_type": "display_data"
    }
   ],
   "source": [
    "from IPython.display import display, Markdown\n",
    "res = small_llm.invoke(\"파이썬에 대해서 알려주세요.\")\n",
    "text = res.content if isinstance(res.content, str) else str(res.content)\n",
    "display(Markdown(text))"
   ]
  },
  {
   "cell_type": "code",
   "execution_count": 17,
   "id": "4357e624",
   "metadata": {},
   "outputs": [],
   "source": [
    "from typing_extensions import TypedDict\n",
    "from langchain_core.documents import Document\n",
    "from langgraph.graph import StateGraph, END\n",
    "\n",
    "class AgentState(TypedDict, total=False):\n",
    "    question: str\n",
    "    answer: str\n",
    "    context: list[Document]\n",
    "    document_name: str\n",
    "    is_in_faq: bool\n",
    "\n",
    "graph_builder = StateGraph(AgentState)"
   ]
  },
  {
   "cell_type": "markdown",
   "id": "cf3ea69d",
   "metadata": {},
   "source": [
    "## 4. 상태 정의와 워크플로우 개요\n",
    "- `AgentState`에 질문, 컨텍스트, 문서명, FAQ 여부 등을 저장합니다.\n",
    "- Mermaid 다이어그램으로 흐름을 한눈에 봅니다."
   ]
  },
  {
   "cell_type": "markdown",
   "id": "75d9a626",
   "metadata": {},
   "source": [
    "```mermaid\n",
    "flowchart LR\n",
    "    a[Question] --> b{is it in FAQ?}\n",
    "    b -- yes --> c[Generate Answer] --> d[Answer]\n",
    "    b -- no --> e[Get Document Name] --> e1[Retrive Docs]\n",
    "    e1 --> c\n",
    "```"
   ]
  },
  {
   "cell_type": "code",
   "execution_count": null,
   "id": "030a6cce",
   "metadata": {},
   "outputs": [],
   "source": [
    "from langchain_core.prompts import ChatPromptTemplate\n",
    "from langchain_core.output_parsers import StrOutputParser"
   ]
  },
  {
   "cell_type": "markdown",
   "id": "5a3b291e",
   "metadata": {},
   "source": [
    "### 4-1. 노드: FAQ 여부 확인\n",
    "- 리트리버 결과를 기반으로 LLM이 \"Yes/No\"를 판별합니다."
   ]
  },
  {
   "cell_type": "code",
   "execution_count": 10,
   "id": "dfa5d9be",
   "metadata": {},
   "outputs": [],
   "source": [
    "def check_faq(state: AgentState) -> AgentState:\n",
    "    question = state['question']\n",
    "    context = retriever.invoke(question, filter={'source': \"employee_benefits_and_welfare_faq\"})\n",
    "    check_faq_prompt = ChatPromptTemplate.from_messages([\n",
    "        (\"system\", \"\"\"You are a helpful assistant that checks if the question is in the FAQ. \n",
    "If the question is in the FAQ, return 'Yes'. Otherwise, return 'No'.\"\"\"),\n",
    "        (\"user\", \"Question: {question}\\nContext: {context}\"),\n",
    "    ])\n",
    "    check_faq_chain = check_faq_prompt | llm | StrOutputParser()\n",
    "    is_in_faq = check_faq_chain.invoke({'question': question, 'context': context})\n",
    "    return {\"is_in_faq\": is_in_faq == 'Yes', 'context':context if is_in_faq == 'Yes' else []}"
   ]
  },
  {
   "cell_type": "code",
   "execution_count": 11,
   "id": "bd4fe5cf",
   "metadata": {},
   "outputs": [
    {
     "data": {
      "text/plain": [
       "{'is_in_faq': False, 'context': []}"
      ]
     },
     "execution_count": 11,
     "metadata": {},
     "output_type": "execute_result"
    }
   ],
   "source": [
    "# check_faq({\"question\": \"해외 회사와 거래를 할 때 참고해야될 문서는 어떤게 있나요?\"})"
   ]
  },
  {
   "cell_type": "markdown",
   "id": "2ad9f98a",
   "metadata": {},
   "source": [
    "### 4-2. 노드: 문서 선택\n",
    "- 질문에 가장 관련된 문서명을 LLM으로 분류합니다."
   ]
  },
  {
   "cell_type": "code",
   "execution_count": 12,
   "id": "5c8f0839",
   "metadata": {},
   "outputs": [],
   "source": [
    "def get_document_name(state: AgentState) -> AgentState:\n",
    "    determine_document_prompt = ChatPromptTemplate.from_messages(\n",
    "    [\n",
    "        (\"system\", \"\"\"You are a helpful assistant that determines the most relevant document name based on the user's question. \n",
    "Choose from the following document names:\n",
    "- delegation_of_authority\n",
    "- employee_benefits_and_welfare_faq\n",
    "- employee_benefits_and_welfare_guide\n",
    "- employee_handbook_and_hr_policy\n",
    "- expense_management_guide\n",
    "- it_support_guide\n",
    "- legal_and_compliance_policy\n",
    "\n",
    "Return ONLY the document name (e.g., 'it_support_guide').\n",
    "\n",
    "Examples:\n",
    "- If the question is about who can approve expenses, return 'delegation_of_authority' or 'expense_management_guide' as appropriate.\n",
    "- If the question is about employee benefits, return 'employee_benefits_and_welfare_guide'.\n",
    "- If the question is about HR policies or the employee handbook, return 'employee_handbook_and_hr_policy'.\n",
    "- If the question is about IT support or technical issues, return 'it_support_guide'.\n",
    "- If the question is about legal or compliance matters, return 'legal_and_compliance_policy'.\n",
    "- If the question is a frequently asked question about benefits, return 'employee_benefits_and_welfare_faq'.\n",
    "\"\"\"),\n",
    "        (\"user\", \"Question: {question}\"),\n",
    "    ]\n",
    ")\n",
    "    question = state['question']\n",
    "    determine_document_chain = determine_document_prompt | small_llm | StrOutputParser()\n",
    "    document_name = determine_document_chain.invoke({'question': question})\n",
    "    return {\"document_name\": document_name}"
   ]
  },
  {
   "cell_type": "code",
   "execution_count": 24,
   "id": "566033eb",
   "metadata": {},
   "outputs": [
    {
     "data": {
      "text/plain": [
       "{'document_name': 'employee_benefits_and_welfare_guide'}"
      ]
     },
     "execution_count": 24,
     "metadata": {},
     "output_type": "execute_result"
    }
   ],
   "source": [
    "get_document_name({\"question\": \"출산휴가는 얼마나 보장되나요?\"})"
   ]
  },
  {
   "cell_type": "markdown",
   "id": "d2aeb0ed",
   "metadata": {},
   "source": [
    "### 4-3. 노드: 문서 검색 및 답변 생성\n",
    "- 선택된 문서를 검색해 컨텍스트를 가져오고, 최종 답변을 작성합니다."
   ]
  },
  {
   "cell_type": "code",
   "execution_count": 13,
   "id": "24bfcfd4",
   "metadata": {},
   "outputs": [],
   "source": [
    "def retrieve_document(state: AgentState) -> AgentState:\n",
    "    question = state['question']\n",
    "    document_name = state['document_name']\n",
    "    context = retriever.invoke(question, filter={\"source\": document_name})\n",
    "    return {\"context\": context}"
   ]
  },
  {
   "cell_type": "code",
   "execution_count": 27,
   "id": "48037c3e",
   "metadata": {},
   "outputs": [
    {
     "data": {
      "text/plain": [
       "{'context': [Document(metadata={'chapter': '제 6 조 (출산 및 육아 휴가)', 'source': 'employee_benefits_and_welfare_guide'}, page_content='- 출산 휴가: 20 일 (유급)\\n- 육아 휴가: 최대 1 년 (첫 3개월 50% 급여 지원)'),\n",
       "  Document(metadata={'chapter': '제 7 조 (경조 휴가)', 'source': 'employee_benefits_and_welfare_guide'}, page_content='다음의 경조사유에 대해 휴가를 부여한다:  \\n| 경조 사유    | 휴가 일수 |\\n|--------------|-----------|\\n| 본인 결혼    | 5 일      |\\n| 자녀 결혼    | 2 일      |\\n| 부모 사망    | 5 일      |\\n| 배우자 사망  | 7 일      |\\n| 조부모 사망  | 3 일      |\\n| 자녀 출생    | 3 일      |\\n| 본인 생일    | 1 일      |\\n| 결혼 기념일  | 1 일      |'),\n",
       "  Document(metadata={'source': 'employee_benefits_and_welfare_guide'}, page_content='직원 복리후생 및 복지 가이드  \\n제 1 장 복리후생 개요  \\n제 1 조 (목적)\\n- 본 가이드는 직원들에게 제공되는 복리후생 제도를 명확히 안내하여, 회사 생활의 만족도를 높이고, 근로 의욕을 증진하기 위함이다.  \\n제 2 조 (적용 대상)\\n- 정규직, 계약직, 인턴 등 모든 직원에게 적용된다.  \\n제 2 장 건강 관리 및 보험  \\n제 3 조 (건강 보험)\\n- 전 직원은 국민건강보험에 가입되며, 회사가 일정 비용의 보험료를 부담한다.\\n- 추가로 회사는 단체 실손 보험을 제공하여, 입원 및 통원 치료비를 지원한다.  \\n제 4 조 (정기 건강 검진)\\n- 매년 1 회 정기 건강 검진을 제공한다.\\n- 검진 항목: 기본 검진 (혈압 검사, X-ray) + 종합 검진 옵션\\n- 검진 비용: 회사 100% 부담  \\n제 3 장 휴가 및 유연 근무  \\n제 5 조 (연차 유급 휴가)\\n- 근속 연수에 따른 연차 유급 휴가 지급  \\n근속 연수   |  연차 휴가 일수\\n--------------|---------------\\n1 년 미만    |  1 일\\n1~3 년       |  15 일\\n4~6 년       |  17 일\\n7~9 년       |  19 일\\n10 년 이상   |  20 일  \\n- 연차 휴가는 본인 승인의 자유롭게 사용할 수 있다.'),\n",
       "  Document(metadata={'chapter': '제 13 조 (경조사 지원금)', 'source': 'employee_benefits_and_welfare_guide', 'title': '제 6 장 경조사 지원'}, page_content='- 본인 결혼: 30 만원\\n- 자녀 출생: 10 만원\\n- 부모 사망: 30 만원\\n- 배우자 사망: 50 만원')]}"
      ]
     },
     "execution_count": 27,
     "metadata": {},
     "output_type": "execute_result"
    }
   ],
   "source": [
    "retrieve_document({\"question\": \"출산휴가는 얼마나 보장되나요?\", \"document_name\": \"employee_benefits_and_welfare_guide\"})"
   ]
  },
  {
   "cell_type": "markdown",
   "id": "ca7421dc",
   "metadata": {},
   "source": [
    "## 5. 그래프 구성 및 실행\n",
    "- LangGraph `StateGraph`에 노드를 등록하고 조건부 분기를 설정합니다.\n",
    "- `app.invoke()`로 워크플로우를 실행해 결과를 확인합니다."
   ]
  },
  {
   "cell_type": "code",
   "execution_count": 14,
   "id": "12874052",
   "metadata": {},
   "outputs": [],
   "source": [
    "def generate_answer(state: AgentState) -> AgentState:\n",
    "    question = state['question']\n",
    "    context = state['context']\n",
    "    generate_answer_prompt = ChatPromptTemplate.from_messages([\n",
    "        (\"system\", \"\"\"You are a helpful assistant that generates an answer to the user's question based on the context.\n",
    "        \"\"\"),\n",
    "        (\"user\", \"Question: {question}\\nContext: {context}\"),\n",
    "    ])\n",
    "    generate_answer_chain = generate_answer_prompt | llm | StrOutputParser()\n",
    "    answer = generate_answer_chain.invoke({\"question\": question, \"context\": context})\n",
    "    return {\"answer\": answer}"
   ]
  },
  {
   "cell_type": "code",
   "execution_count": 28,
   "id": "436c87d6",
   "metadata": {},
   "outputs": [],
   "source": [
    "from typing import Literal\n",
    "\n",
    "def check_if_in_faq(state: AgentState) -> Literal[\"generate_answer\", \"get_document_name\"]:\n",
    "    is_in_faq = state['is_in_faq']\n",
    "    if is_in_faq == 'Yes':\n",
    "        return \"generate_answer\"\n",
    "    else:\n",
    "        return \"get_document_name\""
   ]
  },
  {
   "cell_type": "code",
   "execution_count": 18,
   "id": "9efffe0d",
   "metadata": {},
   "outputs": [],
   "source": [
    "from langgraph.graph import START, END\n",
    "\n",
    "graph_builder.add_node(check_faq)\n",
    "graph_builder.add_node(get_document_name)\n",
    "graph_builder.add_node(retrieve_document)\n",
    "graph_builder.add_node(generate_answer)\n",
    "\n",
    "graph_builder.add_edge(START, \"check_faq\")\n",
    "graph_builder.add_conditional_edges(\"check_faq\", check_if_in_faq)\n",
    "graph_builder.add_edge(\"get_document_name\", \"retrieve_document\")\n",
    "graph_builder.add_edge(\"retrieve_document\", \"generate_answer\")\n",
    "graph_builder.add_edge(\"generate_answer\", END)\n",
    "\n",
    "graph = graph_builder.compile()"
   ]
  },
  {
   "cell_type": "code",
   "execution_count": 19,
   "id": "178fd330",
   "metadata": {},
   "outputs": [
    {
     "data": {
      "image/png": "[encoded data removed]",
      "text/plain": [
       "<langgraph.graph.state.CompiledStateGraph object at 0x000001FFB1939C50>"
      ]
     },
     "execution_count": 19,
     "metadata": {},
     "output_type": "execute_result"
    }
   ],
   "source": [
    "graph"
   ]
  },
  {
   "cell_type": "code",
   "execution_count": 21,
   "id": "f4c13d61",
   "metadata": {},
   "outputs": [
    {
     "data": {
      "text/markdown": [
       "사내 네트워크 담당자는 김영수 (IT 네트워크 관리자)입니다.  \n",
       "연락처는 다음과 같습니다:\n",
       "- 이메일: kimys@company.com\n",
       "- 전화번호: 02-1234-5680"
      ],
      "text/plain": [
       "<IPython.core.display.Markdown object>"
      ]
     },
     "metadata": {},
     "output_type": "display_data"
    }
   ],
   "source": [
    "from IPython.display import display, Markdown\n",
    "\n",
    "result = graph.invoke({\"question\": \"사내 네트워크 담당자는 누구인가요?\"})\n",
    "answer = result.get(\"answer\")\n",
    "\n",
    "if isinstance(answer, str):\n",
    "    display(Markdown(answer))\n",
    "else:\n",
    "    display(Markdown(str(answer)))"
   ]
  },
  {
   "cell_type": "code",
   "execution_count": 22,
   "id": "30261f9d",
   "metadata": {},
   "outputs": [
    {
     "data": {
      "text/markdown": [
       "출산휴가는 얼마나 보장되나요?\n",
       "\n",
       "출산휴가는 출산 예정일 전후로 자유롭게 사용할 수 있으며, 최대 20일 유급으로 제공됩니다."
      ],
      "text/plain": [
       "<IPython.core.display.Markdown object>"
      ]
     },
     "metadata": {},
     "output_type": "display_data"
    }
   ],
   "source": [
    "result = graph.invoke({\"question\": \"출산휴가는 얼마나 보장되나요?\"})\n",
    "answer = result.get(\"answer\")\n",
    "\n",
    "if isinstance(answer, str):\n",
    "    display(Markdown(answer))\n",
    "else:\n",
    "    display(Markdown(str(answer)))"
   ]
  }
 ],
 "metadata": {
  "kernelspec": {
   "display_name": "agent-use-cases (3.11.9)",
   "language": "python",
   "name": "python3"
  },
  "language_info": {
   "codemirror_mode": {
    "name": "ipython",
    "version": 3
   },
   "file_extension": ".py",
   "mimetype": "text/x-python",
   "name": "python",
   "nbconvert_exporter": "python",
   "pygments_lexer": "ipython3",
   "version": "3.11.9"
  }
 },
 "nbformat": 4,
 "nbformat_minor": 5
}
