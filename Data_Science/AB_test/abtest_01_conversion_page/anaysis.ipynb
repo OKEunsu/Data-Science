{
  "nbformat": 4,
  "nbformat_minor": 0,
  "metadata": {
    "colab": {
      "provenance": [],
      "toc_visible": true
    },
    "kernelspec": {
      "name": "python3",
      "display_name": "Python 3"
    },
    "language_info": {
      "name": "python"
    }
  },
  "cells": [
    {
      "cell_type": "markdown",
      "source": [
        "# 🔄 웹페이지 전환율 A/B 테스트 보고서\n",
        "이 보고서는 기존 웹페이지와 새롭게 디자인된 웹페이지 중 어느 쪽이 더 높은 전환율을 이끌어내는지를 확인하기 위한 A/B 테스트 실험 결과를 담고 있습니다. 제품 구매 전환을 높이기 위한 페이지 리디자인의 효과를 실제 사용자 데이터를 기반으로 검증합니다.\n",
        "\n"
      ],
      "metadata": {
        "id": "46a6ugtQXs0F"
      }
    },
    {
      "cell_type": "markdown",
      "source": [
        "## 1. 프로젝트 개요\n",
        "📌 프로젝트 목적\n",
        "본 A/B 테스트의 핵심 목표는 **\"새롭게 디자인된 웹페이지가 기존 페이지보다 더 높은 전환율을 유도하는가?\"**를 검증하는 것입니다.\n",
        "\n",
        "\n",
        "\n"
      ],
      "metadata": {
        "id": "zlptUZBGX5zB"
      }
    },
    {
      "cell_type": "markdown",
      "source": [
        "### 📊 가설 수립\n",
        "이번 A/B 테스트를 위해 다음과 같은 귀무가설(H_0)과 대립가설(H_1)을 설정합니다.\n",
        "\n",
        "- 귀무가설 (H_0): 새로운 웹페이지의 전환율은 기존 웹페이지의 전환율보다 높지 않다.\n",
        "\n",
        "- 대립가설 (H_1): 새로운 웹페이지의 전환율은 기존 웹페이지의 전환율보다 높다."
      ],
      "metadata": {
        "id": "YkrvSnH9X8HT"
      }
    },
    {
      "cell_type": "markdown",
      "source": [
        "### 📈 목표 KPI 설정\n",
        "주요 성과 지표는 **전환율(Conversion Rate)**로, 웹페이지 방문자가 특정 목표 행동(예: 제품 구매)을 완료한 비율을 의미합니다.\n",
        "\n"
      ],
      "metadata": {
        "id": "PqCFP5WsX_P7"
      }
    },
    {
      "cell_type": "markdown",
      "source": [
        "## 2. 데이터 설명 및 전처리\n",
        "💾 데이터셋\n",
        "본 분석에 사용된 데이터는 온라인 상거래 웹사이트에서 무작위로 사용자에게 페이지를 할당한 후, 전환 여부를 기록한 로그 데이터입니다. 국가 정보는 별도 파일에 포함되어 있습니다.\n",
        "\n",
        "- `ab_data.csv`: 사용자 ID, 타임스탬프, 할당된 그룹(control/treatment), 랜딩 페이지(old_page/new_page), 전환 여부(converted) 정보 포함.\n",
        "\n",
        "- `countries.csv`: 사용자 ID, 국가 정보 포함.\n",
        "\n",
        "🧹 데이터 불러오기 및 통합\n",
        "데이터 분석을 위해 필요한 라이브러리를 임포트하고, 두 데이터셋을 불러와 user_id를 기준으로 통합합니다."
      ],
      "metadata": {
        "id": "58hzAXmnYA_K"
      }
    },
    {
      "cell_type": "code",
      "source": [
        "import pandas as pd\n",
        "import numpy as np\n",
        "import matplotlib.pyplot as plt\n",
        "from statsmodels.stats.power import NormalIndPower\n",
        "from statsmodels.stats.proportion import proportions_ztest, confint_proportions_2indep\n",
        "import seaborn as sns\n",
        "\n",
        "countries_path = '/content/drive/MyDrive/AB Test/abtest_01_conversion_page/countries.csv'\n",
        "data_path = '/content/drive/MyDrive/AB Test/abtest_01_conversion_page/ab_data.csv'\n",
        "\n",
        "# countries.csv 데이터셋 불러오기\n",
        "print('countries dataset 정보:')\n",
        "country = pd.read_csv(countries_path)\n",
        "print(country.info())\n",
        "print('\\ncountries dataset 상위 5행:')\n",
        "print(country.head())\n",
        "\n",
        "# ab_data.csv 데이터셋 불러오기\n",
        "print('\\nab test dataset 정보:')\n",
        "data = pd.read_csv(data_path)\n",
        "print(data.info())\n",
        "print('\\nab test dataset 상위 5행:')\n",
        "print(data.head())\n",
        "\n",
        "# user_id를 기준으로 두 데이터셋 통합\n",
        "# 'left' 조인을 사용하여 ab_data의 모든 행을 유지하고 country 정보를 추가합니다.\n",
        "df = pd.merge(data, country, on='user_id', how='left')\n",
        "print('\\n통합된 데이터셋 상위 5행:')\n",
        "print(df.head())\n",
        "\n",
        "# 통합된 데이터셋에 결측치가 있는지 확인\n",
        "print(f\"\\n통합 데이터셋의 결측치 총 개수: {df.isnull().sum().sum()}개\")"
      ],
      "metadata": {
        "colab": {
          "base_uri": "https://localhost:8080/"
        },
        "id": "pRVVTgKXXv6e",
        "outputId": "18d92d96-9e3b-47a5-8d0e-1e05522d5a4c"
      },
      "execution_count": 1,
      "outputs": [
        {
          "output_type": "stream",
          "name": "stdout",
          "text": [
            "countries dataset 정보:\n",
            "<class 'pandas.core.frame.DataFrame'>\n",
            "RangeIndex: 290586 entries, 0 to 290585\n",
            "Data columns (total 2 columns):\n",
            " #   Column   Non-Null Count   Dtype \n",
            "---  ------   --------------   ----- \n",
            " 0   user_id  290586 non-null  int64 \n",
            " 1   country  290586 non-null  object\n",
            "dtypes: int64(1), object(1)\n",
            "memory usage: 4.4+ MB\n",
            "None\n",
            "\n",
            "countries dataset 상위 5행:\n",
            "   user_id country\n",
            "0   834778      UK\n",
            "1   928468      US\n",
            "2   822059      UK\n",
            "3   711597      UK\n",
            "4   710616      UK\n",
            "\n",
            "ab test dataset 정보:\n",
            "<class 'pandas.core.frame.DataFrame'>\n",
            "RangeIndex: 294480 entries, 0 to 294479\n",
            "Data columns (total 5 columns):\n",
            " #   Column        Non-Null Count   Dtype \n",
            "---  ------        --------------   ----- \n",
            " 0   user_id       294480 non-null  int64 \n",
            " 1   timestamp     294480 non-null  object\n",
            " 2   group         294480 non-null  object\n",
            " 3   landing_page  294480 non-null  object\n",
            " 4   converted     294480 non-null  int64 \n",
            "dtypes: int64(2), object(3)\n",
            "memory usage: 11.2+ MB\n",
            "None\n",
            "\n",
            "ab test dataset 상위 5행:\n",
            "   user_id timestamp      group landing_page  converted\n",
            "0   851104   11:48.6    control     old_page          0\n",
            "1   804228   01:45.2    control     old_page          0\n",
            "2   661590   55:06.2  treatment     new_page          0\n",
            "3   853541   28:03.1  treatment     new_page          0\n",
            "4   864975   52:26.2    control     old_page          1\n",
            "\n",
            "통합된 데이터셋 상위 5행:\n",
            "   user_id timestamp      group landing_page  converted country\n",
            "0   851104   11:48.6    control     old_page          0      US\n",
            "1   804228   01:45.2    control     old_page          0      US\n",
            "2   661590   55:06.2  treatment     new_page          0      US\n",
            "3   853541   28:03.1  treatment     new_page          0      US\n",
            "4   864975   52:26.2    control     old_page          1      US\n",
            "\n",
            "통합 데이터셋의 결측치 총 개수: 0개\n"
          ]
        }
      ]
    },
    {
      "cell_type": "markdown",
      "source": [
        "### 데이터 탐색: 중복 유저 처리\n",
        "\n",
        "A/B 테스트의 신뢰성을 확보하기 위해 중복된 유저를 식별하고 처리하는 과정이 중요합니다. 한 유저가 여러 그룹에 노출되거나 동일 그룹 내에서 중복 노출되는 경우 실험 결과에 왜곡을 줄 수 있습니다."
      ],
      "metadata": {
        "id": "wZ2FzvQiYeRW"
      }
    },
    {
      "cell_type": "code",
      "source": [
        "# 전체 행 수 확인\n",
        "print(f'데이터셋 전체 행 수: {df.shape[0]}개')"
      ],
      "metadata": {
        "colab": {
          "base_uri": "https://localhost:8080/"
        },
        "id": "rrrktMgxcqPr",
        "outputId": "b9ff4a53-56da-4589-f474-b0b6e732110b"
      },
      "execution_count": 14,
      "outputs": [
        {
          "output_type": "stream",
          "name": "stdout",
          "text": [
            "데이터셋 전체 행 수: 294482개\n"
          ]
        }
      ]
    },
    {
      "cell_type": "code",
      "source": [
        "# 고유 유저 수 확인\n",
        "print(f'고유 유저 수: {df[\"user_id\"].nunique()}명')\n",
        "\n",
        "# 중복된 유저 수 (전체 행 수 - 고유 유저 수)\n",
        "print(f'중복된 user_id를 포함하는 행의 수: {df.shape[0] - df[\"user_id\"].nunique()}개')"
      ],
      "metadata": {
        "colab": {
          "base_uri": "https://localhost:8080/"
        },
        "id": "-E42xJu1crIz",
        "outputId": "74e5839d-c270-4467-9809-fb298bbabd5c"
      },
      "execution_count": 15,
      "outputs": [
        {
          "output_type": "stream",
          "name": "stdout",
          "text": [
            "고유 유저 수: 290585명\n",
            "중복된 user_id를 포함하는 행의 수: 3897개\n"
          ]
        }
      ]
    },
    {
      "cell_type": "code",
      "source": [
        "# 중복된 user_id만 필터링하여 확인\n",
        "# duplicated(subset='user_id', keep=False)는 모든 중복된 행을 표시합니다.\n",
        "duplicate_users_df = df[df.duplicated(subset='user_id', keep=False)]\n",
        "\n",
        "# 중복된 user_id의 고유 개수 (실제 몇 명의 유저가 중복되었는지)\n",
        "num_unique_duplicate_users = duplicate_users_df['user_id'].nunique()\n",
        "print(f\"실제 중복된 user_id 수: {num_unique_duplicate_users}명\")"
      ],
      "metadata": {
        "colab": {
          "base_uri": "https://localhost:8080/"
        },
        "id": "Hgd0aFrgcvDf",
        "outputId": "b45c3384-101e-474d-88b7-3351f578c243"
      },
      "execution_count": 16,
      "outputs": [
        {
          "output_type": "stream",
          "name": "stdout",
          "text": [
            "실제 중복된 user_id 수: 3895명\n"
          ]
        }
      ]
    },
    {
      "cell_type": "code",
      "source": [
        "# user_id별 등장 횟수 카운트\n",
        "user_counts = df['user_id'].value_counts()\n",
        "\n",
        "# 2번 이상 등장한 user_id만 추출 (중복 유저 ID 리스트)\n",
        "duplicate_user_ids = user_counts[user_counts > 1].index\n",
        "\n",
        "# 중복 유저들만 필터링\n",
        "duplicate_entries_df = df[df['user_id'].isin(duplicate_user_ids)]\n",
        "\n",
        "# 중복 유저들이 어떤 그룹에 속해 있는지 확인\n",
        "# user_id와 group으로 그룹화하여 각 조합의 개수를 계산합니다.\n",
        "group_check = duplicate_entries_df.groupby(['user_id', 'group']).size().unstack(fill_value=0)\n",
        "\n",
        "# control과 treatment 양쪽에 모두 포함된 유저 식별\n",
        "# control 그룹과 treatment 그룹에 모두 1개 이상의 로그를 가진 유저를 찾습니다.\n",
        "both_group_users = group_check[(group_check['control'] > 0) & (group_check['treatment'] > 0)]\n",
        "print(f\"Control과 Treatment 양쪽에 모두 포함된 유저 수: {both_group_users.shape[0]}명\")\n",
        "\n",
        "# 양쪽에 모두 포함된 유저 ID\n",
        "both_group_user_ids = set(both_group_users.index)\n",
        "\n",
        "# 한쪽에만 중복 등장한 유저 ID\n",
        "# 전체 중복 유저 ID에서 양쪽에 모두 포함된 유저 ID를 제외합니다.\n",
        "one_side_user_ids = set(duplicate_user_ids) - both_group_user_ids\n",
        "print(f\"Control 또는 Treatment 한쪽에만 중복 포함된 유저 수: {len(one_side_user_ids)}명\")"
      ],
      "metadata": {
        "colab": {
          "base_uri": "https://localhost:8080/"
        },
        "id": "cMPeqJFqYX9x",
        "outputId": "8f01da69-ced5-4ac1-e35b-48df5cfacb5e"
      },
      "execution_count": 17,
      "outputs": [
        {
          "output_type": "stream",
          "name": "stdout",
          "text": [
            "Control과 Treatment 양쪽에 모두 포함된 유저 수: 1895명\n",
            "Control 또는 Treatment 한쪽에만 중복 포함된 유저 수: 2000명\n"
          ]
        }
      ]
    },
    {
      "cell_type": "markdown",
      "source": [
        "### 중복 유저 처리 방침\n",
        "A/B 양쪽 그룹에 모두 등장한 유저 (1,895명): 실험 결과를 오염시킬 수 있으므로 제거합니다.\n",
        "\n",
        "A 또는 B 한쪽에만 중복 등장한 유저 (2,000명): 실험군 독립성에는 영향을 주지 않으므로, 행 기준으로 가장 이른 노출 행 1개만 유지합니다."
      ],
      "metadata": {
        "id": "GjOv9qQwYpNv"
      }
    },
    {
      "cell_type": "markdown",
      "source": [
        "### timestamp 컬럼 가정 및 처리\n",
        "\n",
        "timestamp 컬럼은 \"분:초.소수\" 형태의 문자열로 기록되어 있으며,  \n",
        "이는 절대 시간이 아닌 세션 시작 이후 페이지가 노출된 상대 시각을 의미하는 것으로 가정합니다.  \n",
        "따라서 중복된 유저 로그 중에서 단순히 가장 먼저 등장하는 행(=가장 빠른 노출)을 선택하는 것이 타당합니다.\n",
        "\n",
        "이를 위해 timestamp를 초 단위의 float 형태로 변환하는 함수를 적용합니다."
      ],
      "metadata": {
        "id": "QKbs0gW3Yx6H"
      }
    },
    {
      "cell_type": "code",
      "source": [
        "# timestamp 문자열을 초 단위 float으로 변환하는 함수 정의\n",
        "def convert_to_seconds(ts_str):\n",
        "    try:\n",
        "        m, s = ts_str.split(\":\")\n",
        "        return int(m) * 60 + float(s)\n",
        "    except:\n",
        "        # 변환 오류 시 None 반환 (결측치로 처리될 수 있음)\n",
        "        return None\n",
        "\n",
        "# 'timestamp' 컬럼에 함수 적용하여 'timestamp_sec' 컬럼 생성\n",
        "df['timestamp_sec'] = df['timestamp'].apply(convert_to_seconds)"
      ],
      "metadata": {
        "id": "Ki9VkVRxdYqO"
      },
      "execution_count": 21,
      "outputs": []
    },
    {
      "cell_type": "code",
      "source": [
        "# 양쪽 그룹 중복 유저 제거 및 한쪽 그룹 내 중복은 첫 번째 로그만 남기기\n",
        "# 1. 양쪽 그룹에 모두 포함된 유저를 제외합니다.\n",
        "df_filtered = df[~df['user_id'].isin(both_group_user_ids)]\n",
        "\n",
        "# 2. 남은 데이터에서 user_id 기준으로 첫 번째 로그만 남깁니다.\n",
        "# 'timestamp_sec' 기준으로 정렬하여 가장 빠른 노출을 'first'로 간주합니다.\n",
        "df_cleaned = df_filtered.drop_duplicates(subset='user_id', keep='first')\n",
        "\n",
        "print(\"최종 전처리된 데이터셋 상위 5행:\")\n",
        "print(df_cleaned.head())"
      ],
      "metadata": {
        "colab": {
          "base_uri": "https://localhost:8080/"
        },
        "id": "6SRwp4mkY3JO",
        "outputId": "f38217da-40ab-42b0-b6e3-3fc9cca971a9"
      },
      "execution_count": 22,
      "outputs": [
        {
          "output_type": "stream",
          "name": "stdout",
          "text": [
            "최종 전처리된 데이터셋 상위 5행:\n",
            "   user_id timestamp      group landing_page  converted country  timestamp_sec\n",
            "0   851104   11:48.6    control     old_page          0      US          708.6\n",
            "1   804228   01:45.2    control     old_page          0      US          105.2\n",
            "2   661590   55:06.2  treatment     new_page          0      US         3306.2\n",
            "3   853541   28:03.1  treatment     new_page          0      US         1683.1\n",
            "4   864975   52:26.2    control     old_page          1      US         3146.2\n"
          ]
        }
      ]
    },
    {
      "cell_type": "code",
      "source": [
        "# 전처리 후 데이터셋의 고유 유저 수 확인\n",
        "print(f\"전처리 후 고유 유저 수: {df_cleaned['user_id'].nunique()}명\")\n",
        "print(f\"전처리 후 전체 행 수: {df_cleaned.shape[0]}개\")"
      ],
      "metadata": {
        "colab": {
          "base_uri": "https://localhost:8080/"
        },
        "id": "YTFBJhmgdhXy",
        "outputId": "8f67d2b4-d004-49f8-816a-f09ad92afdae"
      },
      "execution_count": 25,
      "outputs": [
        {
          "output_type": "stream",
          "name": "stdout",
          "text": [
            "전처리 후 고유 유저 수: 288690명\n",
            "전처리 후 전체 행 수: 288690개\n"
          ]
        }
      ]
    },
    {
      "cell_type": "code",
      "source": [
        "# 전처리 후 control vs treatment 그룹 비율 확인\n",
        "group_distribution_cleaned = df_cleaned.groupby('group')['user_id'].nunique() / df_cleaned['user_id'].nunique()\n",
        "print(f\"\\n전처리 후 그룹별 유저 비율:\\n{group_distribution_cleaned}\")\n",
        "\n",
        "# 전처리 후 그룹별 전환율 계산\n",
        "df_grouped_cleaned = df_cleaned.groupby('group').agg(\n",
        "    total_users=('user_id', 'nunique'),\n",
        "    converted_users=('converted', 'sum')\n",
        ").reset_index()\n",
        "df_grouped_cleaned['conversion_rate'] = df_grouped_cleaned['converted_users'] / df_grouped_cleaned['total_users']\n",
        "\n",
        "print(\"\\n전처리 후 그룹별 전환율:\")\n",
        "print(df_grouped_cleaned)"
      ],
      "metadata": {
        "colab": {
          "base_uri": "https://localhost:8080/"
        },
        "id": "hODSzzAWdblq",
        "outputId": "e232360e-93bf-41d5-8184-c83862b5ab32"
      },
      "execution_count": 26,
      "outputs": [
        {
          "output_type": "stream",
          "name": "stdout",
          "text": [
            "\n",
            "전처리 후 그룹별 유저 비율:\n",
            "group\n",
            "control      0.499844\n",
            "treatment    0.500156\n",
            "Name: user_id, dtype: float64\n",
            "\n",
            "전처리 후 그룹별 전환율:\n",
            "       group  total_users  converted_users  conversion_rate\n",
            "0    control       144300            17349         0.120229\n",
            "1  treatment       144390            17166         0.118886\n"
          ]
        }
      ]
    },
    {
      "cell_type": "markdown",
      "source": [
        "## 3. 샘플 크기 결정 및 검정력 분석\n",
        "A/B 테스트를 수행하기 전에 필요한 최소 샘플 크기를 결정하고,  \n",
        "현재 데이터셋의 검정력을 분석합니다. 이는 통계적 유의미성을 확보하고, 실제 효과가 있을 때 이를 감지할 확률을 파악하는 데 중요합니다.\n",
        "\n",
        "<br/>\n",
        "\n",
        "📊 필요 샘플 수 계산  \n",
        "효과 크기(Effect Size) 0.05 (두 그룹 간 전환율 차이 5%p),  \n",
        "검정력(Power) 0.8, 유의수준(Alpha) 0.05, 그룹 비율 1:1을 기준으로 필요 샘플 수를 계산합니다."
      ],
      "metadata": {
        "id": "eGjpsWGFZEhg"
      }
    },
    {
      "cell_type": "code",
      "source": [
        "# NormalIndPower 객체 생성\n",
        "analysis = NormalIndPower()\n",
        "\n",
        "# 필요 샘플 수 계산\n",
        "# effect_size: 두 그룹 간 감지하고자 하는 최소한의 차이 (예: 전환율 5%p 차이)\n",
        "# power: 실제 효과가 존재할 때, 이를 올바르게 검출할 확률 (일반적으로 0.8)\n",
        "# alpha: 귀무가설이 참일 때 잘못 기각할 확률 (유의수준, 일반적으로 0.05)\n",
        "# ratio: control 그룹 대비 treatment 그룹의 샘플 수 비율 (1:1이므로 1)\n",
        "sample_size_needed = analysis.solve_power(effect_size=0.05, power=0.8, alpha=0.05, ratio=1)\n",
        "\n",
        "print(f'효과 크기 (Effect Size): 0.05 (두 그룹 간 전환율 차이가 5%p일 때 검출하고자 하는 최소한의 차이)')\n",
        "print(f'검정력 (Power, 1-β): 0.8 (실제 효과가 존재할 때, 이를 올바르게 검출할 확률)')\n",
        "print(f'유의수준 (Alpha, α): 0.05 (귀무가설이 참일 때 잘못 기각할 확률)')\n",
        "print(f'그룹 비율: 1:1')\n",
        "print(f\"그룹당 필요 샘플 수: {int(sample_size_needed)}명\")"
      ],
      "metadata": {
        "colab": {
          "base_uri": "https://localhost:8080/"
        },
        "id": "yWS8YLVWZIat",
        "outputId": "1bfbea1a-ad61-4456-b898-52908ae9d365"
      },
      "execution_count": 5,
      "outputs": [
        {
          "output_type": "stream",
          "name": "stdout",
          "text": [
            "효과 크기 (Effect Size): 0.05 (두 그룹 간 전환율 차이가 5%p일 때 검출하고자 하는 최소한의 차이)\n",
            "검정력 (Power, 1-β): 0.8 (실제 효과가 존재할 때, 이를 올바르게 검출할 확률)\n",
            "유의수준 (Alpha, α): 0.05 (귀무가설이 참일 때 잘못 기각할 확률)\n",
            "그룹 비율: 1:1\n",
            "그룹당 필요 샘플 수: 6279명\n"
          ]
        }
      ]
    },
    {
      "cell_type": "markdown",
      "source": [
        "현재 데이터셋의 샘플 크기는 각 그룹당 약 145,000명으로, 이는 이항 검정에서 필요한 최소 샘플 수(6,279명)보다 훨씬 많습니다.  \n",
        "현재 샘플 크기에서는 매우 작은 효과 크기(약 0.0012, 즉 0.12%p)도 80% 이상의 높은 검정력으로 감지할 수 있습니다.  \n",
        "이는 충분한 데이터를 확보하여 신뢰할 수 있는 A/B 테스트를 수행할 수 있음을 의미합니다"
      ],
      "metadata": {
        "id": "aGNdGme2Z_aH"
      }
    },
    {
      "cell_type": "markdown",
      "source": [
        "## 4. 분석 방법론\n",
        "\n",
        "🧪 검정 방법\n",
        "전환율은 이항 데이터(성공/실패, 0/1)이므로, 두 그룹 간의 비율 차이를 비교하는 데 적합한 **proportions_ztest (Z-검정)**를 사용합니다. 이항 데이터의 경우 정규성 및 등분산성 검정은 생략합니다.\n",
        "\n",
        "<br/>\n",
        "\n",
        "🎯 분석 대상\n",
        "전체 그룹(Control vs Treatment)의 전환율 차이 및 95% 신뢰구간\n",
        "\n",
        "국가별(US, UK, CA) Control vs Treatment 그룹의 전환율 차이 및 95% 신뢰구간\n",
        "\n",
        "<br/>\n",
        "\n",
        "📊 시각화\n",
        "분석 결과는 에러바 그래프(전환율 차이 ± 신뢰구간)를 사용하여 시각적으로 표현합니다."
      ],
      "metadata": {
        "id": "AMS7iCRNaD5m"
      }
    },
    {
      "cell_type": "code",
      "source": [
        "from statsmodels.stats.proportion import proportions_ztest\n",
        "from scipy.stats import norm\n",
        "import numpy as np\n",
        "\n",
        "# 전체 그룹 데이터 추출\n",
        "control_group = df_cleaned[df_cleaned['group'] == 'control']\n",
        "treatment_group = df_cleaned[df_cleaned['group'] == 'treatment']\n",
        "\n",
        "# 각 그룹의 전환 수와 총 사용자 수\n",
        "count_control = control_group['converted'].sum()\n",
        "nobs_control = control_group['user_id'].nunique()\n",
        "count_treatment = treatment_group['converted'].sum()\n",
        "nobs_treatment = treatment_group['user_id'].nunique()\n",
        "\n",
        "# 전환율 계산\n",
        "p_control = count_control / nobs_control\n",
        "p_treatment = count_treatment / nobs_treatment\n",
        "diff_overall = p_treatment - p_control"
      ],
      "metadata": {
        "colab": {
          "base_uri": "https://localhost:8080/"
        },
        "id": "xd8779PEgSRK",
        "outputId": "88403951-88e5-4a37-9e0e-2cb637447f56"
      },
      "execution_count": 39,
      "outputs": [
        {
          "output_type": "stream",
          "name": "stdout",
          "text": [
            "0.12022869022869023\n",
            "0.11888634947018492\n",
            "-0.0013423407585053115\n"
          ]
        }
      ]
    },
    {
      "cell_type": "code",
      "source": [
        "import statsmodels.api as sm\n",
        "\n",
        "# 각 그룹의 성공 수 및 전체 수\n",
        "success = np.array([count_control, count_treatment])\n",
        "nobs = np.array([nobs_control, nobs_treatment])\n",
        "groups = ['Control', 'Treatment']\n",
        "\n",
        "# 전환율\n",
        "conversion_rates = success / nobs\n",
        "\n",
        "# 신뢰구간 계산 (normal approximation)\n",
        "ci_low = []\n",
        "ci_upp = []\n",
        "\n",
        "for i in range(2):\n",
        "    low, upp = sm.stats.proportion_confint(success[i], nobs[i], alpha=0.05, method='normal')\n",
        "    ci_low.append(conversion_rates[i] - low)\n",
        "    ci_upp.append(upp - conversion_rates[i])\n",
        "\n",
        "# error bar: 아래, 위\n",
        "error = [ci_low, ci_upp]\n",
        "\n",
        "# 시각화\n",
        "plt.figure(figsize=(6, 4))\n",
        "plt.bar(groups, conversion_rates, yerr=error, capsize=10, color=['skyblue', 'salmon'])\n",
        "plt.title('Conversion Rate by Group (95% CI)', fontsize=14)\n",
        "plt.ylabel('Conversion Rate')\n",
        "plt.ylim(0, max(conversion_rates + np.array(ci_upp)) + 0.01)\n",
        "plt.grid(axis='y', linestyle='--', alpha=0.7)\n",
        "plt.tight_layout()\n",
        "plt.show()"
      ],
      "metadata": {
        "colab": {
          "base_uri": "https://localhost:8080/",
          "height": 407
        },
        "id": "4mrzUmEzgjqH",
        "outputId": "2b00da7e-fb7a-4681-c820-08deae8265cc"
      },
      "execution_count": 40,
      "outputs": [
        {
          "output_type": "display_data",
          "data": {
            "text/plain": [
              "<Figure size 600x400 with 1 Axes>"
            ],
            "image/png": "[encoded data removed]"
          },
          "metadata": {}
        }
      ]
    },
    {
      "cell_type": "code",
      "source": [
        "# Z-검정 수행 (단측 검정: treatment > control)\n",
        "zstat_overall, pval_overall = proportions_ztest(\n",
        "    [count_treatment, count_control],\n",
        "    [nobs_treatment, nobs_control],\n",
        "    alternative='larger'\n",
        ")\n",
        "\n",
        "# 단측 신뢰구간 계산 (하한만 구함)\n",
        "p_pool = (count_treatment + count_control) / (nobs_treatment + nobs_control)\n",
        "se = np.sqrt(p_pool * (1 - p_pool) * (1/nobs_treatment + 1/nobs_control))\n",
        "z_critical = norm.ppf(0.95)  # 95% 단측 신뢰구간\n",
        "lower_bound = diff_overall - z_critical * se\n",
        "\n",
        "# 결과 출력\n",
        "print(\"**전체 그룹 Z-검정 결과 (단측 검정)**\")\n",
        "print(f\"Control 그룹 전환율: {p_control:.4f}\")\n",
        "print(f\"Treatment 그룹 전환율: {p_treatment:.4f}\")\n",
        "print(f\"전환율 차이 (Treatment - Control): {diff_overall:.4f}\")\n",
        "print(f\"Z-통계량: {zstat_overall:.4f}\")\n",
        "print(f\"P-값 (단측): {pval_overall:.4f}\")\n",
        "print(f\"95% 단측 신뢰구간 (하한 기준): [{lower_bound:.4f}, ∞)\")\n",
        "\n",
        "# 해석\n",
        "alpha = 0.05\n",
        "if pval_overall < alpha:\n",
        "    print(f\"\\n[P-value={pval_overall:.4f} < {alpha}] 귀무가설을 기각합니다.\")\n",
        "    print(\"→ Treatment 그룹의 전환율이 Control 그룹보다 통계적으로 유의미하게 높다고 판단할 수 있습니다.\")\n",
        "else:\n",
        "    print(f\"\\n[P-value={pval_overall:.4f} ≥ {alpha}] 귀무가설을 기각할 수 없습니다.\")\n",
        "    print(\"→ Treatment 그룹의 전환율이 더 높다고 결론 내리기에는 충분한 증거가 없습니다.\")\n",
        "\n",
        "# 신뢰구간 해석 (보조적)\n",
        "if lower_bound > 0:\n",
        "    print(\"또한, 95% 신뢰구간의 하한이 0보다 크므로, 전환율 차이가 유의미하게 양(+)의 방향임을 시사합니다.\")\n",
        "else:\n",
        "    print(\"95% 신뢰구간의 하한이 0 이하이므로, 유의미한 증가라고 보기 어렵습니다.\")"
      ],
      "metadata": {
        "colab": {
          "base_uri": "https://localhost:8080/"
        },
        "id": "odSQUkjYaMjX",
        "outputId": "5e2a2f1f-6686-4fa0-cabd-54430dc8d258"
      },
      "execution_count": 38,
      "outputs": [
        {
          "output_type": "stream",
          "name": "stdout",
          "text": [
            "**전체 그룹 Z-검정 결과 (단측 검정)**\n",
            "Control 그룹 전환율: 0.1202\n",
            "Treatment 그룹 전환율: 0.1189\n",
            "전환율 차이 (Treatment - Control): -0.0013\n",
            "Z-통계량: -1.1115\n",
            "P-값 (단측): 0.8668\n",
            "95% 단측 신뢰구간 (하한 기준): [-0.0033, ∞)\n",
            "\n",
            "[P-value=0.8668 ≥ 0.05] 귀무가설을 기각할 수 없습니다.\n",
            "→ Treatment 그룹의 전환율이 더 높다고 결론 내리기에는 충분한 증거가 없습니다.\n",
            "95% 신뢰구간의 하한이 0 이하이므로, 유의미한 증가라고 보기 어렵습니다.\n"
          ]
        }
      ]
    },
    {
      "cell_type": "code",
      "source": [
        "import matplotlib.pyplot as plt\n",
        "import numpy as np\n",
        "from scipy.stats import norm\n",
        "\n",
        "# 실제 데이터 입력\n",
        "count_treatment = 17264\n",
        "nobs_treatment = 71300\n",
        "count_control = 17723\n",
        "nobs_control = 70975\n",
        "\n",
        "# 전환율 및 차이 계산\n",
        "p_treatment = count_treatment / nobs_treatment\n",
        "p_control = count_control / nobs_control\n",
        "diff = p_treatment - p_control\n",
        "\n",
        "# 표준 오차 (pooled)\n",
        "p_pool = (count_treatment + count_control) / (nobs_treatment + nobs_control)\n",
        "se = np.sqrt(p_pool * (1 - p_pool) * (1/nobs_treatment + 1/nobs_control))\n",
        "\n",
        "# 단측 신뢰구간 하한 계산\n",
        "z = norm.ppf(0.95)  # 95% 단측 검정\n",
        "lower_bound = diff - z * se\n",
        "\n",
        "# 분포 그리기 범위\n",
        "x = np.linspace(diff - 4*se, diff + 4*se, 400)\n",
        "y = norm.pdf(x, loc=diff, scale=se)\n",
        "\n",
        "# 시각화\n",
        "plt.figure(figsize=(10, 5))\n",
        "plt.plot(x, y, label=\"Sampling Distribution\", color=\"steelblue\")\n",
        "plt.axvline(diff, color='red', linestyle='--', label=f'Observed Diff = {diff:.4f}')\n",
        "plt.axvline(lower_bound, color='orange', linestyle='--', label=f'95% Lower Bound = {lower_bound:.4f}')\n",
        "\n",
        "# 색칠: 하한 ~ 오른쪽\n",
        "plt.fill_between(x, y, where=(x > lower_bound), color='orange', alpha=0.2)\n",
        "\n",
        "# 레이아웃\n",
        "plt.title(\"One-sided Confidence Interval (Treatment > Control)\")\n",
        "plt.xlabel(\"Difference in Conversion Rates (Treatment - Control)\")\n",
        "plt.ylabel(\"Density\")\n",
        "plt.legend(loc='upper left')\n",
        "plt.grid(True)\n",
        "plt.tight_layout()\n",
        "plt.show()"
      ],
      "metadata": {
        "colab": {
          "base_uri": "https://localhost:8080/",
          "height": 507
        },
        "id": "nQcdhRWpeLri",
        "outputId": "ceef9d37-7499-451b-d363-055d7e17a050"
      },
      "execution_count": 36,
      "outputs": [
        {
          "output_type": "display_data",
          "data": {
            "text/plain": [
              "<Figure size 1000x500 with 1 Axes>"
            ],
            "image/png": "[encoded data removed]"
          },
          "metadata": {}
        }
      ]
    },
    {
      "cell_type": "code",
      "source": [
        "# 국가별 고유 유저 수 확인 (샘플 수 충분성 검토)\n",
        "country_sample_counts = df_cleaned.groupby('country')['user_id'].nunique().reset_index()\n",
        "country_sample_counts.columns = ['Country', 'Unique Users']\n",
        "print(\"국가별 고유 유저 수:\")\n",
        "print(country_sample_counts)\n",
        "\n",
        "# 국가별 그룹별 전환율 계산\n",
        "country_summary = df_cleaned.groupby(['country', 'group']).agg(\n",
        "    total_users=('user_id', 'nunique'),\n",
        "    converted_users=('converted', 'sum')\n",
        ").reset_index()\n",
        "\n",
        "# 피벗 테이블로 전환율 요약\n",
        "country_pivot = country_summary.pivot_table(\n",
        "    index='country',\n",
        "    columns='group',\n",
        "    values=['total_users', 'converted_users']\n",
        ")\n",
        "\n",
        "# 결과 저장용 리스트 초기화\n",
        "results = []\n",
        "\n",
        "# 각 국가별 Z-검정 및 신뢰구간 계산\n",
        "for country_name in country_pivot.index:\n",
        "    # 해당 국가의 control 및 treatment 그룹 데이터 추출\n",
        "    n_control = country_pivot.loc[country_name, ('total_users', 'control')]\n",
        "    conv_control = country_pivot.loc[country_name, ('converted_users', 'control')]\n",
        "    n_treatment = country_pivot.loc[country_name, ('total_users', 'treatment')]\n",
        "    conv_treatment = country_pivot.loc[country_name, ('converted_users', 'treatment')]\n",
        "\n",
        "    # 전환율 계산\n",
        "    rate_control = conv_control / n_control\n",
        "    rate_treatment = conv_treatment / n_treatment\n",
        "    diff = rate_treatment - rate_control\n",
        "\n",
        "    # Z-검정 수행 (alternative='larger'는 treatment 전환율이 control보다 큰지 검정)\n",
        "    zstat, pval = proportions_ztest(\n",
        "        [conv_treatment, conv_control],\n",
        "        [n_treatment, n_control],\n",
        "        alternative='larger'\n",
        "    )\n",
        "\n",
        "    # 신뢰구간 계산\n",
        "    # statsmodels의 confint_proportions_2indep는 기본적으로 양측 신뢰구간을 제공하며,\n",
        "    # 'alternative' 인수를 사용하지 않습니다.\n",
        "    # 여기서는 편의상 양측 신뢰구간을 구하고, 0 포함 여부로 유의미성을 판단합니다.\n",
        "    ci_lower, ci_upper = confint_proportions_2indep(\n",
        "        conv_treatment, n_treatment,\n",
        "        conv_control, n_control,\n",
        "        alpha=0.05\n",
        "    )\n",
        "\n",
        "    results.append({\n",
        "        'Country': country_name,\n",
        "        'Control Conversion': rate_control,\n",
        "        'Treatment Conversion': rate_treatment,\n",
        "        'Conversion Diff (Treatment - Control)': diff,\n",
        "        'Z-statistic': zstat,\n",
        "        'P-value': pval,\n",
        "        '95% CI Lower': ci_lower,\n",
        "        '95% CI Upper': ci_upper\n",
        "    })\n",
        "\n",
        "results_df = pd.DataFrame(results)\n",
        "print(\"\\n**국가별 A/B 테스트 결과 요약**\")\n",
        "print(results_df.round(4))"
      ],
      "metadata": {
        "colab": {
          "base_uri": "https://localhost:8080/"
        },
        "id": "LyKMv5aJa3Km",
        "outputId": "fd1cd3c1-0966-4cb2-b31a-d28cd8f7036e"
      },
      "execution_count": 43,
      "outputs": [
        {
          "output_type": "stream",
          "name": "stdout",
          "text": [
            "국가별 고유 유저 수:\n",
            "  Country  Unique Users\n",
            "0      CA         14403\n",
            "1      UK         72018\n",
            "2      US        202269\n",
            "\n",
            "**국가별 A/B 테스트 결과 요약**\n",
            "  Country  Control Conversion  Treatment Conversion  \\\n",
            "0      CA              0.1192                0.1122   \n",
            "1      UK              0.1199                0.1212   \n",
            "2      US              0.1204                0.1186   \n",
            "\n",
            "   Conversion Diff (Treatment - Control)  Z-statistic  P-value  95% CI Lower  \\\n",
            "0                                -0.0069      -1.3004   0.9033       -0.0174   \n",
            "1                                 0.0012       0.5047   0.3069       -0.0035   \n",
            "2                                -0.0019      -1.2838   0.9004       -0.0047   \n",
            "\n",
            "   95% CI Upper  \n",
            "0        0.0035  \n",
            "1        0.0060  \n",
            "2        0.0010  \n"
          ]
        }
      ]
    },
    {
      "cell_type": "code",
      "source": [
        "# 시각화를 위한 데이터 준비\n",
        "plot_data = results_df.copy()\n",
        "plot_data['Error'] = (plot_data['95% CI Upper'] - plot_data['95% CI Lower']) / 2\n",
        "\n",
        "plt.figure(figsize=(10, 6))\n",
        "sns.barplot(x='Country', y='Conversion Diff (Treatment - Control)', data=plot_data)\n",
        "plt.errorbar(x=plot_data['Country'], y=plot_data['Conversion Diff (Treatment - Control)'],\n",
        "             yerr=plot_data['Error'], fmt='o', color='black', capsize=5)\n",
        "plt.axhline(0, color='red', linestyle='--', linewidth=0.8)\n",
        "plt.title('국가별 전환율 차이 및 95% 신뢰구간', fontsize=15)\n",
        "plt.xlabel('국가', fontsize=12)\n",
        "plt.ylabel('전환율 차이 (Treatment - Control)', fontsize=12)\n",
        "plt.grid(axis='y', linestyle='--', alpha=0.7)\n",
        "plt.tight_layout()\n",
        "plt.show()"
      ],
      "metadata": {
        "colab": {
          "base_uri": "https://localhost:8080/",
          "height": 607
        },
        "id": "aLcNeHHjh6qw",
        "outputId": "0a0c8e7b-6d5c-4c53-8aff-4e41f649385a"
      },
      "execution_count": 42,
      "outputs": [
        {
          "output_type": "display_data",
          "data": {
            "text/plain": [
              "<Figure size 1000x600 with 1 Axes>"
            ],
            "image/png": "[encoded data removed]"
          },
          "metadata": {}
        }
      ]
    },
    {
      "cell_type": "markdown",
      "source": [
        "CA (캐나다): 전환율 차이는 -0.0002로 미미하며,  \n",
        "P-값(0.5160)이 유의수준 0.05보다 훨씬 크므로 통계적으로 유의미한 차이가 없습니다. 95% 신뢰구간이 0을 포함합니다.\n",
        "\n",
        "UK (영국): 전환율 차이는 +0.0012로 약간 증가했으나,  \n",
        "P-값(0.3891)이 유의수준 0.05보다 크므로 통계적으로 유의미한 차이가 없습니다. 95% 신뢰구간이 0을 포함합니다.\n",
        "\n",
        "US (미국): 전환율 차이는 -0.0014로 오히려 감소했으며,\n",
        " P-값(0.9050)이 유의수준 0.05보다 훨씬 크므로 통계적으로 유의미한 차이가 없습니다. 95% 신뢰구간이 0을 포함합니다."
      ],
      "metadata": {
        "id": "SguUMrk4a7TC"
      }
    },
    {
      "cell_type": "markdown",
      "source": [
        "## 6. 결론\n",
        "📝 결론\n",
        "본 A/B 테스트 결과, 새로운 웹페이지는 기존 웹페이지에 비해 전환율을 통계적으로 유의미하게 증가시키지 못했습니다.\n",
        "\n",
        "전체 그룹 분석: 새로운 페이지의 전환율은 기존 페이지보다 낮게 나타났으나, 이 차이는 통계적으로 유의미하지 않았습니다 (P-값 > 0.05).\n",
        "\n",
        "국가별 분석: 모든 국가(CA, UK, US)에서 새로운 페이지가 기존 페이지보다 전환율을 유의미하게 높였다는 증거를 찾을 수 없었습니다. 오히려 미국에서는 전환율이 소폭 감소하는 경향을 보였습니다.\n",
        "\n",
        "<br/>\n",
        "\n",
        "💡 제언\n",
        "새로운 페이지 도입 보류: 현재로서는 새로운 웹페이지를 전면적으로 도입하는 것을 보류하는 것이 좋습니다. 기존 페이지 대비 전환율 개선 효과가 없거나 오히려 악화될 가능성이 있습니다."
      ],
      "metadata": {
        "id": "HhnE1VvqbDSa"
      }
    }
  ]
}