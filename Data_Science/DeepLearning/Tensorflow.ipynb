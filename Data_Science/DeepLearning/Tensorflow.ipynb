{
 "cells": [
  {
   "cell_type": "markdown",
   "id": "1d84d508",
   "metadata": {},
   "source": [
    "# 1. Constant and Variable Tensors"
   ]
  },
  {
   "cell_type": "code",
   "execution_count": 1,
   "id": "a1765ebc",
   "metadata": {},
   "outputs": [
    {
     "name": "stdout",
     "output_type": "stream",
     "text": [
      "WARNING:tensorflow:From C:\\Users\\WD\\anaconda3\\lib\\site-packages\\keras\\src\\losses.py:2976: The name tf.losses.sparse_softmax_cross_entropy is deprecated. Please use tf.compat.v1.losses.sparse_softmax_cross_entropy instead.\n",
      "\n",
      "2.15.0\n"
     ]
    }
   ],
   "source": [
    "import tensorflow as tf\n",
    "import tensorflow_datasets\n",
    "\n",
    "import numpy as np\n",
    "import matplotlib.pyplot as plt\n",
    "\n",
    "from termcolor import colored # 출력창 색상 입히기\n",
    "\n",
    "import warnings\n",
    "# 모든 경고를 무시\n",
    "warnings.filterwarnings(\"ignore\")\n",
    "print(tf.__version__)"
   ]
  },
  {
   "cell_type": "code",
   "execution_count": 2,
   "id": "108b7cc9",
   "metadata": {},
   "outputs": [
    {
     "name": "stdout",
     "output_type": "stream",
     "text": [
      "\u001b[31mHello, Termcolor!\u001b[0m\n"
     ]
    }
   ],
   "source": [
    "text = colored('Hello, Termcolor!', 'red')\n",
    "print(text)"
   ]
  },
  {
   "cell_type": "markdown",
   "id": "99fa8be8",
   "metadata": {},
   "source": [
    "## 1.1 기본"
   ]
  },
  {
   "cell_type": "code",
   "execution_count": 3,
   "id": "48961a4f",
   "metadata": {},
   "outputs": [
    {
     "name": "stdout",
     "output_type": "stream",
     "text": [
      "<tf.Variable 'Variable:0' shape=(3,) dtype=int32, numpy=array([1, 2, 3])>\n",
      "tf.Tensor([1 2 3], shape=(3,), dtype=int32)\n",
      "\n",
      "<class 'tensorflow.python.ops.resource_variable_ops.ResourceVariable'>\n",
      "<class 'tensorflow.python.framework.ops.EagerTensor'>\n"
     ]
    }
   ],
   "source": [
    "t1 = tf.Variable([1,2,3]) # 사용되는 변수 변경값\n",
    "t2 = tf.constant([1,2,3]) # 상수 텐서 고정값\n",
    "\n",
    "print(t1)\n",
    "print(t2)\n",
    "print('')\n",
    "print(type(t1))\n",
    "print(type(t2))"
   ]
  },
  {
   "cell_type": "code",
   "execution_count": 4,
   "id": "6aea7570",
   "metadata": {},
   "outputs": [
    {
     "name": "stdout",
     "output_type": "stream",
     "text": [
      "tf.Tensor([1 2 3], shape=(3,), dtype=int32)\n",
      "tf.Tensor([1 2 3], shape=(3,), dtype=int32)\n",
      "\n",
      "<class 'tensorflow.python.framework.ops.EagerTensor'>\n",
      "<class 'tensorflow.python.framework.ops.EagerTensor'>\n"
     ]
    }
   ],
   "source": [
    "test_list = [1,2,3]\n",
    "test_np = np.array([1,2,3])\n",
    "\n",
    "t1 = tf.constant(test_list)\n",
    "t2 = tf.constant(test_np)\n",
    "\n",
    "print(t1)\n",
    "print(t2)\n",
    "print('')\n",
    "print(type(t1))\n",
    "print(type(t2))"
   ]
  },
  {
   "cell_type": "code",
   "execution_count": 5,
   "id": "61c5dfec",
   "metadata": {},
   "outputs": [
    {
     "name": "stdout",
     "output_type": "stream",
     "text": [
      "<tf.Variable 'Variable:0' shape=(3,) dtype=int32, numpy=array([1, 2, 3])>\n",
      "<tf.Variable 'Variable:0' shape=(3,) dtype=int32, numpy=array([1, 2, 3])>\n",
      "\n",
      "<class 'tensorflow.python.ops.resource_variable_ops.ResourceVariable'>\n",
      "<class 'tensorflow.python.ops.resource_variable_ops.ResourceVariable'>\n"
     ]
    }
   ],
   "source": [
    "test_list = [1,2,3]\n",
    "test_np = np.array([1,2,3])\n",
    "\n",
    "t1 = tf.Variable(test_list)\n",
    "t2 = tf.Variable(test_np)\n",
    "\n",
    "print(t1)\n",
    "print(t2)\n",
    "print('')\n",
    "print(type(t1))\n",
    "print(type(t2))"
   ]
  },
  {
   "cell_type": "code",
   "execution_count": 6,
   "id": "8b12f09f",
   "metadata": {},
   "outputs": [],
   "source": [
    "t1 = tf.constant(test_list) # t1 : 상수\n",
    "t2 = tf.Variable(test_list) # t2 : 변수 "
   ]
  },
  {
   "cell_type": "code",
   "execution_count": 7,
   "id": "56a448d0",
   "metadata": {},
   "outputs": [
    {
     "data": {
      "text/plain": [
       "<tf.Tensor: shape=(3,), dtype=int32, numpy=array([1, 2, 3])>"
      ]
     },
     "execution_count": 7,
     "metadata": {},
     "output_type": "execute_result"
    }
   ],
   "source": [
    "t3 = tf.constant(t2) # \n",
    "t3"
   ]
  },
  {
   "cell_type": "code",
   "execution_count": 8,
   "id": "5236d157",
   "metadata": {},
   "outputs": [
    {
     "data": {
      "text/plain": [
       "<tf.Variable 'Variable:0' shape=(3,) dtype=int32, numpy=array([1, 2, 3])>"
      ]
     },
     "execution_count": 8,
     "metadata": {},
     "output_type": "execute_result"
    }
   ],
   "source": [
    "t4 = tf.Variable(t1)\n",
    "t4"
   ]
  },
  {
   "cell_type": "code",
   "execution_count": 9,
   "id": "f439d147",
   "metadata": {},
   "outputs": [
    {
     "name": "stdout",
     "output_type": "stream",
     "text": [
      "<class 'tensorflow.python.framework.ops.EagerTensor'>\n",
      "<class 'tensorflow.python.framework.ops.EagerTensor'>\n"
     ]
    }
   ],
   "source": [
    "# tensor일 경우 tensor로 변환, tensor아니면 tensor로 변환\n",
    "t1 = tf.convert_to_tensor(test_list)\n",
    "t2 = tf.convert_to_tensor(test_np)\n",
    "\n",
    "print(type(t1))\n",
    "print(type(t2))"
   ]
  },
  {
   "cell_type": "code",
   "execution_count": 10,
   "id": "512c2eba",
   "metadata": {},
   "outputs": [
    {
     "name": "stdout",
     "output_type": "stream",
     "text": [
      "tf.Tensor([11 22 33], shape=(3,), dtype=int32)\n",
      "<class 'tensorflow.python.framework.ops.EagerTensor'>\n"
     ]
    }
   ],
   "source": [
    "test_list1 = [10, 20,30]\n",
    "test_list2 = [1,2,3]\n",
    "\n",
    "t1 = tf.Variable(test_list1)\n",
    "t2 = tf.Variable(test_list2)\n",
    "\n",
    "t3 = t1 + t2\n",
    "print(t3)\n",
    "print(type(t3))"
   ]
  },
  {
   "cell_type": "markdown",
   "id": "71093a86",
   "metadata": {},
   "source": [
    "# 2.Making Tensors with APIs"
   ]
  },
  {
   "cell_type": "code",
   "execution_count": 11,
   "id": "e7d5f22e",
   "metadata": {},
   "outputs": [
    {
     "name": "stdout",
     "output_type": "stream",
     "text": [
      "tf.Tensor([1 1 1 1 1 1], shape=(6,), dtype=int32)\n"
     ]
    }
   ],
   "source": [
    "test_list = [1,1,1,1,1,1]\n",
    "t1 = tf.constant(test_list)\n",
    "print(t1)"
   ]
  },
  {
   "cell_type": "code",
   "execution_count": 12,
   "id": "b37db60c",
   "metadata": {},
   "outputs": [
    {
     "name": "stdout",
     "output_type": "stream",
     "text": [
      "tf.Tensor(\n",
      "[[1. 1. 1.]\n",
      " [1. 1. 1.]\n",
      " [1. 1. 1.]\n",
      " [1. 1. 1.]\n",
      " [1. 1. 1.]\n",
      " [1. 1. 1.]\n",
      " [1. 1. 1.]\n",
      " [1. 1. 1.]\n",
      " [1. 1. 1.]\n",
      " [1. 1. 1.]\n",
      " [1. 1. 1.]\n",
      " [1. 1. 1.]\n",
      " [1. 1. 1.]\n",
      " [1. 1. 1.]\n",
      " [1. 1. 1.]\n",
      " [1. 1. 1.]\n",
      " [1. 1. 1.]\n",
      " [1. 1. 1.]\n",
      " [1. 1. 1.]\n",
      " [1. 1. 1.]], shape=(20, 3), dtype=float32)\n"
     ]
    }
   ],
   "source": [
    "t2 = tf.ones((20,3))\n",
    "print(t2)"
   ]
  },
  {
   "cell_type": "code",
   "execution_count": 13,
   "id": "845aee05",
   "metadata": {},
   "outputs": [
    {
     "name": "stdout",
     "output_type": "stream",
     "text": [
      "tf.Tensor(\n",
      "[[[0. 0. 0.]\n",
      "  [0. 0. 0.]\n",
      "  [0. 0. 0.]\n",
      "  ...\n",
      "  [0. 0. 0.]\n",
      "  [0. 0. 0.]\n",
      "  [0. 0. 0.]]\n",
      "\n",
      " [[0. 0. 0.]\n",
      "  [0. 0. 0.]\n",
      "  [0. 0. 0.]\n",
      "  ...\n",
      "  [0. 0. 0.]\n",
      "  [0. 0. 0.]\n",
      "  [0. 0. 0.]]\n",
      "\n",
      " [[0. 0. 0.]\n",
      "  [0. 0. 0.]\n",
      "  [0. 0. 0.]\n",
      "  ...\n",
      "  [0. 0. 0.]\n",
      "  [0. 0. 0.]\n",
      "  [0. 0. 0.]]\n",
      "\n",
      " ...\n",
      "\n",
      " [[0. 0. 0.]\n",
      "  [0. 0. 0.]\n",
      "  [0. 0. 0.]\n",
      "  ...\n",
      "  [0. 0. 0.]\n",
      "  [0. 0. 0.]\n",
      "  [0. 0. 0.]]\n",
      "\n",
      " [[0. 0. 0.]\n",
      "  [0. 0. 0.]\n",
      "  [0. 0. 0.]\n",
      "  ...\n",
      "  [0. 0. 0.]\n",
      "  [0. 0. 0.]\n",
      "  [0. 0. 0.]]\n",
      "\n",
      " [[0. 0. 0.]\n",
      "  [0. 0. 0.]\n",
      "  [0. 0. 0.]\n",
      "  ...\n",
      "  [0. 0. 0.]\n",
      "  [0. 0. 0.]\n",
      "  [0. 0. 0.]]], shape=(128, 128, 3), dtype=float32)\n"
     ]
    }
   ],
   "source": [
    "t3 = tf.zeros((128,128,3))\n",
    "print(t3)"
   ]
  },
  {
   "cell_type": "code",
   "execution_count": 14,
   "id": "013c7d6f",
   "metadata": {},
   "outputs": [
    {
     "name": "stdout",
     "output_type": "stream",
     "text": [
      "tf.Tensor(\n",
      "[[[3. 3. 3.]\n",
      "  [3. 3. 3.]\n",
      "  [3. 3. 3.]\n",
      "  ...\n",
      "  [3. 3. 3.]\n",
      "  [3. 3. 3.]\n",
      "  [3. 3. 3.]]\n",
      "\n",
      " [[3. 3. 3.]\n",
      "  [3. 3. 3.]\n",
      "  [3. 3. 3.]\n",
      "  ...\n",
      "  [3. 3. 3.]\n",
      "  [3. 3. 3.]\n",
      "  [3. 3. 3.]]\n",
      "\n",
      " [[3. 3. 3.]\n",
      "  [3. 3. 3.]\n",
      "  [3. 3. 3.]\n",
      "  ...\n",
      "  [3. 3. 3.]\n",
      "  [3. 3. 3.]\n",
      "  [3. 3. 3.]]\n",
      "\n",
      " ...\n",
      "\n",
      " [[3. 3. 3.]\n",
      "  [3. 3. 3.]\n",
      "  [3. 3. 3.]\n",
      "  ...\n",
      "  [3. 3. 3.]\n",
      "  [3. 3. 3.]\n",
      "  [3. 3. 3.]]\n",
      "\n",
      " [[3. 3. 3.]\n",
      "  [3. 3. 3.]\n",
      "  [3. 3. 3.]\n",
      "  ...\n",
      "  [3. 3. 3.]\n",
      "  [3. 3. 3.]\n",
      "  [3. 3. 3.]]\n",
      "\n",
      " [[3. 3. 3.]\n",
      "  [3. 3. 3.]\n",
      "  [3. 3. 3.]\n",
      "  ...\n",
      "  [3. 3. 3.]\n",
      "  [3. 3. 3.]\n",
      "  [3. 3. 3.]]], shape=(30, 30, 3), dtype=float32)\n"
     ]
    }
   ],
   "source": [
    "t4 = 3*tf.ones((30,30,3))\n",
    "print(t4)"
   ]
  },
  {
   "cell_type": "code",
   "execution_count": 15,
   "id": "6bc321bd",
   "metadata": {},
   "outputs": [
    {
     "name": "stdout",
     "output_type": "stream",
     "text": [
      "<tf.Variable 'Variable:0' shape=(2, 3) dtype=int32, numpy=\n",
      "array([[1, 2, 3],\n",
      "       [4, 5, 6]])>\n"
     ]
    }
   ],
   "source": [
    "test_list = [[1,2,3],[4,5,6]]\n",
    "\n",
    "t1 = tf.Variable(test_list)\n",
    "print(t1)"
   ]
  },
  {
   "cell_type": "code",
   "execution_count": 16,
   "id": "d9e72a59",
   "metadata": {},
   "outputs": [
    {
     "name": "stdout",
     "output_type": "stream",
     "text": [
      "tf.Tensor(\n",
      "[[1 1 1]\n",
      " [1 1 1]], shape=(2, 3), dtype=int32)\n"
     ]
    }
   ],
   "source": [
    "t2 = tf.ones_like(t1) # t1와 같은 행렬로 1로 채워진 행렬 생성\n",
    "print(t2)"
   ]
  },
  {
   "cell_type": "code",
   "execution_count": 17,
   "id": "12f844ba",
   "metadata": {},
   "outputs": [
    {
     "name": "stdout",
     "output_type": "stream",
     "text": [
      "tf.Tensor(\n",
      "[[ 1.5110626   0.42292204 -0.41969493 -1.0360372  -1.2368279   0.47027302\n",
      "  -0.01397489  1.1888583   0.60253334  0.5997111 ]\n",
      " [-0.7057119  -0.43297544  0.7936245  -0.6974926  -0.9598332  -0.9006969\n",
      "  -0.36081055 -0.22377317  0.30383846  0.52152544]\n",
      " [ 0.1554326   1.5885501  -0.7958055   0.07794423 -0.17937538 -0.85996604\n",
      "   0.21930954  0.71412295 -2.4445748   0.0267799 ]\n",
      " [ 1.7339767  -0.711038    0.9271697   1.2675381  -1.8817257   0.23369555\n",
      "  -0.11667551  1.0277894   0.32790193  0.26553428]\n",
      " [-1.3359481  -1.6940202  -0.21031012 -1.8462374   0.16966768  0.08540593\n",
      "  -1.4293113  -2.0325787  -1.0084237   0.3635869 ]\n",
      " [ 0.6260673   0.8270426   0.32962734 -0.06847455  1.0700873  -0.20061155\n",
      "   1.439903   -1.7293217   0.6009366   2.2277303 ]\n",
      " [-0.28096366  0.28171858  0.23155804 -1.2104232  -0.95756483 -0.11959017\n",
      "   0.28557017 -0.2296548  -1.0729516  -1.415817  ]\n",
      " [-0.71031356 -1.1485875  -0.48121923  0.22051279  3.1314626   0.17724207\n",
      "   0.45234892  1.7334461   0.18492527  0.1013813 ]\n",
      " [-0.8455178  -0.0706714  -0.58177036 -0.05174175  0.73151946  0.30201402\n",
      "   0.7260423   0.29527882  0.2499531   1.0084894 ]\n",
      " [-0.46177208 -0.763499    0.60883087 -3.6979618  -0.3076092  -0.03257466\n",
      "   0.86065465 -0.5558871   0.26359642  0.6742477 ]], shape=(10, 10), dtype=float32)\n"
     ]
    }
   ],
   "source": [
    "# random\n",
    "# seed 설정\n",
    "tf.random.set_seed(0)\n",
    "t1 = tf.random.normal((10,10))\n",
    "print(t1)"
   ]
  },
  {
   "cell_type": "code",
   "execution_count": 18,
   "id": "4c1d3edb",
   "metadata": {},
   "outputs": [
    {
     "name": "stdout",
     "output_type": "stream",
     "text": [
      "tf.Tensor(\n",
      "[ 4.06688     3.1945493   2.469171    3.0919008   2.822463    2.080691\n",
      "  0.9222443   5.0391903   3.8028996   2.0690963   2.6275687   2.6790261\n",
      "  0.23820901  5.22013     2.4759715   5.0442305   1.496683    2.0790083\n",
      "  4.656566    4.2164993   2.8666282   3.090187    1.0361248   1.7024854\n",
      "  2.8723235   4.2370014   2.51967     3.048524    3.7252746   2.7837863\n",
      "  1.8750724   2.4596858   1.6161413   2.1028624   2.9499652   3.6956742\n",
      "  3.1928694   4.7396607   3.67944     3.9634547   2.8025787   3.1565351\n",
      "  3.0963175   2.454805    1.9497427   2.566081    1.977712    2.8346288\n",
      "  5.4139585   3.2488353   3.1205277   3.094942    2.5177598   3.0564325\n",
      "  3.1545155   4.640099    3.0273669   2.323739    3.1456685   2.178358\n",
      "  3.6862211   2.6464083   4.261449    3.2372994   3.7996805   3.571479\n",
      "  2.8809521   4.428806    3.1632307   3.548128    4.911922    2.3282168\n",
      "  3.509707    3.9380832   1.4903673   3.2502806   1.9414314   3.0233057\n",
      "  3.7399933   2.8690927   4.5869875   4.71676     3.5825555   4.9439445\n",
      "  4.306543    4.026568    1.6080359   2.4881635   1.8905456   2.8047185\n",
      "  3.6641765   3.13263     2.0504382   4.657926    1.1767867   2.6544282\n",
      "  1.5265372   2.6475098   3.334507    4.779533    2.446656    2.2696807\n",
      "  2.650155    3.5890884   2.509717    3.996605    1.6485561   4.5821323\n",
      "  2.077717    2.732235    6.1179976   3.2789009   3.46485     3.2063267\n",
      "  1.6146657   1.4120901   3.3287024   3.273592    1.8528076   4.276554\n",
      "  4.4057765   3.3822703   1.50713     1.556547    1.2361118   3.337376\n",
      "  2.1243572   1.0171173   3.354893    3.4230418   1.7281331   4.1860285\n",
      "  3.6159182   2.2378929   2.2084436   2.7056563   4.6527824   2.8145778\n",
      "  3.7074196   4.870242    3.6130757   2.9120097   1.906196    4.2219286\n",
      "  3.6058364   2.2752132   3.2124636   2.581566    3.7360122   4.232209\n",
      "  3.0151153   3.1951077   2.6150393   2.645115    4.5163145   4.2619143\n",
      "  3.072193    3.1887283   3.2822635   2.8383982   1.7596314   3.5609484\n",
      "  1.3303179   2.8370445   4.1181297   2.833184    3.6043265   2.0927193\n",
      "  3.0867722   2.8035507   3.8138313   3.0804083   2.4124      4.1399307\n",
      "  2.6189024   4.0830474   3.0725923   3.8391528   2.4610004   1.5035762\n",
      "  3.5563996   1.5954037   3.1809783   1.4990215   2.2135348   2.3285894\n",
      "  1.8553301   3.4082012   2.0155013   2.203673    4.119829    1.6541419\n",
      "  2.0526667   1.9790361   3.0462832   4.2065225   1.9118203   5.6030874\n",
      "  2.853454    3.0938585   2.707615    2.4639406   3.3864634   2.872363\n",
      "  5.0343018   2.3665617   2.1861258   0.95983624  2.566273    3.0047305\n",
      "  3.2622094   3.3411067   1.5911163   3.1604035   2.5923839   0.971509\n",
      "  1.8074183   2.9650574   1.8287123   1.770662    2.8442075   3.6735778\n",
      "  4.819851    2.2487645   2.0631151   5.068351    3.2799547   5.5944805\n",
      "  3.8819003   1.9742446   3.4692426   4.789213    1.4374647   4.66247\n",
      "  2.021481    0.25119066  0.90471506  4.4227023   1.5928096   2.739129\n",
      "  4.495904    1.7629935   2.7692962   3.0346653   1.8246868   3.6104476\n",
      "  3.0170174   2.1412144   2.6281986   3.0969346   2.126029    4.7849917\n",
      "  2.7310913   2.4044058   2.938005    2.7028706   4.487303    1.672026\n",
      "  3.5054297   2.026193    2.5825222   3.463       3.5199013   3.0170279\n",
      "  0.6985078   2.5009727   1.4722142   1.3857027   3.5615718   4.7751865\n",
      "  4.693265    5.5129433   3.9754486   3.105957    3.984186    4.362693\n",
      "  2.255868    1.4079257   3.7193274   4.2340565   2.9684954   1.9367031\n",
      "  2.6833465   3.2131271   2.136822    1.351343    2.8375716   3.118229\n",
      "  3.9206872   4.3687406   0.66943717  3.528176    3.2289772   2.3773127\n",
      "  3.318874    5.8790445   2.8393407   2.0758815   1.6343096   3.1478312\n",
      "  2.979303    4.0015073   2.6397512   1.4116858   1.4249485   0.6341629\n",
      "  1.9599247   2.4649634   3.3623047   1.8919584   2.975262    1.5875604\n",
      "  1.9851834   3.7229114   2.8672452   3.9402113   5.325162    2.1360736\n",
      "  3.0503676   3.1092534   2.1555665   2.2526288   2.7181985   2.7729652\n",
      "  1.7500838   1.5560962   1.3862239   3.6500077   2.0064673   2.9452813\n",
      "  4.1709228   2.082235    4.2272344   2.2389205   1.8546559   3.119795\n",
      "  3.0394058   2.2630155   1.3115731   2.5696096   2.8718364   4.467716\n",
      "  3.8440514   2.2995625   1.7264532   2.8042455   2.674513    4.0652504\n",
      "  5.847308    2.4279706   3.2978222   4.1004696   3.1452003   2.7647128\n",
      "  1.9495461   5.0171003   3.184232    2.5201554   0.95501184  3.2250948\n",
      "  2.9040582   1.8901554   2.081708    3.0249283   2.8863204   4.2345505\n",
      "  3.5302715   3.101164    3.2526574   2.0229783   3.484077    1.9080745\n",
      "  3.2506104   1.7764348   3.3575644   3.128994    4.3026814   3.9243734\n",
      "  1.8414502   1.8303733   1.9098125   2.7105913   3.7059863   1.7608384\n",
      "  3.3980372   2.820721    2.3688555   2.8305454   2.1043565   3.091958\n",
      "  4.2626095   4.3253093   2.8124526   2.0028524   3.5253172   2.346424\n",
      "  3.0057397   2.8563707   4.6774364   2.1168947   3.0129235   2.6837697\n",
      "  4.8227167   2.9968355   2.1288657   2.4226494   2.0352457   1.8227454\n",
      "  2.3938584   2.4110227   3.8541634   4.1897964   1.4403526   2.278149\n",
      "  3.0286176   1.5740296   4.393346    2.4765375   3.4231336   2.7880044\n",
      "  3.2022345   1.8073866   3.7310603   2.809511    2.7002566   2.6974034\n",
      "  1.8244655   2.5749202   2.7370706   1.7585245   2.750495    1.4782732\n",
      "  2.4622293   0.8300462   2.328118    3.4680128   2.8774834   4.439477\n",
      "  0.8764725   4.9982634   3.6735966   3.1281362   2.746456    3.0414255\n",
      "  2.1589983   4.718523    2.3934135   3.5152802   4.1535993   3.568079\n",
      "  3.551035    2.1723044   1.7418599   2.2808776   3.6178439   4.4843755\n",
      "  2.3308322   4.1288323   2.7678528   2.6751955   0.77370644  3.1449049\n",
      "  3.4387443   3.2757466   3.3823276   1.2726094   3.2520714   2.6320066\n",
      "  3.9720535   3.7105682   4.325383    2.146479    3.3718143   3.6803617\n",
      "  1.7630097   3.2178063   4.1226087   2.3412092   1.5334011   1.6032839\n",
      "  1.5846593   1.8409481   2.0412982   1.3381212   1.4917836   2.9414637\n",
      "  5.048362    4.5485377   3.5153475   2.0749726   2.1182437   3.5284343\n",
      "  2.1039479   5.4108906   4.8810225   1.7535062   3.8990088   4.034752\n",
      "  1.8763968   4.120458    3.4086637   3.9512186   5.8947554   2.6128588\n",
      "  3.538938    2.914982    3.6453533   2.6022408   3.3686187   4.245727\n",
      "  3.1545708   3.815889    4.178155    1.9101214   3.9857059   2.9065917\n",
      "  2.3420582   2.524456    3.1244416   4.9132657   3.024324    2.555159\n",
      "  1.7428551   2.5887573   4.633622    1.1402454   2.5929637   3.0953197\n",
      "  1.8226416   3.401663    2.0424578   2.0056236   1.6044614   2.8892345\n",
      "  1.6580945   4.6852694   3.5506082   3.7196853   2.0706327   1.813246\n",
      "  3.161349    4.9955044   3.2690897   2.7418914   2.3647447   3.5530634\n",
      "  4.371163    1.9428372   2.974912    1.475159    3.4434614   2.6081812\n",
      "  2.5531256   4.102639    1.9724393   3.2017906   2.272066    4.727239\n",
      "  3.6239493   2.1414227   3.9958086   3.0404434   0.45216513  4.542365\n",
      "  2.552134    3.4581103   2.6228952   3.3108244   1.4222555   3.4764264\n",
      "  3.5071008   3.6452854   2.4337761   4.3902617   2.7825265   2.9805167\n",
      "  2.4618437   4.4278617   1.2920877   1.9275863   2.1652863   4.203247\n",
      "  0.53702664  3.0295103   1.5679787   3.700886    4.027033    3.3353953\n",
      "  3.3693323   1.9540335   2.8518672   4.5722136   1.8650446   3.7608044\n",
      "  3.5904243   2.9697628   2.7358346   4.1350365   2.3542094   4.231804\n",
      "  4.3080835   1.2536336   2.5053256   0.8735478   3.0137405   1.9155209\n",
      "  1.57686     2.2365437   1.8959538   3.1159163   2.6895955   3.276181\n",
      "  3.2464538   3.140266    2.785603    4.8743205   3.504967    2.5466323\n",
      "  1.6078188   4.4181004   2.9133506   1.6817169   3.8486745   2.863159\n",
      "  3.1295972   2.2752063   2.0785391   4.59867     4.51006     1.8088099\n",
      "  3.4573011   4.089961    3.558942    2.253409    2.2576687   3.1523626\n",
      "  3.1179147   2.0619237   4.404663    3.2926338   3.21296     4.516199\n",
      "  1.0721391   4.648299    1.5092387   3.1334357   2.2340083   3.9254136\n",
      "  3.2163687   2.4898775   1.6422285   1.6619606   2.4163945   2.236124\n",
      "  3.4581811   2.964369    2.6533744   1.9402355  -0.35852504  3.1101308\n",
      "  3.8452933   2.8832378   2.573111    2.0695984   4.039675    3.3671784\n",
      "  1.5005553   3.1566734   3.8309565   4.0784235   4.767351    3.7086859\n",
      "  3.7600694   3.1311276   1.7808194   3.1856089   3.9211993   2.852027\n",
      "  1.4170978   1.7608025   2.6525886   5.5913334   2.4555264   2.7030196\n",
      "  2.3598378   1.9794137   2.1124384   5.7901144   4.742972    4.1726594\n",
      "  1.524513    3.5252378   4.18535     1.9095592   2.9692233   2.137119\n",
      "  1.4589837   2.852667    3.3834524   3.0861876   3.5685334   3.7085676\n",
      "  3.9775045   2.7647982   5.6738396   3.4564822   3.4481683   3.0192993\n",
      "  3.7046804   1.634922    2.7844431   3.5240545   2.4471197   5.4768734\n",
      "  4.267222    1.0270959   3.7241685   3.8296237   2.8515162   1.7920594\n",
      "  4.7586255   3.1301994   1.8327485   3.6290169   2.754764    3.8887186\n",
      "  3.8054693   2.7141075   5.330328    2.1104507   2.7889862   2.6144447\n",
      "  1.5625305   4.269044    3.1572447   0.8587575   4.0057373   4.576554\n",
      "  2.6533012   1.6779357   3.2732544   4.2242455   2.833682    3.7436774\n",
      "  2.920208    2.8028708   2.828815    1.3870773   3.2843614   4.1155353\n",
      "  3.3388615   2.2064133   2.2227259   1.9771489   3.5758457   2.8737543\n",
      "  2.285881    3.3185356   3.5236964   3.0587552   3.4323132   3.1633368\n",
      "  2.1062522   2.422171    3.070327    1.308601    1.8823117   1.854285\n",
      "  3.24823     3.5920055   2.3576386   2.8518958   4.263313    1.6266826\n",
      "  5.3476768   3.0698764   2.447931    4.452777    4.622049    3.7738743\n",
      "  4.467498    3.23503     4.012628    3.5145879   3.3767362   1.9535518\n",
      "  2.3022566   3.8716464   4.13974     1.7100224   0.77381897  2.831189\n",
      "  2.3890686   2.515804    2.8134768   3.2103221   3.1281972   3.079009\n",
      "  2.679651    2.5598767   3.3304508   2.415073    1.5275216   4.4125204\n",
      "  3.368424    2.4889913   4.1533566   4.745281    3.9183092   3.7767427\n",
      "  3.3221881   3.987942    2.4539082   3.68849     1.6043053   3.3789563\n",
      "  1.767982    4.401555    3.4182274   2.902954    2.4589288   2.419681\n",
      "  2.062718    4.4814205   2.7060983   3.2399647   2.4663453   4.4990325\n",
      "  2.0726485   1.6628487   2.502635    4.4254394   2.6949856   1.0996844\n",
      "  2.5910196   2.2649791   3.016948    3.9015527   3.6792681   3.5183053\n",
      "  2.2886896   2.361918    2.6220138   2.093049    2.4418132   2.1797442\n",
      "  3.2135146   3.3884683   3.1811607   3.4346526   3.522983    1.1339595\n",
      "  5.1477757   3.2783136   2.963885    3.3321905   2.5820014   2.8490255\n",
      "  4.2620573   2.807759    3.4043922   3.4952302   3.4910333   4.9542894\n",
      "  3.4876454   5.027835    1.3162222   2.9698572   3.466883    2.8429701\n",
      "  3.8665712   4.0892096   2.17147     3.1125717   4.1370087   0.441041\n",
      "  2.7059228   2.7181153   3.8540308   1.4621524   1.8452375   3.8168464\n",
      "  1.6680119   3.2869625   2.6952074   2.743265    1.6733308   4.215408\n",
      "  3.806616    2.7537398   3.747444    2.3184035   3.3394473   0.41530132\n",
      "  4.470365    3.341908    3.171682    1.9970963   2.9607804   2.7335482\n",
      "  2.1376486   1.6071634   3.5427954   2.8910906   3.3159366   4.097237\n",
      "  4.9219813   3.756403    2.2195992   2.9235237   3.5009837   4.0624413\n",
      "  3.203041    2.0934477   1.55178     1.3304749   1.2313514   4.07052\n",
      "  3.4019      2.6545296   1.2064773   3.2473583   1.5027506   4.438994\n",
      "  5.3791      1.5736467   1.5150285   3.4214194   4.118767    1.4982566\n",
      "  3.4838674   5.6809626   2.4425035   4.1293254   2.0611396   2.6335719\n",
      "  1.4082067   2.3417864   4.16709     2.7483366   3.1515512   2.9032562\n",
      "  3.3006923   3.7134383   3.970669    2.8498821   3.0627592   5.166895\n",
      "  3.0833743   3.4884381   2.4297733   3.061732    2.7363672   2.3535638\n",
      "  1.288302    3.4794261   4.5072412   4.110444    3.4085705   4.140072\n",
      "  3.259864    2.4740143   2.1643312   3.4298856   2.0270038   2.0068645\n",
      "  1.2758385   1.5962838   4.567982    2.6292872   1.000128    4.032319\n",
      "  2.7933304   2.9764335   5.122938    3.4766834   0.92982507  3.0582287\n",
      "  3.1269066   1.5042791   3.0833917   3.7476583   3.5598555   4.9859834\n",
      "  3.706182    3.1593015   3.5625675   3.8505094   3.0932243   2.9453278\n",
      "  3.803244    1.8120066   3.1924176   3.1670127   1.8940145   2.5618634\n",
      "  3.5353909   3.7645164   5.288367    2.888578  ], shape=(1000,), dtype=float32)\n"
     ]
    }
   ],
   "source": [
    "t2 = tf.random.normal(mean = 3, stddev = 1, shape = (1000,)) # 평균 3, 분산 1, 1000,1 행렬\n",
    "print(t2)"
   ]
  },
  {
   "cell_type": "code",
   "execution_count": 19,
   "id": "1aca7be2",
   "metadata": {},
   "outputs": [
    {
     "data": {
      "image/png": "[encoded data removed]",
      "text/plain": [
       "<Figure size 1000x1000 with 1 Axes>"
      ]
     },
     "metadata": {},
     "output_type": "display_data"
    }
   ],
   "source": [
    "fig, ax = plt.subplots(figsize = (10, 10))\n",
    "ax.hist(t2.numpy(), bins = 30)\n",
    "ax.tick_params(labelsize = 20)\n",
    "plt.show()"
   ]
  },
  {
   "cell_type": "code",
   "execution_count": 20,
   "id": "d9e2f3d2",
   "metadata": {},
   "outputs": [
    {
     "data": {
      "image/png": "[encoded data removed]",
      "text/plain": [
       "<Figure size 1000x1000 with 1 Axes>"
      ]
     },
     "metadata": {},
     "output_type": "display_data"
    }
   ],
   "source": [
    "t2 = tf.random.uniform(shape=(10000,), minval = -10, maxval = 10)\n",
    "\n",
    "fig, ax = plt.subplots(figsize = (10,10))\n",
    "ax.hist(t2.numpy(), bins = 30)\n",
    "ax.tick_params(labelsize = 20)\n",
    "plt.show()"
   ]
  },
  {
   "cell_type": "code",
   "execution_count": 21,
   "id": "0db6f275",
   "metadata": {},
   "outputs": [
    {
     "data": {
      "image/png": "[encoded data removed]",
      "text/plain": [
       "<Figure size 1000x1000 with 1 Axes>"
      ]
     },
     "metadata": {},
     "output_type": "display_data"
    }
   ],
   "source": [
    "t2 = tf.random.poisson(shape=(10000,), lam = 5)\n",
    "\n",
    "fig, ax = plt.subplots(figsize = (10,10))\n",
    "ax.hist(t2.numpy(), bins = 30)\n",
    "ax.tick_params(labelsize = 20)\n",
    "plt.show()"
   ]
  },
  {
   "cell_type": "code",
   "execution_count": 22,
   "id": "28a627b1",
   "metadata": {},
   "outputs": [
    {
     "name": "stdout",
     "output_type": "stream",
     "text": [
      "t1.shape :  (128, 128, 3)\n",
      "t1.dtype :  <dtype: 'float32'>\n"
     ]
    }
   ],
   "source": [
    "t1 = tf.random.normal(shape=(128,128,3))\n",
    "print('t1.shape : ',t1.shape)\n",
    "print('t1.dtype : ',t1.dtype)"
   ]
  },
  {
   "cell_type": "code",
   "execution_count": 23,
   "id": "ebf0861c",
   "metadata": {},
   "outputs": [
    {
     "name": "stdout",
     "output_type": "stream",
     "text": [
      "int32\n",
      "tf.Tensor(\n",
      "[ -9.   9.  -8.  -9. -10.   0.  -4.   6.  -9.  -6.  -4.  -4.  -8.   3.\n",
      "  -2.   5.  -3.   2.  -1.  -9.   5.  -3.  -7.   4.   4.  -9.  -7.   4.\n",
      "   5.   4.  -4.  -2.  -2.   5.   9.  -4.  -2.   3.   1.   2.   8.  -2.\n",
      "  -3.  -8.  -3.  -6.  -2.   6.  -5.   4.  -6.   7.   9.  -4.  -2.  -2.\n",
      "  -2.  -9.   8.  -5.  -5.  -2.  -2.   6.  -3.   7.   7.  -2.  -5.  -8.\n",
      "   6.   9.   9.   5.  -3.   1.   9.   8.  -7.  -8.   8.   9.  -8.   2.\n",
      "  -6.  -7.  -3.  -9.  -8.  -4.   6.  -6.   5.   8.  -7.  -1. -10.   9.\n",
      "   9.   9.], shape=(100,), dtype=float32)\n"
     ]
    }
   ],
   "source": [
    "test_np = np.random.randint(-10, 10, size = (100,))\n",
    "print(test_np.dtype)\n",
    "\n",
    "t1 = tf.constant(test_np, dtype = tf.float32) # data_type 설정\n",
    "print(t1)"
   ]
  },
  {
   "cell_type": "markdown",
   "id": "319fa780",
   "metadata": {},
   "source": [
    "# 3.Tensor Operations"
   ]
  },
  {
   "cell_type": "code",
   "execution_count": 24,
   "id": "319a599e",
   "metadata": {},
   "outputs": [
    {
     "name": "stdout",
     "output_type": "stream",
     "text": [
      "tf.Tensor([11 22 33], shape=(3,), dtype=int32)\n",
      "tf.Tensor([ 9 18 27], shape=(3,), dtype=int32)\n"
     ]
    }
   ],
   "source": [
    "t1 = tf.constant([1,2,3])\n",
    "t2 = tf.constant([10,20,30])\n",
    "print(t1+t2)\n",
    "print(t2-t1)"
   ]
  },
  {
   "cell_type": "code",
   "execution_count": 25,
   "id": "1f52eab7",
   "metadata": {},
   "outputs": [
    {
     "name": "stdout",
     "output_type": "stream",
     "text": [
      "[1, 2, 3, 10, 20, 30]\n"
     ]
    }
   ],
   "source": [
    "list1 = [1,2,3]\n",
    "list2 = [10,20,30]\n",
    "print(list1+list2)"
   ]
  },
  {
   "cell_type": "markdown",
   "id": "f98c2c35",
   "metadata": {},
   "source": [
    "```python\n",
    "tf.cast # dtype 변경\n",
    "```"
   ]
  },
  {
   "cell_type": "code",
   "execution_count": 26,
   "id": "3ecd22af",
   "metadata": {},
   "outputs": [
    {
     "name": "stdout",
     "output_type": "stream",
     "text": [
      "[[-5 -3 -1  9]\n",
      " [-2 -2 -3  1]\n",
      " [ 3  7 -5  1]]\n",
      "\n",
      "[[11  4  0  1]]\n",
      "\n",
      "[[ 6  1 -1 10]\n",
      " [ 9  2 -3  2]\n",
      " [14 11 -5  2]]\n"
     ]
    }
   ],
   "source": [
    "t1 = tf.random.normal(shape=(3,4), mean=0, stddev = 5)\n",
    "t2 = tf.random.normal(shape=(1,4), mean=0, stddev = 5)\n",
    "\n",
    "t1 = tf.cast(t1, dtype=tf.int16)\n",
    "t2 = tf.cast(t2, dtype=tf.int16)\n",
    "\n",
    "t3 = t1+t2 # 브로딩캐스트 적용 \n",
    "\n",
    "print(t1.numpy())\n",
    "print('')\n",
    "print(t2.numpy())\n",
    "print('')\n",
    "print(t3.numpy())"
   ]
  },
  {
   "cell_type": "code",
   "execution_count": 27,
   "id": "20d7fbd7",
   "metadata": {},
   "outputs": [
    {
     "name": "stdout",
     "output_type": "stream",
     "text": [
      "[[-2  2  0 -3]\n",
      " [-3 -7  2  3]\n",
      " [-5 -1 -2  0]]\n"
     ]
    }
   ],
   "source": [
    "t1 = tf.random.normal(shape=(3,4), mean=0, stddev = 5)\n",
    "t1 = tf.cast(t1, dtype = tf.int16)\n",
    "print(t1.numpy())"
   ]
  },
  {
   "cell_type": "markdown",
   "id": "6c724555",
   "metadata": {},
   "source": [
    "```python\n",
    "# tf.reduce\n",
    "tf.reduce_sum\n",
    "tf.reduce_prod\n",
    "tf.reduce_max\n",
    "tf.reduce_min\n",
    "tf.reduce_mean\n",
    "tf.reduce_std\n",
    "tf.reduce_variance\n",
    "tf.reduce_all\n",
    "tf.reduce_any\n",
    "```"
   ]
  },
  {
   "cell_type": "code",
   "execution_count": 28,
   "id": "e7867b58",
   "metadata": {},
   "outputs": [
    {
     "name": "stdout",
     "output_type": "stream",
     "text": [
      "[[ 4  3 -1 -3]\n",
      " [ 1  5  1 -6]\n",
      " [ 2  1 -2  4]] \n",
      "\n",
      "9\n"
     ]
    }
   ],
   "source": [
    "t1 = tf.random.normal(shape=(3,4), mean=0,stddev=5)\n",
    "t1 = tf.cast(t1, dtype=tf.int16)\n",
    "\n",
    "t2 = tf.reduce_sum(t1) # 총 합\n",
    "print(t1.numpy(),'\\n')\n",
    "print(t2.numpy())"
   ]
  },
  {
   "cell_type": "code",
   "execution_count": 29,
   "id": "310c2146",
   "metadata": {},
   "outputs": [
    {
     "name": "stdout",
     "output_type": "stream",
     "text": [
      "[[ 4  3 -1 -3]\n",
      " [ 1  5  1 -6]\n",
      " [ 2  1 -2  4]] \n",
      "\n",
      "[ 7  9 -2 -5]\n"
     ]
    }
   ],
   "source": [
    "t2 = tf.reduce_sum(t1, axis = 0) # x축을 없게\n",
    "print(t1.numpy(),'\\n')\n",
    "print(t2.numpy())"
   ]
  },
  {
   "cell_type": "code",
   "execution_count": 30,
   "id": "ece42d94",
   "metadata": {},
   "outputs": [
    {
     "name": "stdout",
     "output_type": "stream",
     "text": [
      "[[ 4  3 -1 -3]\n",
      " [ 1  5  1 -6]\n",
      " [ 2  1 -2  4]] \n",
      "\n",
      "[3 1 5]\n"
     ]
    }
   ],
   "source": [
    "t3 = tf.reduce_sum(t1, axis = 1) # y축 없게\n",
    "print(t1.numpy(),'\\n')\n",
    "print(t3.numpy())"
   ]
  },
  {
   "cell_type": "code",
   "execution_count": 31,
   "id": "d17fa538",
   "metadata": {},
   "outputs": [
    {
     "name": "stdout",
     "output_type": "stream",
     "text": [
      "0\n",
      "[ 2  3  0 -1]\n",
      "[0 0 1]\n"
     ]
    }
   ],
   "source": [
    "print(tf.reduce_mean(t1).numpy())\n",
    "print(tf.reduce_mean(t1, axis = 0).numpy())\n",
    "print(tf.reduce_mean(t1, axis = 1).numpy())"
   ]
  },
  {
   "cell_type": "markdown",
   "id": "ea150fa9",
   "metadata": {},
   "source": [
    "# 4.GradientTape"
   ]
  },
  {
   "cell_type": "markdown",
   "id": "bb05c510",
   "metadata": {},
   "source": [
    "```python\n",
    "tf.GradientTape()\n",
    "```"
   ]
  },
  {
   "cell_type": "code",
   "execution_count": 2,
   "id": "ceb03f47",
   "metadata": {},
   "outputs": [
    {
     "name": "stdout",
     "output_type": "stream",
     "text": [
      "Epoch 0, Loss: 7.5\n",
      "Epoch 10, Loss: 0.2082594931125641\n",
      "Epoch 20, Loss: 0.018777281045913696\n",
      "Epoch 30, Loss: 0.013095589354634285\n",
      "Epoch 40, Loss: 0.012214628979563713\n",
      "Epoch 50, Loss: 0.01150062307715416\n",
      "Epoch 60, Loss: 0.010831130668520927\n",
      "Epoch 70, Loss: 0.010200710967183113\n",
      "Epoch 80, Loss: 0.009606963954865932\n",
      "Epoch 90, Loss: 0.009047799743711948\n",
      "Trained w: 1.9231737852096558, Trained b: 0.22587870061397552\n"
     ]
    }
   ],
   "source": [
    "import tensorflow as tf\n",
    "\n",
    "# 데이터 생성\n",
    "x_train = tf.constant([1.0, 2.0, 3.0, 4.0], dtype=tf.float32)\n",
    "y_true = tf.constant([2.0, 4.0, 6.0, 8.0], dtype=tf.float32)\n",
    "\n",
    "# 모델 파라미터\n",
    "w = tf.Variable(1.0, trainable=True)\n",
    "b = tf.Variable(0.0, trainable=True)\n",
    "\n",
    "# 학습률 및 옵티마이저 정의\n",
    "learning_rate = 0.01\n",
    "optimizer = tf.optimizers.SGD(learning_rate)\n",
    "\n",
    "# 손실 함수 정의\n",
    "def loss_function():\n",
    "    y_pred = w * x_train + b\n",
    "    return tf.reduce_mean((y_pred - y_true)**2)\n",
    "\n",
    "# 학습 과정\n",
    "epochs = 100\n",
    "\n",
    "for epoch in range(epochs):\n",
    "    # tf.GradientTape() 열기\n",
    "    with tf.GradientTape() as tape:\n",
    "        # 손실 함수 계산\n",
    "        loss = loss_function()\n",
    "\n",
    "    # 그래디언트 계산\n",
    "    gradients = tape.gradient(loss, [w, b])\n",
    "\n",
    "    # 옵티마이저를 사용하여 모델 파라미터 업데이트\n",
    "    optimizer.apply_gradients(zip(gradients, [w, b]))\n",
    "\n",
    "    # 매 에폭마다 손실 출력\n",
    "    if epoch % 10 == 0:\n",
    "        print(f\"Epoch {epoch}, Loss: {loss.numpy()}\")\n",
    "\n",
    "# 최종 결과 출력\n",
    "print(f\"Trained w: {w.numpy()}, Trained b: {b.numpy()}\")"
   ]
  },
  {
   "cell_type": "code",
   "execution_count": 33,
   "id": "6dd73e14",
   "metadata": {},
   "outputs": [
    {
     "name": "stdout",
     "output_type": "stream",
     "text": [
      "[1. 2. 3.]\n",
      "[10. 20. 30.]\n",
      "[10. 40. 90.]\n"
     ]
    }
   ],
   "source": [
    "t1 = tf.Variable([1,2,3], dtype = tf.float32)\n",
    "t2 = tf.Variable([10,20,30], dtype = tf.float32)\n",
    "\n",
    "with tf.GradientTape() as tape:\n",
    "    t3 = t1 * t2\n",
    "    t4 = t3 + t2\n",
    "print(t1.numpy())\n",
    "print(t2.numpy())\n",
    "print(t3.numpy())"
   ]
  },
  {
   "cell_type": "code",
   "execution_count": 34,
   "id": "b501811f",
   "metadata": {},
   "outputs": [
    {
     "name": "stdout",
     "output_type": "stream",
     "text": [
      "<class 'list'>\n",
      "dt1 : tf.Tensor([10. 20. 30.], shape=(3,), dtype=float32)\n",
      "dt2 : tf.Tensor([2. 3. 4.], shape=(3,), dtype=float32)\n",
      "dt3 : tf.Tensor([1. 1. 1.], shape=(3,), dtype=float32)\n"
     ]
    }
   ],
   "source": [
    "gradients = tape.gradient(t4, [t1, t2, t3]) \n",
    "print(type(gradients))\n",
    "print('dt1 :', gradients[0])\n",
    "print('dt2 :', gradients[1])\n",
    "print('dt3 :', gradients[2])"
   ]
  },
  {
   "cell_type": "code",
   "execution_count": 39,
   "id": "30023879",
   "metadata": {},
   "outputs": [
    {
     "data": {
      "image/png": "[encoded data removed]",
      "text/plain": [
       "<Figure size 1000x500 with 1 Axes>"
      ]
     },
     "metadata": {},
     "output_type": "display_data"
    }
   ],
   "source": [
    "import tensorflow as tf\n",
    "import matplotlib.pyplot as plt\n",
    "\n",
    "x_data = tf.random.normal((1000,), dtype=tf.float32)\n",
    "y_data = 3 * x_data + 1\n",
    "\n",
    "w = tf.Variable(-1.0, dtype=tf.float32) \n",
    "b = tf.Variable(-1.0, dtype=tf.float32)  \n",
    "learning_rate = 0.01\n",
    "\n",
    "w_trace, b_trace = [], []\n",
    "epochs = 1000\n",
    "\n",
    "for epoch in range(epochs):  # 수정\n",
    "    with tf.GradientTape() as tape:\n",
    "        pred = w * x_data + b\n",
    "        loss = tf.reduce_mean((pred - y_data) ** 2)  \n",
    "    gradients = tape.gradient(loss, [w, b])\n",
    "\n",
    "    w.assign(w - learning_rate * gradients[0])\n",
    "    b.assign(b - learning_rate * gradients[1])\n",
    "\n",
    "    w_trace.append(w.numpy())\n",
    "    b_trace.append(b.numpy())\n",
    "\n",
    "fig, ax = plt.subplots(figsize=(10, 5))\n",
    "ax.plot(w_trace, label='weight')\n",
    "ax.plot(b_trace, label='loss')\n",
    "ax.legend()  \n",
    "plt.show()"
   ]
  },
  {
   "cell_type": "markdown",
   "id": "36e564d6",
   "metadata": {},
   "source": [
    "# 5. Model Implemetataion"
   ]
  },
  {
   "cell_type": "code",
   "execution_count": 11,
   "id": "d2d98fe7",
   "metadata": {},
   "outputs": [
    {
     "data": {
      "image/png": "[encoded data removed]",
      "text/plain": [
       "<Figure size 500x500 with 1 Axes>"
      ]
     },
     "metadata": {},
     "output_type": "display_data"
    }
   ],
   "source": [
    "import tensorflow as tf\n",
    "import matplotlib.pyplot as plt\n",
    "\n",
    "# 경고 메시지 무시\n",
    "import warnings\n",
    "warnings.filterwarnings('ignore')\n",
    "\n",
    "# 데이터 생성\n",
    "x_train = tf.random.normal(shape=(1000, 1), dtype=tf.float32)  # 2차원 배열로 변환\n",
    "y_train = 3 * x_train + 1 + 0.2 * tf.random.normal(shape=(1000, 1), dtype=tf.float32)\n",
    "\n",
    "# 산점도 그리기\n",
    "fig, ax = plt.subplots(figsize=(5, 5))\n",
    "ax.scatter(x_train.numpy(), y_train.numpy())  # 산점도 생성\n",
    "ax.tick_params(labelsize=20)  # 눈금 레이블 크기 설정\n",
    "ax.grid()  # 그리드 표시\n",
    "\n",
    "# 그래프 표시\n",
    "plt.show()"
   ]
  },
  {
   "cell_type": "code",
   "execution_count": 12,
   "id": "fcf01314",
   "metadata": {},
   "outputs": [
    {
     "name": "stdout",
     "output_type": "stream",
     "text": [
      "Epoch 1/50\n",
      "WARNING:tensorflow:From C:\\Users\\WD\\anaconda3\\lib\\site-packages\\keras\\src\\utils\\tf_utils.py:492: The name tf.ragged.RaggedTensorValue is deprecated. Please use tf.compat.v1.ragged.RaggedTensorValue instead.\n",
      "\n",
      "32/32 [==============================] - 1s 3ms/step - loss: 2.8532\n",
      "Epoch 2/50\n",
      "32/32 [==============================] - 0s 2ms/step - loss: 0.8006\n",
      "Epoch 3/50\n",
      "32/32 [==============================] - 0s 3ms/step - loss: 0.2442\n",
      "Epoch 4/50\n",
      "32/32 [==============================] - 0s 3ms/step - loss: 0.0967\n",
      "Epoch 5/50\n",
      "32/32 [==============================] - 0s 3ms/step - loss: 0.0561\n",
      "Epoch 6/50\n",
      "32/32 [==============================] - 0s 3ms/step - loss: 0.0451\n",
      "Epoch 7/50\n",
      "32/32 [==============================] - 0s 2ms/step - loss: 0.0422\n",
      "Epoch 8/50\n",
      "32/32 [==============================] - 0s 2ms/step - loss: 0.0413\n",
      "Epoch 9/50\n",
      "32/32 [==============================] - 0s 2ms/step - loss: 0.0411\n",
      "Epoch 10/50\n",
      "32/32 [==============================] - 0s 1ms/step - loss: 0.0410\n",
      "Epoch 11/50\n",
      "32/32 [==============================] - 0s 1ms/step - loss: 0.0410\n",
      "Epoch 12/50\n",
      "32/32 [==============================] - 0s 1ms/step - loss: 0.0410\n",
      "Epoch 13/50\n",
      "32/32 [==============================] - 0s 1ms/step - loss: 0.0410\n",
      "Epoch 14/50\n",
      "32/32 [==============================] - 0s 1ms/step - loss: 0.0410\n",
      "Epoch 15/50\n",
      "32/32 [==============================] - 0s 1ms/step - loss: 0.0410\n",
      "Epoch 16/50\n",
      "32/32 [==============================] - 0s 2ms/step - loss: 0.0410\n",
      "Epoch 17/50\n",
      "32/32 [==============================] - 0s 1ms/step - loss: 0.0410\n",
      "Epoch 18/50\n",
      "32/32 [==============================] - 0s 2ms/step - loss: 0.0410\n",
      "Epoch 19/50\n",
      "32/32 [==============================] - 0s 2ms/step - loss: 0.0410\n",
      "Epoch 20/50\n",
      "32/32 [==============================] - 0s 2ms/step - loss: 0.0410\n",
      "Epoch 21/50\n",
      "32/32 [==============================] - 0s 2ms/step - loss: 0.0410\n",
      "Epoch 22/50\n",
      "32/32 [==============================] - 0s 3ms/step - loss: 0.0410\n",
      "Epoch 23/50\n",
      "32/32 [==============================] - 0s 2ms/step - loss: 0.0410\n",
      "Epoch 24/50\n",
      "32/32 [==============================] - 0s 2ms/step - loss: 0.0410\n",
      "Epoch 25/50\n",
      "32/32 [==============================] - 0s 1ms/step - loss: 0.0410\n",
      "Epoch 26/50\n",
      "32/32 [==============================] - 0s 1ms/step - loss: 0.0410\n",
      "Epoch 27/50\n",
      "32/32 [==============================] - 0s 1ms/step - loss: 0.0410\n",
      "Epoch 28/50\n",
      "32/32 [==============================] - 0s 1ms/step - loss: 0.0410\n",
      "Epoch 29/50\n",
      "32/32 [==============================] - 0s 2ms/step - loss: 0.0410\n",
      "Epoch 30/50\n",
      "32/32 [==============================] - 0s 2ms/step - loss: 0.0410\n",
      "Epoch 31/50\n",
      "32/32 [==============================] - 0s 1ms/step - loss: 0.0410\n",
      "Epoch 32/50\n",
      "32/32 [==============================] - 0s 2ms/step - loss: 0.0410\n",
      "Epoch 33/50\n",
      "32/32 [==============================] - 0s 2ms/step - loss: 0.0410\n",
      "Epoch 34/50\n",
      "32/32 [==============================] - 0s 2ms/step - loss: 0.0410\n",
      "Epoch 35/50\n",
      "32/32 [==============================] - 0s 2ms/step - loss: 0.0410\n",
      "Epoch 36/50\n",
      "32/32 [==============================] - 0s 1ms/step - loss: 0.0410\n",
      "Epoch 37/50\n",
      "32/32 [==============================] - 0s 1ms/step - loss: 0.0410\n",
      "Epoch 38/50\n",
      "32/32 [==============================] - 0s 2ms/step - loss: 0.0410\n",
      "Epoch 39/50\n",
      "32/32 [==============================] - 0s 1ms/step - loss: 0.0410\n",
      "Epoch 40/50\n",
      "32/32 [==============================] - 0s 2ms/step - loss: 0.0410\n",
      "Epoch 41/50\n",
      "32/32 [==============================] - 0s 1ms/step - loss: 0.0410\n",
      "Epoch 42/50\n",
      "32/32 [==============================] - 0s 1ms/step - loss: 0.0410\n",
      "Epoch 43/50\n",
      "32/32 [==============================] - 0s 1ms/step - loss: 0.0410\n",
      "Epoch 44/50\n",
      "32/32 [==============================] - 0s 1ms/step - loss: 0.0410\n",
      "Epoch 45/50\n",
      "32/32 [==============================] - 0s 1ms/step - loss: 0.0410\n",
      "Epoch 46/50\n",
      "32/32 [==============================] - 0s 1ms/step - loss: 0.0410\n",
      "Epoch 47/50\n",
      "32/32 [==============================] - 0s 1ms/step - loss: 0.0410\n",
      "Epoch 48/50\n",
      "32/32 [==============================] - 0s 1ms/step - loss: 0.0410\n",
      "Epoch 49/50\n",
      "32/32 [==============================] - 0s 2ms/step - loss: 0.0410\n",
      "Epoch 50/50\n",
      "32/32 [==============================] - 0s 3ms/step - loss: 0.0410\n"
     ]
    },
    {
     "data": {
      "text/plain": [
       "<keras.src.callbacks.History at 0x1da77a303a0>"
      ]
     },
     "execution_count": 12,
     "metadata": {},
     "output_type": "execute_result"
    }
   ],
   "source": [
    "x_test = tf.random.normal(shape=(300, 1), dtype=tf.float32)\n",
    "y_test = 3*x_test + 1 + 0.2*tf.random.normal(shape=(300,), dtype=tf.float32)\n",
    "\n",
    "# 모델 정의\n",
    "model = tf.keras.Sequential([\n",
    "    tf.keras.layers.Dense(units=1, activation='linear')\n",
    "])\n",
    "\n",
    "# 모델 컴파일\n",
    "model.compile(loss='mean_squared_error', optimizer='SGD')\n",
    "\n",
    "# 모델 훈련\n",
    "model.fit(x_train, y_train, epochs=50)"
   ]
  },
  {
   "cell_type": "code",
   "execution_count": 13,
   "id": "204e09ff",
   "metadata": {},
   "outputs": [
    {
     "name": "stdout",
     "output_type": "stream",
     "text": [
      "10/10 - 0s - loss: 0.0466 - 200ms/epoch - 20ms/step\n"
     ]
    },
    {
     "data": {
      "text/plain": [
       "0.04659312590956688"
      ]
     },
     "execution_count": 13,
     "metadata": {},
     "output_type": "execute_result"
    }
   ],
   "source": [
    "model.evaluate(x_test, y_test, verbose=2)"
   ]
  },
  {
   "cell_type": "code",
   "execution_count": 15,
   "id": "8addbd83",
   "metadata": {},
   "outputs": [
    {
     "name": "stdout",
     "output_type": "stream",
     "text": [
      "\u001b[107m\u001b[31mEpoch: \u001b[0m 1\n",
      "Train Loss: 0.1177\n",
      "\u001b[107m\u001b[31mEpoch: \u001b[0m 2\n",
      "Train Loss: 0.1177\n",
      "\u001b[107m\u001b[31mEpoch: \u001b[0m 3\n",
      "Train Loss: 0.1177\n",
      "\u001b[107m\u001b[31mEpoch: \u001b[0m 4\n",
      "Train Loss: 0.1177\n",
      "\u001b[107m\u001b[31mEpoch: \u001b[0m 5\n",
      "Train Loss: 0.1177\n",
      "\u001b[107m\u001b[31mEpoch: \u001b[0m 6\n",
      "Train Loss: 0.1177\n",
      "\u001b[107m\u001b[31mEpoch: \u001b[0m 7\n",
      "Train Loss: 0.1177\n",
      "\u001b[107m\u001b[31mEpoch: \u001b[0m 8\n",
      "Train Loss: 0.1177\n",
      "\u001b[107m\u001b[31mEpoch: \u001b[0m 9\n",
      "Train Loss: 0.1177\n",
      "\u001b[107m\u001b[31mEpoch: \u001b[0m 10\n",
      "Train Loss: 0.1177\n"
     ]
    }
   ],
   "source": [
    "from termcolor import colored\n",
    "import tensorflow as tf\n",
    "\n",
    "class LinearPredictor(tf.keras.Model):\n",
    "    def __init__(self):\n",
    "        super(LinearPredictor, self).__init__()\n",
    "        self.d1 = tf.keras.layers.Dense(units=1, activation='linear')\n",
    "        \n",
    "    def call(self, x):\n",
    "        x = self.d1(x)\n",
    "        return x\n",
    "\n",
    "# 데이터 생성\n",
    "x_train = tf.random.normal(shape=(1000, 1), dtype=tf.float32)\n",
    "y_train = 3 * x_train + 1 + 0.2 * tf.random.normal(shape=(1000, 1), dtype=tf.float32)\n",
    "\n",
    "# 하이퍼파라미터 설정\n",
    "EPOCHS = 10\n",
    "LR = 0.01\n",
    "\n",
    "# 모델, 손실 함수, 옵티마이저 생성\n",
    "model = LinearPredictor()\n",
    "loss_object = tf.keras.losses.MeanSquaredError()\n",
    "optimizer = tf.keras.optimizers.SGD(learning_rate=LR)\n",
    "\n",
    "# 모델 훈련\n",
    "for epoch in range(EPOCHS):\n",
    "    for x, y in zip(x_train, y_train):\n",
    "        x = tf.expand_dims(x, axis=0)  # 배치 차원 추가\n",
    "        with tf.GradientTape() as tape:\n",
    "            predictions = model(x)\n",
    "            loss = loss_object(y, predictions)\n",
    "            \n",
    "        gradients = tape.gradient(loss, model.trainable_variables)\n",
    "        optimizer.apply_gradients(zip(gradients, model.trainable_variables))\n",
    "    \n",
    "    # 에포크마다 훈련 손실 출력\n",
    "    print(colored('Epoch: ', 'red', 'on_white'), epoch+1)\n",
    "    template = 'Train Loss: {:.4f}'  # 소수점 4자리까지 출력\n",
    "    print(template.format(loss.numpy()))"
   ]
  },
  {
   "cell_type": "code",
   "execution_count": null,
   "id": "2f9cc0a2",
   "metadata": {},
   "outputs": [],
   "source": []
  }
 ],
 "metadata": {
  "kernelspec": {
   "display_name": "Python 3 (ipykernel)",
   "language": "python",
   "name": "python3"
  },
  "language_info": {
   "codemirror_mode": {
    "name": "ipython",
    "version": 3
   },
   "file_extension": ".py",
   "mimetype": "text/x-python",
   "name": "python",
   "nbconvert_exporter": "python",
   "pygments_lexer": "ipython3",
   "version": "3.10.9"
  }
 },
 "nbformat": 4,
 "nbformat_minor": 5
}
