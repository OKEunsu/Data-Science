{
  "nbformat": 4,
  "nbformat_minor": 0,
  "metadata": {
    "colab": {
      "provenance": [],
      "authorship_tag": "ABX9TyPD6p1cN+b5z5VVkCtj95W4"
    },
    "kernelspec": {
      "name": "python3",
      "display_name": "Python 3"
    },
    "language_info": {
      "name": "python"
    }
  },
  "cells": [
    {
      "cell_type": "markdown",
      "source": [
        "정수 n이 주어질 때, n이하의 짝수를 모두 더한 값을 return 하도록 solution 함수를 작성해주세요.  \n",
        "제한사항\n",
        "0 < n ≤ 1000"
      ],
      "metadata": {
        "id": "IxZBuypxp1tZ"
      }
    },
    {
      "cell_type": "code",
      "source": [
        "import time\n",
        "import tracemalloc\n",
        "\n",
        "def measure_memory(func, n):\n",
        "    tracemalloc.start()\n",
        "    func(n)\n",
        "    current, peak = tracemalloc.get_traced_memory()\n",
        "    tracemalloc.stop()\n",
        "    return current, peak\n",
        "\n",
        "n = 10**6"
      ],
      "metadata": {
        "id": "y1o2fWl_qgqh"
      },
      "execution_count": 17,
      "outputs": []
    },
    {
      "cell_type": "code",
      "execution_count": 18,
      "metadata": {
        "id": "B0dJN2lLTkAL"
      },
      "outputs": [],
      "source": [
        "# 나의 풀이\n",
        "def solution(n):\n",
        "    answer = 0\n",
        "    for i in range(1,n+1):\n",
        "        if i % 2 == 0:\n",
        "            answer += i\n",
        "    return answer"
      ]
    },
    {
      "cell_type": "code",
      "source": [
        "start_time = time.time()\n",
        "solution(n)\n",
        "print(f\"Solution 실행 시간: {time.time() - start_time:.6f}초\")\n",
        "print(f\"Solution 메모리 사용량 : {measure_memory(solution, n)[0] / 1024:.2f} KB, 피크: {measure_memory(solution, n)[1] / 1024:.2f} KB\")"
      ],
      "metadata": {
        "colab": {
          "base_uri": "https://localhost:8080/"
        },
        "id": "j_POiwohUIgF",
        "outputId": "185805bb-683e-4fdf-bf9d-17479851022b"
      },
      "execution_count": 19,
      "outputs": [
        {
          "output_type": "stream",
          "name": "stdout",
          "text": [
            "Solution 실행 시간: 0.203861초\n",
            "Solution 메모리 사용량 : 25.74 KB, 피크: 73.77 KB\n"
          ]
        }
      ]
    },
    {
      "cell_type": "code",
      "source": [
        "# 리스트 컴프리헨션\n",
        "def solution(n):\n",
        "  return sum([i for i in range(2, n + 1, 2)])"
      ],
      "metadata": {
        "id": "CUDEC70AUUY0"
      },
      "execution_count": 20,
      "outputs": []
    },
    {
      "cell_type": "code",
      "source": [
        "start_time = time.time()\n",
        "solution(n)\n",
        "print(f\"Solution 실행 시간: {time.time() - start_time:.6f}초\")\n",
        "print(f\"Solution 메모리 사용량 : {measure_memory(solution, n)[0] / 1024:.2f} KB, 피크: {measure_memory(solution, n)[1] / 1024:.2f} KB\")"
      ],
      "metadata": {
        "colab": {
          "base_uri": "https://localhost:8080/"
        },
        "id": "oU-7MgupqUvZ",
        "outputId": "f39f9c24-c351-4b79-a008-38c232120072"
      },
      "execution_count": 21,
      "outputs": [
        {
          "output_type": "stream",
          "name": "stdout",
          "text": [
            "Solution 실행 시간: 0.049152초\n",
            "Solution 메모리 사용량 : 6.58 KB, 피크: 17749.24 KB\n"
          ]
        }
      ]
    },
    {
      "cell_type": "code",
      "source": [
        "# 등차수열의 합\n",
        "def solution(n):\n",
        "    return 2*(n//2)*((n//2)+1)/2"
      ],
      "metadata": {
        "id": "P4c0ek1Zr92l"
      },
      "execution_count": 22,
      "outputs": []
    },
    {
      "cell_type": "code",
      "source": [
        "start_time = time.time()\n",
        "solution(n)\n",
        "print(f\"Solution 실행 시간: {time.time() - start_time:.6f}초\")\n",
        "print(f\"Solution 메모리 사용량 : {measure_memory(solution, n)[0] / 1024:.2f} KB, 피크: {measure_memory(solution, n)[1] / 1024:.2f} KB\")"
      ],
      "metadata": {
        "colab": {
          "base_uri": "https://localhost:8080/"
        },
        "id": "cMkar_Mvr_z_",
        "outputId": "dcfd846d-b1a8-4d5d-fd34-4933061890c9"
      },
      "execution_count": 23,
      "outputs": [
        {
          "output_type": "stream",
          "name": "stdout",
          "text": [
            "Solution 실행 시간: 0.000178초\n",
            "Solution 메모리 사용량 : 0.00 KB, 피크: 0.09 KB\n"
          ]
        }
      ]
    }
  ]
}
