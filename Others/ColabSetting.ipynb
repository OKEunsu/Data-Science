{
  "nbformat": 4,
  "nbformat_minor": 0,
  "metadata": {
    "colab": {
      "provenance": [],
      "mount_file_id": "1cc4Ou2wi_GRgyxvXCX6ROfDAyRYsqRz-",
      "authorship_tag": "ABX9TyM68HdwOwv1LUn4IG0FAaQu",
      "include_colab_link": true
    },
    "kernelspec": {
      "name": "python3",
      "display_name": "Python 3"
    },
    "language_info": {
      "name": "python"
    }
  },
  "cells": [
    {
      "cell_type": "markdown",
      "metadata": {
        "id": "view-in-github",
        "colab_type": "text"
      },
      "source": [
        "<a href=\"https://colab.research.google.com/github/OKEunsu/Data-Science/blob/main/%ED%8C%8C%EC%9D%B4%EC%8D%AC%20%EA%B3%B5%EB%B6%80/Colab.ipynb\" target=\"_parent\"><img src=\"https://colab.research.google.com/assets/colab-badge.svg\" alt=\"Open In Colab\"/></a>"
      ]
    },
    {
      "cell_type": "code",
      "source": [
        "#@ Colab 한글 폰트 설정\n",
        "# 나눔고딕 다운\n",
        "!sudo apt-get install -y fonts-nanum\n",
        "!sudo fc-cache -fv\n",
        "!rm ~/.cache/matplotlib -rf\n",
        "\n",
        "import matplotlib.pyplot as plt\n",
        "from matplotlib import font_manager, rc\n",
        "\n",
        "# 나눔고딕 볼드체 폰트 경로\n",
        "font_path = \"/usr/share/fonts/truetype/nanum/NanumGothic.ttf\"\n",
        "\n",
        "# 나눔고딕 볼드체 폰트 등록\n",
        "font_manager.fontManager.addfont(font_path)\n",
        "rc('font', family='NanumGothic')\n",
        "\n",
        "# 시각화 코드\n",
        "plt.plot([1, 2, 3, 4])\n",
        "plt.title('한글 제목')\n",
        "plt.show()"
      ],
      "metadata": {
        "colab": {
          "base_uri": "https://localhost:8080/",
          "height": 1000
        },
        "id": "VhcjJFMtW472",
        "outputId": "7da9a344-8d27-4bef-e5a0-2407ca67355c"
      },
      "execution_count": 1,
      "outputs": [
        {
          "output_type": "stream",
          "name": "stdout",
          "text": [
            "Reading package lists... Done\n",
            "Building dependency tree... Done\n",
            "Reading state information... Done\n",
            "The following NEW packages will be installed:\n",
            "  fonts-nanum\n",
            "0 upgraded, 1 newly installed, 0 to remove and 49 not upgraded.\n",
            "Need to get 10.3 MB of archives.\n",
            "After this operation, 34.1 MB of additional disk space will be used.\n",
            "Get:1 http://archive.ubuntu.com/ubuntu jammy/universe amd64 fonts-nanum all 20200506-1 [10.3 MB]\n",
            "Fetched 10.3 MB in 1s (7,543 kB/s)\n",
            "debconf: unable to initialize frontend: Dialog\n",
            "debconf: (No usable dialog-like program is installed, so the dialog based frontend cannot be used. at /usr/share/perl5/Debconf/FrontEnd/Dialog.pm line 78, <> line 1.)\n",
            "debconf: falling back to frontend: Readline\n",
            "debconf: unable to initialize frontend: Readline\n",
            "debconf: (This frontend requires a controlling tty.)\n",
            "debconf: falling back to frontend: Teletype\n",
            "dpkg-preconfigure: unable to re-open stdin: \n",
            "Selecting previously unselected package fonts-nanum.\n",
            "(Reading database ... 123622 files and directories currently installed.)\n",
            "Preparing to unpack .../fonts-nanum_20200506-1_all.deb ...\n",
            "Unpacking fonts-nanum (20200506-1) ...\n",
            "Setting up fonts-nanum (20200506-1) ...\n",
            "Processing triggers for fontconfig (2.13.1-4.2ubuntu5) ...\n",
            "/usr/share/fonts: caching, new cache contents: 0 fonts, 1 dirs\n",
            "/usr/share/fonts/truetype: caching, new cache contents: 0 fonts, 3 dirs\n",
            "/usr/share/fonts/truetype/humor-sans: caching, new cache contents: 1 fonts, 0 dirs\n",
            "/usr/share/fonts/truetype/liberation: caching, new cache contents: 16 fonts, 0 dirs\n",
            "/usr/share/fonts/truetype/nanum: caching, new cache contents: 12 fonts, 0 dirs\n",
            "/usr/local/share/fonts: caching, new cache contents: 0 fonts, 0 dirs\n",
            "/root/.local/share/fonts: skipping, no such directory\n",
            "/root/.fonts: skipping, no such directory\n",
            "/usr/share/fonts/truetype: skipping, looped directory detected\n",
            "/usr/share/fonts/truetype/humor-sans: skipping, looped directory detected\n",
            "/usr/share/fonts/truetype/liberation: skipping, looped directory detected\n",
            "/usr/share/fonts/truetype/nanum: skipping, looped directory detected\n",
            "/var/cache/fontconfig: cleaning cache directory\n",
            "/root/.cache/fontconfig: not cleaning non-existent cache directory\n",
            "/root/.fontconfig: not cleaning non-existent cache directory\n",
            "fc-cache: succeeded\n"
          ]
        },
        {
          "output_type": "display_data",
          "data": {
            "text/plain": [
              "<Figure size 640x480 with 1 Axes>"
            ],
            "image/png": "[encoded data removed]"
          },
          "metadata": {}
        }
      ]
    },
    {
      "cell_type": "markdown",
      "source": [
        "# 코랩 한글 폰트 설정\n",
        "```\n",
        "function KeepClicking(){\n",
        "\n",
        "console.log(\"Clicking\");\n",
        "\n",
        "document.querySelector(\"colab-connect-button\").click()\n",
        "\n",
        "}\n",
        "\n",
        "setInterval(KeepClicking,60000)\n",
        "```"
      ],
      "metadata": {
        "id": "JgTl2FrLYB3d"
      }
    },
    {
      "cell_type": "markdown",
      "source": [
        "- 이는 런타임 유지를 위해 계속 페이지를 click할 수 있는 함수입니다. 60000으로 설정하면, colab-connect-button을 60초에 한번씩 클릭할 것입니다.\n",
        "- 코랩은 30분마다 runtime을 체크하니 30분 이하로만 숫자 60000을 변경해주셔도 상관없습니다! ( 1800000이 30분에 해당합니다.)\n",
        "\n",
        "**만약 오류가 발생할 경우 -**\n",
        "\n",
        "- 제 경우 저 코드가 잘 실행 되었으나, stack overflow를 보니 저 방법이 불가능한 분이 있으셨다고 합니다.\n",
        "- 그분은 다음과 같은 코드를 실행하였다고 하니 참고하시면 좋을 것 같습니다!\n",
        "\n",
        "**`document.querySelector(\"#connect\").click()` or**\n",
        "\n",
        "**`document.querySelector(\"colab-toolbar-button#connect\").click()` or**\n",
        "\n",
        "**`document.querySelector(\"colab-connect-button\").click()`**\n",
        "\n",
        "- 위의 코드가 포함되는 함수가 모두 오류가 날 경우,"
      ],
      "metadata": {
        "id": "xOot1h1kYbQ3"
      }
    },
    {
      "cell_type": "markdown",
      "source": [
        "```\n",
        "function ClickConnect(){\n",
        "  console.log(\"Connnect Clicked - Start\");\n",
        "  document.querySelector(\"#top-toolbar > colab-connect-button\").shadowRoot.querySelector(\"#connect\").click();\n",
        "  console.log(\"Connnect Clicked - End\");\n",
        "};\n",
        "setInterval(ClickConnect, 60000)\n",
        "```"
      ],
      "metadata": {
        "id": "1l-IimypYeIm"
      }
    },
    {
      "cell_type": "markdown",
      "source": [
        "- 위와 같은 코드를 통해 해결하였다고 합니다.\n",
        "- 관련하여 다른 내용은 [https://stackoverflow.com/questions/57113226/how-to-prevent-google-colab-from-disconnecting🔗](https://stackoverflow.com/questions/57113226/how-to-prevent-google-colab-from-disconnecting) 링크를 참조해주시면 좋을 것 같습니다!\n",
        "\n",
        "**Cf. GPU 환경일 때 가끔 runtime이 중단되는 이유**\n",
        "\n",
        "- Colab에서 런타임 -> 런타임 유형 변경 -> GPU로 설정하면 코랩 환경을 GPU로 설정할 수 있습니다\n",
        "- 먼저, GPU에 연결할 때 클라우드 시스템에서 한 번에 최대 **12시간**이 주어집니다.\n",
        "- 가끔 이런 12시간이 주어졌는데도 불구하고 runtime이 끊기는 경우가 있는데요\n",
        "- **Colab의 FAQ**에 의하면 **Colab은 interactive use를 위한 것이기 때문에, 특히 GPU에서 장시간 실행되는 경우 중단될 수 있다**고 합니다.\n",
        "은 도움이 되었으면 좋겠습니다!\n",
        "\n",
        "## 참고\n",
        "https://stackoverflow.com/questions/57113226/how-to-prevent-google-colab-from-disconnecting\n",
        "\n",
        "https://brother-big.tistory.com/11\n",
        "\n",
        "https://towardsdatascience.com/10-tips-for-a-better-google-colab-experience-33f8fe721b82"
      ],
      "metadata": {
        "id": "0SV3-R6jY0st"
      }
    },
    {
      "cell_type": "markdown",
      "source": [
        "# 코랩 Kaggle api 사용"
      ],
      "metadata": {
        "id": "3m-EoGl7Y_Ao"
      }
    },
    {
      "cell_type": "code",
      "source": [
        "%cd root # root로 이동\n",
        "!mkdir .kaggle # kaggle 파일 만들기\n",
        "!cp /content/drive/MyDrive/kaggle.json /root/.kaggle/kaggle.json # 파일 복사\n",
        "!chmod 600 /root/.kaggle/kaggle.json # 권한 설정"
      ],
      "metadata": {
        "id": "7PbVVNesXA2K"
      },
      "execution_count": null,
      "outputs": []
    }
  ]
}