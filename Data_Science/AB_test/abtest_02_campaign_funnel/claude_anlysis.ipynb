{
 "cells": [
  {
   "cell_type": "markdown",
   "id": "cell-0",
   "metadata": {},
   "source": [
    "# A/B Test Campaign Funnel Analysis\n",
    "## 📊 Statistical Analysis of Control vs Test Campaign Performance\n",
    "\n",
    "### Analysis Objectives:\n",
    "- Compare campaign performance between Control and Test groups\n",
    "- Statistical hypothesis testing for conversion rates\n",
    "- Funnel analysis to identify optimization opportunities\n",
    "- Data-driven recommendations for campaign strategy"
   ]
  },
  {
   "cell_type": "markdown",
   "id": "cell-1",
   "metadata": {},
   "source": [
    "## 1. Data Preparation & Quality Assessment"
   ]
  },
  {
   "cell_type": "code",
   "execution_count": 1,
   "id": "cell-2",
   "metadata": {},
   "outputs": [],
   "source": [
    "# Essential libraries for comprehensive data analysis\n",
    "import pandas as pd\n",
    "import numpy as np\n",
    "import matplotlib.pyplot as plt\n",
    "import seaborn as sns\n",
    "import plotly.express as px\n",
    "import plotly.graph_objects as go\n",
    "from plotly.subplots import make_subplots\n",
    "import warnings\n",
    "warnings.filterwarnings('ignore')\n",
    "\n",
    "# Statistical testing libraries\n",
    "from scipy import stats\n",
    "from scipy.stats import ttest_ind, mannwhitneyu, chi2_contingency\n",
    "import statsmodels.api as sm\n",
    "from statsmodels.stats.proportion import proportions_ztest, proportion_confint\n",
    "\n",
    "# Set style for better visualization\n",
    "plt.style.use('seaborn')\n",
    "sns.set_palette(\"husl\")\n",
    "pd.set_option('display.max_columns', None)\n",
    "pd.set_option('display.precision', 4)"
   ]
  },
  {
   "cell_type": "code",
   "execution_count": 2,
   "id": "cell-3",
   "metadata": {},
   "outputs": [
    {
     "name": "stdout",
     "output_type": "stream",
     "text": [
      "\n",
      "=== CONTROL CAMPAIGN DATA QUALITY ===\n",
      "\n",
      "📊 Dataset Shape: (30, 10)\n",
      "📅 Date Range: 2019-08-01 to 2019-08-30\n",
      "⏱️  Duration: 30 days\n",
      "\n",
      "🚨 Missing Data Detected:\n",
      "   impression: 1 rows (3.3%)\n",
      "   reach: 1 rows (3.3%)\n",
      "   click: 1 rows (3.3%)\n",
      "   search: 1 rows (3.3%)\n",
      "   view: 1 rows (3.3%)\n",
      "   cart: 1 rows (3.3%)\n",
      "   purchase: 1 rows (3.3%)\n",
      "\n",
      "📈 Key Metrics Summary:\n",
      "         spend  impression    click  purchase\n",
      "count    30.00       29.00    29.00     29.00\n",
      "mean   2288.43   109559.76  5320.79    522.79\n",
      "std     367.33    21688.92  1757.37    185.03\n",
      "min    1757.00    71274.00  2277.00    222.00\n",
      "25%    1945.50    92029.00  4085.00    372.00\n",
      "50%    2299.50   113430.00  5224.00    501.00\n",
      "75%    2532.00   121332.00  6628.00    670.00\n",
      "max    3083.00   145248.00  8137.00    800.00\n",
      "\n",
      "=== TEST CAMPAIGN DATA QUALITY ===\n",
      "\n",
      "📊 Dataset Shape: (30, 10)\n",
      "📅 Date Range: 2019-08-01 to 2019-08-30\n",
      "⏱️  Duration: 30 days\n",
      "\n",
      "✅ No missing data detected\n",
      "\n",
      "📈 Key Metrics Summary:\n",
      "         spend  impression    click  purchase\n",
      "count    30.00       30.00    30.00     30.00\n",
      "mean   2563.07    74584.80  6032.33    521.23\n",
      "std     348.69    32121.38  1708.57    211.05\n",
      "min    1968.00    22521.00  3038.00    238.00\n",
      "25%    2324.50    47541.25  4407.00    298.00\n",
      "50%    2584.00    68853.50  6242.50    500.00\n",
      "75%    2836.25    99500.00  7604.75    701.00\n",
      "max    3112.00   133771.00  8264.00    890.00\n"
     ]
    }
   ],
   "source": [
    "def load_and_preprocess_data():\n",
    "    \"\"\"\n",
    "    Load and preprocess campaign data with comprehensive data quality checks\n",
    "    \"\"\"\n",
    "    # Column mapping for consistent naming\n",
    "    column_names = ['campaign_name', 'date', 'spend', 'impression', 'reach', \n",
    "                   'click', 'search', 'view', 'cart', 'purchase']\n",
    "    \n",
    "    # Load Control Group\n",
    "    control_df = pd.read_csv(\"control_group.csv\", sep=\";\")\n",
    "    control_df['Date'] = pd.to_datetime(control_df['Date'], format='%d.%m.%Y')\n",
    "    control_df.columns = column_names\n",
    "    control_df['campaign_name'] = 'control'\n",
    "    \n",
    "    # Load Test Group  \n",
    "    test_df = pd.read_csv(\"test_group.csv\", sep=\";\")\n",
    "    test_df['Date'] = pd.to_datetime(test_df['Date'], format='%d.%m.%Y')\n",
    "    test_df.columns = column_names\n",
    "    test_df['campaign_name'] = 'test'\n",
    "    \n",
    "    return control_df, test_df\n",
    "\n",
    "def data_quality_assessment(df, campaign_name):\n",
    "    \"\"\"\n",
    "    Comprehensive data quality assessment\n",
    "    \"\"\"\n",
    "    print(f\"\\n=== {campaign_name.upper()} CAMPAIGN DATA QUALITY ===\\n\")\n",
    "    \n",
    "    # Basic info\n",
    "    print(f\"📊 Dataset Shape: {df.shape}\")\n",
    "    print(f\"📅 Date Range: {df['date'].min().strftime('%Y-%m-%d')} to {df['date'].max().strftime('%Y-%m-%d')}\")\n",
    "    print(f\"⏱️  Duration: {(df['date'].max() - df['date'].min()).days + 1} days\")\n",
    "    \n",
    "    # Missing data analysis\n",
    "    missing_data = df.isnull().sum()\n",
    "    missing_percent = 100 * missing_data / len(df)\n",
    "    \n",
    "    if missing_data.sum() > 0:\n",
    "        print(\"\\n🚨 Missing Data Detected:\")\n",
    "        for col in missing_data[missing_data > 0].index:\n",
    "            print(f\"   {col}: {missing_data[col]} rows ({missing_percent[col]:.1f}%)\")\n",
    "    else:\n",
    "        print(\"\\n✅ No missing data detected\")\n",
    "    \n",
    "    # Statistical summary for key metrics\n",
    "    key_metrics = ['spend', 'impression', 'click', 'purchase']\n",
    "    print(\"\\n📈 Key Metrics Summary:\")\n",
    "    summary_stats = df[key_metrics].describe()\n",
    "    print(summary_stats.round(2))\n",
    "    \n",
    "    return {\n",
    "        'missing_data': missing_data,\n",
    "        'summary_stats': summary_stats,\n",
    "        'date_range': (df['date'].min(), df['date'].max())\n",
    "    }\n",
    "\n",
    "# Load data\n",
    "control_df, test_df = load_and_preprocess_data()\n",
    "\n",
    "# Data quality assessment\n",
    "control_quality = data_quality_assessment(control_df, 'Control')\n",
    "test_quality = data_quality_assessment(test_df, 'Test')"
   ]
  },
  {
   "cell_type": "markdown",
   "id": "cell-4",
   "metadata": {},
   "source": [
    "## 2. Missing Data Treatment & Sensitivity Analysis\n",
    "### Multiple scenarios to test robustness of conclusions"
   ]
  },
  {
   "cell_type": "code",
   "execution_count": 3,
   "id": "cell-5",
   "metadata": {},
   "outputs": [
    {
     "name": "stdout",
     "output_type": "stream",
     "text": [
      "📋 Analysis Scenarios Created:\n",
      "   complete_cases: Control=29, Test=29, Total=58\n",
      "   median_fill: Control=30, Test=30, Total=60\n",
      "   mean_fill: Control=30, Test=30, Total=60\n",
      "\n",
      "✅ Primary analysis will use: complete_cases scenario\n",
      "📊 Final dataset shape: (58, 10)\n"
     ]
    }
   ],
   "source": [
    "def create_analysis_scenarios(control_df, test_df):\n",
    "    \"\"\"\n",
    "    Create multiple scenarios for sensitivity analysis\n",
    "    \"\"\"\n",
    "    scenarios = {}\n",
    "    \n",
    "    # Identify numeric columns\n",
    "    numeric_cols = control_df.select_dtypes(include=[np.number]).columns\n",
    "    \n",
    "    # Scenario 1: Remove rows with missing data\n",
    "    control_clean = control_df.dropna()\n",
    "    test_clean = test_df.dropna()\n",
    "    \n",
    "    # Only include dates present in both datasets\n",
    "    common_dates = set(control_clean['date']) & set(test_clean['date'])\n",
    "    control_s1 = control_clean[control_clean['date'].isin(common_dates)]\n",
    "    test_s1 = test_clean[test_clean['date'].isin(common_dates)]\n",
    "    \n",
    "    scenarios['complete_cases'] = pd.concat([control_s1, test_s1], ignore_index=True)\n",
    "    \n",
    "    # Scenario 2: Fill with median (more robust to outliers)\n",
    "    control_median = control_df.copy()\n",
    "    control_median[numeric_cols] = control_median[numeric_cols].fillna(control_median[numeric_cols].median())\n",
    "    scenarios['median_fill'] = pd.concat([control_median, test_df], ignore_index=True)\n",
    "    \n",
    "    # Scenario 3: Fill with mean\n",
    "    control_mean = control_df.copy()\n",
    "    control_mean[numeric_cols] = control_mean[numeric_cols].fillna(control_mean[numeric_cols].mean())\n",
    "    scenarios['mean_fill'] = pd.concat([control_mean, test_df], ignore_index=True)\n",
    "    \n",
    "    return scenarios\n",
    "\n",
    "# Create analysis scenarios\n",
    "analysis_scenarios = create_analysis_scenarios(control_df, test_df)\n",
    "\n",
    "print(\"📋 Analysis Scenarios Created:\")\n",
    "for name, df in analysis_scenarios.items():\n",
    "    control_rows = len(df[df['campaign_name'] == 'control'])\n",
    "    test_rows = len(df[df['campaign_name'] == 'test'])\n",
    "    print(f\"   {name}: Control={control_rows}, Test={test_rows}, Total={len(df)}\")\n",
    "\n",
    "# Use the most conservative scenario (complete cases) for primary analysis\n",
    "primary_df = analysis_scenarios['complete_cases'].copy()\n",
    "print(f\"\\n✅ Primary analysis will use: complete_cases scenario\")\n",
    "print(f\"📊 Final dataset shape: {primary_df.shape}\")"
   ]
  },
  {
   "cell_type": "markdown",
   "id": "cell-6",
   "metadata": {},
   "source": [
    "## 3. Exploratory Data Analysis & Campaign Overview"
   ]
  },
  {
   "cell_type": "code",
   "execution_count": 4,
   "id": "cell-7",
   "metadata": {},
   "outputs": [
    {
     "name": "stdout",
     "output_type": "stream",
     "text": [
      "\n",
      "============================================================\n",
      "           📊 CAMPAIGN PERFORMANCE OVERVIEW\n",
      "============================================================\n",
      "\n",
      "🎯 Campaign Summary Statistics:\n",
      "               spend                  impression                click  \\\n",
      "                 sum     mean     std        sum       mean       sum   \n",
      "campaign_name                                                           \n",
      "control        66818  2304.07  363.53  3177233.0  109559.76  154303.0   \n",
      "test           74595  2572.24  351.16  2123249.0   73215.48  175107.0   \n",
      "\n",
      "                         search              view              cart           \\\n",
      "                  mean      sum     mean      sum     mean      sum     mean   \n",
      "campaign_name                                                                  \n",
      "control        5320.79  64418.0  2221.31  56370.0  1943.79  37700.0  1300.00   \n",
      "test           6038.17  70463.0  2429.76  54882.0  1892.48  25490.0   878.97   \n",
      "\n",
      "              purchase          \n",
      "                   sum    mean  \n",
      "campaign_name                   \n",
      "control        15161.0  522.79  \n",
      "test           14869.0  512.72  \n",
      "\n",
      "📈 Key Performance Indicators:\n",
      "                  CTR    CPC      CPM     CPA  Conversion_Rate  View_to_Cart  \\\n",
      "campaign_name                                                                  \n",
      "control        4.8565  0.433  21.0302  4.4072           9.8255       66.8795   \n",
      "test           8.2471  0.426  35.1325  5.0168           8.4914       46.4451   \n",
      "\n",
      "               Cart_to_Purchase  ROAS_Proxy  \n",
      "campaign_name                                \n",
      "control                 40.2149      0.2269  \n",
      "test                    58.3327      0.1993  \n"
     ]
    }
   ],
   "source": [
    "def comprehensive_eda(df):\n",
    "    \"\"\"\n",
    "    Comprehensive exploratory data analysis for campaign performance\n",
    "    \"\"\"\n",
    "    print(\"\\n\" + \"=\"*60)\n",
    "    print(\"           📊 CAMPAIGN PERFORMANCE OVERVIEW\")\n",
    "    print(\"=\"*60)\n",
    "    \n",
    "    # Campaign-level aggregated metrics\n",
    "    campaign_summary = df.groupby('campaign_name').agg({\n",
    "        'spend': ['sum', 'mean', 'std'],\n",
    "        'impression': ['sum', 'mean'],\n",
    "        'click': ['sum', 'mean'],\n",
    "        'search': ['sum', 'mean'],\n",
    "        'view': ['sum', 'mean'],\n",
    "        'cart': ['sum', 'mean'],\n",
    "        'purchase': ['sum', 'mean']\n",
    "    }).round(2)\n",
    "    \n",
    "    print(\"\\n🎯 Campaign Summary Statistics:\")\n",
    "    print(campaign_summary)\n",
    "    \n",
    "    # Calculate key performance indicators\n",
    "    kpi_summary = df.groupby('campaign_name').apply(calculate_kpis).round(4)\n",
    "    print(\"\\n📈 Key Performance Indicators:\")\n",
    "    print(kpi_summary)\n",
    "    \n",
    "    return campaign_summary, kpi_summary\n",
    "\n",
    "def calculate_kpis(group_df):\n",
    "    \"\"\"\n",
    "    Calculate comprehensive KPIs for campaign analysis\n",
    "    \"\"\"\n",
    "    total_spend = group_df['spend'].sum()\n",
    "    total_impressions = group_df['impression'].sum()\n",
    "    total_clicks = group_df['click'].sum()\n",
    "    total_purchases = group_df['purchase'].sum()\n",
    "    total_views = group_df['view'].sum()\n",
    "    total_carts = group_df['cart'].sum()\n",
    "    \n",
    "    return pd.Series({\n",
    "        'CTR': (total_clicks / total_impressions) * 100,  # Click-through rate (%)\n",
    "        'CPC': total_spend / total_clicks,  # Cost per click\n",
    "        'CPM': (total_spend / total_impressions) * 1000,  # Cost per mille\n",
    "        'CPA': total_spend / total_purchases,  # Cost per acquisition\n",
    "        'Conversion_Rate': (total_purchases / total_clicks) * 100,  # Purchase conversion rate (%)\n",
    "        'View_to_Cart': (total_carts / total_views) * 100,  # View to cart rate (%)\n",
    "        'Cart_to_Purchase': (total_purchases / total_carts) * 100,  # Cart to purchase rate (%)\n",
    "        'ROAS_Proxy': total_purchases / total_spend,  # Purchases per dollar spent\n",
    "    })\n",
    "\n",
    "# Perform comprehensive EDA\n",
    "campaign_summary, kpi_summary = comprehensive_eda(primary_df)"
   ]
  },
  {
   "cell_type": "markdown",
   "id": "cell-8",
   "metadata": {},
   "source": [
    "## 4. Statistical Hypothesis Testing Framework"
   ]
  },
  {
   "cell_type": "code",
   "execution_count": 5,
   "id": "cell-9",
   "metadata": {},
   "outputs": [
    {
     "name": "stdout",
     "output_type": "stream",
     "text": [
      "\n",
      "============================================================\n",
      "           🔬 STATISTICAL HYPOTHESIS TESTING\n",
      "============================================================\n",
      "Significance Level (α): 0.05\n",
      "\n",
      "🎯 PRIMARY METRIC: Purchase Conversion Rate\n",
      "   Control Rate: 0.0983 (9.83%)\n",
      "   Test Rate: 0.0849 (8.49%)\n",
      "   Lift: -13.58%\n",
      "   Z-statistic: 13.2741\n",
      "   P-value: 0.000000\n",
      "   Significant: ✅ YES (α = 0.05)\n",
      "\n",
      "💰 SECONDARY METRIC: Cost Per Acquisition\n",
      "   Control CPA: $4.41\n",
      "   Test CPA: $5.02\n",
      "   Change: +13.83%\n",
      "   Test Used: Mann-Whitney U test\n",
      "   P-value: 0.196788\n",
      "   Significant: ❌ NO\n",
      "\n",
      "👆 ENGAGEMENT METRIC: Click-Through Rate\n",
      "   Control CTR: 0.0486 (4.86%)\n",
      "   Test CTR: 0.0825 (8.25%)\n",
      "   Lift: +69.82%\n",
      "   P-value: 0.000000\n",
      "   Significant: ✅ YES\n"
     ]
    }
   ],
   "source": [
    "def statistical_testing_suite(df, alpha=0.05):\n",
    "    \"\"\"\n",
    "    Comprehensive statistical testing framework for A/B testing\n",
    "    \"\"\"\n",
    "    print(\"\\n\" + \"=\"*60)\n",
    "    print(\"           🔬 STATISTICAL HYPOTHESIS TESTING\")\n",
    "    print(\"=\"*60)\n",
    "    print(f\"Significance Level (α): {alpha}\")\n",
    "    \n",
    "    control_data = df[df['campaign_name'] == 'control']\n",
    "    test_data = df[df['campaign_name'] == 'test']\n",
    "    \n",
    "    results = {}\n",
    "    \n",
    "    # 1. Purchase Conversion Rate Test (Primary Metric)\n",
    "    print(\"\\n🎯 PRIMARY METRIC: Purchase Conversion Rate\")\n",
    "    control_conversions = control_data['purchase'].sum()\n",
    "    control_clicks = control_data['click'].sum()\n",
    "    test_conversions = test_data['purchase'].sum()\n",
    "    test_clicks = test_data['click'].sum()\n",
    "    \n",
    "    # Two-proportion z-test for conversion rates\n",
    "    count = np.array([control_conversions, test_conversions])\n",
    "    nobs = np.array([control_clicks, test_clicks])\n",
    "    \n",
    "    z_stat, p_value = proportions_ztest(count, nobs)\n",
    "    \n",
    "    # Confidence intervals\n",
    "    control_ci = proportion_confint(control_conversions, control_clicks, alpha=alpha)\n",
    "    test_ci = proportion_confint(test_conversions, test_clicks, alpha=alpha)\n",
    "    \n",
    "    control_rate = control_conversions / control_clicks\n",
    "    test_rate = test_conversions / test_clicks\n",
    "    lift = (test_rate - control_rate) / control_rate * 100\n",
    "    \n",
    "    results['conversion_rate'] = {\n",
    "        'control_rate': control_rate,\n",
    "        'test_rate': test_rate,\n",
    "        'lift_percent': lift,\n",
    "        'z_statistic': z_stat,\n",
    "        'p_value': p_value,\n",
    "        'significant': p_value < alpha,\n",
    "        'control_ci': control_ci,\n",
    "        'test_ci': test_ci\n",
    "    }\n",
    "    \n",
    "    print(f\"   Control Rate: {control_rate:.4f} ({control_rate*100:.2f}%)\")\n",
    "    print(f\"   Test Rate: {test_rate:.4f} ({test_rate*100:.2f}%)\")\n",
    "    print(f\"   Lift: {lift:+.2f}%\")\n",
    "    print(f\"   Z-statistic: {z_stat:.4f}\")\n",
    "    print(f\"   P-value: {p_value:.6f}\")\n",
    "    print(f\"   Significant: {'✅ YES' if p_value < alpha else '❌ NO'} (α = {alpha})\")\n",
    "    \n",
    "    # 2. Cost Per Acquisition Test\n",
    "    print(\"\\n💰 SECONDARY METRIC: Cost Per Acquisition\")\n",
    "    control_cpa = control_data['spend'].sum() / control_conversions\n",
    "    test_cpa = test_data['spend'].sum() / test_conversions\n",
    "    \n",
    "    # Daily CPA for statistical testing\n",
    "    control_daily_cpa = (control_data['spend'] / control_data['purchase']).replace([np.inf, -np.inf], np.nan).dropna()\n",
    "    test_daily_cpa = (test_data['spend'] / test_data['purchase']).replace([np.inf, -np.inf], np.nan).dropna()\n",
    "    \n",
    "    if len(control_daily_cpa) > 1 and len(test_daily_cpa) > 1:\n",
    "        # Check normality\n",
    "        control_normal = stats.shapiro(control_daily_cpa)[1] > 0.05\n",
    "        test_normal = stats.shapiro(test_daily_cpa)[1] > 0.05\n",
    "        \n",
    "        if control_normal and test_normal:\n",
    "            stat, p_val = stats.ttest_ind(control_daily_cpa, test_daily_cpa)\n",
    "            test_type = \"Independent t-test\"\n",
    "        else:\n",
    "            stat, p_val = stats.mannwhitneyu(control_daily_cpa, test_daily_cpa)\n",
    "            test_type = \"Mann-Whitney U test\"\n",
    "        \n",
    "        cpa_lift = (test_cpa - control_cpa) / control_cpa * 100\n",
    "        \n",
    "        results['cpa'] = {\n",
    "            'control_cpa': control_cpa,\n",
    "            'test_cpa': test_cpa,\n",
    "            'lift_percent': cpa_lift,\n",
    "            'test_type': test_type,\n",
    "            'statistic': stat,\n",
    "            'p_value': p_val,\n",
    "            'significant': p_val < alpha\n",
    "        }\n",
    "        \n",
    "        print(f\"   Control CPA: ${control_cpa:.2f}\")\n",
    "        print(f\"   Test CPA: ${test_cpa:.2f}\")\n",
    "        print(f\"   Change: {cpa_lift:+.2f}%\")\n",
    "        print(f\"   Test Used: {test_type}\")\n",
    "        print(f\"   P-value: {p_val:.6f}\")\n",
    "        print(f\"   Significant: {'✅ YES' if p_val < alpha else '❌ NO'}\")\n",
    "    \n",
    "    # 3. Click-Through Rate Test\n",
    "    print(\"\\n👆 ENGAGEMENT METRIC: Click-Through Rate\")\n",
    "    control_impressions = control_data['impression'].sum()\n",
    "    test_impressions = test_data['impression'].sum()\n",
    "    \n",
    "    ctr_count = np.array([control_clicks, test_clicks])\n",
    "    ctr_nobs = np.array([control_impressions, test_impressions])\n",
    "    \n",
    "    ctr_z_stat, ctr_p_value = proportions_ztest(ctr_count, ctr_nobs)\n",
    "    \n",
    "    control_ctr = control_clicks / control_impressions\n",
    "    test_ctr = test_clicks / test_impressions\n",
    "    ctr_lift = (test_ctr - control_ctr) / control_ctr * 100\n",
    "    \n",
    "    results['ctr'] = {\n",
    "        'control_ctr': control_ctr,\n",
    "        'test_ctr': test_ctr,\n",
    "        'lift_percent': ctr_lift,\n",
    "        'z_statistic': ctr_z_stat,\n",
    "        'p_value': ctr_p_value,\n",
    "        'significant': ctr_p_value < alpha\n",
    "    }\n",
    "    \n",
    "    print(f\"   Control CTR: {control_ctr:.4f} ({control_ctr*100:.2f}%)\")\n",
    "    print(f\"   Test CTR: {test_ctr:.4f} ({test_ctr*100:.2f}%)\")\n",
    "    print(f\"   Lift: {ctr_lift:+.2f}%\")\n",
    "    print(f\"   P-value: {ctr_p_value:.6f}\")\n",
    "    print(f\"   Significant: {'✅ YES' if ctr_p_value < alpha else '❌ NO'}\")\n",
    "    \n",
    "    return results\n",
    "\n",
    "# Perform statistical testing\n",
    "test_results = statistical_testing_suite(primary_df)"
   ]
  },
  {
   "cell_type": "markdown",
   "id": "cell-10",
   "metadata": {},
   "source": [
    "## 5. Funnel Analysis & Conversion Path Optimization"
   ]
  },
  {
   "cell_type": "code",
   "execution_count": 6,
   "id": "cell-11",
   "metadata": {},
   "outputs": [
    {
     "name": "stdout",
     "output_type": "stream",
     "text": [
      "\n",
      "============================================================\n",
      "           🔄 CAMPAIGN FUNNEL ANALYSIS\n",
      "============================================================\n",
      "\n",
      "📊 Funnel Conversion Rates:\n",
      "\n",
      "--------------------------------------------------------------------------------\n",
      "\n",
      "🎯 CONTROL CAMPAIGN:\n",
      "   Impressions → Clicks:      4.86%  (3,177,233 → 154,303)\n",
      "   Clicks → Searches:        41.75%  (154,303 → 64,418)\n",
      "   Searches → Views:         87.51%  (64,418 → 56,370)\n",
      "   Views → Carts:            66.88%  (56,370 → 37,700)\n",
      "   Carts → Purchases:        40.21%  (37,700 → 15,161)\n",
      "   --------------------------------------------------\n",
      "   Overall Conversion:      0.4772%  (3,177,233 → 15,161)\n",
      "\n",
      "🎯 TEST CAMPAIGN:\n",
      "   Impressions → Clicks:      8.25%  (2,123,249 → 175,107)\n",
      "   Clicks → Searches:        40.24%  (175,107 → 70,463)\n",
      "   Searches → Views:         77.89%  (70,463 → 54,882)\n",
      "   Views → Carts:            46.45%  (54,882 → 25,490)\n",
      "   Carts → Purchases:        58.33%  (25,490 → 14,869)\n",
      "   --------------------------------------------------\n",
      "   Overall Conversion:      0.7003%  (2,123,249 → 14,869)\n",
      "\n",
      "🚀 FUNNEL STEP PERFORMANCE COMPARISON:\n",
      "\n",
      "--------------------------------------------------------------------------------\n",
      "Impression → Click   | Control:   4.86% | Test:   8.25% | Lift:  +69.8% | 🟢 TEST\n",
      "Click → Search       | Control:  41.75% | Test:  40.24% | Lift:   -3.6% | 🔴 CONTROL\n",
      "Search → View        | Control:  87.51% | Test:  77.89% | Lift:  -11.0% | 🔴 CONTROL\n",
      "View → Cart          | Control:  66.88% | Test:  46.45% | Lift:  -30.6% | 🔴 CONTROL\n",
      "Cart → Purchase      | Control:  40.21% | Test:  58.33% | Lift:  +45.1% | 🟢 TEST\n",
      "Overall Conversion   | Control:   0.48% | Test:   0.70% | Lift:  +46.8% | 🟢 TEST\n"
     ]
    }
   ],
   "source": [
    "def funnel_analysis(df):\n",
    "    \"\"\"\n",
    "    Comprehensive funnel analysis with step-by-step conversion rates\n",
    "    \"\"\"\n",
    "    print(\"\\n\" + \"=\"*60)\n",
    "    print(\"           🔄 CAMPAIGN FUNNEL ANALYSIS\")\n",
    "    print(\"=\"*60)\n",
    "    \n",
    "    # Aggregate funnel metrics by campaign\n",
    "    funnel_data = df.groupby('campaign_name').agg({\n",
    "        'impression': 'sum',\n",
    "        'click': 'sum', \n",
    "        'search': 'sum',\n",
    "        'view': 'sum',\n",
    "        'cart': 'sum',\n",
    "        'purchase': 'sum'\n",
    "    }).reset_index()\n",
    "    \n",
    "    # Calculate conversion rates for each step\n",
    "    def calculate_funnel_rates(row):\n",
    "        rates = {\n",
    "            'campaign': row['campaign_name'],\n",
    "            'impressions': int(row['impression']),\n",
    "            'clicks': int(row['click']),\n",
    "            'searches': int(row['search']),\n",
    "            'views': int(row['view']),\n",
    "            'carts': int(row['cart']),\n",
    "            'purchases': int(row['purchase']),\n",
    "            \n",
    "            # Conversion rates\n",
    "            'impression_to_click': row['click'] / row['impression'],\n",
    "            'click_to_search': row['search'] / row['click'],\n",
    "            'search_to_view': row['view'] / row['search'],\n",
    "            'view_to_cart': row['cart'] / row['view'],\n",
    "            'cart_to_purchase': row['purchase'] / row['cart'],\n",
    "            \n",
    "            # Overall conversion rate\n",
    "            'overall_conversion': row['purchase'] / row['impression']\n",
    "        }\n",
    "        return pd.Series(rates)\n",
    "    \n",
    "    funnel_rates = funnel_data.apply(calculate_funnel_rates, axis=1)\n",
    "    \n",
    "    print(\"\\n📊 Funnel Conversion Rates:\")\n",
    "    print(\"\\n\" + \"-\"*80)\n",
    "    \n",
    "    for _, row in funnel_rates.iterrows():\n",
    "        campaign = row['campaign'].upper()\n",
    "        print(f\"\\n🎯 {campaign} CAMPAIGN:\")\n",
    "        print(f\"   Impressions → Clicks:    {row['impression_to_click']*100:6.2f}%  ({row['impressions']:,} → {row['clicks']:,})\")\n",
    "        print(f\"   Clicks → Searches:       {row['click_to_search']*100:6.2f}%  ({row['clicks']:,} → {row['searches']:,})\")\n",
    "        print(f\"   Searches → Views:        {row['search_to_view']*100:6.2f}%  ({row['searches']:,} → {row['views']:,})\")\n",
    "        print(f\"   Views → Carts:           {row['view_to_cart']*100:6.2f}%  ({row['views']:,} → {row['carts']:,})\")\n",
    "        print(f\"   Carts → Purchases:       {row['cart_to_purchase']*100:6.2f}%  ({row['carts']:,} → {row['purchases']:,})\")\n",
    "        print(f\"   \" + \"-\"*50)\n",
    "        print(f\"   Overall Conversion:      {row['overall_conversion']*100:6.4f}%  ({row['impressions']:,} → {row['purchases']:,})\")\n",
    "    \n",
    "    # Calculate lift for each funnel step\n",
    "    control_row = funnel_rates[funnel_rates['campaign'] == 'control'].iloc[0]\n",
    "    test_row = funnel_rates[funnel_rates['campaign'] == 'test'].iloc[0]\n",
    "    \n",
    "    print(\"\\n🚀 FUNNEL STEP PERFORMANCE COMPARISON:\")\n",
    "    print(\"\\n\" + \"-\"*80)\n",
    "    \n",
    "    funnel_steps = [\n",
    "        ('Impression → Click', 'impression_to_click'),\n",
    "        ('Click → Search', 'click_to_search'),\n",
    "        ('Search → View', 'search_to_view'),\n",
    "        ('View → Cart', 'view_to_cart'),\n",
    "        ('Cart → Purchase', 'cart_to_purchase'),\n",
    "        ('Overall Conversion', 'overall_conversion')\n",
    "    ]\n",
    "    \n",
    "    funnel_comparison = []\n",
    "    \n",
    "    for step_name, metric in funnel_steps:\n",
    "        control_rate = control_row[metric]\n",
    "        test_rate = test_row[metric]\n",
    "        lift = (test_rate - control_rate) / control_rate * 100 if control_rate > 0 else 0\n",
    "        \n",
    "        better = '🟢 TEST' if test_rate > control_rate else '🔴 CONTROL'\n",
    "        \n",
    "        funnel_comparison.append({\n",
    "            'step': step_name,\n",
    "            'control_rate': control_rate,\n",
    "            'test_rate': test_rate,\n",
    "            'lift': lift,\n",
    "            'better_performer': better\n",
    "        })\n",
    "        \n",
    "        print(f\"{step_name:20} | Control: {control_rate*100:6.2f}% | Test: {test_rate*100:6.2f}% | Lift: {lift:+6.1f}% | {better}\")\n",
    "    \n",
    "    return funnel_rates, pd.DataFrame(funnel_comparison)\n",
    "\n",
    "# Perform funnel analysis\n",
    "funnel_rates, funnel_comparison = funnel_analysis(primary_df)"
   ]
  },
  {
   "cell_type": "markdown",
   "id": "cell-12",
   "metadata": {},
   "source": [
    "## 6. Advanced Visualizations"
   ]
  },
  {
   "cell_type": "code",
   "execution_count": 7,
   "id": "cell-13",
   "metadata": {},
   "outputs": [
    {
     "data": {
      "application/vnd.plotly.v1+json": {
       "config": {
        "plotlyServerURL": "https://plot.ly"
       },
       "data": [
        {
         "marker": {
          "color": "lightblue"
         },
         "name": "Control",
         "type": "funnel",
         "x": [
          3177233,
          154303,
          64418,
          56370,
          37700,
          15161
         ],
         "xaxis": "x",
         "y": [
          "Impressions",
          "Clicks",
          "Searches",
          "Views",
          "Carts",
          "Purchases"
         ],
         "yaxis": "y"
        },
        {
         "marker": {
          "color": "lightcoral"
         },
         "name": "Test",
         "type": "funnel",
         "x": [
          2123249,
          175107,
          70463,
          54882,
          25490,
          14869
         ],
         "xaxis": "x2",
         "y": [
          "Impressions",
          "Clicks",
          "Searches",
          "Views",
          "Carts",
          "Purchases"
         ],
         "yaxis": "y2"
        }
       ],
       "layout": {
        "annotations": [
         {
          "font": {
           "size": 16
          },
          "showarrow": false,
          "text": "Control Campaign Funnel",
          "x": 0.225,
          "xanchor": "center",
          "xref": "paper",
          "y": 1,
          "yanchor": "bottom",
          "yref": "paper"
         },
         {
          "font": {
           "size": 16
          },
          "showarrow": false,
          "text": "Test Campaign Funnel",
          "x": 0.775,
          "xanchor": "center",
          "xref": "paper",
          "y": 1,
          "yanchor": "bottom",
          "yref": "paper"
         }
        ],
        "height": 500,
        "template": {
         "data": {
          "bar": [
           {
            "error_x": {
             "color": "#2a3f5f"
            },
            "error_y": {
             "color": "#2a3f5f"
            },
            "marker": {
             "line": {
              "color": "#E5ECF6",
              "width": 0.5
             },
             "pattern": {
              "fillmode": "overlay",
              "size": 10,
              "solidity": 0.2
             }
            },
            "type": "bar"
           }
          ],
          "barpolar": [
           {
            "marker": {
             "line": {
              "color": "#E5ECF6",
              "width": 0.5
             },
             "pattern": {
              "fillmode": "overlay",
              "size": 10,
              "solidity": 0.2
             }
            },
            "type": "barpolar"
           }
          ],
          "carpet": [
           {
            "aaxis": {
             "endlinecolor": "#2a3f5f",
             "gridcolor": "white",
             "linecolor": "white",
             "minorgridcolor": "white",
             "startlinecolor": "#2a3f5f"
            },
            "baxis": {
             "endlinecolor": "#2a3f5f",
             "gridcolor": "white",
             "linecolor": "white",
             "minorgridcolor": "white",
             "startlinecolor": "#2a3f5f"
            },
            "type": "carpet"
           }
          ],
          "choropleth": [
           {
            "colorbar": {
             "outlinewidth": 0,
             "ticks": ""
            },
            "type": "choropleth"
           }
          ],
          "contour": [
           {
            "colorbar": {
             "outlinewidth": 0,
             "ticks": ""
            },
            "colorscale": [
             [
              0,
              "#0d0887"
             ],
             [
              0.1111111111111111,
              "#46039f"
             ],
             [
              0.2222222222222222,
              "#7201a8"
             ],
             [
              0.3333333333333333,
              "#9c179e"
             ],
             [
              0.4444444444444444,
              "#bd3786"
             ],
             [
              0.5555555555555556,
              "#d8576b"
             ],
             [
              0.6666666666666666,
              "#ed7953"
             ],
             [
              0.7777777777777778,
              "#fb9f3a"
             ],
             [
              0.8888888888888888,
              "#fdca26"
             ],
             [
              1,
              "#f0f921"
             ]
            ],
            "type": "contour"
           }
          ],
          "contourcarpet": [
           {
            "colorbar": {
             "outlinewidth": 0,
             "ticks": ""
            },
            "type": "contourcarpet"
           }
          ],
          "heatmap": [
           {
            "colorbar": {
             "outlinewidth": 0,
             "ticks": ""
            },
            "colorscale": [
             [
              0,
              "#0d0887"
             ],
             [
              0.1111111111111111,
              "#46039f"
             ],
             [
              0.2222222222222222,
              "#7201a8"
             ],
             [
              0.3333333333333333,
              "#9c179e"
             ],
             [
              0.4444444444444444,
              "#bd3786"
             ],
             [
              0.5555555555555556,
              "#d8576b"
             ],
             [
              0.6666666666666666,
              "#ed7953"
             ],
             [
              0.7777777777777778,
              "#fb9f3a"
             ],
             [
              0.8888888888888888,
              "#fdca26"
             ],
             [
              1,
              "#f0f921"
             ]
            ],
            "type": "heatmap"
           }
          ],
          "histogram": [
           {
            "marker": {
             "pattern": {
              "fillmode": "overlay",
              "size": 10,
              "solidity": 0.2
             }
            },
            "type": "histogram"
           }
          ],
          "histogram2d": [
           {
            "colorbar": {
             "outlinewidth": 0,
             "ticks": ""
            },
            "colorscale": [
             [
              0,
              "#0d0887"
             ],
             [
              0.1111111111111111,
              "#46039f"
             ],
             [
              0.2222222222222222,
              "#7201a8"
             ],
             [
              0.3333333333333333,
              "#9c179e"
             ],
             [
              0.4444444444444444,
              "#bd3786"
             ],
             [
              0.5555555555555556,
              "#d8576b"
             ],
             [
              0.6666666666666666,
              "#ed7953"
             ],
             [
              0.7777777777777778,
              "#fb9f3a"
             ],
             [
              0.8888888888888888,
              "#fdca26"
             ],
             [
              1,
              "#f0f921"
             ]
            ],
            "type": "histogram2d"
           }
          ],
          "histogram2dcontour": [
           {
            "colorbar": {
             "outlinewidth": 0,
             "ticks": ""
            },
            "colorscale": [
             [
              0,
              "#0d0887"
             ],
             [
              0.1111111111111111,
              "#46039f"
             ],
             [
              0.2222222222222222,
              "#7201a8"
             ],
             [
              0.3333333333333333,
              "#9c179e"
             ],
             [
              0.4444444444444444,
              "#bd3786"
             ],
             [
              0.5555555555555556,
              "#d8576b"
             ],
             [
              0.6666666666666666,
              "#ed7953"
             ],
             [
              0.7777777777777778,
              "#fb9f3a"
             ],
             [
              0.8888888888888888,
              "#fdca26"
             ],
             [
              1,
              "#f0f921"
             ]
            ],
            "type": "histogram2dcontour"
           }
          ],
          "mesh3d": [
           {
            "colorbar": {
             "outlinewidth": 0,
             "ticks": ""
            },
            "type": "mesh3d"
           }
          ],
          "parcoords": [
           {
            "line": {
             "colorbar": {
              "outlinewidth": 0,
              "ticks": ""
             }
            },
            "type": "parcoords"
           }
          ],
          "pie": [
           {
            "automargin": true,
            "type": "pie"
           }
          ],
          "scatter": [
           {
            "fillpattern": {
             "fillmode": "overlay",
             "size": 10,
             "solidity": 0.2
            },
            "type": "scatter"
           }
          ],
          "scatter3d": [
           {
            "line": {
             "colorbar": {
              "outlinewidth": 0,
              "ticks": ""
             }
            },
            "marker": {
             "colorbar": {
              "outlinewidth": 0,
              "ticks": ""
             }
            },
            "type": "scatter3d"
           }
          ],
          "scattercarpet": [
           {
            "marker": {
             "colorbar": {
              "outlinewidth": 0,
              "ticks": ""
             }
            },
            "type": "scattercarpet"
           }
          ],
          "scattergeo": [
           {
            "marker": {
             "colorbar": {
              "outlinewidth": 0,
              "ticks": ""
             }
            },
            "type": "scattergeo"
           }
          ],
          "scattergl": [
           {
            "marker": {
             "colorbar": {
              "outlinewidth": 0,
              "ticks": ""
             }
            },
            "type": "scattergl"
           }
          ],
          "scattermap": [
           {
            "marker": {
             "colorbar": {
              "outlinewidth": 0,
              "ticks": ""
             }
            },
            "type": "scattermap"
           }
          ],
          "scattermapbox": [
           {
            "marker": {
             "colorbar": {
              "outlinewidth": 0,
              "ticks": ""
             }
            },
            "type": "scattermapbox"
           }
          ],
          "scatterpolar": [
           {
            "marker": {
             "colorbar": {
              "outlinewidth": 0,
              "ticks": ""
             }
            },
            "type": "scatterpolar"
           }
          ],
          "scatterpolargl": [
           {
            "marker": {
             "colorbar": {
              "outlinewidth": 0,
              "ticks": ""
             }
            },
            "type": "scatterpolargl"
           }
          ],
          "scatterternary": [
           {
            "marker": {
             "colorbar": {
              "outlinewidth": 0,
              "ticks": ""
             }
            },
            "type": "scatterternary"
           }
          ],
          "surface": [
           {
            "colorbar": {
             "outlinewidth": 0,
             "ticks": ""
            },
            "colorscale": [
             [
              0,
              "#0d0887"
             ],
             [
              0.1111111111111111,
              "#46039f"
             ],
             [
              0.2222222222222222,
              "#7201a8"
             ],
             [
              0.3333333333333333,
              "#9c179e"
             ],
             [
              0.4444444444444444,
              "#bd3786"
             ],
             [
              0.5555555555555556,
              "#d8576b"
             ],
             [
              0.6666666666666666,
              "#ed7953"
             ],
             [
              0.7777777777777778,
              "#fb9f3a"
             ],
             [
              0.8888888888888888,
              "#fdca26"
             ],
             [
              1,
              "#f0f921"
             ]
            ],
            "type": "surface"
           }
          ],
          "table": [
           {
            "cells": {
             "fill": {
              "color": "#EBF0F8"
             },
             "line": {
              "color": "white"
             }
            },
            "header": {
             "fill": {
              "color": "#C8D4E3"
             },
             "line": {
              "color": "white"
             }
            },
            "type": "table"
           }
          ]
         },
         "layout": {
          "annotationdefaults": {
           "arrowcolor": "#2a3f5f",
           "arrowhead": 0,
           "arrowwidth": 1
          },
          "autotypenumbers": "strict",
          "coloraxis": {
           "colorbar": {
            "outlinewidth": 0,
            "ticks": ""
           }
          },
          "colorscale": {
           "diverging": [
            [
             0,
             "#8e0152"
            ],
            [
             0.1,
             "#c51b7d"
            ],
            [
             0.2,
             "#de77ae"
            ],
            [
             0.3,
             "#f1b6da"
            ],
            [
             0.4,
             "#fde0ef"
            ],
            [
             0.5,
             "#f7f7f7"
            ],
            [
             0.6,
             "#e6f5d0"
            ],
            [
             0.7,
             "#b8e186"
            ],
            [
             0.8,
             "#7fbc41"
            ],
            [
             0.9,
             "#4d9221"
            ],
            [
             1,
             "#276419"
            ]
           ],
           "sequential": [
            [
             0,
             "#0d0887"
            ],
            [
             0.1111111111111111,
             "#46039f"
            ],
            [
             0.2222222222222222,
             "#7201a8"
            ],
            [
             0.3333333333333333,
             "#9c179e"
            ],
            [
             0.4444444444444444,
             "#bd3786"
            ],
            [
             0.5555555555555556,
             "#d8576b"
            ],
            [
             0.6666666666666666,
             "#ed7953"
            ],
            [
             0.7777777777777778,
             "#fb9f3a"
            ],
            [
             0.8888888888888888,
             "#fdca26"
            ],
            [
             1,
             "#f0f921"
            ]
           ],
           "sequentialminus": [
            [
             0,
             "#0d0887"
            ],
            [
             0.1111111111111111,
             "#46039f"
            ],
            [
             0.2222222222222222,
             "#7201a8"
            ],
            [
             0.3333333333333333,
             "#9c179e"
            ],
            [
             0.4444444444444444,
             "#bd3786"
            ],
            [
             0.5555555555555556,
             "#d8576b"
            ],
            [
             0.6666666666666666,
             "#ed7953"
            ],
            [
             0.7777777777777778,
             "#fb9f3a"
            ],
            [
             0.8888888888888888,
             "#fdca26"
            ],
            [
             1,
             "#f0f921"
            ]
           ]
          },
          "colorway": [
           "#636efa",
           "#EF553B",
           "#00cc96",
           "#ab63fa",
           "#FFA15A",
           "#19d3f3",
           "#FF6692",
           "#B6E880",
           "#FF97FF",
           "#FECB52"
          ],
          "font": {
           "color": "#2a3f5f"
          },
          "geo": {
           "bgcolor": "white",
           "lakecolor": "white",
           "landcolor": "#E5ECF6",
           "showlakes": true,
           "showland": true,
           "subunitcolor": "white"
          },
          "hoverlabel": {
           "align": "left"
          },
          "hovermode": "closest",
          "mapbox": {
           "style": "light"
          },
          "paper_bgcolor": "white",
          "plot_bgcolor": "#E5ECF6",
          "polar": {
           "angularaxis": {
            "gridcolor": "white",
            "linecolor": "white",
            "ticks": ""
           },
           "bgcolor": "#E5ECF6",
           "radialaxis": {
            "gridcolor": "white",
            "linecolor": "white",
            "ticks": ""
           }
          },
          "scene": {
           "xaxis": {
            "backgroundcolor": "#E5ECF6",
            "gridcolor": "white",
            "gridwidth": 2,
            "linecolor": "white",
            "showbackground": true,
            "ticks": "",
            "zerolinecolor": "white"
           },
           "yaxis": {
            "backgroundcolor": "#E5ECF6",
            "gridcolor": "white",
            "gridwidth": 2,
            "linecolor": "white",
            "showbackground": true,
            "ticks": "",
            "zerolinecolor": "white"
           },
           "zaxis": {
            "backgroundcolor": "#E5ECF6",
            "gridcolor": "white",
            "gridwidth": 2,
            "linecolor": "white",
            "showbackground": true,
            "ticks": "",
            "zerolinecolor": "white"
           }
          },
          "shapedefaults": {
           "line": {
            "color": "#2a3f5f"
           }
          },
          "ternary": {
           "aaxis": {
            "gridcolor": "white",
            "linecolor": "white",
            "ticks": ""
           },
           "baxis": {
            "gridcolor": "white",
            "linecolor": "white",
            "ticks": ""
           },
           "bgcolor": "#E5ECF6",
           "caxis": {
            "gridcolor": "white",
            "linecolor": "white",
            "ticks": ""
           }
          },
          "title": {
           "x": 0.05
          },
          "xaxis": {
           "automargin": true,
           "gridcolor": "white",
           "linecolor": "white",
           "ticks": "",
           "title": {
            "standoff": 15
           },
           "zerolinecolor": "white",
           "zerolinewidth": 2
          },
          "yaxis": {
           "automargin": true,
           "gridcolor": "white",
           "linecolor": "white",
           "ticks": "",
           "title": {
            "standoff": 15
           },
           "zerolinecolor": "white",
           "zerolinewidth": 2
          }
         }
        },
        "title": {
         "text": "Campaign Funnel Comparison"
        },
        "xaxis": {
         "anchor": "y",
         "domain": [
          0,
          0.45
         ]
        },
        "xaxis2": {
         "anchor": "y2",
         "domain": [
          0.55,
          1
         ]
        },
        "yaxis": {
         "anchor": "x",
         "domain": [
          0,
          1
         ]
        },
        "yaxis2": {
         "anchor": "x2",
         "domain": [
          0,
          1
         ]
        }
       }
      }
     },
     "metadata": {},
     "output_type": "display_data"
    },
    {
     "data": {
      "application/vnd.plotly.v1+json": {
       "config": {
        "plotlyServerURL": "https://plot.ly"
       },
       "data": [
        {
         "marker": {
          "color": [
           "lightblue",
           "lightcoral"
          ]
         },
         "name": "Conversion Rate (%)",
         "type": "bar",
         "x": [
          "Control",
          "Test"
         ],
         "xaxis": "x",
         "y": [
          9.825473257162855,
          8.491379556499739
         ],
         "yaxis": "y"
        },
        {
         "marker": {
          "color": [
           "lightblue",
           "lightcoral"
          ]
         },
         "name": "Cost Per Acquisition ($)",
         "type": "bar",
         "x": [
          "Control",
          "Test"
         ],
         "xaxis": "x2",
         "y": [
          4.407229074599301,
          5.0168135046069
         ],
         "yaxis": "y2"
        },
        {
         "marker": {
          "color": [
           "lightblue",
           "lightcoral"
          ]
         },
         "name": "Click-Through Rate (%)",
         "type": "bar",
         "x": [
          "Control",
          "Test"
         ],
         "xaxis": "x3",
         "y": [
          4.856521381969784,
          8.247125042799972
         ],
         "yaxis": "y3"
        },
        {
         "line": {
          "color": "lightblue"
         },
         "mode": "lines+markers",
         "name": "Control Daily CR",
         "type": "scatter",
         "x": [
          "2019-08-01T00:00:00",
          "2019-08-02T00:00:00",
          "2019-08-03T00:00:00",
          "2019-08-04T00:00:00",
          "2019-08-06T00:00:00",
          "2019-08-07T00:00:00",
          "2019-08-08T00:00:00",
          "2019-08-09T00:00:00",
          "2019-08-10T00:00:00",
          "2019-08-11T00:00:00",
          "2019-08-12T00:00:00",
          "2019-08-13T00:00:00",
          "2019-08-14T00:00:00",
          "2019-08-15T00:00:00",
          "2019-08-16T00:00:00",
          "2019-08-17T00:00:00",
          "2019-08-18T00:00:00",
          "2019-08-19T00:00:00",
          "2019-08-20T00:00:00",
          "2019-08-21T00:00:00",
          "2019-08-22T00:00:00",
          "2019-08-23T00:00:00",
          "2019-08-24T00:00:00",
          "2019-08-25T00:00:00",
          "2019-08-26T00:00:00",
          "2019-08-27T00:00:00",
          "2019-08-28T00:00:00",
          "2019-08-29T00:00:00",
          "2019-08-30T00:00:00"
         ],
         "xaxis": "x4",
         "y": {
          "bdata": "vo4TkeudIUBt8gB3FTQZQG13aw863RZAqY+IxZsvJkD3/XdYnPcyQCebbLLJ5jJAdNFFF110GUBxeMoXoCogQAul9IAhHkBAcPuIDqJZF0BuQfMkUIc6QCgA9n8CYCdA61aZjAVuMUDn5ubm5uYdQEXVYG3NxCBAVPNhNqDLCkA0E2Dmfc0KQFmueij3Py1AYVjrJz8yJ0COtfRAVB0sQAl+lewknxZAWDGDDp9eMUCjGpvhMKQsQB1d5sO8OyJAPQSSbA15EkDzZrEgLX0oQMKgLMh0dCRAcdG5S2RwEEBXRw+9iMQsQA==",
          "dtype": "f8"
         },
         "yaxis": "y4"
        },
        {
         "line": {
          "color": "lightcoral"
         },
         "mode": "lines+markers",
         "name": "Test Daily CR",
         "type": "scatter",
         "x": [
          "2019-08-01T00:00:00",
          "2019-08-02T00:00:00",
          "2019-08-03T00:00:00",
          "2019-08-04T00:00:00",
          "2019-08-06T00:00:00",
          "2019-08-07T00:00:00",
          "2019-08-08T00:00:00",
          "2019-08-09T00:00:00",
          "2019-08-10T00:00:00",
          "2019-08-11T00:00:00",
          "2019-08-12T00:00:00",
          "2019-08-13T00:00:00",
          "2019-08-14T00:00:00",
          "2019-08-15T00:00:00",
          "2019-08-16T00:00:00",
          "2019-08-17T00:00:00",
          "2019-08-18T00:00:00",
          "2019-08-19T00:00:00",
          "2019-08-20T00:00:00",
          "2019-08-21T00:00:00",
          "2019-08-22T00:00:00",
          "2019-08-23T00:00:00",
          "2019-08-24T00:00:00",
          "2019-08-25T00:00:00",
          "2019-08-26T00:00:00",
          "2019-08-27T00:00:00",
          "2019-08-28T00:00:00",
          "2019-08-29T00:00:00",
          "2019-08-30T00:00:00"
         ],
         "xaxis": "x4",
         "y": {
          "bdata": "+JOObpDJIECNfVQvExMtQAdjbphNUh1AIYQQQgghIEAZgREYgREaQEG+6+XFFTVARUdDCm7/F0DAyhEWaHYkQDuxEzuxEwtA0GkDnTbQMUCiDcGNpCghQFER4DJydSVA5MkrHaEHIUDlCxird+IfQKalpaWlpRxA+yGBtx8SCEBPee4MH8INQKDuRD0h4xpAOc3X6tkhKEA3WogioukRQDP4SJ9V6hhAoXSboQ+iIkBKVRxCmhIOQLmnEZZ7GjJAsYSj+vu8HUAKi1PEc/YnQFk70jbPtCFAvnRVwnCyIUCojKFYgwEqQA==",
          "dtype": "f8"
         },
         "yaxis": "y4"
        }
       ],
       "layout": {
        "annotations": [
         {
          "font": {
           "size": 16
          },
          "showarrow": false,
          "text": "Conversion Rate",
          "x": 0.225,
          "xanchor": "center",
          "xref": "paper",
          "y": 1,
          "yanchor": "bottom",
          "yref": "paper"
         },
         {
          "font": {
           "size": 16
          },
          "showarrow": false,
          "text": "Cost Per Acquisition",
          "x": 0.775,
          "xanchor": "center",
          "xref": "paper",
          "y": 1,
          "yanchor": "bottom",
          "yref": "paper"
         },
         {
          "font": {
           "size": 16
          },
          "showarrow": false,
          "text": "Click-Through Rate",
          "x": 0.225,
          "xanchor": "center",
          "xref": "paper",
          "y": 0.375,
          "yanchor": "bottom",
          "yref": "paper"
         },
         {
          "font": {
           "size": 16
          },
          "showarrow": false,
          "text": "Daily Performance",
          "x": 0.775,
          "xanchor": "center",
          "xref": "paper",
          "y": 0.375,
          "yanchor": "bottom",
          "yref": "paper"
         }
        ],
        "height": 800,
        "showlegend": true,
        "template": {
         "data": {
          "bar": [
           {
            "error_x": {
             "color": "#2a3f5f"
            },
            "error_y": {
             "color": "#2a3f5f"
            },
            "marker": {
             "line": {
              "color": "#E5ECF6",
              "width": 0.5
             },
             "pattern": {
              "fillmode": "overlay",
              "size": 10,
              "solidity": 0.2
             }
            },
            "type": "bar"
           }
          ],
          "barpolar": [
           {
            "marker": {
             "line": {
              "color": "#E5ECF6",
              "width": 0.5
             },
             "pattern": {
              "fillmode": "overlay",
              "size": 10,
              "solidity": 0.2
             }
            },
            "type": "barpolar"
           }
          ],
          "carpet": [
           {
            "aaxis": {
             "endlinecolor": "#2a3f5f",
             "gridcolor": "white",
             "linecolor": "white",
             "minorgridcolor": "white",
             "startlinecolor": "#2a3f5f"
            },
            "baxis": {
             "endlinecolor": "#2a3f5f",
             "gridcolor": "white",
             "linecolor": "white",
             "minorgridcolor": "white",
             "startlinecolor": "#2a3f5f"
            },
            "type": "carpet"
           }
          ],
          "choropleth": [
           {
            "colorbar": {
             "outlinewidth": 0,
             "ticks": ""
            },
            "type": "choropleth"
           }
          ],
          "contour": [
           {
            "colorbar": {
             "outlinewidth": 0,
             "ticks": ""
            },
            "colorscale": [
             [
              0,
              "#0d0887"
             ],
             [
              0.1111111111111111,
              "#46039f"
             ],
             [
              0.2222222222222222,
              "#7201a8"
             ],
             [
              0.3333333333333333,
              "#9c179e"
             ],
             [
              0.4444444444444444,
              "#bd3786"
             ],
             [
              0.5555555555555556,
              "#d8576b"
             ],
             [
              0.6666666666666666,
              "#ed7953"
             ],
             [
              0.7777777777777778,
              "#fb9f3a"
             ],
             [
              0.8888888888888888,
              "#fdca26"
             ],
             [
              1,
              "#f0f921"
             ]
            ],
            "type": "contour"
           }
          ],
          "contourcarpet": [
           {
            "colorbar": {
             "outlinewidth": 0,
             "ticks": ""
            },
            "type": "contourcarpet"
           }
          ],
          "heatmap": [
           {
            "colorbar": {
             "outlinewidth": 0,
             "ticks": ""
            },
            "colorscale": [
             [
              0,
              "#0d0887"
             ],
             [
              0.1111111111111111,
              "#46039f"
             ],
             [
              0.2222222222222222,
              "#7201a8"
             ],
             [
              0.3333333333333333,
              "#9c179e"
             ],
             [
              0.4444444444444444,
              "#bd3786"
             ],
             [
              0.5555555555555556,
              "#d8576b"
             ],
             [
              0.6666666666666666,
              "#ed7953"
             ],
             [
              0.7777777777777778,
              "#fb9f3a"
             ],
             [
              0.8888888888888888,
              "#fdca26"
             ],
             [
              1,
              "#f0f921"
             ]
            ],
            "type": "heatmap"
           }
          ],
          "histogram": [
           {
            "marker": {
             "pattern": {
              "fillmode": "overlay",
              "size": 10,
              "solidity": 0.2
             }
            },
            "type": "histogram"
           }
          ],
          "histogram2d": [
           {
            "colorbar": {
             "outlinewidth": 0,
             "ticks": ""
            },
            "colorscale": [
             [
              0,
              "#0d0887"
             ],
             [
              0.1111111111111111,
              "#46039f"
             ],
             [
              0.2222222222222222,
              "#7201a8"
             ],
             [
              0.3333333333333333,
              "#9c179e"
             ],
             [
              0.4444444444444444,
              "#bd3786"
             ],
             [
              0.5555555555555556,
              "#d8576b"
             ],
             [
              0.6666666666666666,
              "#ed7953"
             ],
             [
              0.7777777777777778,
              "#fb9f3a"
             ],
             [
              0.8888888888888888,
              "#fdca26"
             ],
             [
              1,
              "#f0f921"
             ]
            ],
            "type": "histogram2d"
           }
          ],
          "histogram2dcontour": [
           {
            "colorbar": {
             "outlinewidth": 0,
             "ticks": ""
            },
            "colorscale": [
             [
              0,
              "#0d0887"
             ],
             [
              0.1111111111111111,
              "#46039f"
             ],
             [
              0.2222222222222222,
              "#7201a8"
             ],
             [
              0.3333333333333333,
              "#9c179e"
             ],
             [
              0.4444444444444444,
              "#bd3786"
             ],
             [
              0.5555555555555556,
              "#d8576b"
             ],
             [
              0.6666666666666666,
              "#ed7953"
             ],
             [
              0.7777777777777778,
              "#fb9f3a"
             ],
             [
              0.8888888888888888,
              "#fdca26"
             ],
             [
              1,
              "#f0f921"
             ]
            ],
            "type": "histogram2dcontour"
           }
          ],
          "mesh3d": [
           {
            "colorbar": {
             "outlinewidth": 0,
             "ticks": ""
            },
            "type": "mesh3d"
           }
          ],
          "parcoords": [
           {
            "line": {
             "colorbar": {
              "outlinewidth": 0,
              "ticks": ""
             }
            },
            "type": "parcoords"
           }
          ],
          "pie": [
           {
            "automargin": true,
            "type": "pie"
           }
          ],
          "scatter": [
           {
            "fillpattern": {
             "fillmode": "overlay",
             "size": 10,
             "solidity": 0.2
            },
            "type": "scatter"
           }
          ],
          "scatter3d": [
           {
            "line": {
             "colorbar": {
              "outlinewidth": 0,
              "ticks": ""
             }
            },
            "marker": {
             "colorbar": {
              "outlinewidth": 0,
              "ticks": ""
             }
            },
            "type": "scatter3d"
           }
          ],
          "scattercarpet": [
           {
            "marker": {
             "colorbar": {
              "outlinewidth": 0,
              "ticks": ""
             }
            },
            "type": "scattercarpet"
           }
          ],
          "scattergeo": [
           {
            "marker": {
             "colorbar": {
              "outlinewidth": 0,
              "ticks": ""
             }
            },
            "type": "scattergeo"
           }
          ],
          "scattergl": [
           {
            "marker": {
             "colorbar": {
              "outlinewidth": 0,
              "ticks": ""
             }
            },
            "type": "scattergl"
           }
          ],
          "scattermap": [
           {
            "marker": {
             "colorbar": {
              "outlinewidth": 0,
              "ticks": ""
             }
            },
            "type": "scattermap"
           }
          ],
          "scattermapbox": [
           {
            "marker": {
             "colorbar": {
              "outlinewidth": 0,
              "ticks": ""
             }
            },
            "type": "scattermapbox"
           }
          ],
          "scatterpolar": [
           {
            "marker": {
             "colorbar": {
              "outlinewidth": 0,
              "ticks": ""
             }
            },
            "type": "scatterpolar"
           }
          ],
          "scatterpolargl": [
           {
            "marker": {
             "colorbar": {
              "outlinewidth": 0,
              "ticks": ""
             }
            },
            "type": "scatterpolargl"
           }
          ],
          "scatterternary": [
           {
            "marker": {
             "colorbar": {
              "outlinewidth": 0,
              "ticks": ""
             }
            },
            "type": "scatterternary"
           }
          ],
          "surface": [
           {
            "colorbar": {
             "outlinewidth": 0,
             "ticks": ""
            },
            "colorscale": [
             [
              0,
              "#0d0887"
             ],
             [
              0.1111111111111111,
              "#46039f"
             ],
             [
              0.2222222222222222,
              "#7201a8"
             ],
             [
              0.3333333333333333,
              "#9c179e"
             ],
             [
              0.4444444444444444,
              "#bd3786"
             ],
             [
              0.5555555555555556,
              "#d8576b"
             ],
             [
              0.6666666666666666,
              "#ed7953"
             ],
             [
              0.7777777777777778,
              "#fb9f3a"
             ],
             [
              0.8888888888888888,
              "#fdca26"
             ],
             [
              1,
              "#f0f921"
             ]
            ],
            "type": "surface"
           }
          ],
          "table": [
           {
            "cells": {
             "fill": {
              "color": "#EBF0F8"
             },
             "line": {
              "color": "white"
             }
            },
            "header": {
             "fill": {
              "color": "#C8D4E3"
             },
             "line": {
              "color": "white"
             }
            },
            "type": "table"
           }
          ]
         },
         "layout": {
          "annotationdefaults": {
           "arrowcolor": "#2a3f5f",
           "arrowhead": 0,
           "arrowwidth": 1
          },
          "autotypenumbers": "strict",
          "coloraxis": {
           "colorbar": {
            "outlinewidth": 0,
            "ticks": ""
           }
          },
          "colorscale": {
           "diverging": [
            [
             0,
             "#8e0152"
            ],
            [
             0.1,
             "#c51b7d"
            ],
            [
             0.2,
             "#de77ae"
            ],
            [
             0.3,
             "#f1b6da"
            ],
            [
             0.4,
             "#fde0ef"
            ],
            [
             0.5,
             "#f7f7f7"
            ],
            [
             0.6,
             "#e6f5d0"
            ],
            [
             0.7,
             "#b8e186"
            ],
            [
             0.8,
             "#7fbc41"
            ],
            [
             0.9,
             "#4d9221"
            ],
            [
             1,
             "#276419"
            ]
           ],
           "sequential": [
            [
             0,
             "#0d0887"
            ],
            [
             0.1111111111111111,
             "#46039f"
            ],
            [
             0.2222222222222222,
             "#7201a8"
            ],
            [
             0.3333333333333333,
             "#9c179e"
            ],
            [
             0.4444444444444444,
             "#bd3786"
            ],
            [
             0.5555555555555556,
             "#d8576b"
            ],
            [
             0.6666666666666666,
             "#ed7953"
            ],
            [
             0.7777777777777778,
             "#fb9f3a"
            ],
            [
             0.8888888888888888,
             "#fdca26"
            ],
            [
             1,
             "#f0f921"
            ]
           ],
           "sequentialminus": [
            [
             0,
             "#0d0887"
            ],
            [
             0.1111111111111111,
             "#46039f"
            ],
            [
             0.2222222222222222,
             "#7201a8"
            ],
            [
             0.3333333333333333,
             "#9c179e"
            ],
            [
             0.4444444444444444,
             "#bd3786"
            ],
            [
             0.5555555555555556,
             "#d8576b"
            ],
            [
             0.6666666666666666,
             "#ed7953"
            ],
            [
             0.7777777777777778,
             "#fb9f3a"
            ],
            [
             0.8888888888888888,
             "#fdca26"
            ],
            [
             1,
             "#f0f921"
            ]
           ]
          },
          "colorway": [
           "#636efa",
           "#EF553B",
           "#00cc96",
           "#ab63fa",
           "#FFA15A",
           "#19d3f3",
           "#FF6692",
           "#B6E880",
           "#FF97FF",
           "#FECB52"
          ],
          "font": {
           "color": "#2a3f5f"
          },
          "geo": {
           "bgcolor": "white",
           "lakecolor": "white",
           "landcolor": "#E5ECF6",
           "showlakes": true,
           "showland": true,
           "subunitcolor": "white"
          },
          "hoverlabel": {
           "align": "left"
          },
          "hovermode": "closest",
          "mapbox": {
           "style": "light"
          },
          "paper_bgcolor": "white",
          "plot_bgcolor": "#E5ECF6",
          "polar": {
           "angularaxis": {
            "gridcolor": "white",
            "linecolor": "white",
            "ticks": ""
           },
           "bgcolor": "#E5ECF6",
           "radialaxis": {
            "gridcolor": "white",
            "linecolor": "white",
            "ticks": ""
           }
          },
          "scene": {
           "xaxis": {
            "backgroundcolor": "#E5ECF6",
            "gridcolor": "white",
            "gridwidth": 2,
            "linecolor": "white",
            "showbackground": true,
            "ticks": "",
            "zerolinecolor": "white"
           },
           "yaxis": {
            "backgroundcolor": "#E5ECF6",
            "gridcolor": "white",
            "gridwidth": 2,
            "linecolor": "white",
            "showbackground": true,
            "ticks": "",
            "zerolinecolor": "white"
           },
           "zaxis": {
            "backgroundcolor": "#E5ECF6",
            "gridcolor": "white",
            "gridwidth": 2,
            "linecolor": "white",
            "showbackground": true,
            "ticks": "",
            "zerolinecolor": "white"
           }
          },
          "shapedefaults": {
           "line": {
            "color": "#2a3f5f"
           }
          },
          "ternary": {
           "aaxis": {
            "gridcolor": "white",
            "linecolor": "white",
            "ticks": ""
           },
           "baxis": {
            "gridcolor": "white",
            "linecolor": "white",
            "ticks": ""
           },
           "bgcolor": "#E5ECF6",
           "caxis": {
            "gridcolor": "white",
            "linecolor": "white",
            "ticks": ""
           }
          },
          "title": {
           "x": 0.05
          },
          "xaxis": {
           "automargin": true,
           "gridcolor": "white",
           "linecolor": "white",
           "ticks": "",
           "title": {
            "standoff": 15
           },
           "zerolinecolor": "white",
           "zerolinewidth": 2
          },
          "yaxis": {
           "automargin": true,
           "gridcolor": "white",
           "linecolor": "white",
           "ticks": "",
           "title": {
            "standoff": 15
           },
           "zerolinecolor": "white",
           "zerolinewidth": 2
          }
         }
        },
        "title": {
         "text": "Key Performance Metrics Comparison"
        },
        "xaxis": {
         "anchor": "y",
         "domain": [
          0,
          0.45
         ]
        },
        "xaxis2": {
         "anchor": "y2",
         "domain": [
          0.55,
          1
         ]
        },
        "xaxis3": {
         "anchor": "y3",
         "domain": [
          0,
          0.45
         ]
        },
        "xaxis4": {
         "anchor": "y4",
         "domain": [
          0.55,
          1
         ]
        },
        "yaxis": {
         "anchor": "x",
         "domain": [
          0.625,
          1
         ]
        },
        "yaxis2": {
         "anchor": "x2",
         "domain": [
          0.625,
          1
         ]
        },
        "yaxis3": {
         "anchor": "x3",
         "domain": [
          0,
          0.375
         ]
        },
        "yaxis4": {
         "anchor": "x4",
         "domain": [
          0,
          0.375
         ]
        }
       }
      }
     },
     "metadata": {},
     "output_type": "display_data"
    },
    {
     "data": {
      "application/vnd.plotly.v1+json": {
       "config": {
        "plotlyServerURL": "https://plot.ly"
       },
       "data": [
        {
         "marker": {
          "color": [
           "green",
           "green",
           "red"
          ]
         },
         "name": "Statistical Significance",
         "type": "bar",
         "x": [
          "Conversion Rate",
          "Click-Through Rate",
          "Cost Per Acquisition"
         ],
         "y": [
          39.485130140651705,
          null,
          0.7060019993329667
         ]
        }
       ],
       "layout": {
        "annotations": [
         {
          "showarrow": false,
          "text": "α = 0.05",
          "x": 1,
          "xanchor": "right",
          "xref": "x domain",
          "y": 1.3010299956639813,
          "yanchor": "bottom",
          "yref": "y"
         }
        ],
        "height": 400,
        "shapes": [
         {
          "line": {
           "color": "black",
           "dash": "dash"
          },
          "type": "line",
          "x0": 0,
          "x1": 1,
          "xref": "x domain",
          "y0": 1.3010299956639813,
          "y1": 1.3010299956639813,
          "yref": "y"
         }
        ],
        "template": {
         "data": {
          "bar": [
           {
            "error_x": {
             "color": "#2a3f5f"
            },
            "error_y": {
             "color": "#2a3f5f"
            },
            "marker": {
             "line": {
              "color": "#E5ECF6",
              "width": 0.5
             },
             "pattern": {
              "fillmode": "overlay",
              "size": 10,
              "solidity": 0.2
             }
            },
            "type": "bar"
           }
          ],
          "barpolar": [
           {
            "marker": {
             "line": {
              "color": "#E5ECF6",
              "width": 0.5
             },
             "pattern": {
              "fillmode": "overlay",
              "size": 10,
              "solidity": 0.2
             }
            },
            "type": "barpolar"
           }
          ],
          "carpet": [
           {
            "aaxis": {
             "endlinecolor": "#2a3f5f",
             "gridcolor": "white",
             "linecolor": "white",
             "minorgridcolor": "white",
             "startlinecolor": "#2a3f5f"
            },
            "baxis": {
             "endlinecolor": "#2a3f5f",
             "gridcolor": "white",
             "linecolor": "white",
             "minorgridcolor": "white",
             "startlinecolor": "#2a3f5f"
            },
            "type": "carpet"
           }
          ],
          "choropleth": [
           {
            "colorbar": {
             "outlinewidth": 0,
             "ticks": ""
            },
            "type": "choropleth"
           }
          ],
          "contour": [
           {
            "colorbar": {
             "outlinewidth": 0,
             "ticks": ""
            },
            "colorscale": [
             [
              0,
              "#0d0887"
             ],
             [
              0.1111111111111111,
              "#46039f"
             ],
             [
              0.2222222222222222,
              "#7201a8"
             ],
             [
              0.3333333333333333,
              "#9c179e"
             ],
             [
              0.4444444444444444,
              "#bd3786"
             ],
             [
              0.5555555555555556,
              "#d8576b"
             ],
             [
              0.6666666666666666,
              "#ed7953"
             ],
             [
              0.7777777777777778,
              "#fb9f3a"
             ],
             [
              0.8888888888888888,
              "#fdca26"
             ],
             [
              1,
              "#f0f921"
             ]
            ],
            "type": "contour"
           }
          ],
          "contourcarpet": [
           {
            "colorbar": {
             "outlinewidth": 0,
             "ticks": ""
            },
            "type": "contourcarpet"
           }
          ],
          "heatmap": [
           {
            "colorbar": {
             "outlinewidth": 0,
             "ticks": ""
            },
            "colorscale": [
             [
              0,
              "#0d0887"
             ],
             [
              0.1111111111111111,
              "#46039f"
             ],
             [
              0.2222222222222222,
              "#7201a8"
             ],
             [
              0.3333333333333333,
              "#9c179e"
             ],
             [
              0.4444444444444444,
              "#bd3786"
             ],
             [
              0.5555555555555556,
              "#d8576b"
             ],
             [
              0.6666666666666666,
              "#ed7953"
             ],
             [
              0.7777777777777778,
              "#fb9f3a"
             ],
             [
              0.8888888888888888,
              "#fdca26"
             ],
             [
              1,
              "#f0f921"
             ]
            ],
            "type": "heatmap"
           }
          ],
          "histogram": [
           {
            "marker": {
             "pattern": {
              "fillmode": "overlay",
              "size": 10,
              "solidity": 0.2
             }
            },
            "type": "histogram"
           }
          ],
          "histogram2d": [
           {
            "colorbar": {
             "outlinewidth": 0,
             "ticks": ""
            },
            "colorscale": [
             [
              0,
              "#0d0887"
             ],
             [
              0.1111111111111111,
              "#46039f"
             ],
             [
              0.2222222222222222,
              "#7201a8"
             ],
             [
              0.3333333333333333,
              "#9c179e"
             ],
             [
              0.4444444444444444,
              "#bd3786"
             ],
             [
              0.5555555555555556,
              "#d8576b"
             ],
             [
              0.6666666666666666,
              "#ed7953"
             ],
             [
              0.7777777777777778,
              "#fb9f3a"
             ],
             [
              0.8888888888888888,
              "#fdca26"
             ],
             [
              1,
              "#f0f921"
             ]
            ],
            "type": "histogram2d"
           }
          ],
          "histogram2dcontour": [
           {
            "colorbar": {
             "outlinewidth": 0,
             "ticks": ""
            },
            "colorscale": [
             [
              0,
              "#0d0887"
             ],
             [
              0.1111111111111111,
              "#46039f"
             ],
             [
              0.2222222222222222,
              "#7201a8"
             ],
             [
              0.3333333333333333,
              "#9c179e"
             ],
             [
              0.4444444444444444,
              "#bd3786"
             ],
             [
              0.5555555555555556,
              "#d8576b"
             ],
             [
              0.6666666666666666,
              "#ed7953"
             ],
             [
              0.7777777777777778,
              "#fb9f3a"
             ],
             [
              0.8888888888888888,
              "#fdca26"
             ],
             [
              1,
              "#f0f921"
             ]
            ],
            "type": "histogram2dcontour"
           }
          ],
          "mesh3d": [
           {
            "colorbar": {
             "outlinewidth": 0,
             "ticks": ""
            },
            "type": "mesh3d"
           }
          ],
          "parcoords": [
           {
            "line": {
             "colorbar": {
              "outlinewidth": 0,
              "ticks": ""
             }
            },
            "type": "parcoords"
           }
          ],
          "pie": [
           {
            "automargin": true,
            "type": "pie"
           }
          ],
          "scatter": [
           {
            "fillpattern": {
             "fillmode": "overlay",
             "size": 10,
             "solidity": 0.2
            },
            "type": "scatter"
           }
          ],
          "scatter3d": [
           {
            "line": {
             "colorbar": {
              "outlinewidth": 0,
              "ticks": ""
             }
            },
            "marker": {
             "colorbar": {
              "outlinewidth": 0,
              "ticks": ""
             }
            },
            "type": "scatter3d"
           }
          ],
          "scattercarpet": [
           {
            "marker": {
             "colorbar": {
              "outlinewidth": 0,
              "ticks": ""
             }
            },
            "type": "scattercarpet"
           }
          ],
          "scattergeo": [
           {
            "marker": {
             "colorbar": {
              "outlinewidth": 0,
              "ticks": ""
             }
            },
            "type": "scattergeo"
           }
          ],
          "scattergl": [
           {
            "marker": {
             "colorbar": {
              "outlinewidth": 0,
              "ticks": ""
             }
            },
            "type": "scattergl"
           }
          ],
          "scattermap": [
           {
            "marker": {
             "colorbar": {
              "outlinewidth": 0,
              "ticks": ""
             }
            },
            "type": "scattermap"
           }
          ],
          "scattermapbox": [
           {
            "marker": {
             "colorbar": {
              "outlinewidth": 0,
              "ticks": ""
             }
            },
            "type": "scattermapbox"
           }
          ],
          "scatterpolar": [
           {
            "marker": {
             "colorbar": {
              "outlinewidth": 0,
              "ticks": ""
             }
            },
            "type": "scatterpolar"
           }
          ],
          "scatterpolargl": [
           {
            "marker": {
             "colorbar": {
              "outlinewidth": 0,
              "ticks": ""
             }
            },
            "type": "scatterpolargl"
           }
          ],
          "scatterternary": [
           {
            "marker": {
             "colorbar": {
              "outlinewidth": 0,
              "ticks": ""
             }
            },
            "type": "scatterternary"
           }
          ],
          "surface": [
           {
            "colorbar": {
             "outlinewidth": 0,
             "ticks": ""
            },
            "colorscale": [
             [
              0,
              "#0d0887"
             ],
             [
              0.1111111111111111,
              "#46039f"
             ],
             [
              0.2222222222222222,
              "#7201a8"
             ],
             [
              0.3333333333333333,
              "#9c179e"
             ],
             [
              0.4444444444444444,
              "#bd3786"
             ],
             [
              0.5555555555555556,
              "#d8576b"
             ],
             [
              0.6666666666666666,
              "#ed7953"
             ],
             [
              0.7777777777777778,
              "#fb9f3a"
             ],
             [
              0.8888888888888888,
              "#fdca26"
             ],
             [
              1,
              "#f0f921"
             ]
            ],
            "type": "surface"
           }
          ],
          "table": [
           {
            "cells": {
             "fill": {
              "color": "#EBF0F8"
             },
             "line": {
              "color": "white"
             }
            },
            "header": {
             "fill": {
              "color": "#C8D4E3"
             },
             "line": {
              "color": "white"
             }
            },
            "type": "table"
           }
          ]
         },
         "layout": {
          "annotationdefaults": {
           "arrowcolor": "#2a3f5f",
           "arrowhead": 0,
           "arrowwidth": 1
          },
          "autotypenumbers": "strict",
          "coloraxis": {
           "colorbar": {
            "outlinewidth": 0,
            "ticks": ""
           }
          },
          "colorscale": {
           "diverging": [
            [
             0,
             "#8e0152"
            ],
            [
             0.1,
             "#c51b7d"
            ],
            [
             0.2,
             "#de77ae"
            ],
            [
             0.3,
             "#f1b6da"
            ],
            [
             0.4,
             "#fde0ef"
            ],
            [
             0.5,
             "#f7f7f7"
            ],
            [
             0.6,
             "#e6f5d0"
            ],
            [
             0.7,
             "#b8e186"
            ],
            [
             0.8,
             "#7fbc41"
            ],
            [
             0.9,
             "#4d9221"
            ],
            [
             1,
             "#276419"
            ]
           ],
           "sequential": [
            [
             0,
             "#0d0887"
            ],
            [
             0.1111111111111111,
             "#46039f"
            ],
            [
             0.2222222222222222,
             "#7201a8"
            ],
            [
             0.3333333333333333,
             "#9c179e"
            ],
            [
             0.4444444444444444,
             "#bd3786"
            ],
            [
             0.5555555555555556,
             "#d8576b"
            ],
            [
             0.6666666666666666,
             "#ed7953"
            ],
            [
             0.7777777777777778,
             "#fb9f3a"
            ],
            [
             0.8888888888888888,
             "#fdca26"
            ],
            [
             1,
             "#f0f921"
            ]
           ],
           "sequentialminus": [
            [
             0,
             "#0d0887"
            ],
            [
             0.1111111111111111,
             "#46039f"
            ],
            [
             0.2222222222222222,
             "#7201a8"
            ],
            [
             0.3333333333333333,
             "#9c179e"
            ],
            [
             0.4444444444444444,
             "#bd3786"
            ],
            [
             0.5555555555555556,
             "#d8576b"
            ],
            [
             0.6666666666666666,
             "#ed7953"
            ],
            [
             0.7777777777777778,
             "#fb9f3a"
            ],
            [
             0.8888888888888888,
             "#fdca26"
            ],
            [
             1,
             "#f0f921"
            ]
           ]
          },
          "colorway": [
           "#636efa",
           "#EF553B",
           "#00cc96",
           "#ab63fa",
           "#FFA15A",
           "#19d3f3",
           "#FF6692",
           "#B6E880",
           "#FF97FF",
           "#FECB52"
          ],
          "font": {
           "color": "#2a3f5f"
          },
          "geo": {
           "bgcolor": "white",
           "lakecolor": "white",
           "landcolor": "#E5ECF6",
           "showlakes": true,
           "showland": true,
           "subunitcolor": "white"
          },
          "hoverlabel": {
           "align": "left"
          },
          "hovermode": "closest",
          "mapbox": {
           "style": "light"
          },
          "paper_bgcolor": "white",
          "plot_bgcolor": "#E5ECF6",
          "polar": {
           "angularaxis": {
            "gridcolor": "white",
            "linecolor": "white",
            "ticks": ""
           },
           "bgcolor": "#E5ECF6",
           "radialaxis": {
            "gridcolor": "white",
            "linecolor": "white",
            "ticks": ""
           }
          },
          "scene": {
           "xaxis": {
            "backgroundcolor": "#E5ECF6",
            "gridcolor": "white",
            "gridwidth": 2,
            "linecolor": "white",
            "showbackground": true,
            "ticks": "",
            "zerolinecolor": "white"
           },
           "yaxis": {
            "backgroundcolor": "#E5ECF6",
            "gridcolor": "white",
            "gridwidth": 2,
            "linecolor": "white",
            "showbackground": true,
            "ticks": "",
            "zerolinecolor": "white"
           },
           "zaxis": {
            "backgroundcolor": "#E5ECF6",
            "gridcolor": "white",
            "gridwidth": 2,
            "linecolor": "white",
            "showbackground": true,
            "ticks": "",
            "zerolinecolor": "white"
           }
          },
          "shapedefaults": {
           "line": {
            "color": "#2a3f5f"
           }
          },
          "ternary": {
           "aaxis": {
            "gridcolor": "white",
            "linecolor": "white",
            "ticks": ""
           },
           "baxis": {
            "gridcolor": "white",
            "linecolor": "white",
            "ticks": ""
           },
           "bgcolor": "#E5ECF6",
           "caxis": {
            "gridcolor": "white",
            "linecolor": "white",
            "ticks": ""
           }
          },
          "title": {
           "x": 0.05
          },
          "xaxis": {
           "automargin": true,
           "gridcolor": "white",
           "linecolor": "white",
           "ticks": "",
           "title": {
            "standoff": 15
           },
           "zerolinecolor": "white",
           "zerolinewidth": 2
          },
          "yaxis": {
           "automargin": true,
           "gridcolor": "white",
           "linecolor": "white",
           "ticks": "",
           "title": {
            "standoff": 15
           },
           "zerolinecolor": "white",
           "zerolinewidth": 2
          }
         }
        },
        "title": {
         "text": "Statistical Significance Test Results (-log10 p-value)"
        },
        "xaxis": {
         "title": {
          "text": "Metrics"
         }
        },
        "yaxis": {
         "title": {
          "text": "-log10(p-value)"
         }
        }
       }
      }
     },
     "metadata": {},
     "output_type": "display_data"
    }
   ],
   "source": [
    "def create_comprehensive_visualizations(df, funnel_rates, test_results):\n",
    "    \"\"\"\n",
    "    Create comprehensive visualizations for A/B test analysis\n",
    "    \"\"\"\n",
    "    \n",
    "    # 1. Funnel Chart\n",
    "    fig_funnel = make_subplots(\n",
    "        rows=1, cols=2,\n",
    "        subplot_titles=('Control Campaign Funnel', 'Test Campaign Funnel'),\n",
    "        specs=[[{\"type\": \"funnel\"}, {\"type\": \"funnel\"}]]\n",
    "    )\n",
    "    \n",
    "    # Control funnel\n",
    "    control_data = funnel_rates[funnel_rates['campaign'] == 'control'].iloc[0]\n",
    "    fig_funnel.add_trace(go.Funnel(\n",
    "        y=[\"Impressions\", \"Clicks\", \"Searches\", \"Views\", \"Carts\", \"Purchases\"],\n",
    "        x=[control_data['impressions'], control_data['clicks'], control_data['searches'], \n",
    "           control_data['views'], control_data['carts'], control_data['purchases']],\n",
    "        name=\"Control\",\n",
    "        marker_color=\"lightblue\"\n",
    "    ), row=1, col=1)\n",
    "    \n",
    "    # Test funnel\n",
    "    test_data = funnel_rates[funnel_rates['campaign'] == 'test'].iloc[0]\n",
    "    fig_funnel.add_trace(go.Funnel(\n",
    "        y=[\"Impressions\", \"Clicks\", \"Searches\", \"Views\", \"Carts\", \"Purchases\"],\n",
    "        x=[test_data['impressions'], test_data['clicks'], test_data['searches'], \n",
    "           test_data['views'], test_data['carts'], test_data['purchases']],\n",
    "        name=\"Test\",\n",
    "        marker_color=\"lightcoral\"\n",
    "    ), row=1, col=2)\n",
    "    \n",
    "    fig_funnel.update_layout(title_text=\"Campaign Funnel Comparison\", height=500)\n",
    "    fig_funnel.show()\n",
    "    \n",
    "    # 2. Key Metrics Comparison\n",
    "    fig_metrics = make_subplots(\n",
    "        rows=2, cols=2,\n",
    "        subplot_titles=('Conversion Rate', 'Cost Per Acquisition', 'Click-Through Rate', 'Daily Performance'),\n",
    "        specs=[[{\"type\": \"bar\"}, {\"type\": \"bar\"}],\n",
    "               [{\"type\": \"bar\"}, {\"type\": \"scatter\"}]]\n",
    "    )\n",
    "    \n",
    "    # Conversion Rate\n",
    "    fig_metrics.add_trace(go.Bar(\n",
    "        x=['Control', 'Test'],\n",
    "        y=[test_results['conversion_rate']['control_rate']*100, \n",
    "           test_results['conversion_rate']['test_rate']*100],\n",
    "        name='Conversion Rate (%)',\n",
    "        marker_color=['lightblue', 'lightcoral']\n",
    "    ), row=1, col=1)\n",
    "    \n",
    "    # CPA (if available)\n",
    "    if 'cpa' in test_results:\n",
    "        fig_metrics.add_trace(go.Bar(\n",
    "            x=['Control', 'Test'],\n",
    "            y=[test_results['cpa']['control_cpa'], test_results['cpa']['test_cpa']],\n",
    "            name='Cost Per Acquisition ($)',\n",
    "            marker_color=['lightblue', 'lightcoral']\n",
    "        ), row=1, col=2)\n",
    "    \n",
    "    # CTR\n",
    "    fig_metrics.add_trace(go.Bar(\n",
    "        x=['Control', 'Test'],\n",
    "        y=[test_results['ctr']['control_ctr']*100, test_results['ctr']['test_ctr']*100],\n",
    "        name='Click-Through Rate (%)',\n",
    "        marker_color=['lightblue', 'lightcoral']\n",
    "    ), row=2, col=1)\n",
    "    \n",
    "    # Daily conversion rates over time\n",
    "    daily_conv = df.copy()\n",
    "    daily_conv['conversion_rate'] = daily_conv['purchase'] / daily_conv['click'] * 100\n",
    "    daily_conv = daily_conv.replace([np.inf, -np.inf], np.nan).dropna()\n",
    "    \n",
    "    for campaign in ['control', 'test']:\n",
    "        campaign_data = daily_conv[daily_conv['campaign_name'] == campaign]\n",
    "        fig_metrics.add_trace(go.Scatter(\n",
    "            x=campaign_data['date'],\n",
    "            y=campaign_data['conversion_rate'],\n",
    "            mode='lines+markers',\n",
    "            name=f'{campaign.title()} Daily CR',\n",
    "            line=dict(color='lightblue' if campaign == 'control' else 'lightcoral')\n",
    "        ), row=2, col=2)\n",
    "    \n",
    "    fig_metrics.update_layout(title_text=\"Key Performance Metrics Comparison\", height=800, showlegend=True)\n",
    "    fig_metrics.show()\n",
    "    \n",
    "    # 3. Statistical Significance Summary\n",
    "    fig_significance = go.Figure()\n",
    "    \n",
    "    metrics = ['Conversion Rate', 'Click-Through Rate']\n",
    "    if 'cpa' in test_results:\n",
    "        metrics.append('Cost Per Acquisition')\n",
    "    \n",
    "    p_values = [test_results['conversion_rate']['p_value'], \n",
    "               test_results['ctr']['p_value']]\n",
    "    if 'cpa' in test_results:\n",
    "        p_values.append(test_results['cpa']['p_value'])\n",
    "    \n",
    "    colors = ['green' if p < 0.05 else 'red' for p in p_values]\n",
    "    \n",
    "    fig_significance.add_trace(go.Bar(\n",
    "        x=metrics,\n",
    "        y=[-np.log10(p) for p in p_values],\n",
    "        marker_color=colors,\n",
    "        name='Statistical Significance'\n",
    "    ))\n",
    "    \n",
    "    fig_significance.add_hline(y=-np.log10(0.05), line_dash=\"dash\", line_color=\"black\", \n",
    "                              annotation_text=\"α = 0.05\")\n",
    "    \n",
    "    fig_significance.update_layout(\n",
    "        title=\"Statistical Significance Test Results (-log10 p-value)\",\n",
    "        yaxis_title=\"-log10(p-value)\",\n",
    "        xaxis_title=\"Metrics\",\n",
    "        height=400\n",
    "    )\n",
    "    fig_significance.show()\n",
    "\n",
    "# Create visualizations\n",
    "create_comprehensive_visualizations(primary_df, funnel_rates, test_results)"
   ]
  },
  {
   "cell_type": "markdown",
   "id": "cell-14",
   "metadata": {},
   "source": [
    "## 7. Sensitivity Analysis Across Scenarios"
   ]
  },
  {
   "cell_type": "code",
   "execution_count": 8,
   "id": "cell-15",
   "metadata": {},
   "outputs": [
    {
     "name": "stdout",
     "output_type": "stream",
     "text": [
      "\n",
      "============================================================\n",
      "           🔬 SENSITIVITY ANALYSIS\n",
      "============================================================\n",
      "Testing robustness of conclusions across different missing data treatments\n",
      "\n",
      "\n",
      "📊 Scenario: Complete Cases\n",
      "--------------------------------------------------\n",
      "Control Conversion Rate: 9.83%\n",
      "Test Conversion Rate: 8.49%\n",
      "Lift: -13.6%\n",
      "P-value: 0.000000\n",
      "Significant: ✅ YES\n",
      "\n",
      "📊 Scenario: Median Fill\n",
      "--------------------------------------------------\n",
      "Control Conversion Rate: 9.82%\n",
      "Test Conversion Rate: 8.64%\n",
      "Lift: -12.0%\n",
      "P-value: 0.000000\n",
      "Significant: ✅ YES\n",
      "\n",
      "📊 Scenario: Mean Fill\n",
      "--------------------------------------------------\n",
      "Control Conversion Rate: 9.83%\n",
      "Test Conversion Rate: 8.64%\n",
      "Lift: -12.1%\n",
      "P-value: 0.000000\n",
      "Significant: ✅ YES\n",
      "\n",
      "============================================================\n",
      "           📋 SENSITIVITY SUMMARY\n",
      "============================================================\n",
      "\n",
      "🎯 Scenarios with significant results: 3/3\n",
      "✅ ROBUST: All scenarios show significant results - conclusions are reliable\n",
      "\n",
      "📈 Lift Range: -13.6% to -12.0%\n",
      "📊 Average Lift: -12.5% (±0.7%)\n"
     ]
    }
   ],
   "source": [
    "def sensitivity_analysis(scenarios):\n",
    "    \"\"\"\n",
    "    Test the robustness of conclusions across different data treatment scenarios\n",
    "    \"\"\"\n",
    "    print(\"\\n\" + \"=\"*60)\n",
    "    print(\"           🔬 SENSITIVITY ANALYSIS\")\n",
    "    print(\"=\"*60)\n",
    "    print(\"Testing robustness of conclusions across different missing data treatments\\n\")\n",
    "    \n",
    "    sensitivity_results = {}\n",
    "    \n",
    "    for scenario_name, df in scenarios.items():\n",
    "        print(f\"\\n📊 Scenario: {scenario_name.replace('_', ' ').title()}\")\n",
    "        print(\"-\" * 50)\n",
    "        \n",
    "        # Quick conversion rate test for each scenario\n",
    "        control_data = df[df['campaign_name'] == 'control']\n",
    "        test_data = df[df['campaign_name'] == 'test']\n",
    "        \n",
    "        control_conversions = control_data['purchase'].sum()\n",
    "        control_clicks = control_data['click'].sum()\n",
    "        test_conversions = test_data['purchase'].sum()\n",
    "        test_clicks = test_data['click'].sum()\n",
    "        \n",
    "        if control_clicks > 0 and test_clicks > 0:\n",
    "            control_rate = control_conversions / control_clicks\n",
    "            test_rate = test_conversions / test_clicks\n",
    "            lift = (test_rate - control_rate) / control_rate * 100\n",
    "            \n",
    "            # Statistical test\n",
    "            count = np.array([control_conversions, test_conversions])\n",
    "            nobs = np.array([control_clicks, test_clicks])\n",
    "            z_stat, p_value = proportions_ztest(count, nobs)\n",
    "            \n",
    "            sensitivity_results[scenario_name] = {\n",
    "                'control_rate': control_rate,\n",
    "                'test_rate': test_rate,\n",
    "                'lift': lift,\n",
    "                'p_value': p_value,\n",
    "                'significant': p_value < 0.05\n",
    "            }\n",
    "            \n",
    "            print(f\"Control Conversion Rate: {control_rate*100:.2f}%\")\n",
    "            print(f\"Test Conversion Rate: {test_rate*100:.2f}%\")\n",
    "            print(f\"Lift: {lift:+.1f}%\")\n",
    "            print(f\"P-value: {p_value:.6f}\")\n",
    "            print(f\"Significant: {'✅ YES' if p_value < 0.05 else '❌ NO'}\")\n",
    "    \n",
    "    # Summary of sensitivity analysis\n",
    "    print(\"\\n\" + \"=\"*60)\n",
    "    print(\"           📋 SENSITIVITY SUMMARY\")\n",
    "    print(\"=\"*60)\n",
    "    \n",
    "    significant_count = sum(1 for result in sensitivity_results.values() if result['significant'])\n",
    "    total_scenarios = len(sensitivity_results)\n",
    "    \n",
    "    print(f\"\\n🎯 Scenarios with significant results: {significant_count}/{total_scenarios}\")\n",
    "    \n",
    "    if significant_count == total_scenarios:\n",
    "        print(\"✅ ROBUST: All scenarios show significant results - conclusions are reliable\")\n",
    "    elif significant_count > total_scenarios/2:\n",
    "        print(\"⚠️  MODERATE: Most scenarios show significant results - conclusions are moderately reliable\")\n",
    "    else:\n",
    "        print(\"❌ SENSITIVE: Results are sensitive to missing data treatment - exercise caution\")\n",
    "    \n",
    "    # Show range of lift estimates\n",
    "    lifts = [result['lift'] for result in sensitivity_results.values()]\n",
    "    print(f\"\\n📈 Lift Range: {min(lifts):+.1f}% to {max(lifts):+.1f}%\")\n",
    "    print(f\"📊 Average Lift: {np.mean(lifts):+.1f}% (±{np.std(lifts):.1f}%)\")\n",
    "    \n",
    "    return sensitivity_results\n",
    "\n",
    "# Perform sensitivity analysis\n",
    "sensitivity_results = sensitivity_analysis(analysis_scenarios)"
   ]
  },
  {
   "cell_type": "markdown",
   "id": "cell-16",
   "metadata": {},
   "source": [
    "## 8. Business Impact & Recommendations"
   ]
  },
  {
   "cell_type": "code",
   "execution_count": 9,
   "id": "cell-17",
   "metadata": {},
   "outputs": [
    {
     "name": "stdout",
     "output_type": "stream",
     "text": [
      "\n",
      "================================================================================\n",
      "                    📈 BUSINESS IMPACT & RECOMMENDATIONS\n",
      "================================================================================\n",
      "\n",
      "🎯 PRIMARY FINDING: PURCHASE CONVERSION RATE\n",
      "------------------------------------------------------------\n",
      "✅ STATISTICALLY SIGNIFICANT RESULT DETECTED\n",
      "🏆 Winner: Control Campaign\n",
      "📊 Conversion Rate Improvement: 13.6%\n",
      "📈 From 9.83% to 8.49%\n",
      "\n",
      "🎯 RECOMMEND: Continue with Control Campaign\n",
      "📋 ⚠️  INVESTIGATE why Test campaign underperformed before making changes\n",
      "\n",
      "\n",
      "🔄 FUNNEL OPTIMIZATION OPPORTUNITIES\n",
      "------------------------------------------------------------\n",
      "🟢 BEST PERFORMING STEP: Impression → Click\n",
      "   • Test campaign shows +69.8% improvement\n",
      "   • Recommend: Study and replicate this success in other campaigns\n",
      "\n",
      "🔴 UNDERPERFORMING STEP: View → Cart\n",
      "   • Test campaign shows -30.6% change\n",
      "   • Recommend: Investigate why this step underperformed in Test campaign\n",
      "\n",
      "\n",
      "🔬 ANALYSIS RELIABILITY\n",
      "------------------------------------------------------------\n",
      "📊 Analysis Reliability: HIGH\n",
      "🎯 Confidence Level: Very confident in recommendations\n",
      "✅ Consistent results across 3/3 data scenarios\n",
      "\n",
      "\n",
      "📋 RECOMMENDED NEXT STEPS\n",
      "------------------------------------------------------------\n",
      "1. 🚀 IMMEDIATE: Implement winning campaign strategy\n",
      "2. 📈 MONITOR: Track performance metrics closely for 2-4 weeks\n",
      "3. 🔍 ANALYZE: Deep dive into what made the winning campaign successful\n",
      "4. 📊 OPTIMIZE: Apply learnings to improve other marketing campaigns\n",
      "\n",
      "================================================================================\n",
      "                           ✅ ANALYSIS COMPLETE\n",
      "================================================================================\n"
     ]
    }
   ],
   "source": [
    "def generate_business_recommendations(test_results, funnel_comparison, sensitivity_results):\n",
    "    \"\"\"\n",
    "    Generate comprehensive business recommendations based on statistical analysis\n",
    "    \"\"\"\n",
    "    print(\"\\n\" + \"=\"*80)\n",
    "    print(\"                    📈 BUSINESS IMPACT & RECOMMENDATIONS\")\n",
    "    print(\"=\"*80)\n",
    "    \n",
    "    # Primary metric analysis\n",
    "    conversion_result = test_results['conversion_rate']\n",
    "    \n",
    "    print(\"\\n🎯 PRIMARY FINDING: PURCHASE CONVERSION RATE\")\n",
    "    print(\"-\" * 60)\n",
    "    \n",
    "    if conversion_result['significant']:\n",
    "        winner = 'Test' if conversion_result['test_rate'] > conversion_result['control_rate'] else 'Control'\n",
    "        print(f\"✅ STATISTICALLY SIGNIFICANT RESULT DETECTED\")\n",
    "        print(f\"🏆 Winner: {winner} Campaign\")\n",
    "        print(f\"📊 Conversion Rate Improvement: {abs(conversion_result['lift_percent']):.1f}%\")\n",
    "        print(f\"📈 From {conversion_result['control_rate']*100:.2f}% to {conversion_result['test_rate']*100:.2f}%\")\n",
    "        \n",
    "        # Business impact estimation\n",
    "        if winner == 'Test':\n",
    "            print(f\"\\n💰 BUSINESS IMPACT PROJECTION:\")\n",
    "            print(f\"   • For every 1000 clicks, expect {(conversion_result['test_rate'] - conversion_result['control_rate'])*1000:.0f} additional purchases\")\n",
    "            print(f\"   • Relative improvement of {conversion_result['lift_percent']:+.1f}% in conversion performance\")\n",
    "            \n",
    "            recommendation = \"RECOMMEND: Implement Test Campaign\"\n",
    "            action = \"🚀 SCALE UP the Test campaign approach across all marketing efforts\"\n",
    "        else:\n",
    "            recommendation = \"RECOMMEND: Continue with Control Campaign\"\n",
    "            action = \"⚠️  INVESTIGATE why Test campaign underperformed before making changes\"\n",
    "            \n",
    "    else:\n",
    "        print(f\"❌ NO STATISTICALLY SIGNIFICANT DIFFERENCE DETECTED\")\n",
    "        print(f\"📊 Observed difference: {conversion_result['lift_percent']:+.1f}%\")\n",
    "        print(f\"🔬 P-value: {conversion_result['p_value']:.6f} (not significant at α=0.05)\")\n",
    "        \n",
    "        recommendation = \"RECOMMEND: No Change Needed\"\n",
    "        action = \"🔄 Continue with current approach or run longer test for more power\"\n",
    "    \n",
    "    print(f\"\\n🎯 {recommendation}\")\n",
    "    print(f\"📋 {action}\")\n",
    "    \n",
    "    # Funnel insights\n",
    "    print(\"\\n\\n🔄 FUNNEL OPTIMIZATION OPPORTUNITIES\")\n",
    "    print(\"-\" * 60)\n",
    "    \n",
    "    # Find biggest lift and biggest drop in funnel\n",
    "    funnel_lifts = funnel_comparison.set_index('step')['lift']\n",
    "    best_step = funnel_lifts.idxmax()\n",
    "    worst_step = funnel_lifts.idxmin()\n",
    "    \n",
    "    print(f\"🟢 BEST PERFORMING STEP: {best_step}\")\n",
    "    print(f\"   • Test campaign shows {funnel_lifts[best_step]:+.1f}% improvement\")\n",
    "    print(f\"   • Recommend: Study and replicate this success in other campaigns\")\n",
    "    \n",
    "    print(f\"\\n🔴 UNDERPERFORMING STEP: {worst_step}\")\n",
    "    print(f\"   • Test campaign shows {funnel_lifts[worst_step]:+.1f}% change\")\n",
    "    if funnel_lifts[worst_step] < 0:\n",
    "        print(f\"   • Recommend: Investigate why this step underperformed in Test campaign\")\n",
    "    else:\n",
    "        print(f\"   • This step still shows improvement in Test campaign\")\n",
    "    \n",
    "    # Sensitivity analysis interpretation\n",
    "    print(\"\\n\\n🔬 ANALYSIS RELIABILITY\")\n",
    "    print(\"-\" * 60)\n",
    "    \n",
    "    significant_scenarios = sum(1 for r in sensitivity_results.values() if r['significant'])\n",
    "    total_scenarios = len(sensitivity_results)\n",
    "    \n",
    "    if significant_scenarios == total_scenarios:\n",
    "        reliability = \"HIGH\"\n",
    "        confidence = \"Very confident in recommendations\"\n",
    "    elif significant_scenarios > total_scenarios/2:\n",
    "        reliability = \"MODERATE\"\n",
    "        confidence = \"Moderately confident in recommendations\"\n",
    "    else:\n",
    "        reliability = \"LOW\"\n",
    "        confidence = \"Low confidence - need more data\"\n",
    "    \n",
    "    print(f\"📊 Analysis Reliability: {reliability}\")\n",
    "    print(f\"🎯 Confidence Level: {confidence}\")\n",
    "    print(f\"✅ Consistent results across {significant_scenarios}/{total_scenarios} data scenarios\")\n",
    "    \n",
    "    # Next steps\n",
    "    print(\"\\n\\n📋 RECOMMENDED NEXT STEPS\")\n",
    "    print(\"-\" * 60)\n",
    "    \n",
    "    if conversion_result['significant'] and reliability == \"HIGH\":\n",
    "        print(\"1. 🚀 IMMEDIATE: Implement winning campaign strategy\")\n",
    "        print(\"2. 📈 MONITOR: Track performance metrics closely for 2-4 weeks\")\n",
    "        print(\"3. 🔍 ANALYZE: Deep dive into what made the winning campaign successful\")\n",
    "        print(\"4. 📊 OPTIMIZE: Apply learnings to improve other marketing campaigns\")\n",
    "    elif not conversion_result['significant']:\n",
    "        print(\"1. 🔄 EXTEND: Run the test longer to increase statistical power\")\n",
    "        print(\"2. 📊 INCREASE: Consider larger sample sizes for future tests\")\n",
    "        print(\"3. 🎯 FOCUS: Test more dramatic differences between campaigns\")\n",
    "        print(\"4. 📈 MONITOR: Track secondary metrics that may show clearer differences\")\n",
    "    else:\n",
    "        print(\"1. 🔍 INVESTIGATE: Understand data quality issues affecting reliability\")\n",
    "        print(\"2. 🧹 IMPROVE: Enhance data collection processes\")\n",
    "        print(\"3. 🔄 REPEAT: Run the test again with better data quality controls\")\n",
    "        print(\"4. 📋 VALIDATE: Confirm results with additional testing\")\n",
    "    \n",
    "    print(\"\\n\" + \"=\"*80)\n",
    "    print(\"                           ✅ ANALYSIS COMPLETE\")\n",
    "    print(\"=\"*80)\n",
    "\n",
    "# Generate comprehensive business recommendations\n",
    "generate_business_recommendations(test_results, funnel_comparison, sensitivity_results)"
   ]
  },
  {
   "cell_type": "markdown",
   "id": "cell-18",
   "metadata": {},
   "source": [
    "## 9. Statistical Summary Report"
   ]
  },
  {
   "cell_type": "code",
   "execution_count": 10,
   "id": "cell-19",
   "metadata": {},
   "outputs": [
    {
     "name": "stdout",
     "output_type": "stream",
     "text": [
      "\n",
      "================================================================================\n",
      "                        📊 EXECUTIVE SUMMARY TABLE\n",
      "================================================================================\n",
      "                   Metric Control   Test   Lift     P-value Significant  Winner\n",
      " Purchase Conversion Rate   9.83%  8.49% -13.6%      0.0000           ✅ Control\n",
      "       Click-Through Rate   4.86%  8.25% +69.8%      0.0000           ✅    Test\n",
      "     Cost Per Acquisition   $4.41  $5.02 +13.8%      0.1968           ❌ Control\n",
      "Overall Funnel Conversion  0.477% 0.700% +46.8% See Primary           ✅    Test\n",
      "\n",
      "\n",
      "🔑 KEY TAKEAWAYS:\n",
      "--------------------------------------------------\n",
      "• Control campaign shows statistically significant improvement\n",
      "• Primary conversion rate improved by 13.6%\n",
      "• Recommend staying with Control campaign\n"
     ]
    }
   ],
   "source": [
    "def generate_executive_summary(test_results, funnel_rates):\n",
    "    \"\"\"\n",
    "    Generate executive summary table for stakeholders\n",
    "    \"\"\"\n",
    "    print(\"\\n\" + \"=\"*80)\n",
    "    print(\"                        📊 EXECUTIVE SUMMARY TABLE\")\n",
    "    print(\"=\"*80)\n",
    "    \n",
    "    # Create summary dataframe\n",
    "    summary_data = []\n",
    "    \n",
    "    # Conversion Rate\n",
    "    cr = test_results['conversion_rate']\n",
    "    summary_data.append({\n",
    "        'Metric': 'Purchase Conversion Rate',\n",
    "        'Control': f\"{cr['control_rate']*100:.2f}%\",\n",
    "        'Test': f\"{cr['test_rate']*100:.2f}%\",\n",
    "        'Lift': f\"{cr['lift_percent']:+.1f}%\",\n",
    "        'P-value': f\"{cr['p_value']:.4f}\",\n",
    "        'Significant': '✅' if cr['significant'] else '❌',\n",
    "        'Winner': 'Test' if cr['test_rate'] > cr['control_rate'] else 'Control'\n",
    "    })\n",
    "    \n",
    "    # Click-Through Rate\n",
    "    ctr = test_results['ctr']\n",
    "    summary_data.append({\n",
    "        'Metric': 'Click-Through Rate',\n",
    "        'Control': f\"{ctr['control_ctr']*100:.2f}%\",\n",
    "        'Test': f\"{ctr['test_ctr']*100:.2f}%\",\n",
    "        'Lift': f\"{ctr['lift_percent']:+.1f}%\",\n",
    "        'P-value': f\"{ctr['p_value']:.4f}\",\n",
    "        'Significant': '✅' if ctr['significant'] else '❌',\n",
    "        'Winner': 'Test' if ctr['test_ctr'] > ctr['control_ctr'] else 'Control'\n",
    "    })\n",
    "    \n",
    "    # CPA if available\n",
    "    if 'cpa' in test_results:\n",
    "        cpa = test_results['cpa']\n",
    "        summary_data.append({\n",
    "            'Metric': 'Cost Per Acquisition',\n",
    "            'Control': f\"${cpa['control_cpa']:.2f}\",\n",
    "            'Test': f\"${cpa['test_cpa']:.2f}\",\n",
    "            'Lift': f\"{cpa['lift_percent']:+.1f}%\",\n",
    "            'P-value': f\"{cpa['p_value']:.4f}\",\n",
    "            'Significant': '✅' if cpa['significant'] else '❌',\n",
    "            'Winner': 'Test' if cpa['test_cpa'] < cpa['control_cpa'] else 'Control'  # Lower is better for CPA\n",
    "        })\n",
    "    \n",
    "    # Overall funnel performance\n",
    "    control_overall = funnel_rates[funnel_rates['campaign'] == 'control']['overall_conversion'].iloc[0]\n",
    "    test_overall = funnel_rates[funnel_rates['campaign'] == 'test']['overall_conversion'].iloc[0]\n",
    "    overall_lift = (test_overall - control_overall) / control_overall * 100\n",
    "    \n",
    "    summary_data.append({\n",
    "        'Metric': 'Overall Funnel Conversion',\n",
    "        'Control': f\"{control_overall*100:.3f}%\",\n",
    "        'Test': f\"{test_overall*100:.3f}%\",\n",
    "        'Lift': f\"{overall_lift:+.1f}%\",\n",
    "        'P-value': 'See Primary',\n",
    "        'Significant': '✅' if cr['significant'] else '❌',\n",
    "        'Winner': 'Test' if test_overall > control_overall else 'Control'\n",
    "    })\n",
    "    \n",
    "    # Create and display summary table\n",
    "    summary_df = pd.DataFrame(summary_data)\n",
    "    print(summary_df.to_string(index=False))\n",
    "    \n",
    "    # Key takeaways\n",
    "    print(\"\\n\\n🔑 KEY TAKEAWAYS:\")\n",
    "    print(\"-\" * 50)\n",
    "    \n",
    "    if cr['significant']:\n",
    "        winner = 'Test' if cr['test_rate'] > cr['control_rate'] else 'Control'\n",
    "        print(f\"• {winner} campaign shows statistically significant improvement\")\n",
    "        print(f\"• Primary conversion rate improved by {abs(cr['lift_percent']):.1f}%\")\n",
    "        \n",
    "        if winner == 'Test':\n",
    "            print(f\"• Recommend implementing Test campaign strategy\")\n",
    "        else:\n",
    "            print(f\"• Recommend staying with Control campaign\")\n",
    "    else:\n",
    "        print(f\"• No statistically significant difference between campaigns\")\n",
    "        print(f\"• Consider longer testing period or larger sample size\")\n",
    "        print(f\"• Current approach appears adequate\")\n",
    "    \n",
    "    return summary_df\n",
    "\n",
    "# Generate executive summary\n",
    "executive_summary = generate_executive_summary(test_results, funnel_rates)"
   ]
  },
  {
   "cell_type": "markdown",
   "id": "cell-20",
   "metadata": {},
   "source": [
    "## 10. Conclusion\n",
    "\n",
    "### 📋 Analysis Methodology Summary:\n",
    "1. **Data Quality Assessment**: Comprehensive evaluation of data completeness and integrity\n",
    "2. **Sensitivity Analysis**: Testing robustness across multiple missing data treatment scenarios\n",
    "3. **Statistical Testing**: Rigorous hypothesis testing using appropriate statistical methods\n",
    "4. **Funnel Analysis**: Step-by-step conversion analysis to identify optimization opportunities\n",
    "5. **Business Impact**: Translation of statistical results into actionable business recommendations\n",
    "\n",
    "### 🎯 Statistical Rigor:\n",
    "- Two-proportion z-tests for conversion rate comparisons\n",
    "- Confidence intervals for effect size estimation\n",
    "- Multiple scenario testing for result validation\n",
    "- Appropriate statistical test selection based on data characteristics\n",
    "\n",
    "### 📈 Business Value:\n",
    "This analysis provides a complete framework for data-driven campaign optimization decisions, ensuring statistical rigor while maintaining focus on practical business outcomes."
   ]
  }
 ],
 "metadata": {
  "kernelspec": {
   "display_name": "Python 3",
   "language": "python",
   "name": "python3"
  },
  "language_info": {
   "codemirror_mode": {
    "name": "ipython",
    "version": 3
   },
   "file_extension": ".py",
   "mimetype": "text/x-python",
   "name": "python",
   "nbconvert_exporter": "python",
   "pygments_lexer": "ipython3",
   "version": "3.10.11"
  }
 },
 "nbformat": 4,
 "nbformat_minor": 5
}
