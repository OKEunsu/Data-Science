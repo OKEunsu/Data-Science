{
  "nbformat": 4,
  "nbformat_minor": 0,
  "metadata": {
    "colab": {
      "provenance": [],
      "toc_visible": true,
      "authorship_tag": "ABX9TyPS895e1hrJ7zm13Z7CAip0"
    },
    "kernelspec": {
      "name": "python3",
      "display_name": "Python 3"
    },
    "language_info": {
      "name": "python"
    }
  },
  "cells": [
    {
      "cell_type": "markdown",
      "source": [
        "# 이분 탐색 알고리즘\n",
        "*  시간복잡도 : +, -, *, /, = 기본 연산을 몇 번 -> 여러가지 프로그램 , 우수성 비교\n"
      ],
      "metadata": {
        "id": "_BPGBU4XHhlu"
      }
    },
    {
      "cell_type": "code",
      "source": [
        "# 예제\n",
        "def binary_search(arr, target):\n",
        "    low = 0\n",
        "    high = len(arr) - 1\n",
        "\n",
        "    while low <= high:\n",
        "        mid = (low + high) // 2\n",
        "        print(f\"low: {low}, high: {high}, mid: {mid}, mid_value: {arr[mid]}\")  # 디버깅 출력\n",
        "        if arr[mid] == target:\n",
        "            return mid  # 찾으면 인덱스 반환\n",
        "        elif arr[mid] < target:\n",
        "            low = mid + 1  # 오른쪽 탐색\n",
        "        else:\n",
        "            high = mid - 1  # 왼쪽 탐색\n",
        "\n",
        "    return -1  # 찾는 값이 없는 경우\n",
        "\n",
        "# 사용 예시\n",
        "arr = [1, 3, 5, 7, 9, 11]\n",
        "target = 7\n",
        "result = binary_search(arr, target)\n",
        "print(\"Result:\", result)"
      ],
      "metadata": {
        "colab": {
          "base_uri": "https://localhost:8080/"
        },
        "id": "E7G20Fz36wOR",
        "outputId": "96929aee-0077-4750-fd41-934ad3dac9d5"
      },
      "execution_count": null,
      "outputs": [
        {
          "output_type": "stream",
          "name": "stdout",
          "text": [
            "low: 0, high: 5, mid: 2, mid_value: 5\n",
            "low: 3, high: 5, mid: 4, mid_value: 9\n",
            "low: 3, high: 3, mid: 3, mid_value: 7\n",
            "Result: 3\n"
          ]
        }
      ]
    },
    {
      "cell_type": "markdown",
      "source": [
        "## 문제 1 : [예산](https://www.acmicpc.net/problem/2512)\n"
      ],
      "metadata": {
        "id": "62mz4H7HNs5L"
      }
    },
    {
      "cell_type": "markdown",
      "source": [
        "범위 : [1, max(jibang)]"
      ],
      "metadata": {
        "id": "YjQWfFyd9hyw"
      }
    },
    {
      "cell_type": "code",
      "source": [
        "N = int(input())\n",
        "jibang = list(map(int, input().split()))\n",
        "budget = int(input())\n",
        "\n",
        "left = 0\n",
        "right = max(jibang)\n",
        "answer = -1\n",
        "\n",
        "while left <= right:\n",
        "  middle = (left + right) // 2\n",
        "\n",
        "  sum = 0\n",
        "  for i in range(N):\n",
        "    sum += min(middle, jibang[i])\n",
        "\n",
        "  if sum <= budget:\n",
        "    answer = middle\n",
        "    left = middle + 1\n",
        "\n",
        "  else:\n",
        "    right = middle - 1\n",
        "\n",
        "print(answer)"
      ],
      "metadata": {
        "colab": {
          "base_uri": "https://localhost:8080/"
        },
        "id": "mSwkLyiqHkdo",
        "outputId": "733c53a9-eb54-48ac-c620-499e23714d8c"
      },
      "execution_count": null,
      "outputs": [
        {
          "output_type": "stream",
          "name": "stdout",
          "text": [
            "5\n",
            "70 80 30 40 100\n",
            "450\n",
            "100\n"
          ]
        }
      ]
    },
    {
      "cell_type": "markdown",
      "source": [
        "## 문제 2 : [기타 레슨](https://www.acmicpc.net/problem/2343)\n",
        "\n",
        "- 범위 : max(블루레이 시간) ~ sum(블루레이 시간)"
      ],
      "metadata": {
        "id": "Lbco5tQURpGo"
      }
    },
    {
      "cell_type": "code",
      "source": [
        "N, M = map(int, input().split())\n",
        "blueray = [i for i in range(1, N+1)]\n",
        "\n",
        "left = max(blueray)  # 최소 블루레이 크기: 가장 큰 값\n",
        "right = sum(blueray)  # 최대 블루레이 크기: 전체 합\n",
        "answer = -1\n",
        "\n",
        "while left <= right:\n",
        "    middle = (left + right) // 2  # 임시 블루레이 용량\n",
        "\n",
        "    blueray_num = 1  # 필요한 블루레이 개수\n",
        "    remain = middle  # 현재 블루레이의 남은 용량\n",
        "\n",
        "    for i in range(N):\n",
        "        if remain < blueray[i]:  # 현재 남은 용량으로는 i번째 블루레이를 담을 수 없는 경우\n",
        "            blueray_num += 1  # 새로운 블루레이 사용\n",
        "            remain = middle  # 새 블루레이의 용량 초기화\n",
        "\n",
        "        remain -= blueray[i]  # 현재 블루레이에 담기\n",
        "\n",
        "    if blueray_num <= M:  # 블루레이 개수가 M 이내인 경우\n",
        "        answer = middle\n",
        "        right = middle - 1  # 더 작은 용량을 탐색\n",
        "    else:\n",
        "        left = middle + 1  # 더 큰 용량을 탐색\n",
        "\n",
        "print(answer)"
      ],
      "metadata": {
        "colab": {
          "base_uri": "https://localhost:8080/"
        },
        "id": "WtNtncOz2Xr7",
        "outputId": "74fe4533-fd70-43c8-954f-b8d1e63444b3"
      },
      "execution_count": null,
      "outputs": [
        {
          "output_type": "stream",
          "name": "stdout",
          "text": [
            "9 3\n",
            "17\n"
          ]
        }
      ]
    },
    {
      "cell_type": "markdown",
      "source": [
        "# 정렬\n",
        "* 정렬 -> 배열 원소를 순서에 맞게 재배치"
      ],
      "metadata": {
        "id": "HXJdYTlK-ZsN"
      }
    },
    {
      "cell_type": "markdown",
      "source": [
        "## 문제 1 : [신입사원](https://www.acmicpc.net/problem/1946)\n"
      ],
      "metadata": {
        "id": "vSEHiGY-rypw"
      }
    },
    {
      "cell_type": "code",
      "source": [
        "# 입력값을 하드코딩하여 테스트\n",
        "test_data = \"\"\"2\n",
        "5\n",
        "3 2\n",
        "1 4\n",
        "4 1\n",
        "2 3\n",
        "5 5\n",
        "7\n",
        "3 6\n",
        "7 3\n",
        "4 2\n",
        "1 4\n",
        "5 7\n",
        "2 5\n",
        "6 1\n",
        "\"\"\"\n",
        "input = iter(test_data.splitlines()).__next__\n",
        "\n",
        "T = int(input().strip())\n",
        "\n",
        "for _ in range(T):\n",
        "    N = int(input().strip())\n",
        "    candidates = []\n",
        "\n",
        "    for _ in range(N):\n",
        "        s, m = map(int, input().strip().split())\n",
        "        candidates.append((s, m))\n",
        "\n",
        "    candidates.sort()\n",
        "    top_ranking = float('inf')\n",
        "    count = 0\n",
        "\n",
        "    for i in range(N):\n",
        "        if candidates[i][1] < top_ranking:\n",
        "            count += 1\n",
        "            top_ranking = candidates[i][1]\n",
        "\n",
        "    print(count)"
      ],
      "metadata": {
        "id": "xRqwgtiwq4Wn",
        "colab": {
          "base_uri": "https://localhost:8080/"
        },
        "outputId": "002ed3bc-4e4c-4021-87f9-60484866e0d3"
      },
      "execution_count": null,
      "outputs": [
        {
          "output_type": "stream",
          "name": "stdout",
          "text": [
            "4\n",
            "3\n"
          ]
        }
      ]
    },
    {
      "cell_type": "code",
      "source": [
        "# 예제 순서 정렬\n",
        "data = [(3, 2), (1, 4), (4, 1), (2, 3), (5, 5)]\n",
        "data.sort()\n",
        "print(data)"
      ],
      "metadata": {
        "colab": {
          "base_uri": "https://localhost:8080/"
        },
        "id": "9Ys3IwJIQqo7",
        "outputId": "63e14fa3-b8ea-412f-f616-9055aa9f9c7b"
      },
      "execution_count": null,
      "outputs": [
        {
          "output_type": "stream",
          "name": "stdout",
          "text": [
            "[(1, 4), (2, 3), (3, 2), (4, 1), (5, 5)]\n"
          ]
        }
      ]
    },
    {
      "cell_type": "markdown",
      "source": [
        "## 문제 2 : [배열합치기](https://www.acmicpc.net/problem/11728)\n",
        "\n",
        "* 배열을 합치고 정렬을 했을 경우 : 시간 복잡도 = (M+N) log_2 (M+N)\n",
        "* 각 배열 앞을 비교하면서 정렬 했을 경우 : 시간 복잡도 = (N+M)\n",
        "\n"
      ],
      "metadata": {
        "id": "Ms3F8GgJr0dQ"
      }
    },
    {
      "cell_type": "code",
      "source": [
        "N, M = map(int, input().split())\n",
        "A = list(map(int, input().split()))\n",
        "B = list(map(int, input().split()))\n",
        "C = []\n",
        "\n",
        "# 두 리스트의 포인터 초기화\n",
        "index_a = 0\n",
        "index_b = 0\n",
        "\n",
        "# 병합 과정\n",
        "while index_a < N and index_b < M:\n",
        "    if A[index_a] < B[index_b]:\n",
        "        C.append(A[index_a])\n",
        "        index_a += 1\n",
        "    else:\n",
        "        C.append(B[index_b])\n",
        "        index_b += 1\n",
        "\n",
        "# 남은 요소 처리\n",
        "if index_a < N:\n",
        "    C.extend(A[index_a:])\n",
        "if index_b < M:\n",
        "    C.extend(B[index_b:])\n",
        "\n",
        "# 결과 출력\n",
        "print(' '.join(map(str, C)))"
      ],
      "metadata": {
        "colab": {
          "base_uri": "https://localhost:8080/"
        },
        "id": "N6wVSiFHc0ER",
        "outputId": "12c8b1b2-9f97-479a-e67a-911b49c00729"
      },
      "execution_count": null,
      "outputs": [
        {
          "output_type": "stream",
          "name": "stdout",
          "text": [
            "4 3\n",
            "2 3 5 9\n",
            "1 4 7\n",
            "1 2 3 4 5 7 9\n"
          ]
        }
      ]
    },
    {
      "cell_type": "code",
      "source": [
        "# 패키지 heapg.merge 사용\n",
        "import heapq\n",
        "\n",
        "# 입력 처리\n",
        "N, M = map(int, input().split())\n",
        "A = list(map(int, input().split()))\n",
        "B = list(map(int, input().split()))\n",
        "\n",
        "# 병합\n",
        "C = list(heapq.merge(A, B))\n",
        "\n",
        "# 결과 출력\n",
        "print(' '.join(map(str, C)))"
      ],
      "metadata": {
        "id": "6D7IJilYyWYQ",
        "colab": {
          "base_uri": "https://localhost:8080/"
        },
        "outputId": "77a0c748-8b36-4a7c-8537-e1dde317ba28"
      },
      "execution_count": null,
      "outputs": [
        {
          "output_type": "stream",
          "name": "stdout",
          "text": [
            "4 3\n",
            "3 5\n",
            "2 9\n",
            "2 3 5 9\n"
          ]
        }
      ]
    },
    {
      "cell_type": "markdown",
      "source": [
        "# 완전 탐색 알고리즘\n",
        "*  모든 것을 다 시도하는 방법 -> 모든 경우의 수\n",
        "*  조합, 순열, 부분 집합"
      ],
      "metadata": {
        "id": "69frqrAN6eiJ"
      }
    },
    {
      "cell_type": "markdown",
      "source": [
        "## 문제 1 : [일곱난쟁이](https://www.acmicpc.net/problem/2309)\n"
      ],
      "metadata": {
        "id": "f3g7n1296pr8"
      }
    },
    {
      "cell_type": "code",
      "source": [
        "from itertools import combinations\n",
        "\n",
        "it = combinations(range(1, 6), 2) # 5C2 = 10"
      ],
      "metadata": {
        "id": "FjaYxsh5C2Ew"
      },
      "execution_count": null,
      "outputs": []
    },
    {
      "cell_type": "code",
      "source": [
        "for num in it:\n",
        "  print(num)"
      ],
      "metadata": {
        "colab": {
          "base_uri": "https://localhost:8080/"
        },
        "id": "9OsnmNLRC-Yp",
        "outputId": "40afe0f7-851e-44b4-d05e-05f8ce9d3b4f"
      },
      "execution_count": null,
      "outputs": [
        {
          "output_type": "stream",
          "name": "stdout",
          "text": [
            "(1, 2)\n",
            "(1, 3)\n",
            "(1, 4)\n",
            "(1, 5)\n",
            "(2, 3)\n",
            "(2, 4)\n",
            "(2, 5)\n",
            "(3, 4)\n",
            "(3, 5)\n",
            "(4, 5)\n"
          ]
        }
      ]
    },
    {
      "cell_type": "code",
      "source": [
        "from itertools import combinations\n",
        "\n",
        "heights = []\n",
        "for _ in range(9):\n",
        "  height = int(input())\n",
        "  heights.append(height)\n",
        "\n",
        "for a in combinations(heights, 7):\n",
        "  if sum(a) == 100:\n",
        "    a = list(a)\n",
        "    a.sort()\n",
        "    for x in a:\n",
        "      print(x)\n",
        "    break"
      ],
      "metadata": {
        "id": "6a09btEC6rPQ",
        "colab": {
          "base_uri": "https://localhost:8080/"
        },
        "outputId": "cc030081-3987-4fc6-d4f7-1f8dfef827a9"
      },
      "execution_count": null,
      "outputs": [
        {
          "output_type": "stream",
          "name": "stdout",
          "text": [
            "20\n",
            "7\n",
            "23\n",
            "19\n",
            "10\n",
            "15\n",
            "25\n",
            "8\n",
            "13\n",
            "7\n",
            "8\n",
            "10\n",
            "13\n",
            "19\n",
            "20\n",
            "23\n"
          ]
        }
      ]
    },
    {
      "cell_type": "markdown",
      "source": [
        "## 문제 2 : [차이를 최대로](https://www.acmicpc.net/problem/10819)\n"
      ],
      "metadata": {
        "id": "3gvkRl1P6nVX"
      }
    },
    {
      "cell_type": "code",
      "source": [
        "from itertools import permutations # 순열\n",
        "\n",
        "l = ['A', 'B', 'C']\n",
        "\n",
        "for i in permutations(l): #r을 지정하지 않거나 r=None으로 하면 최대 길이의 순열이 리턴된다!\n",
        "\tprint(i)"
      ],
      "metadata": {
        "colab": {
          "base_uri": "https://localhost:8080/"
        },
        "id": "yf44PCqfE2qh",
        "outputId": "9b436fab-934b-4c79-a02b-6aa7fc04a363"
      },
      "execution_count": null,
      "outputs": [
        {
          "output_type": "stream",
          "name": "stdout",
          "text": [
            "('A', 'B', 'C')\n",
            "('A', 'C', 'B')\n",
            "('B', 'A', 'C')\n",
            "('B', 'C', 'A')\n",
            "('C', 'A', 'B')\n",
            "('C', 'B', 'A')\n"
          ]
        }
      ]
    },
    {
      "cell_type": "code",
      "source": [
        "from itertools import permutations\n",
        "\n",
        "N = int(input())\n",
        "A = list(map(int, input().split()))\n",
        "\n",
        "max_diff_sum = 0\n",
        "\n",
        "for a in permutations(A, N):\n",
        "  diff_sum = 0\n",
        "  for i in range(N-1):\n",
        "    diff_sum += abs(a[i] - a[i+1])\n",
        "\n",
        "  max_diff_sum = max(max_diff_sum, diff_sum)\n",
        "\n",
        "print(max_diff_sum)"
      ],
      "metadata": {
        "id": "7a1cA_nTODpL",
        "colab": {
          "base_uri": "https://localhost:8080/"
        },
        "outputId": "652ac91b-1e5d-45ec-e7cf-9084869a07c9"
      },
      "execution_count": null,
      "outputs": [
        {
          "output_type": "stream",
          "name": "stdout",
          "text": [
            "6\n",
            "20 1 15 8 4 10\n",
            "62\n"
          ]
        }
      ]
    },
    {
      "cell_type": "markdown",
      "source": [
        "# 투 포인터 알고리즘\n",
        "\n",
        "예제) 정렬된 배열 A -> 원소 중에 합인 x인 두 쌍이 있나?\n",
        "\n",
        "A : 1 3 4 6 8 11 12 17 20  \n",
        "x = 20\n",
        "\n",
        "*  시간 복잡도 : N^2\n",
        "*  투포인트 : N-1"
      ],
      "metadata": {
        "id": "hedaoGORGX8f"
      }
    },
    {
      "cell_type": "markdown",
      "source": [
        "## 문제 1 : [수들의 합 2](https://www.acmicpc.net/problem/2003)\n"
      ],
      "metadata": {
        "id": "f61C_hfOsxuZ"
      }
    },
    {
      "cell_type": "code",
      "source": [
        "N, M = list(map(int, input().split()))\n",
        "A = list(map(int, input().split()))\n",
        "\n",
        "start = 0 # 시작점\n",
        "end = 0 # 끝 점\n",
        "sum = A[0]\n",
        "\n",
        "count = 0\n",
        "while True:\n",
        "  # 현재 구간이 합이 M인지 확인\n",
        "  if sum == M:\n",
        "    count += 1\n",
        "\n",
        "  # 구간을 업데이트\n",
        "  if sum >= M:\n",
        "    start += 1\n",
        "    sum -= A[start - 1]\n",
        "\n",
        "  else:\n",
        "    if end == N - 1:\n",
        "      break\n",
        "\n",
        "    end += 1\n",
        "    sum += A[end]\n",
        "\n",
        "print(count)"
      ],
      "metadata": {
        "colab": {
          "base_uri": "https://localhost:8080/"
        },
        "id": "U3ANP2UWcTxG",
        "outputId": "10ecf5bc-2f1f-4fdb-cbc4-597d54358074"
      },
      "execution_count": null,
      "outputs": [
        {
          "output_type": "stream",
          "name": "stdout",
          "text": [
            "10 5\n",
            "1 2 3 4 2 5 3 1 1 2\n",
            "3\n"
          ]
        }
      ]
    },
    {
      "cell_type": "markdown",
      "source": [
        "4 2  \n",
        "1 1 1 1  \n",
        "3"
      ],
      "metadata": {
        "id": "IPefLcBCzv30"
      }
    },
    {
      "cell_type": "markdown",
      "source": [
        "10 5  \n",
        "1 2 3 4 2 5 3 1 1 2  \n",
        "3"
      ],
      "metadata": {
        "id": "ZkyRDUN_zrt2"
      }
    },
    {
      "cell_type": "markdown",
      "source": [
        "## 문제 2 : [먹을 것인가 먹힐 것인가](https://www.acmicpc.net/problem/7795)\n"
      ],
      "metadata": {
        "id": "qVtbQcWLs1Uu"
      }
    },
    {
      "cell_type": "markdown",
      "source": [
        "2  \n",
        "5 3  \n",
        "8 1 7 3 1  \n",
        "3 6 1  \n",
        "3 4  \n",
        "2 13 7  \n",
        "103 11 290 215  "
      ],
      "metadata": {
        "id": "FCe-rgoGV5KW"
      }
    },
    {
      "cell_type": "code",
      "source": [
        "T = int(input())\n",
        "\n",
        "for _ in range(T):\n",
        "  N, M = list(map(int, input().split()))\n",
        "  A = list(map(int, input().split()))\n",
        "  B = list(map(int, input().split()))\n",
        "\n",
        "  A = sorted(A)\n",
        "  B = sorted(B)\n",
        "\n",
        "  main = 0\n",
        "  sub = 0\n",
        "  count = 0\n",
        "\n",
        "  while main < N:\n",
        "    if sub == M:\n",
        "      count += sub\n",
        "      main += 1\n",
        "    else:\n",
        "      if A[main] > B[sub]:\n",
        "        sub += 1\n",
        "      else:\n",
        "        count += sub\n",
        "        main += 1\n",
        "  print(count)"
      ],
      "metadata": {
        "colab": {
          "base_uri": "https://localhost:8080/"
        },
        "id": "8b3UNqJJs6jP",
        "outputId": "2bb5f611-3556-4327-d118-c80d0f1161d7"
      },
      "execution_count": null,
      "outputs": [
        {
          "output_type": "stream",
          "name": "stdout",
          "text": [
            "2\n",
            "5 3\n",
            "8 1 7 3 1\n",
            "3 6 1\n",
            "7\n",
            "3 4\n",
            "2 13 7\n",
            "103 11 290 215\n",
            "1\n"
          ]
        }
      ]
    },
    {
      "cell_type": "markdown",
      "source": [
        "# 그리디 알고리즘\n",
        "*  선택을 여러번 -> 각 선택마다 이 순간 최적 선택\n",
        "1. 무엇을 선택\n",
        "2. 어떤 순서로 선택"
      ],
      "metadata": {
        "id": "hN234L1e26bh"
      }
    },
    {
      "cell_type": "markdown",
      "source": [
        "## 문제 1 : [ATM](https://www.acmicpc.net/problem/11399)\n"
      ],
      "metadata": {
        "id": "x1PvZTvM2-G2"
      }
    },
    {
      "cell_type": "code",
      "source": [
        "N = int(input())\n",
        "P = list(map(int, input().split()))\n",
        "print(N, P)\n",
        "P = sorted(P)\n",
        "print(P)\n",
        "waiting = [0] * N\n",
        "print(waiting)\n",
        "waiting[0] = P[0]\n",
        "for i in range(1, N):\n",
        "  waiting[i] = waiting[i - 1] + P[i]\n",
        "\n",
        "print(waiting)\n",
        "print(sum(waiting))"
      ],
      "metadata": {
        "id": "EJ3f0nM1274U",
        "colab": {
          "base_uri": "https://localhost:8080/"
        },
        "outputId": "b22f5ca4-0758-43d3-eb88-b5224bcc28ab"
      },
      "execution_count": 3,
      "outputs": [
        {
          "output_type": "stream",
          "name": "stdout",
          "text": [
            "5\n",
            "3 1 4 3 2\n",
            "5 [3, 1, 4, 3, 2]\n",
            "[1, 2, 3, 3, 4]\n",
            "[0, 0, 0, 0, 0]\n",
            "[1, 3, 6, 9, 13]\n",
            "32\n"
          ]
        }
      ]
    },
    {
      "cell_type": "markdown",
      "source": [
        "## 문제 2 : [게임을 만든 동준이](https://www.acmicpc.net/problem/2847)\n"
      ],
      "metadata": {
        "id": "6v4kJTud3Ab7"
      }
    },
    {
      "cell_type": "code",
      "source": [
        "# 목표 : 최대한 덜 깍자\n",
        "# 1. 무엇을 선택하냐 -> 각 레벨의 보상 몇으로\n",
        "# 2. 어떤 순서로 선택하냐 -> 높은 레벨 부터\n",
        "N = int(input())\n",
        "L = [0] * N\n",
        "\n",
        "for i in range(N):\n",
        "  L[i] = int(input())\n",
        "\n",
        "count = 0\n",
        "for i in range(N - 2, -1, -1):\n",
        "  if L[i] >= L[i+1]:\n",
        "    count += L[i] - (L[i + 1] - 1)\n",
        "    L[i] = L[i + 1] - 1\n",
        "\n",
        "print(count)"
      ],
      "metadata": {
        "id": "AvlmIUZm3CGw",
        "colab": {
          "base_uri": "https://localhost:8080/"
        },
        "outputId": "68dabbff-a15d-440a-dc2f-b5662d5f5fd9"
      },
      "execution_count": 1,
      "outputs": [
        {
          "output_type": "stream",
          "name": "stdout",
          "text": [
            "3\n",
            "5\n",
            "5\n",
            "5\n",
            "3\n"
          ]
        }
      ]
    },
    {
      "cell_type": "code",
      "source": [],
      "metadata": {
        "id": "mpl_QcklTeHb"
      },
      "execution_count": null,
      "outputs": []
    }
  ]
}