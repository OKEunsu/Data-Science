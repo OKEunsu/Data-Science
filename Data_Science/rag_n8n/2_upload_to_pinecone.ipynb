{
 "cells": [
  {
   "cell_type": "markdown",
   "id": "1366fe42",
   "metadata": {},
   "source": [
    "# 2_Upload_to_Pinecone Notebook\n",
    "\n",
    "전처리된 데이터를 임베딩하고 Pinecone 인덱스에 업로드하는 노트북입니다."
   ]
  },
  {
   "cell_type": "markdown",
   "id": "cc242879",
   "metadata": {},
   "source": [
    "## 1. 환경 준비\n",
    "- Markdown 문서를 읽어 파싱하는 유틸을 불러옵니다.\n",
    "- OpenAI/Pinecone 클라이언트를 초기화합니다."
   ]
  },
  {
   "cell_type": "code",
   "execution_count": 4,
   "id": "bd961c90",
   "metadata": {},
   "outputs": [],
   "source": [
    "# Markdown 헤더 기준으로 문서 분할 도구 설정\n",
    "from langchain_text_splitters import MarkdownHeaderTextSplitter\n",
    "\n",
    "# 헤더 레벨 → 메타데이터 키 매핑\n",
    "headers_to_split_on = [\n",
    "    (\"#\", \"title\"),\n",
    "    (\"##\", \"chapter\"),\n",
    "    (\"###\", \"section\"),\n",
    "]\n",
    "\n",
    "markdown_splitter = MarkdownHeaderTextSplitter(headers_to_split_on)"
   ]
  },
  {
   "cell_type": "markdown",
   "id": "3aea3c8b",
   "metadata": {},
   "source": [
    "## 2. Pinecone 임베딩 업로드\n",
    "- 임베딩 모델을 사용해 문서를 벡터화하고 지정한 인덱스에 업서트합니다."
   ]
  },
  {
   "cell_type": "code",
   "execution_count": 5,
   "id": "d3cd3843",
   "metadata": {},
   "outputs": [],
   "source": [
    "# Pinecone 벡터스토어와 임베딩 초기화\n",
    "from dotenv import load_dotenv\n",
    "from langchain_pinecone import PineconeVectorStore\n",
    "from langchain_openai import OpenAIEmbeddings\n",
    "from pinecone import Pinecone\n",
    "import os\n",
    "\n",
    "load_dotenv()  # .env 로드\n",
    "\n",
    "pinecone = Pinecone(api_key=os.environ.get(\"PINECONE_API_KEY\"))  # Pinecone 클라이언트\n",
    "\n",
    "embeddings = OpenAIEmbeddings(model=\"text-embedding-3-large\")  # 임베딩 모델\n",
    "index_name = \"inhouse-python-index\"  # 기존에 생성된 인덱스 이름\n",
    "index = pinecone.Index(index_name)  # 인덱스 핸들\n",
    "\n",
    "vector_store = PineconeVectorStore(\n",
    "    index=index,\n",
    "    embedding=embeddings,\n",
    ")  # LangChain VectorStore 래퍼"
   ]
  },
  {
   "cell_type": "markdown",
   "id": "df6347ac",
   "metadata": {},
   "source": [
    "## 3. 업로드 검증\n",
    "- 업로드된 문서를 샘플 조회하여 검색 품질을 확인합니다."
   ]
  },
  {
   "cell_type": "code",
   "execution_count": 8,
   "id": "10ab84ab",
   "metadata": {},
   "outputs": [],
   "source": [
    "# 변환된 Markdown 파일들을 분할하여 업로드\n",
    "import os\n",
    "\n",
    "input_dir = './output'  # data_processing에서 생성된 결과 폴더\n",
    "\n",
    "for filename in os.listdir(input_dir):\n",
    "    if filename.endswith('.md'):\n",
    "        md_path = os.path.join(input_dir, filename)\n",
    "        # UTF-8로 마크다운 읽기\n",
    "        with open(md_path, 'r', encoding='utf-8') as f:\n",
    "            markdown_text = f.read()\n",
    "\n",
    "        # 헤더 기반으로 문서를 섹션 단위로 분할\n",
    "        docs = markdown_splitter.split_text(markdown_text)\n",
    "        for doc in docs:\n",
    "            # 원본 파일명을 메타데이터로 보존 (확장자 제거)\n",
    "            doc.metadata['source'] = filename.replace('.md', '')\n",
    "\n",
    "        # Pinecone 벡터스토어에 업로드\n",
    "        vector_store.add_documents(docs)\n"
   ]
  },
  {
   "cell_type": "markdown",
   "id": "10416692",
   "metadata": {},
   "source": [
    "## 4. 후속 작업\n",
    "- 필요 시 추가 테스트나 운영 노하우를 기록합니다."
   ]
  },
  {
   "cell_type": "code",
   "execution_count": 9,
   "id": "d2acec17",
   "metadata": {},
   "outputs": [],
   "source": [
    "# 검색기 생성 (k-NN 질의용)\n",
    "retriever = vector_store.as_retriever()"
   ]
  },
  {
   "cell_type": "code",
   "execution_count": 10,
   "id": "6dda38d4",
   "metadata": {},
   "outputs": [
    {
     "data": {
      "text/plain": [
       "[Document(id='fba192c3-86fb-45aa-bf94-168050580950', metadata={'chapter': '제 7 조 (경조 휴가)', 'source': 'employee_benefits_and_welfare_guide'}, page_content='다음의 경조사유에 대해 휴가를 부여한다:  \\n| 경조 사유    | 휴가 일수 |\\n|--------------|-----------|\\n| 본인 결혼    | 5 일      |\\n| 자녀 결혼    | 2 일      |\\n| 부모 사망    | 5 일      |\\n| 배우자 사망  | 7 일      |\\n| 조부모 사망  | 3 일      |\\n| 자녀 출생    | 3 일      |\\n| 본인 생일    | 1 일      |\\n| 결혼 기념일  | 1 일      |'),\n",
       " Document(id='02d35258-b778-44ae-99fb-5fe45ba86dc0', metadata={'chapter': '제 3장 근로 시간 및 휴가', 'section': '제 6조 (근로 시간)', 'source': 'employee_handbook_and_hr_policy', 'title': '직원 핸드북 및 인사 정책'}, page_content='- 기본 근무 시간: 월요일~금요일, 오전 9시 ~ 오후 6시\\n- 점심 시간: 오후 12시 ~ 오후 1시\\n- 유연 근무 가능 (사전 승인 필요)  \\n제 7조 (지각, 결근)\\n• 지각: 정해진 근무 시간 이후 도착할 경우\\n• 결근: 사전에 신청 없음 출력하지 않는 경우\\n• 3회 지각 시 1회 결근으로 처리  \\n제 8조 (연차 유급 휴가)\\n• 연차 유급 휴가는 근속 연수에 따라 차등 지급한다.\\n• 연차 휴가 지급 기준:  \\n| 근속 연수 | 연차 휴가 일수 |\\n|-----------|----------------|\\n| 1년 미만 | 1 일           |\\n| 1~3년    | 15 일          |\\n| 4~6년    | 17 일          |\\n| 7~9년    | 19 일          |\\n| 10년 이상 | 20 일          |  \\n제 9조 (출산 및 육아 휴가)\\n• 출산 휴가: 20 일 (유급)\\n• 육아 휴가: 최대 1년, 무급 (단, 첫 3개월은 월급의 50% 지원)  \\n제 10조 (경조 휴가)\\n• 경조 휴가는 다음과 같이 지급한다.  \\n| 경조 사유      | 휴가 일수 |\\n|----------------|-----------|\\n| 본인 결혼      | 5 일      |\\n| 자녀 결혼      | 2 일      |\\n| 부모 사망      | 5 일      |\\n| 배우자 사망    | 7 일      |\\n| 조부모 사망    | 3 일      |\\n| 자녀 출생      | 3 일      |\\n| 본인 생일      | 1 일      |\\n| 결혼 기념일    | 1 일      |'),\n",
       " Document(id='54f76b38-690d-4fa8-85b3-3e3322bec22f', metadata={'chapter': '제 14 조 (경조사 화환 지원)', 'source': 'employee_benefits_and_welfare_guide', 'title': '제 6 장 경조사 지원'}, page_content='- 결혼, 장례 시 회사 명의의 화환 지원\\n- 신청은 인사팀을 통해 진행'),\n",
       " Document(id='ce91552e-2f9c-4b30-84d6-132d77891c16', metadata={'chapter': '제 13 조 (경조사 지원금)', 'source': 'employee_benefits_and_welfare_guide', 'title': '제 6 장 경조사 지원'}, page_content='- 본인 결혼: 30 만원\\n- 자녀 출생: 10 만원\\n- 부모 사망: 30 만원\\n- 배우자 사망: 50 만원')]"
      ]
     },
     "execution_count": 10,
     "metadata": {},
     "output_type": "execute_result"
    }
   ],
   "source": [
    "# 예시 질의: 경조 휴가 일수 확인\n",
    "retriever.invoke(\"본인 결혼식 경조 휴가는 얼마인가요?\")"
   ]
  }
 ],
 "metadata": {
  "kernelspec": {
   "display_name": "agent-use-cases (3.11.9)",
   "language": "python",
   "name": "python3"
  },
  "language_info": {
   "codemirror_mode": {
    "name": "ipython",
    "version": 3
   },
   "file_extension": ".py",
   "mimetype": "text/x-python",
   "name": "python",
   "nbconvert_exporter": "python",
   "pygments_lexer": "ipython3",
   "version": "3.11.9"
  }
 },
 "nbformat": 4,
 "nbformat_minor": 5
}
