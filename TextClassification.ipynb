{
  "nbformat": 4,
  "nbformat_minor": 0,
  "metadata": {
    "colab": {
      "provenance": []
    },
    "kernelspec": {
      "name": "python3",
      "display_name": "Python 3"
    }
  },
  "cells": [
    {
      "cell_type": "code",
      "metadata": {
        "colab": {
          "base_uri": "https://localhost:8080/"
        },
        "id": "OQE_ssuxCgEy",
        "outputId": "b3112204-e4b7-4d8e-bc0e-a6b9e43df297"
      },
      "source": [
        "import tensorflow as tf\n",
        "from tensorflow import keras\n",
        "\n",
        "import numpy as np\n",
        "\n",
        "print(tf.__version__)"
      ],
      "execution_count": 1,
      "outputs": [
        {
          "output_type": "stream",
          "name": "stdout",
          "text": [
            "2.15.0\n"
          ]
        }
      ]
    },
    {
      "cell_type": "markdown",
      "metadata": {
        "id": "pYFalTJCOFlz"
      },
      "source": [
        "#1. Load Data"
      ]
    },
    {
      "cell_type": "code",
      "metadata": {
        "colab": {
          "base_uri": "https://localhost:8080/"
        },
        "id": "q-Je0G2VOJDT",
        "outputId": "a96df02f-b296-4435-8525-99ec62650bb7"
      },
      "source": [
        "imdb = keras.datasets.imdb\n",
        "(train_data, train_labels), (test_data, test_labels) = imdb.load_data(num_words=10000)"
      ],
      "execution_count": 2,
      "outputs": [
        {
          "output_type": "stream",
          "name": "stdout",
          "text": [
            "Downloading data from https://storage.googleapis.com/tensorflow/tf-keras-datasets/imdb.npz\n",
            "17464789/17464789 [==============================] - 0s 0us/step\n"
          ]
        }
      ]
    },
    {
      "cell_type": "code",
      "metadata": {
        "colab": {
          "base_uri": "https://localhost:8080/"
        },
        "id": "7D-mJS4dOiMO",
        "outputId": "82278abc-ff95-45ce-ad47-55af1e384797"
      },
      "source": [
        "len(train_data), len(test_data)"
      ],
      "execution_count": 3,
      "outputs": [
        {
          "output_type": "execute_result",
          "data": {
            "text/plain": [
              "(25000, 25000)"
            ]
          },
          "metadata": {},
          "execution_count": 3
        }
      ]
    },
    {
      "cell_type": "code",
      "metadata": {
        "colab": {
          "base_uri": "https://localhost:8080/"
        },
        "id": "dnncf78JO385",
        "outputId": "77f62ead-803c-4d94-c90a-a1ec72a55959"
      },
      "source": [
        "len(train_data[0]), len(train_data[102])"
      ],
      "execution_count": 4,
      "outputs": [
        {
          "output_type": "execute_result",
          "data": {
            "text/plain": [
              "(218, 790)"
            ]
          },
          "metadata": {},
          "execution_count": 4
        }
      ]
    },
    {
      "cell_type": "code",
      "metadata": {
        "id": "Y06Ej-yrPbRn",
        "colab": {
          "base_uri": "https://localhost:8080/"
        },
        "outputId": "7055e327-a37c-49e2-dfd3-7d1c465e7ef4"
      },
      "source": [
        "word_index = imdb.get_word_index()"
      ],
      "execution_count": 5,
      "outputs": [
        {
          "output_type": "stream",
          "name": "stdout",
          "text": [
            "Downloading data from https://storage.googleapis.com/tensorflow/tf-keras-datasets/imdb_word_index.json\n",
            "1641221/1641221 [==============================] - 0s 0us/step\n"
          ]
        }
      ]
    },
    {
      "cell_type": "code",
      "metadata": {
        "id": "MS9O2JNJPz7H"
      },
      "source": [
        "word_index = {k:(v+3) for k,v in word_index.items()}\n",
        "word_index[\"<PAD>\"] = 0\n",
        "word_index[\"<START>\"] = 1\n",
        "word_index[\"<UNK>\"] = 2  # unknown\n",
        "word_index[\"<UNUSED>\"] = 3"
      ],
      "execution_count": 7,
      "outputs": []
    },
    {
      "cell_type": "code",
      "metadata": {
        "id": "40xRRsH8QOYn"
      },
      "source": [
        "reverse_word_index = dict([(value, key) for (key, value) in word_index.items()])\n",
        "\n",
        "def decode_review(text):\n",
        "    return ' '.join([reverse_word_index.get(i, '?') for i in text])"
      ],
      "execution_count": 9,
      "outputs": []
    },
    {
      "cell_type": "code",
      "metadata": {
        "colab": {
          "base_uri": "https://localhost:8080/",
          "height": 164
        },
        "id": "gTjOmGkrQjC2",
        "outputId": "589ca66b-29fd-4f03-b695-db60eed497ac"
      },
      "source": [
        "decode_review(train_data[0])"
      ],
      "execution_count": 10,
      "outputs": [
        {
          "output_type": "execute_result",
          "data": {
            "text/plain": [
              "\"<START> this film was just brilliant casting location scenery story direction everyone's really suited the part they played and you could just imagine being there robert <UNK> is an amazing actor and now the same being director <UNK> father came from the same scottish island as myself so i loved the fact there was a real connection with this film the witty remarks throughout the film were great it was just brilliant so much that i bought the film as soon as it was released for <UNK> and would recommend it to everyone to watch and the fly fishing was amazing really cried at the end it was so sad and you know what they say if you cry at a film it must have been good and this definitely was also <UNK> to the two little boy's that played the <UNK> of norman and paul they were just brilliant children are often left out of the <UNK> list i think because the stars that play them all grown up are such a big profile for the whole film but these children are amazing and should be praised for what they have done don't you think the whole story was so lovely because it was true and was someone's life after all that was shared with us all\""
            ],
            "application/vnd.google.colaboratory.intrinsic+json": {
              "type": "string"
            }
          },
          "metadata": {},
          "execution_count": 10
        }
      ]
    },
    {
      "cell_type": "markdown",
      "metadata": {
        "id": "w1c0WPJ6QuGg"
      },
      "source": [
        "#2. Text Classification"
      ]
    },
    {
      "cell_type": "code",
      "metadata": {
        "id": "fGxbzOgdQyca"
      },
      "source": [
        "train_data = keras.preprocessing.sequence.pad_sequences(train_data, value=word_index['<PAD>'], padding='post', maxlen=256)\n",
        "test_data = keras.preprocessing.sequence.pad_sequences(test_data, value=word_index['<PAD>'], padding='post', maxlen=256)"
      ],
      "execution_count": 11,
      "outputs": []
    },
    {
      "cell_type": "code",
      "metadata": {
        "colab": {
          "base_uri": "https://localhost:8080/"
        },
        "id": "rpvsWmauRhaY",
        "outputId": "107adc9b-0a79-4100-e6c1-89ba5c3e9cdd"
      },
      "source": [
        "len(train_data[0]), len(train_data[102])"
      ],
      "execution_count": 12,
      "outputs": [
        {
          "output_type": "execute_result",
          "data": {
            "text/plain": [
              "(256, 256)"
            ]
          },
          "metadata": {},
          "execution_count": 12
        }
      ]
    },
    {
      "cell_type": "code",
      "metadata": {
        "colab": {
          "base_uri": "https://localhost:8080/"
        },
        "id": "L2f3w8ELSgjN",
        "outputId": "a879b2ea-735e-447b-977c-7c21d8799e73"
      },
      "source": [
        "train_data[0]"
      ],
      "execution_count": 13,
      "outputs": [
        {
          "output_type": "execute_result",
          "data": {
            "text/plain": [
              "array([   1,   14,   22,   16,   43,  530,  973, 1622, 1385,   65,  458,\n",
              "       4468,   66, 3941,    4,  173,   36,  256,    5,   25,  100,   43,\n",
              "        838,  112,   50,  670,    2,    9,   35,  480,  284,    5,  150,\n",
              "          4,  172,  112,  167,    2,  336,  385,   39,    4,  172, 4536,\n",
              "       1111,   17,  546,   38,   13,  447,    4,  192,   50,   16,    6,\n",
              "        147, 2025,   19,   14,   22,    4, 1920, 4613,  469,    4,   22,\n",
              "         71,   87,   12,   16,   43,  530,   38,   76,   15,   13, 1247,\n",
              "          4,   22,   17,  515,   17,   12,   16,  626,   18,    2,    5,\n",
              "         62,  386,   12,    8,  316,    8,  106,    5,    4, 2223, 5244,\n",
              "         16,  480,   66, 3785,   33,    4,  130,   12,   16,   38,  619,\n",
              "          5,   25,  124,   51,   36,  135,   48,   25, 1415,   33,    6,\n",
              "         22,   12,  215,   28,   77,   52,    5,   14,  407,   16,   82,\n",
              "          2,    8,    4,  107,  117, 5952,   15,  256,    4,    2,    7,\n",
              "       3766,    5,  723,   36,   71,   43,  530,  476,   26,  400,  317,\n",
              "         46,    7,    4,    2, 1029,   13,  104,   88,    4,  381,   15,\n",
              "        297,   98,   32, 2071,   56,   26,  141,    6,  194, 7486,   18,\n",
              "          4,  226,   22,   21,  134,  476,   26,  480,    5,  144,   30,\n",
              "       5535,   18,   51,   36,   28,  224,   92,   25,  104,    4,  226,\n",
              "         65,   16,   38, 1334,   88,   12,   16,  283,    5,   16, 4472,\n",
              "        113,  103,   32,   15,   16, 5345,   19,  178,   32,    0,    0,\n",
              "          0,    0,    0,    0,    0,    0,    0,    0,    0,    0,    0,\n",
              "          0,    0,    0,    0,    0,    0,    0,    0,    0,    0,    0,\n",
              "          0,    0,    0,    0,    0,    0,    0,    0,    0,    0,    0,\n",
              "          0,    0,    0], dtype=int32)"
            ]
          },
          "metadata": {},
          "execution_count": 13
        }
      ]
    },
    {
      "cell_type": "code",
      "metadata": {
        "colab": {
          "base_uri": "https://localhost:8080/"
        },
        "id": "5WbgW7ffSooW",
        "outputId": "5d6ed17f-87cb-4186-d6b6-7ae5760af7e9"
      },
      "source": [
        "vocab_size = 10000\n",
        "\n",
        "model = keras.Sequential()\n",
        "model.add(keras.layers.Embedding(vocab_size, 16, input_shape=(None,)))\n",
        "model.add(keras.layers.GlobalAveragePooling1D())\n",
        "model.add(keras.layers.Dense(16, activation='relu'))\n",
        "model.add(keras.layers.Dense(1, activation='sigmoid'))\n",
        "\n",
        "model.summary()"
      ],
      "execution_count": 14,
      "outputs": [
        {
          "output_type": "stream",
          "name": "stdout",
          "text": [
            "Model: \"sequential\"\n",
            "_________________________________________________________________\n",
            " Layer (type)                Output Shape              Param #   \n",
            "=================================================================\n",
            " embedding (Embedding)       (None, None, 16)          160000    \n",
            "                                                                 \n",
            " global_average_pooling1d (  (None, 16)                0         \n",
            " GlobalAveragePooling1D)                                         \n",
            "                                                                 \n",
            " dense (Dense)               (None, 16)                272       \n",
            "                                                                 \n",
            " dense_1 (Dense)             (None, 1)                 17        \n",
            "                                                                 \n",
            "=================================================================\n",
            "Total params: 160289 (626.13 KB)\n",
            "Trainable params: 160289 (626.13 KB)\n",
            "Non-trainable params: 0 (0.00 Byte)\n",
            "_________________________________________________________________\n"
          ]
        }
      ]
    },
    {
      "cell_type": "code",
      "metadata": {
        "id": "JglC4mc1TO9s"
      },
      "source": [
        "model.compile(optimizer='adam',\n",
        "              loss='binary_crossentropy',\n",
        "              metrics=['accuracy'])"
      ],
      "execution_count": 15,
      "outputs": []
    },
    {
      "cell_type": "code",
      "metadata": {
        "id": "L6V8J4WOTgzZ"
      },
      "source": [
        "particial_x_train = train_data[10000:]\n",
        "x_val = train_data[:10000]\n",
        "\n",
        "particial_y_train = train_labels[10000:]\n",
        "y_val = train_labels[:10000]"
      ],
      "execution_count": 16,
      "outputs": []
    },
    {
      "cell_type": "code",
      "metadata": {
        "colab": {
          "base_uri": "https://localhost:8080/"
        },
        "id": "ClR2B4qVUCwq",
        "outputId": "423192b0-580a-4b6d-c244-de54ad74fb24"
      },
      "source": [
        "history = model.fit(particial_x_train, particial_y_train, epochs=50, batch_size=512,\n",
        "                    validation_data=(x_val, y_val))"
      ],
      "execution_count": 17,
      "outputs": [
        {
          "output_type": "stream",
          "name": "stdout",
          "text": [
            "Epoch 1/50\n",
            "30/30 [==============================] - 3s 55ms/step - loss: 0.6922 - accuracy: 0.5501 - val_loss: 0.6906 - val_accuracy: 0.6301\n",
            "Epoch 2/50\n",
            "30/30 [==============================] - 1s 38ms/step - loss: 0.6874 - accuracy: 0.6453 - val_loss: 0.6841 - val_accuracy: 0.7407\n",
            "Epoch 3/50\n",
            "30/30 [==============================] - 1s 37ms/step - loss: 0.6770 - accuracy: 0.7657 - val_loss: 0.6710 - val_accuracy: 0.7501\n",
            "Epoch 4/50\n",
            "30/30 [==============================] - 1s 31ms/step - loss: 0.6581 - accuracy: 0.7653 - val_loss: 0.6487 - val_accuracy: 0.7647\n",
            "Epoch 5/50\n",
            "30/30 [==============================] - 1s 30ms/step - loss: 0.6286 - accuracy: 0.7853 - val_loss: 0.6172 - val_accuracy: 0.7777\n",
            "Epoch 6/50\n",
            "30/30 [==============================] - 1s 24ms/step - loss: 0.5885 - accuracy: 0.8021 - val_loss: 0.5763 - val_accuracy: 0.7948\n",
            "Epoch 7/50\n",
            "30/30 [==============================] - 1s 23ms/step - loss: 0.5421 - accuracy: 0.8183 - val_loss: 0.5331 - val_accuracy: 0.8011\n",
            "Epoch 8/50\n",
            "30/30 [==============================] - 1s 20ms/step - loss: 0.4934 - accuracy: 0.8388 - val_loss: 0.4901 - val_accuracy: 0.8268\n",
            "Epoch 9/50\n",
            "30/30 [==============================] - 1s 22ms/step - loss: 0.4477 - accuracy: 0.8553 - val_loss: 0.4515 - val_accuracy: 0.8392\n",
            "Epoch 10/50\n",
            "30/30 [==============================] - 1s 21ms/step - loss: 0.4075 - accuracy: 0.8661 - val_loss: 0.4190 - val_accuracy: 0.8464\n",
            "Epoch 11/50\n",
            "30/30 [==============================] - 1s 23ms/step - loss: 0.3726 - accuracy: 0.8771 - val_loss: 0.3921 - val_accuracy: 0.8560\n",
            "Epoch 12/50\n",
            "30/30 [==============================] - 1s 24ms/step - loss: 0.3437 - accuracy: 0.8875 - val_loss: 0.3710 - val_accuracy: 0.8621\n",
            "Epoch 13/50\n",
            "30/30 [==============================] - 1s 23ms/step - loss: 0.3197 - accuracy: 0.8917 - val_loss: 0.3535 - val_accuracy: 0.8665\n",
            "Epoch 14/50\n",
            "30/30 [==============================] - 1s 23ms/step - loss: 0.2984 - accuracy: 0.8990 - val_loss: 0.3401 - val_accuracy: 0.8696\n",
            "Epoch 15/50\n",
            "30/30 [==============================] - 1s 24ms/step - loss: 0.2806 - accuracy: 0.9043 - val_loss: 0.3291 - val_accuracy: 0.8730\n",
            "Epoch 16/50\n",
            "30/30 [==============================] - 1s 24ms/step - loss: 0.2651 - accuracy: 0.9093 - val_loss: 0.3200 - val_accuracy: 0.8760\n",
            "Epoch 17/50\n",
            "30/30 [==============================] - 1s 31ms/step - loss: 0.2508 - accuracy: 0.9135 - val_loss: 0.3137 - val_accuracy: 0.8764\n",
            "Epoch 18/50\n",
            "30/30 [==============================] - 1s 38ms/step - loss: 0.2389 - accuracy: 0.9174 - val_loss: 0.3061 - val_accuracy: 0.8799\n",
            "Epoch 19/50\n",
            "30/30 [==============================] - 1s 33ms/step - loss: 0.2270 - accuracy: 0.9223 - val_loss: 0.3017 - val_accuracy: 0.8792\n",
            "Epoch 20/50\n",
            "30/30 [==============================] - 1s 30ms/step - loss: 0.2166 - accuracy: 0.9245 - val_loss: 0.2971 - val_accuracy: 0.8822\n",
            "Epoch 21/50\n",
            "30/30 [==============================] - 1s 22ms/step - loss: 0.2072 - accuracy: 0.9286 - val_loss: 0.2976 - val_accuracy: 0.8787\n",
            "Epoch 22/50\n",
            "30/30 [==============================] - 1s 23ms/step - loss: 0.1980 - accuracy: 0.9327 - val_loss: 0.2910 - val_accuracy: 0.8832\n",
            "Epoch 23/50\n",
            "30/30 [==============================] - 1s 22ms/step - loss: 0.1890 - accuracy: 0.9363 - val_loss: 0.2911 - val_accuracy: 0.8824\n",
            "Epoch 24/50\n",
            "30/30 [==============================] - 1s 22ms/step - loss: 0.1814 - accuracy: 0.9397 - val_loss: 0.2879 - val_accuracy: 0.8846\n",
            "Epoch 25/50\n",
            "30/30 [==============================] - 1s 22ms/step - loss: 0.1742 - accuracy: 0.9427 - val_loss: 0.2872 - val_accuracy: 0.8854\n",
            "Epoch 26/50\n",
            "30/30 [==============================] - 1s 22ms/step - loss: 0.1669 - accuracy: 0.9467 - val_loss: 0.2864 - val_accuracy: 0.8839\n",
            "Epoch 27/50\n",
            "30/30 [==============================] - 1s 24ms/step - loss: 0.1601 - accuracy: 0.9496 - val_loss: 0.2866 - val_accuracy: 0.8854\n",
            "Epoch 28/50\n",
            "30/30 [==============================] - 1s 21ms/step - loss: 0.1540 - accuracy: 0.9511 - val_loss: 0.2888 - val_accuracy: 0.8841\n",
            "Epoch 29/50\n",
            "30/30 [==============================] - 1s 24ms/step - loss: 0.1483 - accuracy: 0.9544 - val_loss: 0.2865 - val_accuracy: 0.8849\n",
            "Epoch 30/50\n",
            "30/30 [==============================] - 1s 23ms/step - loss: 0.1422 - accuracy: 0.9564 - val_loss: 0.2873 - val_accuracy: 0.8863\n",
            "Epoch 31/50\n",
            "30/30 [==============================] - 1s 22ms/step - loss: 0.1368 - accuracy: 0.9587 - val_loss: 0.2884 - val_accuracy: 0.8857\n",
            "Epoch 32/50\n",
            "30/30 [==============================] - 1s 21ms/step - loss: 0.1317 - accuracy: 0.9607 - val_loss: 0.2903 - val_accuracy: 0.8861\n",
            "Epoch 33/50\n",
            "30/30 [==============================] - 1s 22ms/step - loss: 0.1265 - accuracy: 0.9635 - val_loss: 0.2915 - val_accuracy: 0.8852\n",
            "Epoch 34/50\n",
            "30/30 [==============================] - 1s 22ms/step - loss: 0.1219 - accuracy: 0.9653 - val_loss: 0.2928 - val_accuracy: 0.8860\n",
            "Epoch 35/50\n",
            "30/30 [==============================] - 1s 25ms/step - loss: 0.1179 - accuracy: 0.9665 - val_loss: 0.2946 - val_accuracy: 0.8843\n",
            "Epoch 36/50\n",
            "30/30 [==============================] - 1s 34ms/step - loss: 0.1134 - accuracy: 0.9675 - val_loss: 0.2980 - val_accuracy: 0.8837\n",
            "Epoch 37/50\n",
            "30/30 [==============================] - 1s 35ms/step - loss: 0.1090 - accuracy: 0.9699 - val_loss: 0.3014 - val_accuracy: 0.8833\n",
            "Epoch 38/50\n",
            "30/30 [==============================] - 1s 34ms/step - loss: 0.1057 - accuracy: 0.9707 - val_loss: 0.3026 - val_accuracy: 0.8836\n",
            "Epoch 39/50\n",
            "30/30 [==============================] - 1s 23ms/step - loss: 0.1015 - accuracy: 0.9715 - val_loss: 0.3054 - val_accuracy: 0.8840\n",
            "Epoch 40/50\n",
            "30/30 [==============================] - 1s 23ms/step - loss: 0.0973 - accuracy: 0.9733 - val_loss: 0.3083 - val_accuracy: 0.8834\n",
            "Epoch 41/50\n",
            "30/30 [==============================] - 1s 22ms/step - loss: 0.0937 - accuracy: 0.9753 - val_loss: 0.3108 - val_accuracy: 0.8834\n",
            "Epoch 42/50\n",
            "30/30 [==============================] - 1s 23ms/step - loss: 0.0900 - accuracy: 0.9767 - val_loss: 0.3152 - val_accuracy: 0.8820\n",
            "Epoch 43/50\n",
            "30/30 [==============================] - 1s 22ms/step - loss: 0.0876 - accuracy: 0.9779 - val_loss: 0.3177 - val_accuracy: 0.8809\n",
            "Epoch 44/50\n",
            "30/30 [==============================] - 1s 23ms/step - loss: 0.0842 - accuracy: 0.9785 - val_loss: 0.3210 - val_accuracy: 0.8811\n",
            "Epoch 45/50\n",
            "30/30 [==============================] - 1s 24ms/step - loss: 0.0805 - accuracy: 0.9801 - val_loss: 0.3249 - val_accuracy: 0.8802\n",
            "Epoch 46/50\n",
            "30/30 [==============================] - 1s 23ms/step - loss: 0.0774 - accuracy: 0.9814 - val_loss: 0.3289 - val_accuracy: 0.8798\n",
            "Epoch 47/50\n",
            "30/30 [==============================] - 1s 24ms/step - loss: 0.0746 - accuracy: 0.9819 - val_loss: 0.3328 - val_accuracy: 0.8798\n",
            "Epoch 48/50\n",
            "30/30 [==============================] - 1s 29ms/step - loss: 0.0718 - accuracy: 0.9835 - val_loss: 0.3363 - val_accuracy: 0.8796\n",
            "Epoch 49/50\n",
            "30/30 [==============================] - 1s 25ms/step - loss: 0.0690 - accuracy: 0.9851 - val_loss: 0.3407 - val_accuracy: 0.8784\n",
            "Epoch 50/50\n",
            "30/30 [==============================] - 1s 22ms/step - loss: 0.0669 - accuracy: 0.9852 - val_loss: 0.3457 - val_accuracy: 0.8782\n"
          ]
        }
      ]
    },
    {
      "cell_type": "code",
      "metadata": {
        "colab": {
          "base_uri": "https://localhost:8080/"
        },
        "id": "fAze_2oNUcGQ",
        "outputId": "04dcbffe-2286-464a-de12-b6e15fbaedf2"
      },
      "source": [
        "results = model.evaluate(test_data, test_labels)\n",
        "print(results)"
      ],
      "execution_count": 18,
      "outputs": [
        {
          "output_type": "stream",
          "name": "stdout",
          "text": [
            "782/782 [==============================] - 3s 3ms/step - loss: 0.3682 - accuracy: 0.8674\n",
            "[0.3681679666042328, 0.8674399852752686]\n"
          ]
        }
      ]
    }
  ]
}