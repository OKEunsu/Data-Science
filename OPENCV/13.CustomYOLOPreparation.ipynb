{
  "nbformat": 4,
  "nbformat_minor": 0,
  "metadata": {
    "colab": {
      "provenance": [],
      "mount_file_id": "1CI3O26IWSvuF1rNcBoSLbeNYaPu5N-M1",
      "authorship_tag": "ABX9TyOhse8nD95FlXqHuDMjyzBt"
    },
    "kernelspec": {
      "name": "python3",
      "display_name": "Python 3"
    },
    "language_info": {
      "name": "python"
    }
  },
  "cells": [
    {
      "cell_type": "markdown",
      "source": [
        "# Mount Drive"
      ],
      "metadata": {
        "id": "tNaYND17xJVy"
      }
    },
    {
      "cell_type": "code",
      "execution_count": 3,
      "metadata": {
        "colab": {
          "base_uri": "https://localhost:8080/"
        },
        "id": "-92-96txxGYY",
        "outputId": "efb643c7-c791-4eb7-c47d-84fbea4a7366"
      },
      "outputs": [
        {
          "output_type": "stream",
          "name": "stdout",
          "text": [
            "total 28061\n",
            "-rw------- 1 root root      15 Oct 26 07:17 classes.names\n",
            "-rw------- 1 root root      15 Jun 18  2021 classes.txt\n",
            "-rw------- 1 root root     250 Nov 15 12:38 custom_data.data\n",
            "-rw------- 1 root root    8328 Jun 18  2021 custom-train-yolo.cfg\n",
            "-rw------- 1 root root 2919914 Jun 18  2021 fruit01.jpg\n",
            "-rw------- 1 root root      38 Jun 18  2021 fruit01.txt\n",
            "-rw------- 1 root root 2974631 Jun 18  2021 fruit02.jpg\n",
            "-rw------- 1 root root      76 Jun 18  2021 fruit02.txt\n",
            "-rw------- 1 root root 2846652 Jun 18  2021 fruit03.jpg\n",
            "-rw------- 1 root root      76 Jun 18  2021 fruit03.txt\n",
            "-rw------- 1 root root 3223798 Jun 18  2021 fruit04.jpg\n",
            "-rw------- 1 root root      38 Jun 18  2021 fruit04.txt\n",
            "-rw------- 1 root root 2471492 Jun 18  2021 fruit05.jpg\n",
            "-rw------- 1 root root      38 Jun 18  2021 fruit05.txt\n",
            "-rw------- 1 root root 2945112 Jun 18  2021 fruit06.jpg\n",
            "-rw------- 1 root root      76 Jun 18  2021 fruit06.txt\n",
            "-rw------- 1 root root 2963363 Jun 18  2021 fruit07.jpg\n",
            "-rw------- 1 root root     114 Jun 18  2021 fruit07.txt\n",
            "-rw------- 1 root root 2863347 Jun 18  2021 fruit08.jpg\n",
            "-rw------- 1 root root      76 Jun 18  2021 fruit08.txt\n",
            "-rw------- 1 root root 2836494 Jun 18  2021 fruit09.jpg\n",
            "-rw------- 1 root root     114 Jun 18  2021 fruit09.txt\n",
            "-rw------- 1 root root 2670159 Jun 18  2021 fruit10.jpg\n",
            "-rw------- 1 root root     114 Jun 18  2021 fruit10.txt\n",
            "-rw------- 1 root root     136 Nov 12 06:29 test.txt\n",
            "-rw------- 1 root root     544 Nov 12 06:29 train.txt\n"
          ]
        }
      ],
      "source": [
        "!ls -al '/content/drive/MyDrive/Darknet/custom'"
      ]
    },
    {
      "cell_type": "code",
      "source": [
        "import os\n",
        "print(os.path.abspath(os.curdir))"
      ],
      "metadata": {
        "colab": {
          "base_uri": "https://localhost:8080/"
        },
        "id": "tLvOcuZbxhLw",
        "outputId": "11127411-5730-439d-9f71-f9a90b0af746"
      },
      "execution_count": 4,
      "outputs": [
        {
          "output_type": "stream",
          "name": "stdout",
          "text": [
            "/content\n"
          ]
        }
      ]
    },
    {
      "cell_type": "markdown",
      "source": [
        "#2. Generate Files"
      ],
      "metadata": {
        "id": "otvdtuzH3KDH"
      }
    },
    {
      "cell_type": "code",
      "source": [
        "COLAB_DARKNET_PATH = '/content/drive/MyDrive/Darknet'\n",
        "\n",
        "DATA_PATH = '/custom'\n",
        "YOLO_IMAGE_PATH = COLAB_DARKNET_PATH + DATA_PATH\n",
        "YOLO_FORMAT_PATH = COLAB_DARKNET_PATH + DATA_PATH"
      ],
      "metadata": {
        "id": "-fArj86WyCds"
      },
      "execution_count": 5,
      "outputs": []
    },
    {
      "cell_type": "code",
      "source": [
        "class_count = 0\n",
        "test_percentage = 0.2\n",
        "paths = []"
      ],
      "metadata": {
        "id": "1gRC4YrxysZ1"
      },
      "execution_count": 6,
      "outputs": []
    },
    {
      "cell_type": "code",
      "source": [
        "with open(YOLO_FORMAT_PATH + '/' + 'classes.names', 'w') as names, \\\n",
        "  open(YOLO_FORMAT_PATH + '/' + 'classes.txt', 'r') as txt:\n",
        "  for line in txt:\n",
        "    names.write(line)\n",
        "    class_count += 1\n",
        "  print('[classes.names] is created')"
      ],
      "metadata": {
        "colab": {
          "base_uri": "https://localhost:8080/"
        },
        "id": "kjnpFSmmyytM",
        "outputId": "680d23eb-6bb3-4e68-c02c-c972fb253dfc"
      },
      "execution_count": 7,
      "outputs": [
        {
          "output_type": "stream",
          "name": "stdout",
          "text": [
            "[classes.names] is created\n"
          ]
        }
      ]
    },
    {
      "cell_type": "code",
      "source": [
        "with open(YOLO_FORMAT_PATH + '/' + 'custom_data.data', 'w') as data:\n",
        "  data.write('class = ' + str(class_count) + '\\n')\n",
        "  data.write('train = ' + YOLO_FORMAT_PATH + '/' + 'train.txt' + '\\n')\n",
        "  data.write('valid = ' + YOLO_FORMAT_PATH + '/' + 'test.txt' + '\\n')\n",
        "  data.write('names = ' + YOLO_FORMAT_PATH + '/' + 'classes.names' + '\\n')\n",
        "  data.write('backup = backup')\n",
        "  print('[custom_data.data] is created')"
      ],
      "metadata": {
        "colab": {
          "base_uri": "https://localhost:8080/"
        },
        "id": "mZ22LpP96VjY",
        "outputId": "979fafe1-54c3-4924-f23f-05bf62066aa2"
      },
      "execution_count": 8,
      "outputs": [
        {
          "output_type": "stream",
          "name": "stdout",
          "text": [
            "[custom_data.data] is created\n"
          ]
        }
      ]
    },
    {
      "cell_type": "code",
      "source": [
        "os.chdir(YOLO_IMAGE_PATH)\n",
        "current_path = os.path.abspath(os.curdir)\n",
        "print(current_path)"
      ],
      "metadata": {
        "colab": {
          "base_uri": "https://localhost:8080/"
        },
        "id": "Jya8dxma_ApS",
        "outputId": "93e2983a-8e1a-44c1-b354-c9fa366202c0"
      },
      "execution_count": 9,
      "outputs": [
        {
          "output_type": "stream",
          "name": "stdout",
          "text": [
            "/content/drive/MyDrive/Darknet/custom\n"
          ]
        }
      ]
    },
    {
      "cell_type": "code",
      "source": [
        "!ls -al"
      ],
      "metadata": {
        "colab": {
          "base_uri": "https://localhost:8080/"
        },
        "id": "e_TnWPg33-aR",
        "outputId": "3aedb7b8-4453-4fba-fc70-03237c16954b"
      },
      "execution_count": 10,
      "outputs": [
        {
          "output_type": "stream",
          "name": "stdout",
          "text": [
            "total 28061\n",
            "-rw------- 1 root root      15 Jan 12 08:57 classes.names\n",
            "-rw------- 1 root root      15 Jun 18  2021 classes.txt\n",
            "-rw------- 1 root root     196 Jan 12 08:57 custom_data.data\n",
            "-rw------- 1 root root    8328 Jun 18  2021 custom-train-yolo.cfg\n",
            "-rw------- 1 root root 2919914 Jun 18  2021 fruit01.jpg\n",
            "-rw------- 1 root root      38 Jun 18  2021 fruit01.txt\n",
            "-rw------- 1 root root 2974631 Jun 18  2021 fruit02.jpg\n",
            "-rw------- 1 root root      76 Jun 18  2021 fruit02.txt\n",
            "-rw------- 1 root root 2846652 Jun 18  2021 fruit03.jpg\n",
            "-rw------- 1 root root      76 Jun 18  2021 fruit03.txt\n",
            "-rw------- 1 root root 3223798 Jun 18  2021 fruit04.jpg\n",
            "-rw------- 1 root root      38 Jun 18  2021 fruit04.txt\n",
            "-rw------- 1 root root 2471492 Jun 18  2021 fruit05.jpg\n",
            "-rw------- 1 root root      38 Jun 18  2021 fruit05.txt\n",
            "-rw------- 1 root root 2945112 Jun 18  2021 fruit06.jpg\n",
            "-rw------- 1 root root      76 Jun 18  2021 fruit06.txt\n",
            "-rw------- 1 root root 2963363 Jun 18  2021 fruit07.jpg\n",
            "-rw------- 1 root root     114 Jun 18  2021 fruit07.txt\n",
            "-rw------- 1 root root 2863347 Jun 18  2021 fruit08.jpg\n",
            "-rw------- 1 root root      76 Jun 18  2021 fruit08.txt\n",
            "-rw------- 1 root root 2836494 Jun 18  2021 fruit09.jpg\n",
            "-rw------- 1 root root     114 Jun 18  2021 fruit09.txt\n",
            "-rw------- 1 root root 2670159 Jun 18  2021 fruit10.jpg\n",
            "-rw------- 1 root root     114 Jun 18  2021 fruit10.txt\n",
            "-rw------- 1 root root     136 Nov 12 06:29 test.txt\n",
            "-rw------- 1 root root     544 Nov 12 06:29 train.txt\n"
          ]
        }
      ]
    },
    {
      "cell_type": "code",
      "source": [
        "for current_dir, dirs, files in os.walk('.'):\n",
        "  #print(current_dir, dirs, files)\n",
        "  for f in files:\n",
        "    if f.endswith('.jpg'):\n",
        "      #print(f)\n",
        "      image_path = YOLO_IMAGE_PATH + '/' + f\n",
        "      paths.append(image_path + '\\n')"
      ],
      "metadata": {
        "id": "lFklg8Sg4FWg"
      },
      "execution_count": 11,
      "outputs": []
    },
    {
      "cell_type": "code",
      "source": [
        "paths"
      ],
      "metadata": {
        "colab": {
          "base_uri": "https://localhost:8080/"
        },
        "id": "uZQgZKBR4U9o",
        "outputId": "b9201e29-b426-4b59-cf66-dee3165b90ba"
      },
      "execution_count": 12,
      "outputs": [
        {
          "output_type": "execute_result",
          "data": {
            "text/plain": [
              "['/content/drive/MyDrive/Darknet/custom/fruit07.jpg\\n',\n",
              " '/content/drive/MyDrive/Darknet/custom/fruit01.jpg\\n',\n",
              " '/content/drive/MyDrive/Darknet/custom/fruit08.jpg\\n',\n",
              " '/content/drive/MyDrive/Darknet/custom/fruit02.jpg\\n',\n",
              " '/content/drive/MyDrive/Darknet/custom/fruit04.jpg\\n',\n",
              " '/content/drive/MyDrive/Darknet/custom/fruit05.jpg\\n',\n",
              " '/content/drive/MyDrive/Darknet/custom/fruit09.jpg\\n',\n",
              " '/content/drive/MyDrive/Darknet/custom/fruit10.jpg\\n',\n",
              " '/content/drive/MyDrive/Darknet/custom/fruit06.jpg\\n',\n",
              " '/content/drive/MyDrive/Darknet/custom/fruit03.jpg\\n']"
            ]
          },
          "metadata": {},
          "execution_count": 12
        }
      ]
    },
    {
      "cell_type": "code",
      "source": [
        "num_test = int(len(paths) * test_percentage)\n",
        "print(num_test)"
      ],
      "metadata": {
        "colab": {
          "base_uri": "https://localhost:8080/"
        },
        "id": "4Jt5JfDM6S7a",
        "outputId": "be1aa15b-13bb-4f8e-e392-f0efb0d48ca4"
      },
      "execution_count": 13,
      "outputs": [
        {
          "output_type": "stream",
          "name": "stdout",
          "text": [
            "2\n"
          ]
        }
      ]
    },
    {
      "cell_type": "code",
      "source": [
        "paths_test = paths[:num_test]\n",
        "paths_train = paths[num_test:]"
      ],
      "metadata": {
        "id": "IOuio3wp6gLa"
      },
      "execution_count": 14,
      "outputs": []
    },
    {
      "cell_type": "code",
      "source": [
        "with open(YOLO_IMAGE_PATH + '/' + 'trian.txt', 'w') as train_txt:\n",
        "  for path in paths_train:\n",
        "    train_txt.write(path)\n",
        "  print('[train.txt] is created')"
      ],
      "metadata": {
        "colab": {
          "base_uri": "https://localhost:8080/"
        },
        "id": "ddbZ99zK64lb",
        "outputId": "d0107091-a501-4ca7-f5fa-b4e9ea67654b"
      },
      "execution_count": 15,
      "outputs": [
        {
          "output_type": "stream",
          "name": "stdout",
          "text": [
            "[train.txt] is created\n"
          ]
        }
      ]
    },
    {
      "cell_type": "code",
      "source": [
        "with open(YOLO_IMAGE_PATH + '/' + 'test.txt', 'w') as test_txt:\n",
        "  for path in paths_test:\n",
        "    test_txt.write(path)\n",
        "  print('[test_txt] is created')"
      ],
      "metadata": {
        "colab": {
          "base_uri": "https://localhost:8080/"
        },
        "id": "M42WwPmw7fCW",
        "outputId": "bb84255b-aeb6-4862-ed1d-8e524d67a454"
      },
      "execution_count": 16,
      "outputs": [
        {
          "output_type": "stream",
          "name": "stdout",
          "text": [
            "[test_txt] is created\n"
          ]
        }
      ]
    },
    {
      "cell_type": "code",
      "source": [
        "!/usr/local/cuda/bin/nvcc --version"
      ],
      "metadata": {
        "colab": {
          "base_uri": "https://localhost:8080/"
        },
        "id": "tAU6prlp_sQY",
        "outputId": "02be76ca-688b-455d-e09e-682765bf8ddc"
      },
      "execution_count": 17,
      "outputs": [
        {
          "output_type": "stream",
          "name": "stdout",
          "text": [
            "nvcc: NVIDIA (R) Cuda compiler driver\n",
            "Copyright (c) 2005-2023 NVIDIA Corporation\n",
            "Built on Tue_Aug_15_22:02:13_PDT_2023\n",
            "Cuda compilation tools, release 12.2, V12.2.140\n",
            "Build cuda_12.2.r12.2/compiler.33191640_0\n"
          ]
        }
      ]
    },
    {
      "cell_type": "code",
      "source": [
        "import platform\n",
        "platform.platform()"
      ],
      "metadata": {
        "colab": {
          "base_uri": "https://localhost:8080/",
          "height": 35
        },
        "id": "8pfk-L3bEkeK",
        "outputId": "3d737393-daf7-41a6-84a1-9bee89d7c9fa"
      },
      "execution_count": 18,
      "outputs": [
        {
          "output_type": "execute_result",
          "data": {
            "text/plain": [
              "'Linux-6.1.58+-x86_64-with-glibc2.35'"
            ],
            "application/vnd.google.colaboratory.intrinsic+json": {
              "type": "string"
            }
          },
          "metadata": {},
          "execution_count": 18
        }
      ]
    },
    {
      "cell_type": "code",
      "source": [],
      "metadata": {
        "id": "QHNwRso9F0HB"
      },
      "execution_count": null,
      "outputs": []
    }
  ]
}