{
  "nbformat": 4,
  "nbformat_minor": 0,
  "metadata": {
    "colab": {
      "provenance": [],
      "toc_visible": true,
      "authorship_tag": "ABX9TyPqwrqlYiL40+oaGl4PAO6c"
    },
    "kernelspec": {
      "name": "python3",
      "display_name": "Python 3"
    },
    "language_info": {
      "name": "python"
    }
  },
  "cells": [
    {
      "cell_type": "markdown",
      "source": [
        "# 1. 배열"
      ],
      "metadata": {
        "id": "LwRQyw4xbnZ0"
      }
    },
    {
      "cell_type": "markdown",
      "source": [
        "1. 수열을 저장할 때\n",
        "2. 무언가 체크할 때\n",
        "3. 무언가 카운트 할 때"
      ],
      "metadata": {
        "id": "itM8ovlIbtKv"
      }
    },
    {
      "cell_type": "code",
      "source": [
        "# # 리스트 추가\n",
        "# list.append(x)\n",
        "\n",
        "# # 리스트 + 리스트\n",
        "# list.extend(iterable)\n",
        "\n",
        "# # 특정 인덱스에 값 넣기\n",
        "# list.inser(i, x)\n",
        "\n",
        "# # 리스트 x와 같은 값 삭제\n",
        "# list.remove(x)\n",
        "\n",
        "# # 아무것도 안하면 마지막 값 삭제하고 출력, 인덱스 번호 적으면 해당 값 출력, 삭제\n",
        "# list.pop()\n",
        "\n",
        "# # 리스트 삭제\n",
        "# del"
      ],
      "metadata": {
        "id": "zHwcp2BwmQUW"
      },
      "execution_count": null,
      "outputs": []
    },
    {
      "cell_type": "code",
      "source": [
        "# 리스트를 스택 처럼 사용하기\n",
        "stack = [3, 4, 5]\n",
        "print(stack)\n",
        "stack.append(6) # LIFO 구조\n",
        "stack.append(7)\n",
        "print(stack)\n",
        "\n",
        "stack.pop() # 마지막에 들어온 값 첫번째로 나간다.\n",
        "\n",
        "print(stack)\n",
        "\n",
        "stack.pop()\n",
        "\n",
        "stack.pop()\n",
        "\n",
        "print(stack)"
      ],
      "metadata": {
        "colab": {
          "base_uri": "https://localhost:8080/"
        },
        "id": "-OGdZTw6nk5W",
        "outputId": "fb07513e-6d04-49b8-e0ee-a06541ecf299"
      },
      "execution_count": 9,
      "outputs": [
        {
          "output_type": "stream",
          "name": "stdout",
          "text": [
            "[3, 4, 5]\n",
            "[3, 4, 5, 6, 7]\n",
            "[3, 4, 5, 6]\n",
            "[3, 4]\n"
          ]
        }
      ]
    },
    {
      "cell_type": "markdown",
      "source": [
        "## 문제 1 : [과제 안 내신 분..?](https://www.acmicpc.net/problem/5597])\n",
        "\n",
        "X대학 M교수님은 프로그래밍 수업을 맡고 있다. 교실엔 학생이 30명이 있는데, 학생 명부엔 각 학생별로 1번부터 30번까지 출석번호가 붙어 있다.\n",
        "\n",
        "교수님이 내준 특별과제를 28명이 제출했는데, 그 중에서 제출 안 한 학생 2명의 출석번호를 구하는 프로그램을 작성하시오.\n",
        "  \n",
        "### 입력\n",
        "입력은 총 28줄로 각 제출자(학생)의 출석번호 n(1 ≤ n ≤ 30)가 한 줄에 하나씩 주어진다. 출석번호에 중복은 없다.\n",
        "\n",
        "### 출력\n",
        "출력은 2줄이다. 1번째 줄엔 제출하지 않은 학생의 출석번호 중 가장 작은 것을 출력하고, 2번째 줄에선 그 다음 출석번호를 출력한다."
      ],
      "metadata": {
        "id": "tWHivB4Mb4Kc"
      }
    },
    {
      "cell_type": "code",
      "source": [
        "check = [0] * 31\n",
        "\n",
        "for i in range(28):\n",
        "  n = int(input())\n",
        "  check[n] = 1 # 해당 번호 제출\n",
        "\n",
        "answer = []\n",
        "for i in range(1, 31):\n",
        "  if check[i] == 0: # 배열에 0인 값 찾기\n",
        "    answer.append(i) # answer 리스트에 추가\n",
        "\n",
        "print(answer[0])\n",
        "print(answer[1])"
      ],
      "metadata": {
        "colab": {
          "base_uri": "https://localhost:8080/"
        },
        "id": "FrecNrvJbpEn",
        "outputId": "ebc75adc-8115-4a89-e8a6-058626daba04"
      },
      "execution_count": null,
      "outputs": [
        {
          "output_type": "stream",
          "name": "stdout",
          "text": [
            "3\n",
            "1\n",
            "4\n",
            "5\n",
            "7\n",
            "9\n",
            "6\n",
            "10\n",
            "11\n",
            "12\n",
            "13\n",
            "14\n",
            "15\n",
            "16\n",
            "17\n",
            "18\n",
            "19\n",
            "20\n",
            "21\n",
            "22\n",
            "3\n",
            "24\n",
            "25\n",
            "26\n",
            "27\n",
            "28\n",
            "29\n",
            "30\n",
            "2\n",
            "8\n"
          ]
        }
      ]
    },
    {
      "cell_type": "markdown",
      "source": [
        "## 문제 2 : [나머지](https://www.acmicpc.net/problem/3052)\n",
        "\n",
        "\n",
        "두 자연수 A와 B가 있을 때, A%B는 A를 B로 나눈 나머지 이다. 예를 들어, 7, 14, 27, 38을 3으로 나눈 나머지는 1, 2, 0, 2이다.\n",
        "\n",
        "수 10개를 입력받은 뒤, 이를 42로 나눈 나머지를 구한다. 그 다음 서로 다른 값이 몇 개 있는지 출력하는 프로그램을 작성하시오.\n",
        "\n",
        "### 입력\n",
        "첫째 줄부터 열번째 줄 까지 숫자가 한 줄에 하나씩 주어진다. 이 숫자는 1,000보다 작거나 같고, 음이 아닌 정수이다.\n",
        "\n",
        "### 출력\n",
        "첫째 줄에, 42로 나누었을 때, 서로 다른 나머지가 몇 개 있는지 출력한다."
      ],
      "metadata": {
        "id": "iu9D7zL4fOz-"
      }
    },
    {
      "cell_type": "code",
      "source": [
        "check = [0] * 42 # 체크 리스트\n",
        "\n",
        "for _ in range(10): # 10개 입력\n",
        "  n = int(input())\n",
        "  check[n % 42] = 1 # 42을 나눈 나머지 인덱스에 1 변경\n",
        "\n",
        "sum = 0\n",
        "\n",
        "for i in range(42):\n",
        "  sum += check[i] # 인덱스 1인 더하기\n",
        "print(\"-\"*5)\n",
        "print(sum)"
      ],
      "metadata": {
        "colab": {
          "base_uri": "https://localhost:8080/"
        },
        "id": "NLU-ykIFeuLd",
        "outputId": "74435522-8400-45af-f30f-e9490f37c97e"
      },
      "execution_count": null,
      "outputs": [
        {
          "output_type": "stream",
          "name": "stdout",
          "text": [
            "1\n",
            "2\n",
            "3\n",
            "4\n",
            "5\n",
            "6\n",
            "7\n",
            "8\n",
            "9\n",
            "10\n",
            "----------\n",
            "10\n"
          ]
        }
      ]
    },
    {
      "cell_type": "markdown",
      "source": [
        "# 문자열\n",
        "\n",
        "*   배열과 크게 다르지 X\n",
        "*   \"문장\" 나누는 자료구조."
      ],
      "metadata": {
        "id": "B4h8BsnD2joh"
      }
    },
    {
      "cell_type": "markdown",
      "source": [
        "## 문제 1 : [알파벳 찾기](https://www.acmicpc.net/problem/10809)\n",
        "\n",
        "### 입력\n",
        "첫째 줄에 단어 S가 주어진다. 단어의 길이는 100을 넘지 않으며, 알파벳 소문자로만 이루어져 있다.\n",
        "\n",
        "###출력\n",
        "각각의 알파벳에 대해서, a가 처음 등장하는 위치, b가 처음 등장하는 위치, ... z가 처음 등장하는 위치를 공백으로 구분해서 출력한다.  \n",
        "  \n",
        "\n",
        "만약, 어떤 알파벳이 단어에 포함되어 있지 않다면 -1을 출력한다. 단어의 첫 번째 글자는 0번째 위치이고, 두 번째 글자는 1번째 위치이다."
      ],
      "metadata": {
        "id": "pjXk1wGBCD_K"
      }
    },
    {
      "cell_type": "code",
      "source": [
        "s = input()\n",
        "\n",
        "check = [-1] * 26 # 포함되지 않으면 -1 출력해야 하므로\n",
        "\n",
        "for i in range(len(s)):\n",
        "  index = ord(s[i]) - ord('a') # 유니코드 변환 a-z 숫자로 인덱스 지정\n",
        "\n",
        "  if check[index] == -1: # 해당 인덱스 값 변경\n",
        "    check[index] = i\n",
        "\n",
        "for i in range(26):\n",
        "  print(check[i], end=\" \")"
      ],
      "metadata": {
        "colab": {
          "base_uri": "https://localhost:8080/"
        },
        "id": "r6V4NTgp5KPK",
        "outputId": "7a08a653-9e8b-4829-8b03-4ed91a48e473"
      },
      "execution_count": null,
      "outputs": [
        {
          "output_type": "stream",
          "name": "stdout",
          "text": [
            "baekjoon\n",
            "1 0 -1 -1 2 -1 -1 -1 -1 4 3 -1 -1 7 5 -1 -1 -1 -1 -1 -1 -1 -1 -1 -1 -1 "
          ]
        }
      ]
    },
    {
      "cell_type": "code",
      "source": [
        "ord('a')"
      ],
      "metadata": {
        "colab": {
          "base_uri": "https://localhost:8080/"
        },
        "id": "NfLlxZr09AM0",
        "outputId": "a2a4af71-cee1-4765-ca99-9af01743cc1c"
      },
      "execution_count": null,
      "outputs": [
        {
          "output_type": "execute_result",
          "data": {
            "text/plain": [
              "97"
            ]
          },
          "metadata": {},
          "execution_count": 13
        }
      ]
    },
    {
      "cell_type": "markdown",
      "source": [
        "## 문제 2 : [숫자의 합](https://www.acmicpc.net/problem/11720)\n",
        "\n",
        "N개의 숫자가 공백 없이 쓰여있다. 이 숫자를 모두 합해서 출력하는 프로그램을 작성하시오.\n",
        "\n",
        "### 입력\n",
        "첫째 줄에 숫자의 개수 N (1 ≤ N ≤ 100)이 주어진다. 둘째 줄에 숫자 N개가 공백없이 주어진다.\n",
        "\n",
        "### 출력\n",
        "입력으로 주어진 숫자 N개의 합을 출력한다."
      ],
      "metadata": {
        "id": "CCCsfkEZ-Ab3"
      }
    },
    {
      "cell_type": "code",
      "source": [
        "ord('2') - ord('0')"
      ],
      "metadata": {
        "colab": {
          "base_uri": "https://localhost:8080/"
        },
        "id": "meoO7huI_mN8",
        "outputId": "00a06269-600c-4c51-8938-6f8344f12da3"
      },
      "execution_count": null,
      "outputs": [
        {
          "output_type": "execute_result",
          "data": {
            "text/plain": [
              "2"
            ]
          },
          "metadata": {},
          "execution_count": 18
        }
      ]
    },
    {
      "cell_type": "code",
      "source": [
        "n = int(input())\n",
        "s = str(n)\n",
        "\n",
        "answer = 0\n",
        "for i in range(len(s)): # 단순 하나씩 뽑아 int로 sum()\n",
        "  answer += int(s[i])\n",
        "\n",
        "print(answer)"
      ],
      "metadata": {
        "colab": {
          "base_uri": "https://localhost:8080/"
        },
        "id": "sTkcgO8LAXm7",
        "outputId": "176267c3-3f19-4cab-d60a-7667203f9e28"
      },
      "execution_count": null,
      "outputs": [
        {
          "output_type": "stream",
          "name": "stdout",
          "text": [
            "12345\n",
            "15\n"
          ]
        }
      ]
    },
    {
      "cell_type": "markdown",
      "source": [
        "# 스택\n",
        "\n",
        "### 자료 구조\n",
        "* 데이터 어떻게 저장하고 관리할까 방법론\n",
        "* 단순히 저장 공간 x\n",
        "* 스택 & 큐 : 데이터 추가 및 제거를 할 때 어떤 규칙을 할 것인가?\n",
        "\n",
        "### 스택\n",
        "* Last\n",
        "* In\n",
        "* First\n",
        "* Out\n",
        "\n",
        "마지막에 들어온 걸 우선 해서 제거한다."
      ],
      "metadata": {
        "id": "A51KBiIwBcjT"
      }
    },
    {
      "cell_type": "markdown",
      "source": [
        "## 문제 1 : [제로](https://www.acmicpc.net/problem/10773)\n",
        "\n",
        "나코더 기장 재민이는 동아리 회식을 준비하기 위해서 장부를 관리하는 중이다.  \n",
        "\n",
        "재현이는 재민이를 도와서 돈을 관리하는 중인데, 애석하게도 항상 정신없는 재현이는 돈을 실수로 잘못 부르는 사고를 치기 일쑤였다.  \n",
        "\n",
        "재현이는 잘못된 수를 부를 때마다 0을 외쳐서, 가장 최근에 재민이가 쓴 수를 지우게 시킨다.  \n",
        "\n",
        "재민이는 이렇게 모든 수를 받아 적은 후 그 수의 합을 알고 싶어 한다. 재민이를 도와주자!  "
      ],
      "metadata": {
        "id": "hJFIWAZXy2mh"
      }
    },
    {
      "cell_type": "code",
      "source": [
        "k = int(input())\n",
        "answer = []\n",
        "\n",
        "for idx in range(int(k)):\n",
        "  data = int(input())\n",
        "  if data == 0:\n",
        "    answer.pop(len(answer)-1) # answer.pop(-1)\n",
        "  else:\n",
        "    answer.append(data)"
      ],
      "metadata": {
        "id": "_lNP9vQQA-iN",
        "colab": {
          "base_uri": "https://localhost:8080/"
        },
        "outputId": "be2e2dc2-6241-4c3f-f563-6161a63cf89a"
      },
      "execution_count": null,
      "outputs": [
        {
          "name": "stdout",
          "output_type": "stream",
          "text": [
            "10\n",
            "1\n",
            "3\n",
            "5\n",
            "4\n",
            "0\n",
            "0\n",
            "7\n",
            "0\n",
            "0\n",
            "6\n"
          ]
        }
      ]
    },
    {
      "cell_type": "code",
      "source": [
        "sum(answer)"
      ],
      "metadata": {
        "id": "MIcO3dLUBfYr",
        "colab": {
          "base_uri": "https://localhost:8080/"
        },
        "outputId": "704d4f23-9ee5-4825-c3fa-a699df06f889"
      },
      "execution_count": null,
      "outputs": [
        {
          "output_type": "execute_result",
          "data": {
            "text/plain": [
              "7"
            ]
          },
          "metadata": {},
          "execution_count": 6
        }
      ]
    },
    {
      "cell_type": "markdown",
      "source": [
        "## 문제 2 : [균형잡힌 세상](https://www.acmicpc.net/problem/4949)\n",
        "\n",
        "세계는 균형이 잘 잡혀있어야 한다. 양과 음, 빛과 어둠 그리고 왼쪽 괄호와 오른쪽 괄호처럼 말이다.\n",
        "\n",
        "정민이의 임무는 어떤 문자열이 주어졌을 때, 괄호들의 균형이 잘 맞춰져 있는지 판단하는 프로그램을 짜는 것이다.\n",
        "\n",
        "문자열에 포함되는 괄호는 소괄호(\"()\") 와 대괄호(\"[]\")로 2종류이고, 문자열이 균형을 이루는 조건은 아래와 같다.\n",
        "\n",
        "모든 왼쪽 소괄호(\"(\")는 오른쪽 소괄호(\")\")와만 짝을 이뤄야 한다.\n",
        "모든 왼쪽 대괄호(\"[\")는 오른쪽 대괄호(\"]\")와만 짝을 이뤄야 한다.\n",
        "모든 오른쪽 괄호들은 자신과 짝을 이룰 수 있는 왼쪽 괄호가 존재한다.\n",
        "모든 괄호들의 짝은 1:1 매칭만 가능하다. 즉, 괄호 하나가 둘 이상의 괄호와 짝지어지지 않는다.\n",
        "짝을 이루는 두 괄호가 있을 때, 그 사이에 있는 문자열도 균형이 잡혀야 한다.\n",
        "정민이를 도와 문자열이 주어졌을 때 균형잡힌 문자열인지 아닌지를 판단해보자."
      ],
      "metadata": {
        "id": "b5EBwlFS4Boq"
      }
    },
    {
      "cell_type": "markdown",
      "source": [
        "So when I die (the [first] I will see in (heaven) is a score list).  \n",
        "[ first in ] ( first out ).  \n",
        "Half Moon tonight (At least it is better than no Moon at all].  \n",
        "A rope may form )( a trail in a maze.  \n",
        "Help( I[m being held prisoner in a fortune cookie factory)].  \n",
        "([ (([( [ ] ) ( ) (( ))] )) ]).  \n",
        " .\n",
        "."
      ],
      "metadata": {
        "id": "vPWxRJfeDZGO"
      }
    },
    {
      "cell_type": "code",
      "source": [
        "while True:\n",
        "  s = input()\n",
        "  if s == '.':\n",
        "    break\n",
        "\n",
        "  stack = []\n",
        "  balanced = True\n",
        "\n",
        "  for i in range(len(s)):\n",
        "    if s[i] == '(' or s[i] == '[':\n",
        "      stack.append(s[i])\n",
        "\n",
        "    if s[i] == ')':\n",
        "      if len(stack) == 0:\n",
        "        balanced = False\n",
        "        break\n",
        "\n",
        "      last = stack.pop(-1)\n",
        "      if last != '(':  # 소괄호는 '('와 비교\n",
        "        balanced = False\n",
        "        break\n",
        "\n",
        "    if s[i] == ']':\n",
        "      if len(stack) == 0:\n",
        "        balanced = False\n",
        "        break\n",
        "\n",
        "      last = stack.pop(-1)\n",
        "      if last != '[':  # 대괄호는 '['와 비교\n",
        "        balanced = False\n",
        "        break\n",
        "\n",
        "  if len(stack) != 0:  # 모든 괄호가 짝지어져야 함\n",
        "    balanced = False\n",
        "\n",
        "  if balanced:\n",
        "    print('yes')\n",
        "  else:\n",
        "    print('no')"
      ],
      "metadata": {
        "id": "vaRVz4KN4TYN",
        "colab": {
          "base_uri": "https://localhost:8080/"
        },
        "outputId": "eb1588f7-0868-4c47-a5da-241ec6110c1f"
      },
      "execution_count": null,
      "outputs": [
        {
          "name": "stdout",
          "output_type": "stream",
          "text": [
            "So when I die (the [first] I will see in (heaven) is a score list).\n",
            "yes\n",
            "Half Moon tonight (At least it is better than no Moon at all].\n",
            "no\n",
            " .\n",
            "yes\n",
            ".\n"
          ]
        }
      ]
    },
    {
      "cell_type": "markdown",
      "source": [
        "# 큐"
      ],
      "metadata": {
        "id": "fuDNCOOyBfoE"
      }
    },
    {
      "cell_type": "markdown",
      "source": [
        "\n",
        "\n",
        "*   스택이랑 비슷\n",
        "*   FIFO : Frist In First Out\n",
        "\n"
      ],
      "metadata": {
        "id": "EXfryiRYI9U-"
      }
    },
    {
      "cell_type": "code",
      "source": [
        "# 리스트를 큐로 사용하기\n",
        "\n",
        "from collections import deque\n",
        "queue = deque([\"Eric\", \"John\", \"Michael\"])\n",
        "queue.append(\"Terry\")           # 오른쪽 테리 방문\n",
        "queue.append(\"Graham\")          # 오른쪽 그라함 방문\n",
        "queue.popleft()                 # 왼쪽 에릭 나가기\n",
        "queue.popleft()                 # 왼쪽 존 나가기\n",
        "\n",
        "print(queue)"
      ],
      "metadata": {
        "colab": {
          "base_uri": "https://localhost:8080/"
        },
        "id": "ElW9gcYooGD_",
        "outputId": "ee780550-e50a-463f-9b24-6c6578602910"
      },
      "execution_count": 10,
      "outputs": [
        {
          "output_type": "stream",
          "name": "stdout",
          "text": [
            "deque(['Michael', 'Terry', 'Graham'])\n"
          ]
        }
      ]
    },
    {
      "cell_type": "markdown",
      "source": [
        "## 문제 1 : [큐 2](https://www.acmicpc.net/problem/18258)\n",
        "\n",
        "\n"
      ],
      "metadata": {
        "id": "ypzzJdw7JnYC"
      }
    },
    {
      "cell_type": "code",
      "source": [
        "n = int(input())\n",
        "que = []\n",
        "\n",
        "for _ in range(n):\n",
        "  s = input()\n",
        "\n",
        "  if \"push\" in s:\n",
        "    que.append(int(s[5:]))\n",
        "\n",
        "  elif \"pop\" in s:\n",
        "    if len(que) == 0:\n",
        "      print(-1)\n",
        "    else:\n",
        "      print(que[0])\n",
        "      que.remove(que[0])\n",
        "\n",
        "  elif \"size\" in s:\n",
        "    print(len(que))\n",
        "\n",
        "  elif \"empty\" in s:\n",
        "    if len(que) > 0:\n",
        "      print(0)\n",
        "    else:\n",
        "      print(1)\n",
        "\n",
        "  elif \"front\" in s:\n",
        "    if len(que) == 0:\n",
        "      print(-1)\n",
        "    else:\n",
        "      print(que[0])\n",
        "\n",
        "  elif \"back\" in s:\n",
        "    if len(que) == 0:\n",
        "      print(-1)\n",
        "    else:\n",
        "      print(que[-1])"
      ],
      "metadata": {
        "colab": {
          "base_uri": "https://localhost:8080/"
        },
        "id": "zHusJXqzJmDJ",
        "outputId": "65fbfdb6-535e-4cb3-e033-fad130e19b56"
      },
      "execution_count": null,
      "outputs": [
        {
          "output_type": "stream",
          "name": "stdout",
          "text": [
            "15\n",
            "push 1\n",
            "push 2\n",
            "front\n",
            "1\n",
            "back\n",
            "2\n",
            "size\n",
            "2\n",
            "empty\n",
            "0\n",
            "pop\n",
            "1\n",
            "pop\n",
            "2\n",
            "pop\n",
            "-1\n",
            "size\n",
            "0\n",
            "empty\n",
            "1\n",
            "pop\n",
            "-1\n",
            "push 3\n",
            "empty\n",
            "0\n",
            "front\n",
            "3\n"
          ]
        }
      ]
    },
    {
      "cell_type": "code",
      "source": [
        "from collections import deque\n",
        "\n",
        "# 입력 데이터: 여러 줄의 입력을 한 번에 받음\n",
        "input_data = \"\"\"15\n",
        "push 1\n",
        "push 2\n",
        "front\n",
        "back\n",
        "size\n",
        "empty\n",
        "pop\n",
        "pop\n",
        "pop\n",
        "size\n",
        "empty\n",
        "pop\n",
        "push 3\n",
        "empty\n",
        "front\n",
        "\"\"\"\n",
        "\n",
        "# 입력 데이터를 줄 단위로 나눔\n",
        "input_lines = input_data.strip().split(\"\\n\")\n",
        "\n",
        "# 첫 번째 줄은 명령어 개수 N\n",
        "N = int(input_lines[0])\n",
        "\n",
        "# 나머지 줄은 명령어들\n",
        "commands = input_lines[1:]\n",
        "\n",
        "# 덱 초기화\n",
        "d = deque()\n",
        "\n",
        "# 명령어 처리\n",
        "for command in commands:\n",
        "    command = command.split()\n",
        "    if command[0] == \"push\":\n",
        "        d.append(command[1])\n",
        "    elif command[0] == \"pop\":\n",
        "        print(\"-1\" if len(d) == 0 else d.popleft())\n",
        "    elif command[0] == \"size\":\n",
        "        print(len(d))\n",
        "    elif command[0] == \"empty\":\n",
        "        print(\"1\" if len(d) == 0 else \"0\")\n",
        "    elif command[0] == \"front\":\n",
        "        print(\"-1\" if len(d) == 0 else d[0])\n",
        "    elif command[0] == \"back\":\n",
        "        print(\"-1\" if len(d) == 0 else d[-1])"
      ],
      "metadata": {
        "colab": {
          "base_uri": "https://localhost:8080/"
        },
        "id": "SSfjcntDhAQv",
        "outputId": "af508d22-9af9-4368-9823-b3bee2e0801d"
      },
      "execution_count": null,
      "outputs": [
        {
          "output_type": "stream",
          "name": "stdout",
          "text": [
            "1\n",
            "2\n",
            "2\n",
            "0\n",
            "1\n",
            "2\n",
            "-1\n",
            "0\n",
            "1\n",
            "-1\n",
            "0\n",
            "3\n"
          ]
        }
      ]
    },
    {
      "cell_type": "markdown",
      "source": [
        "## 문제 2 : [카드 2](https://www.acmicpc.net/problem/2164)"
      ],
      "metadata": {
        "id": "7mOfak7-Jzmz"
      }
    },
    {
      "cell_type": "code",
      "source": [
        "N = int(input())\n",
        "\n",
        "d = deque(list(range(1, N+1)))\n",
        "\n",
        "while len(d) > 1:\n",
        "  d.popleft()\n",
        "  d.append(d[0])\n",
        "  d.remove(d[0])\n",
        "\n",
        "print(d[0])"
      ],
      "metadata": {
        "colab": {
          "base_uri": "https://localhost:8080/"
        },
        "id": "jCXDxfB6KKRz",
        "outputId": "dcc87752-c80b-4cb3-95a8-d1a79e7639bf"
      },
      "execution_count": null,
      "outputs": [
        {
          "output_type": "stream",
          "name": "stdout",
          "text": [
            "6\n",
            "4\n"
          ]
        }
      ]
    }
  ]
}