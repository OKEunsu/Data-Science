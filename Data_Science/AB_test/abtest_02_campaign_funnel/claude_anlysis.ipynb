{
 "cells": [
  {
   "cell_type": "markdown",
   "id": "cell-0",
   "metadata": {},
   "source": "# A/B 테스트 캠페인 퍼널 분석\n## 📊 컨트롤 vs 테스트 캠페인 성과에 대한 통계 분석\n\n### 분석 목표:\n- 컨트롤 그룹과 테스트 그룹 간 캠페인 성과 비교\n- 전환율에 대한 통계적 가설 검정\n- 최적화 기회 식별을 위한 퍼널 분석\n- 캠페인 전략을 위한 데이터 기반 권장사항"
  },
  {
   "cell_type": "markdown",
   "id": "cell-1",
   "metadata": {},
   "source": "## 1. 데이터 준비 및 품질 평가"
  },
  {
   "cell_type": "code",
   "execution_count": null,
   "id": "cell-2",
   "metadata": {},
   "outputs": [],
   "source": "# 포괄적인 데이터 분석을 위한 필수 라이브러리\nimport pandas as pd\nimport numpy as np\nimport matplotlib.pyplot as plt\nimport seaborn as sns\nimport plotly.express as px\nimport plotly.graph_objects as go\nfrom plotly.subplots import make_subplots\nimport warnings\nwarnings.filterwarnings('ignore')\n\n# 통계 검정 라이브러리\nfrom scipy import stats\nfrom scipy.stats import ttest_ind, mannwhitneyu, chi2_contingency\nimport statsmodels.api as sm\nfrom statsmodels.stats.proportion import proportions_ztest, proportion_confint\n\n# 더 나은 시각화를 위한 스타일 설정\nplt.style.use('seaborn')\nsns.set_palette(\"husl\")\npd.set_option('display.max_columns', None)\npd.set_option('display.precision', 4)"
  },
  {
   "cell_type": "code",
   "execution_count": null,
   "id": "cell-3",
   "metadata": {},
   "outputs": [],
   "source": "def load_and_preprocess_data():\n    \"\"\"\n    포괄적인 데이터 품질 검사를 통한 캠페인 데이터 로드 및 전처리\n    \"\"\"\n    # 일관된 네이밍을 위한 컬럼 매핑\n    column_names = ['campaign_name', 'date', 'spend', 'impression', 'reach', \n                   'click', 'search', 'view', 'cart', 'purchase']\n    \n    # 컨트롤 그룹 로드\n    control_df = pd.read_csv(\"control_group.csv\", sep=\";\")\n    control_df['Date'] = pd.to_datetime(control_df['Date'], format='%d.%m.%Y')\n    control_df.columns = column_names\n    control_df['campaign_name'] = 'control'\n    \n    # 테스트 그룹 로드\n    test_df = pd.read_csv(\"test_group.csv\", sep=\";\")\n    test_df['Date'] = pd.to_datetime(test_df['Date'], format='%d.%m.%Y')\n    test_df.columns = column_names\n    test_df['campaign_name'] = 'test'\n    \n    return control_df, test_df\n\ndef data_quality_assessment(df, campaign_name):\n    \"\"\"\n    포괄적인 데이터 품질 평가\n    \"\"\"\n    print(f\"\\n=== {campaign_name.upper()} 캠페인 데이터 품질 ===\\n\")\n    \n    # 기본 정보\n    print(f\"📊 데이터셋 크기: {df.shape}\")\n    print(f\"📅 날짜 범위: {df['date'].min().strftime('%Y-%m-%d')}부터 {df['date'].max().strftime('%Y-%m-%d')}까지\")\n    print(f\"⏱️  기간: {(df['date'].max() - df['date'].min()).days + 1}일\")\n    \n    # 결측 데이터 분석\n    missing_data = df.isnull().sum()\n    missing_percent = 100 * missing_data / len(df)\n    \n    if missing_data.sum() > 0:\n        print(\"\\n🚨 결측 데이터 발견:\")\n        for col in missing_data[missing_data > 0].index:\n            print(f\"   {col}: {missing_data[col]}개 행 ({missing_percent[col]:.1f}%)\")\n    else:\n        print(\"\\n✅ 결측 데이터 없음\")\n    \n    # 주요 지표에 대한 통계 요약\n    key_metrics = ['spend', 'impression', 'click', 'purchase']\n    print(\"\\n📈 주요 지표 요약:\")\n    summary_stats = df[key_metrics].describe()\n    print(summary_stats.round(2))\n    \n    return {\n        'missing_data': missing_data,\n        'summary_stats': summary_stats,\n        'date_range': (df['date'].min(), df['date'].max())\n    }\n\n# 데이터 로드\ncontrol_df, test_df = load_and_preprocess_data()\n\n# 데이터 품질 평가\ncontrol_quality = data_quality_assessment(control_df, '컨트롤')\ntest_quality = data_quality_assessment(test_df, '테스트')"
  },
  {
   "cell_type": "markdown",
   "id": "cell-4",
   "metadata": {},
   "source": "## 2. 결측 데이터 처리 및 민감도 분석\n### 결론의 견고성 테스트를 위한 다중 시나리오"
  },
  {
   "cell_type": "code",
   "execution_count": null,
   "id": "cell-5",
   "metadata": {},
   "outputs": [],
   "source": "def create_analysis_scenarios(control_df, test_df):\n    \"\"\"\n    민감도 분석을 위한 다중 시나리오 생성\n    \"\"\"\n    scenarios = {}\n    \n    # 숫자형 컬럼 식별\n    numeric_cols = control_df.select_dtypes(include=[np.number]).columns\n    \n    # 시나리오 1: 결측 데이터가 있는 행 제거\n    control_clean = control_df.dropna()\n    test_clean = test_df.dropna()\n    \n    # 두 데이터셋에 모두 존재하는 날짜만 포함\n    common_dates = set(control_clean['date']) & set(test_clean['date'])\n    control_s1 = control_clean[control_clean['date'].isin(common_dates)]\n    test_s1 = test_clean[test_clean['date'].isin(common_dates)]\n    \n    scenarios['complete_cases'] = pd.concat([control_s1, test_s1], ignore_index=True)\n    \n    # 시나리오 2: 중앙값으로 채우기 (이상치에 더 강건)\n    control_median = control_df.copy()\n    control_median[numeric_cols] = control_median[numeric_cols].fillna(control_median[numeric_cols].median())\n    scenarios['median_fill'] = pd.concat([control_median, test_df], ignore_index=True)\n    \n    # 시나리오 3: 평균값으로 채우기\n    control_mean = control_df.copy()\n    control_mean[numeric_cols] = control_mean[numeric_cols].fillna(control_mean[numeric_cols].mean())\n    scenarios['mean_fill'] = pd.concat([control_mean, test_df], ignore_index=True)\n    \n    return scenarios\n\n# 분석 시나리오 생성\nanalysis_scenarios = create_analysis_scenarios(control_df, test_df)\n\nprint(\"📋 분석 시나리오 생성 완료:\")\nfor name, df in analysis_scenarios.items():\n    control_rows = len(df[df['campaign_name'] == 'control'])\n    test_rows = len(df[df['campaign_name'] == 'test'])\n    print(f\"   {name}: 컨트롤={control_rows}, 테스트={test_rows}, 전체={len(df)}\")\n\n# 주 분석에는 가장 보수적인 시나리오(완전 사례) 사용\nprimary_df = analysis_scenarios['complete_cases'].copy()\nprint(f\"\\n✅ 주 분석에 사용할 시나리오: complete_cases\")\nprint(f\"📊 최종 데이터셋 크기: {primary_df.shape}\")"
  },
  {
   "cell_type": "markdown",
   "id": "cell-6",
   "metadata": {},
   "source": "## 3. 탐색적 데이터 분석 및 캠페인 개요"
  },
  {
   "cell_type": "code",
   "execution_count": null,
   "id": "cell-7",
   "metadata": {},
   "outputs": [],
   "source": "def comprehensive_eda(df):\n    \"\"\"\n    캠페인 성과에 대한 포괄적인 탐색적 데이터 분석\n    \"\"\"\n    print(\"\\n\" + \"=\"*60)\n    print(\"           📊 캠페인 성과 개요\")\n    print(\"=\"*60)\n    \n    # 캠페인 레벨 집계 지표\n    campaign_summary = df.groupby('campaign_name').agg({\n        'spend': ['sum', 'mean', 'std'],\n        'impression': ['sum', 'mean'],\n        'click': ['sum', 'mean'],\n        'search': ['sum', 'mean'],\n        'view': ['sum', 'mean'],\n        'cart': ['sum', 'mean'],\n        'purchase': ['sum', 'mean']\n    }).round(2)\n    \n    print(\"\\n🎯 캠페인 요약 통계:\")\n    print(campaign_summary)\n    \n    # 주요 성과 지표 계산\n    kpi_summary = df.groupby('campaign_name').apply(calculate_kpis).round(4)\n    print(\"\\n📈 주요 성과 지표:\")\n    print(kpi_summary)\n    \n    return campaign_summary, kpi_summary\n\ndef calculate_kpis(group_df):\n    \"\"\"\n    캠페인 분석을 위한 포괄적인 KPI 계산\n    \"\"\"\n    total_spend = group_df['spend'].sum()\n    total_impressions = group_df['impression'].sum()\n    total_clicks = group_df['click'].sum()\n    total_purchases = group_df['purchase'].sum()\n    total_views = group_df['view'].sum()\n    total_carts = group_df['cart'].sum()\n    \n    return pd.Series({\n        'CTR': (total_clicks / total_impressions) * 100,  # 클릭률 (%)\n        'CPC': total_spend / total_clicks,  # 클릭당 비용\n        'CPM': (total_spend / total_impressions) * 1000,  # 천 노출당 비용\n        'CPA': total_spend / total_purchases,  # 구매당 비용\n        'Conversion_Rate': (total_purchases / total_clicks) * 100,  # 구매 전환율 (%)\n        'View_to_Cart': (total_carts / total_views) * 100,  # 조회-장바구니 전환율 (%)\n        'Cart_to_Purchase': (total_purchases / total_carts) * 100,  # 장바구니-구매 전환율 (%)\n        'ROAS_Proxy': total_purchases / total_spend,  # 지출 대비 구매수 (ROAS 대리지표)\n    })\n\n# 포괄적인 EDA 수행\ncampaign_summary, kpi_summary = comprehensive_eda(primary_df)"
  },
  {
   "cell_type": "markdown",
   "id": "cell-8",
   "metadata": {},
   "source": "## 4. 통계적 가설 검정 프레임워크"
  },
  {
   "cell_type": "code",
   "execution_count": null,
   "id": "cell-9",
   "metadata": {},
   "outputs": [],
   "source": "def statistical_testing_suite(df, alpha=0.05):\n    \"\"\"\n    A/B 테스트를 위한 포괄적인 통계 검정 프레임워크\n    \"\"\"\n    print(\"\\n\" + \"=\"*60)\n    print(\"           🔬 통계적 가설 검정\")\n    print(\"=\"*60)\n    print(f\"유의수준 (α): {alpha}\")\n    \n    control_data = df[df['campaign_name'] == 'control']\n    test_data = df[df['campaign_name'] == 'test']\n    \n    results = {}\n    \n    # 1. 구매 전환율 검정 (주요 지표)\n    print(\"\\n🎯 주요 지표: 구매 전환율\")\n    control_conversions = control_data['purchase'].sum()\n    control_clicks = control_data['click'].sum()\n    test_conversions = test_data['purchase'].sum()\n    test_clicks = test_data['click'].sum()\n    \n    # 전환율에 대한 이중 비율 z-검정\n    count = np.array([control_conversions, test_conversions])\n    nobs = np.array([control_clicks, test_clicks])\n    \n    z_stat, p_value = proportions_ztest(count, nobs)\n    \n    # 신뢰구간\n    control_ci = proportion_confint(control_conversions, control_clicks, alpha=alpha)\n    test_ci = proportion_confint(test_conversions, test_clicks, alpha=alpha)\n    \n    control_rate = control_conversions / control_clicks\n    test_rate = test_conversions / test_clicks\n    lift = (test_rate - control_rate) / control_rate * 100\n    \n    results['conversion_rate'] = {\n        'control_rate': control_rate,\n        'test_rate': test_rate,\n        'lift_percent': lift,\n        'z_statistic': z_stat,\n        'p_value': p_value,\n        'significant': p_value < alpha,\n        'control_ci': control_ci,\n        'test_ci': test_ci\n    }\n    \n    print(f\"   컨트롤 전환율: {control_rate:.4f} ({control_rate*100:.2f}%)\")\n    print(f\"   테스트 전환율: {test_rate:.4f} ({test_rate*100:.2f}%)\")\n    print(f\"   증감률: {lift:+.2f}%\")\n    print(f\"   Z-통계량: {z_stat:.4f}\")\n    print(f\"   P-값: {p_value:.6f}\")\n    print(f\"   통계적 유의성: {'✅ 예' if p_value < alpha else '❌ 아니오'} (α = {alpha})\")\n    \n    # 2. 구매당 비용(CPA) 검정\n    print(\"\\n💰 보조 지표: 구매당 비용\")\n    control_cpa = control_data['spend'].sum() / control_conversions\n    test_cpa = test_data['spend'].sum() / test_conversions\n    \n    # 통계 검정을 위한 일별 CPA\n    control_daily_cpa = (control_data['spend'] / control_data['purchase']).replace([np.inf, -np.inf], np.nan).dropna()\n    test_daily_cpa = (test_data['spend'] / test_data['purchase']).replace([np.inf, -np.inf], np.nan).dropna()\n    \n    if len(control_daily_cpa) > 1 and len(test_daily_cpa) > 1:\n        # 정규성 검정\n        control_normal = stats.shapiro(control_daily_cpa)[1] > 0.05\n        test_normal = stats.shapiro(test_daily_cpa)[1] > 0.05\n        \n        if control_normal and test_normal:\n            stat, p_val = stats.ttest_ind(control_daily_cpa, test_daily_cpa)\n            test_type = \"독립 t-검정\"\n        else:\n            stat, p_val = stats.mannwhitneyu(control_daily_cpa, test_daily_cpa)\n            test_type = \"Mann-Whitney U 검정\"\n        \n        cpa_lift = (test_cpa - control_cpa) / control_cpa * 100\n        \n        results['cpa'] = {\n            'control_cpa': control_cpa,\n            'test_cpa': test_cpa,\n            'lift_percent': cpa_lift,\n            'test_type': test_type,\n            'statistic': stat,\n            'p_value': p_val,\n            'significant': p_val < alpha\n        }\n        \n        print(f\"   컨트롤 CPA: ${control_cpa:.2f}\")\n        print(f\"   테스트 CPA: ${test_cpa:.2f}\")\n        print(f\"   변화율: {cpa_lift:+.2f}%\")\n        print(f\"   사용된 검정: {test_type}\")\n        print(f\"   P-값: {p_val:.6f}\")\n        print(f\"   통계적 유의성: {'✅ 예' if p_val < alpha else '❌ 아니오'}\")\n    \n    # 3. 클릭률 검정\n    print(\"\\n👆 참여 지표: 클릭률\")\n    control_impressions = control_data['impression'].sum()\n    test_impressions = test_data['impression'].sum()\n    \n    ctr_count = np.array([control_clicks, test_clicks])\n    ctr_nobs = np.array([control_impressions, test_impressions])\n    \n    ctr_z_stat, ctr_p_value = proportions_ztest(ctr_count, ctr_nobs)\n    \n    control_ctr = control_clicks / control_impressions\n    test_ctr = test_clicks / test_impressions\n    ctr_lift = (test_ctr - control_ctr) / control_ctr * 100\n    \n    results['ctr'] = {\n        'control_ctr': control_ctr,\n        'test_ctr': test_ctr,\n        'lift_percent': ctr_lift,\n        'z_statistic': ctr_z_stat,\n        'p_value': ctr_p_value,\n        'significant': ctr_p_value < alpha\n    }\n    \n    print(f\"   컨트롤 CTR: {control_ctr:.4f} ({control_ctr*100:.2f}%)\")\n    print(f\"   테스트 CTR: {test_ctr:.4f} ({test_ctr*100:.2f}%)\")\n    print(f\"   증감률: {ctr_lift:+.2f}%\")\n    print(f\"   P-값: {ctr_p_value:.6f}\")\n    print(f\"   통계적 유의성: {'✅ 예' if ctr_p_value < alpha else '❌ 아니오'}\")\n    \n    return results\n\n# 통계 검정 수행\ntest_results = statistical_testing_suite(primary_df)"
  },
  {
   "cell_type": "markdown",
   "id": "cell-10",
   "metadata": {},
   "source": "## 5. 퍼널 분석 및 전환 경로 최적화"
  },
  {
   "cell_type": "code",
   "execution_count": null,
   "id": "cell-11",
   "metadata": {},
   "outputs": [],
   "source": "def funnel_analysis(df):\n    \"\"\"\n    단계별 전환율이 포함된 포괄적인 퍼널 분석\n    \"\"\"\n    print(\"\\n\" + \"=\"*60)\n    print(\"           🔄 캠페인 퍼널 분석\")\n    print(\"=\"*60)\n    \n    # 캠페인별 퍼널 지표 집계\n    funnel_data = df.groupby('campaign_name').agg({\n        'impression': 'sum',\n        'click': 'sum', \n        'search': 'sum',\n        'view': 'sum',\n        'cart': 'sum',\n        'purchase': 'sum'\n    }).reset_index()\n    \n    # 각 단계별 전환율 계산\n    def calculate_funnel_rates(row):\n        rates = {\n            'campaign': row['campaign_name'],\n            'impressions': int(row['impression']),\n            'clicks': int(row['click']),\n            'searches': int(row['search']),\n            'views': int(row['view']),\n            'carts': int(row['cart']),\n            'purchases': int(row['purchase']),\n            \n            # 전환율\n            'impression_to_click': row['click'] / row['impression'],\n            'click_to_search': row['search'] / row['click'],\n            'search_to_view': row['view'] / row['search'],\n            'view_to_cart': row['cart'] / row['view'],\n            'cart_to_purchase': row['purchase'] / row['cart'],\n            \n            # 전체 전환율\n            'overall_conversion': row['purchase'] / row['impression']\n        }\n        return pd.Series(rates)\n    \n    funnel_rates = funnel_data.apply(calculate_funnel_rates, axis=1)\n    \n    print(\"\\n📊 퍼널 전환율:\")\n    print(\"\\n\" + \"-\"*80)\n    \n    for _, row in funnel_rates.iterrows():\n        campaign = row['campaign'].upper()\n        print(f\"\\n🎯 {campaign} 캠페인:\")\n        print(f\"   노출 → 클릭:        {row['impression_to_click']*100:6.2f}%  ({row['impressions']:,} → {row['clicks']:,})\")\n        print(f\"   클릭 → 검색:        {row['click_to_search']*100:6.2f}%  ({row['clicks']:,} → {row['searches']:,})\")\n        print(f\"   검색 → 조회:        {row['search_to_view']*100:6.2f}%  ({row['searches']:,} → {row['views']:,})\")\n        print(f\"   조회 → 장바구니:    {row['view_to_cart']*100:6.2f}%  ({row['views']:,} → {row['carts']:,})\")\n        print(f\"   장바구니 → 구매:    {row['cart_to_purchase']*100:6.2f}%  ({row['carts']:,} → {row['purchases']:,})\")\n        print(f\"   \" + \"-\"*50)\n        print(f\"   전체 전환:          {row['overall_conversion']*100:6.4f}%  ({row['impressions']:,} → {row['purchases']:,})\")\n    \n    # 각 퍼널 단계별 증감률 계산\n    control_row = funnel_rates[funnel_rates['campaign'] == 'control'].iloc[0]\n    test_row = funnel_rates[funnel_rates['campaign'] == 'test'].iloc[0]\n    \n    print(\"\\n🚀 퍼널 단계별 성과 비교:\")\n    print(\"\\n\" + \"-\"*80)\n    \n    funnel_steps = [\n        ('노출 → 클릭', 'impression_to_click'),\n        ('클릭 → 검색', 'click_to_search'),\n        ('검색 → 조회', 'search_to_view'),\n        ('조회 → 장바구니', 'view_to_cart'),\n        ('장바구니 → 구매', 'cart_to_purchase'),\n        ('전체 전환', 'overall_conversion')\n    ]\n    \n    funnel_comparison = []\n    \n    for step_name, metric in funnel_steps:\n        control_rate = control_row[metric]\n        test_rate = test_row[metric]\n        lift = (test_rate - control_rate) / control_rate * 100 if control_rate > 0 else 0\n        \n        better = '🟢 테스트' if test_rate > control_rate else '🔴 컨트롤'\n        \n        funnel_comparison.append({\n            'step': step_name,\n            'control_rate': control_rate,\n            'test_rate': test_rate,\n            'lift': lift,\n            'better_performer': better\n        })\n        \n        print(f\"{step_name:15} | 컨트롤: {control_rate*100:6.2f}% | 테스트: {test_rate*100:6.2f}% | 증감률: {lift:+6.1f}% | {better}\")\n    \n    return funnel_rates, pd.DataFrame(funnel_comparison)\n\n# 퍼널 분석 수행\nfunnel_rates, funnel_comparison = funnel_analysis(primary_df)"
  },
  {
   "cell_type": "markdown",
   "id": "cell-12",
   "metadata": {},
   "source": "## 6. 고급 시각화"
  },
  {
   "cell_type": "code",
   "execution_count": null,
   "id": "cell-13",
   "metadata": {},
   "outputs": [],
   "source": "def create_comprehensive_visualizations(df, funnel_rates, test_results):\n    \"\"\"\n    A/B 테스트 분석을 위한 포괄적인 시각화 생성\n    \"\"\"\n    \n    # 1. 퍼널 차트\n    fig_funnel = make_subplots(\n        rows=1, cols=2,\n        subplot_titles=('컨트롤 캠페인 퍼널', '테스트 캠페인 퍼널'),\n        specs=[[{\"type\": \"funnel\"}, {\"type\": \"funnel\"}]]\n    )\n    \n    # 컨트롤 퍼널\n    control_data = funnel_rates[funnel_rates['campaign'] == 'control'].iloc[0]\n    fig_funnel.add_trace(go.Funnel(\n        y=[\"노출\", \"클릭\", \"검색\", \"조회\", \"장바구니\", \"구매\"],\n        x=[control_data['impressions'], control_data['clicks'], control_data['searches'], \n           control_data['views'], control_data['carts'], control_data['purchases']],\n        name=\"컨트롤\",\n        marker_color=\"lightblue\"\n    ), row=1, col=1)\n    \n    # 테스트 퍼널\n    test_data = funnel_rates[funnel_rates['campaign'] == 'test'].iloc[0]\n    fig_funnel.add_trace(go.Funnel(\n        y=[\"노출\", \"클릭\", \"검색\", \"조회\", \"장바구니\", \"구매\"],\n        x=[test_data['impressions'], test_data['clicks'], test_data['searches'], \n           test_data['views'], test_data['carts'], test_data['purchases']],\n        name=\"테스트\",\n        marker_color=\"lightcoral\"\n    ), row=1, col=2)\n    \n    fig_funnel.update_layout(title_text=\"캠페인 퍼널 비교\", height=500)\n    fig_funnel.show()\n    \n    # 2. 주요 지표 비교\n    fig_metrics = make_subplots(\n        rows=2, cols=2,\n        subplot_titles=('전환율', '구매당 비용', '클릭률', '일별 성과'),\n        specs=[[{\"type\": \"bar\"}, {\"type\": \"bar\"}],\n               [{\"type\": \"bar\"}, {\"type\": \"scatter\"}]]\n    )\n    \n    # 전환율\n    fig_metrics.add_trace(go.Bar(\n        x=['컨트롤', '테스트'],\n        y=[test_results['conversion_rate']['control_rate']*100, \n           test_results['conversion_rate']['test_rate']*100],\n        name='전환율 (%)',\n        marker_color=['lightblue', 'lightcoral']\n    ), row=1, col=1)\n    \n    # CPA (가능한 경우)\n    if 'cpa' in test_results:\n        fig_metrics.add_trace(go.Bar(\n            x=['컨트롤', '테스트'],\n            y=[test_results['cpa']['control_cpa'], test_results['cpa']['test_cpa']],\n            name='구매당 비용 ($)',\n            marker_color=['lightblue', 'lightcoral']\n        ), row=1, col=2)\n    \n    # CTR\n    fig_metrics.add_trace(go.Bar(\n        x=['컨트롤', '테스트'],\n        y=[test_results['ctr']['control_ctr']*100, test_results['ctr']['test_ctr']*100],\n        name='클릭률 (%)',\n        marker_color=['lightblue', 'lightcoral']\n    ), row=2, col=1)\n    \n    # 시간별 일별 전환율\n    daily_conv = df.copy()\n    daily_conv['conversion_rate'] = daily_conv['purchase'] / daily_conv['click'] * 100\n    daily_conv = daily_conv.replace([np.inf, -np.inf], np.nan).dropna()\n    \n    for campaign in ['control', 'test']:\n        campaign_data = daily_conv[daily_conv['campaign_name'] == campaign]\n        campaign_name = '컨트롤' if campaign == 'control' else '테스트'\n        fig_metrics.add_trace(go.Scatter(\n            x=campaign_data['date'],\n            y=campaign_data['conversion_rate'],\n            mode='lines+markers',\n            name=f'{campaign_name} 일별 전환율',\n            line=dict(color='lightblue' if campaign == 'control' else 'lightcoral')\n        ), row=2, col=2)\n    \n    fig_metrics.update_layout(title_text=\"주요 성과 지표 비교\", height=800, showlegend=True)\n    fig_metrics.show()\n    \n    # 3. 통계적 유의성 요약\n    fig_significance = go.Figure()\n    \n    metrics = ['전환율', '클릭률']\n    if 'cpa' in test_results:\n        metrics.append('구매당 비용')\n    \n    p_values = [test_results['conversion_rate']['p_value'], \n               test_results['ctr']['p_value']]\n    if 'cpa' in test_results:\n        p_values.append(test_results['cpa']['p_value'])\n    \n    colors = ['green' if p < 0.05 else 'red' for p in p_values]\n    \n    fig_significance.add_trace(go.Bar(\n        x=metrics,\n        y=[-np.log10(p) for p in p_values],\n        marker_color=colors,\n        name='통계적 유의성'\n    ))\n    \n    fig_significance.add_hline(y=-np.log10(0.05), line_dash=\"dash\", line_color=\"black\", \n                              annotation_text=\"α = 0.05\")\n    \n    fig_significance.update_layout(\n        title=\"통계적 유의성 검정 결과 (-log10 p-value)\",\n        yaxis_title=\"-log10(p-value)\",\n        xaxis_title=\"지표\",\n        height=400\n    )\n    fig_significance.show()\n\n# 시각화 생성\ncreate_comprehensive_visualizations(primary_df, funnel_rates, test_results)"
  },
  {
   "cell_type": "markdown",
   "id": "cell-14",
   "metadata": {},
   "source": "## 7. 시나리오별 민감도 분석"
  },
  {
   "cell_type": "code",
   "execution_count": null,
   "id": "cell-15",
   "metadata": {},
   "outputs": [],
   "source": "def sensitivity_analysis(scenarios):\n    \"\"\"\n    다양한 데이터 처리 시나리오에 걸친 결론의 견고성 테스트\n    \"\"\"\n    print(\"\\n\" + \"=\"*60)\n    print(\"           🔬 민감도 분석\")\n    print(\"=\"*60)\n    print(\"다양한 결측 데이터 처리 방법에 따른 결론의 견고성 테스트\\n\")\n    \n    sensitivity_results = {}\n    \n    for scenario_name, df in scenarios.items():\n        print(f\"\\n📊 시나리오: {scenario_name.replace('_', ' ').title()}\")\n        print(\"-\" * 50)\n        \n        # 각 시나리오별 간단한 전환율 검정\n        control_data = df[df['campaign_name'] == 'control']\n        test_data = df[df['campaign_name'] == 'test']\n        \n        control_conversions = control_data['purchase'].sum()\n        control_clicks = control_data['click'].sum()\n        test_conversions = test_data['purchase'].sum()\n        test_clicks = test_data['click'].sum()\n        \n        if control_clicks > 0 and test_clicks > 0:\n            control_rate = control_conversions / control_clicks\n            test_rate = test_conversions / test_clicks\n            lift = (test_rate - control_rate) / control_rate * 100\n            \n            # 통계 검정\n            count = np.array([control_conversions, test_conversions])\n            nobs = np.array([control_clicks, test_clicks])\n            z_stat, p_value = proportions_ztest(count, nobs)\n            \n            sensitivity_results[scenario_name] = {\n                'control_rate': control_rate,\n                'test_rate': test_rate,\n                'lift': lift,\n                'p_value': p_value,\n                'significant': p_value < 0.05\n            }\n            \n            print(f\"컨트롤 전환율: {control_rate*100:.2f}%\")\n            print(f\"테스트 전환율: {test_rate*100:.2f}%\")\n            print(f\"증감률: {lift:+.1f}%\")\n            print(f\"P-값: {p_value:.6f}\")\n            print(f\"통계적 유의성: {'✅ 예' if p_value < 0.05 else '❌ 아니오'}\")\n    \n    # 민감도 분석 요약\n    print(\"\\n\" + \"=\"*60)\n    print(\"           📋 민감도 요약\")\n    print(\"=\"*60)\n    \n    significant_count = sum(1 for result in sensitivity_results.values() if result['significant'])\n    total_scenarios = len(sensitivity_results)\n    \n    print(f\"\\n🎯 유의한 결과를 보인 시나리오: {significant_count}/{total_scenarios}\")\n    \n    if significant_count == total_scenarios:\n        print(\"✅ 견고함: 모든 시나리오에서 유의한 결과 - 결론이 신뢰할 만함\")\n    elif significant_count > total_scenarios/2:\n        print(\"⚠️  보통: 대부분 시나리오에서 유의한 결과 - 결론이 적당히 신뢰할 만함\")\n    else:\n        print(\"❌ 민감함: 결과가 결측 데이터 처리에 민감 - 주의가 필요함\")\n    \n    # 증감률 범위 표시\n    lifts = [result['lift'] for result in sensitivity_results.values()]\n    print(f\"\\n📈 증감률 범위: {min(lifts):+.1f}%에서 {max(lifts):+.1f}%\")\n    print(f\"📊 평균 증감률: {np.mean(lifts):+.1f}% (±{np.std(lifts):.1f}%)\")\n    \n    return sensitivity_results\n\n# 민감도 분석 수행\nsensitivity_results = sensitivity_analysis(analysis_scenarios)"
  },
  {
   "cell_type": "markdown",
   "id": "cell-16",
   "metadata": {},
   "source": "## 8. 비즈니스 영향 및 권장사항"
  },
  {
   "cell_type": "code",
   "execution_count": null,
   "id": "cell-17",
   "metadata": {},
   "outputs": [],
   "source": "def generate_business_recommendations(test_results, funnel_comparison, sensitivity_results):\n    \"\"\"\n    통계 분석을 바탕으로 한 포괄적인 비즈니스 권장사항 생성\n    \"\"\"\n    print(\"\\n\" + \"=\"*80)\n    print(\"                    📈 비즈니스 영향 및 권장사항\")\n    print(\"=\"*80)\n    \n    # 주요 지표 분석\n    conversion_result = test_results['conversion_rate']\n    \n    print(\"\\n🎯 주요 발견사항: 구매 전환율\")\n    print(\"-\" * 60)\n    \n    if conversion_result['significant']:\n        winner = '테스트' if conversion_result['test_rate'] > conversion_result['control_rate'] else '컨트롤'\n        print(f\"✅ 통계적으로 유의한 결과 발견\")\n        print(f\"🏆 승자: {winner} 캠페인\")\n        print(f\"📊 전환율 개선: {abs(conversion_result['lift_percent']):.1f}%\")\n        print(f\"📈 {conversion_result['control_rate']*100:.2f}%에서 {conversion_result['test_rate']*100:.2f}%로\")\n        \n        # 비즈니스 영향 추정\n        if winner == '테스트':\n            print(f\"\\n💰 비즈니스 영향 예측:\")\n            print(f\"   • 클릭 1000회당 약 {(conversion_result['test_rate'] - conversion_result['control_rate'])*1000:.0f}건의 추가 구매 예상\")\n            print(f\"   • 전환 성과에서 {conversion_result['lift_percent']:+.1f}%의 상대적 개선\")\n            \n            recommendation = \"권장사항: 테스트 캠페인 구현\"\n            action = \"🚀 즉시 실행: 모든 마케팅 활동에 테스트 캠페인 방식을 확산\"\n        else:\n            recommendation = \"권장사항: 컨트롤 캠페인 지속\"\n            action = \"⚠️  변경 전 테스트 캠페인의 저조한 성과 원인 조사 필요\"\n            \n    else:\n        print(f\"❌ 통계적으로 유의한 차이 없음\")\n        print(f\"📊 관찰된 차이: {conversion_result['lift_percent']:+.1f}%\")\n        print(f\"🔬 P-값: {conversion_result['p_value']:.6f} (α=0.05에서 유의하지 않음)\")\n        \n        recommendation = \"권장사항: 변경 불필요\"\n        action = \"🔄 현재 방식 유지 또는 더 높은 검정력을 위해 더 긴 테스트 실행\"\n    \n    print(f\"\\n🎯 {recommendation}\")\n    print(f\"📋 {action}\")\n    \n    # 퍼널 인사이트\n    print(\"\\n\\n🔄 퍼널 최적화 기회\")\n    print(\"-\" * 60)\n    \n    # 퍼널에서 가장 큰 증가와 가장 큰 감소 찾기\n    funnel_lifts = funnel_comparison.set_index('step')['lift']\n    best_step = funnel_lifts.idxmax()\n    worst_step = funnel_lifts.idxmin()\n    \n    print(f\"🟢 최고 성과 단계: {best_step}\")\n    print(f\"   • 테스트 캠페인에서 {funnel_lifts[best_step]:+.1f}% 개선\")\n    print(f\"   • 권장사항: 이 성공 사례를 연구하고 다른 캠페인에 적용\")\n    \n    print(f\"\\n🔴 저조한 성과 단계: {worst_step}\")\n    print(f\"   • 테스트 캠페인에서 {funnel_lifts[worst_step]:+.1f}% 변화\")\n    if funnel_lifts[worst_step] < 0:\n        print(f\"   • 권장사항: 테스트 캠페인에서 이 단계가 저조한 이유 조사\")\n    else:\n        print(f\"   • 이 단계도 테스트 캠페인에서 개선됨\")\n    \n    # 민감도 분석 해석\n    print(\"\\n\\n🔬 분석 신뢰성\")\n    print(\"-\" * 60)\n    \n    significant_scenarios = sum(1 for r in sensitivity_results.values() if r['significant'])\n    total_scenarios = len(sensitivity_results)\n    \n    if significant_scenarios == total_scenarios:\n        reliability = \"높음\"\n        confidence = \"권장사항에 매우 높은 신뢰\"\n    elif significant_scenarios > total_scenarios/2:\n        reliability = \"보통\"\n        confidence = \"권장사항에 적당한 신뢰\"\n    else:\n        reliability = \"낮음\"\n        confidence = \"낮은 신뢰도 - 더 많은 데이터 필요\"\n    \n    print(f\"📊 분석 신뢰성: {reliability}\")\n    print(f\"🎯 신뢰 수준: {confidence}\")\n    print(f\"✅ {total_scenarios}개 데이터 시나리오 중 {significant_scenarios}개에서 일관된 결과\")\n    \n    # 다음 단계\n    print(\"\\n\\n📋 권장 다음 단계\")\n    print(\"-\" * 60)\n    \n    if conversion_result['significant'] and reliability == \"높음\":\n        print(\"1. 🚀 즉시: 승리한 캠페인 전략 구현\")\n        print(\"2. 📈 모니터링: 2-4주간 성과 지표 면밀히 추적\")\n        print(\"3. 🔍 분석: 승리한 캠페인을 성공적으로 만든 요인 심층 분석\")\n        print(\"4. 📊 최적화: 학습 내용을 다른 마케팅 캠페인 개선에 적용\")\n    elif not conversion_result['significant']:\n        print(\"1. 🔄 연장: 통계적 검정력 증가를 위해 테스트 기간 연장\")\n        print(\"2. 📊 증가: 향후 테스트에서 더 큰 표본 크기 고려\")\n        print(\"3. 🎯 집중: 캠페인 간 더 극명한 차이 테스트\")\n        print(\"4. 📈 모니터링: 더 명확한 차이를 보일 수 있는 보조 지표 추적\")\n    else:\n        print(\"1. 🔍 조사: 신뢰성에 영향을 미치는 데이터 품질 문제 파악\")\n        print(\"2. 🧹 개선: 데이터 수집 프로세스 향상\")\n        print(\"3. 🔄 반복: 더 나은 데이터 품질 통제로 테스트 재실행\")\n        print(\"4. 📋 검증: 추가 테스트로 결과 확인\")\n    \n    print(\"\\n\" + \"=\"*80)\n    print(\"                           ✅ 분석 완료\")\n    print(\"=\"*80)\n\n# 포괄적인 비즈니스 권장사항 생성\ngenerate_business_recommendations(test_results, funnel_comparison, sensitivity_results)"
  },
  {
   "cell_type": "markdown",
   "id": "cell-18",
   "metadata": {},
   "source": "## 9. 통계 요약 보고서"
  },
  {
   "cell_type": "code",
   "execution_count": null,
   "id": "cell-19",
   "metadata": {},
   "outputs": [],
   "source": "def generate_executive_summary(test_results, funnel_rates):\n    \"\"\"\n    이해관계자를 위한 경영진 요약 보고서 생성\n    \"\"\"\n    print(\"\\n\" + \"=\"*80)\n    print(\"                        📊 경영진 요약표\")\n    print(\"=\"*80)\n    \n    # 요약 데이터프레임 생성\n    summary_data = []\n    \n    # 전환율\n    cr = test_results['conversion_rate']\n    summary_data.append({\n        '지표': '구매 전환율',\n        '컨트롤': f\"{cr['control_rate']*100:.2f}%\",\n        '테스트': f\"{cr['test_rate']*100:.2f}%\",\n        '증감률': f\"{cr['lift_percent']:+.1f}%\",\n        'P-값': f\"{cr['p_value']:.4f}\",\n        '유의성': '✅' if cr['significant'] else '❌',\n        '승자': '테스트' if cr['test_rate'] > cr['control_rate'] else '컨트롤'\n    })\n    \n    # 클릭률\n    ctr = test_results['ctr']\n    summary_data.append({\n        '지표': '클릭률',\n        '컨트롤': f\"{ctr['control_ctr']*100:.2f}%\",\n        '테스트': f\"{ctr['test_ctr']*100:.2f}%\",\n        '증감률': f\"{ctr['lift_percent']:+.1f}%\",\n        'P-값': f\"{ctr['p_value']:.4f}\",\n        '유의성': '✅' if ctr['significant'] else '❌',\n        '승자': '테스트' if ctr['test_ctr'] > ctr['control_ctr'] else '컨트롤'\n    })\n    \n    # CPA (가능한 경우)\n    if 'cpa' in test_results:\n        cpa = test_results['cpa']\n        summary_data.append({\n            '지표': '구매당 비용',\n            '컨트롤': f\"${cpa['control_cpa']:.2f}\",\n            '테스트': f\"${cpa['test_cpa']:.2f}\",\n            '증감률': f\"{cpa['lift_percent']:+.1f}%\",\n            'P-값': f\"{cpa['p_value']:.4f}\",\n            '유의성': '✅' if cpa['significant'] else '❌',\n            '승자': '테스트' if cpa['test_cpa'] < cpa['control_cpa'] else '컨트롤'  # CPA는 낮을수록 좋음\n        })\n    \n    # 전체 퍼널 성과\n    control_overall = funnel_rates[funnel_rates['campaign'] == 'control']['overall_conversion'].iloc[0]\n    test_overall = funnel_rates[funnel_rates['campaign'] == 'test']['overall_conversion'].iloc[0]\n    overall_lift = (test_overall - control_overall) / control_overall * 100\n    \n    summary_data.append({\n        '지표': '전체 퍼널 전환',\n        '컨트롤': f\"{control_overall*100:.3f}%\",\n        '테스트': f\"{test_overall*100:.3f}%\",\n        '증감률': f\"{overall_lift:+.1f}%\",\n        'P-값': '주요 지표 참조',\n        '유의성': '✅' if cr['significant'] else '❌',\n        '승자': '테스트' if test_overall > control_overall else '컨트롤'\n    })\n    \n    # 요약표 생성 및 표시\n    summary_df = pd.DataFrame(summary_data)\n    print(summary_df.to_string(index=False))\n    \n    # 핵심 요약\n    print(\"\\n\\n🔑 핵심 요약:\")\n    print(\"-\" * 50)\n    \n    if cr['significant']:\n        winner = '테스트' if cr['test_rate'] > cr['control_rate'] else '컨트롤'\n        print(f\"• {winner} 캠페인이 통계적으로 유의한 개선을 보임\")\n        print(f\"• 주요 전환율이 {abs(cr['lift_percent']):.1f}% 개선\")\n        \n        if winner == '테스트':\n            print(f\"• 테스트 캠페인 전략 구현 권장\")\n        else:\n            print(f\"• 컨트롤 캠페인 유지 권장\")\n    else:\n        print(f\"• 캠페인 간 통계적으로 유의한 차이 없음\")\n        print(f\"• 더 긴 테스트 기간이나 더 큰 표본 크기 고려\")\n        print(f\"• 현재 접근 방식이 적절해 보임\")\n    \n    return summary_df\n\n# 경영진 요약 생성\nexecutive_summary = generate_executive_summary(test_results, funnel_rates)"
  },
  {
   "cell_type": "markdown",
   "id": "cell-20",
   "metadata": {},
   "source": "## 10. 결론\n\n### 📋 분석 방법론 요약:\n1. **데이터 품질 평가**: 데이터 완전성 및 무결성에 대한 포괄적 평가\n2. **민감도 분석**: 여러 결측 데이터 처리 시나리오에 걸친 견고성 테스트\n3. **통계 검정**: 적절한 통계 방법을 사용한 엄격한 가설 검정\n4. **퍼널 분석**: 최적화 기회를 식별하기 위한 단계별 전환 분석\n5. **비즈니스 영향**: 통계 결과를 실행 가능한 비즈니스 권장사항으로 변환\n\n### 🎯 통계적 엄밀성:\n- 전환율 비교를 위한 이중 비율 z-검정\n- 효과 크기 추정을 위한 신뢰구간\n- 결과 검증을 위한 다중 시나리오 테스트\n- 데이터 특성에 기반한 적절한 통계 검정 선택\n\n### 📈 비즈니스 가치:\n이 분석은 통계적 엄밀성을 보장하면서 실용적인 비즈니스 결과에 집중하여 데이터 기반 캠페인 최적화 결정을 위한 완전한 프레임워크를 제공합니다."
  }
 ],
 "metadata": {
  "kernelspec": {
   "display_name": "Python 3",
   "language": "python",
   "name": "python3"
  },
  "language_info": {
   "codemirror_mode": {
    "name": "ipython",
    "version": 3
   },
   "file_extension": ".py",
   "mimetype": "text/x-python",
   "name": "python",
   "nbconvert_exporter": "python",
   "pygments_lexer": "ipython3",
   "version": "3.10.11"
  }
 },
 "nbformat": 4,
 "nbformat_minor": 5
}