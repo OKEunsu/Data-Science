{
  "nbformat": 4,
  "nbformat_minor": 0,
  "metadata": {
    "colab": {
      "provenance": [],
      "authorship_tag": "ABX9TyOPzAIYbGAy7FNufYyJc+WV"
    },
    "kernelspec": {
      "name": "python3",
      "display_name": "Python 3"
    },
    "language_info": {
      "name": "python"
    }
  },
  "cells": [
    {
      "cell_type": "markdown",
      "source": [
        "# 함수\n",
        "- 파라미터 : 함수를 선언할 때 호출하는 부분에서 보내주는 데이터를 받는 변수\n",
        "- 아규먼트 : 함수를 호출 할 때 함수에 보내주는 데이터"
      ],
      "metadata": {
        "id": "A1ka0xwK3Ihm"
      }
    },
    {
      "cell_type": "markdown",
      "source": [
        "### *args : *arguments의 줄임말"
      ],
      "metadata": {
        "id": "oupoACb-D5AV"
      }
    },
    {
      "cell_type": "code",
      "source": [
        "def plus_infinite(*args):\n",
        "  print(type(args), args)\n",
        "  return sum(args)\n",
        "\n",
        "plus_infinite(1, 2, 3, 4, 5)"
      ],
      "metadata": {
        "colab": {
          "base_uri": "https://localhost:8080/"
        },
        "id": "cAy3BYUD3PmP",
        "outputId": "75022cd4-643a-42d0-90fc-488f2f1fe667"
      },
      "execution_count": 1,
      "outputs": [
        {
          "output_type": "stream",
          "name": "stdout",
          "text": [
            "<class 'tuple'> (1, 2, 3, 4, 5)\n"
          ]
        },
        {
          "output_type": "execute_result",
          "data": {
            "text/plain": [
              "15"
            ]
          },
          "metadata": {},
          "execution_count": 1
        }
      ]
    },
    {
      "cell_type": "markdown",
      "source": [
        "### **kwargs : keyword argument의 줄임말\n",
        "- (키워드 = 특정 값) 형태로 함수를 호출, 딕셔너리 형태로 함수 내부로 전달이 됨"
      ],
      "metadata": {
        "id": "eujZBZAIEIM6"
      }
    },
    {
      "cell_type": "code",
      "source": [
        "def plus_infinite(*args, **kwargs):\n",
        "  print(type(args), type(kwargs))\n",
        "  return sum(args) + sum(kwargs.values())\n",
        "\n",
        "plus_infinite(1, 2, 3, 4, num1 = 100, num2 = 3000, num3 = 20, num4 = 7)"
      ],
      "metadata": {
        "colab": {
          "base_uri": "https://localhost:8080/"
        },
        "id": "iH6b0G8mEE4e",
        "outputId": "7963f465-15a0-42cb-863c-3d4671edf944"
      },
      "execution_count": 2,
      "outputs": [
        {
          "output_type": "stream",
          "name": "stdout",
          "text": [
            "<class 'tuple'> <class 'dict'>\n"
          ]
        },
        {
          "output_type": "execute_result",
          "data": {
            "text/plain": [
              "3137"
            ]
          },
          "metadata": {},
          "execution_count": 2
        }
      ]
    },
    {
      "cell_type": "markdown",
      "source": [
        "### 함수 list & dict 넣기"
      ],
      "metadata": {
        "id": "knsOpik2E6-0"
      }
    },
    {
      "cell_type": "code",
      "source": [
        "list_numbers = [1,2,3,4,5,6,7,8,9,10]\n",
        "plus_infinite(*list_numbers)"
      ],
      "metadata": {
        "colab": {
          "base_uri": "https://localhost:8080/"
        },
        "id": "ZKz3Y19yEx2v",
        "outputId": "10fc151f-c774-490a-874c-ba02b36ce042"
      },
      "execution_count": 3,
      "outputs": [
        {
          "output_type": "stream",
          "name": "stdout",
          "text": [
            "<class 'tuple'> <class 'dict'>\n"
          ]
        },
        {
          "output_type": "execute_result",
          "data": {
            "text/plain": [
              "55"
            ]
          },
          "metadata": {},
          "execution_count": 3
        }
      ]
    },
    {
      "cell_type": "code",
      "source": [
        "dict_height = {'rohoon_height':178, 'yongdam_height':180, 'sungwonng_height' : 175, 'youngmin_height' : 176,'Gwangsoo_hegight':100}\n",
        "plus_infinite(**dict_height)"
      ],
      "metadata": {
        "colab": {
          "base_uri": "https://localhost:8080/"
        },
        "id": "UuQTwnqgFHlu",
        "outputId": "e27643c2-b205-413c-b35e-729283fc4106"
      },
      "execution_count": 4,
      "outputs": [
        {
          "output_type": "stream",
          "name": "stdout",
          "text": [
            "<class 'tuple'> <class 'dict'>\n"
          ]
        },
        {
          "output_type": "execute_result",
          "data": {
            "text/plain": [
              "809"
            ]
          },
          "metadata": {},
          "execution_count": 4
        }
      ]
    },
    {
      "cell_type": "markdown",
      "source": [
        "### 문제"
      ],
      "metadata": {
        "id": "YxUt-KcMLXm4"
      }
    },
    {
      "cell_type": "code",
      "source": [
        "# pythagoras() 함수는 2개의 숫자 아규먼트를 받고 각각 더한 값의 제곱근값을 return 합니다.\n",
        "def pythagoras(num1, num2):\n",
        "  return (num1**2 + num2**2) ** 0.5\n",
        "\n",
        "pythagoras_lambda = lambda num1, num2 : (num1**2 + num2**2) ** 0.5\n",
        "\n",
        "print(pythagoras(3, 4))\n",
        "print(pythagoras_lambda(3, 4))"
      ],
      "metadata": {
        "colab": {
          "base_uri": "https://localhost:8080/"
        },
        "id": "7CRQ4_-TK39L",
        "outputId": "c1443fbb-84ee-4969-8fe1-b39d3a7151cf"
      },
      "execution_count": 6,
      "outputs": [
        {
          "output_type": "stream",
          "name": "stdout",
          "text": [
            "5.0\n",
            "5.0\n"
          ]
        }
      ]
    },
    {
      "cell_type": "code",
      "source": [
        "# return로 간단한 함수를 코드 한줄로 구현\n",
        "def height_high(height):\n",
        "  return '키가 정말 크군요' if height >= 180 else '계속 클 것 입니다. :)'"
      ],
      "metadata": {
        "id": "NPB9PgE8LIgx"
      },
      "execution_count": 8,
      "outputs": []
    },
    {
      "cell_type": "code",
      "source": [
        "print('170',height_high(170))\n",
        "print('190',height_high(190))"
      ],
      "metadata": {
        "colab": {
          "base_uri": "https://localhost:8080/"
        },
        "id": "kmou_EkNMjDQ",
        "outputId": "56a2fb40-bb77-4172-f13f-ee2225e2ebdc"
      },
      "execution_count": 11,
      "outputs": [
        {
          "output_type": "stream",
          "name": "stdout",
          "text": [
            "170 계속 클 것 입니다. :)\n",
            "190 키가 정말 크군요\n"
          ]
        }
      ]
    },
    {
      "cell_type": "markdown",
      "source": [
        "### map"
      ],
      "metadata": {
        "id": "UFqyVf7bLJ6G"
      }
    },
    {
      "cell_type": "code",
      "source": [
        "a = [1.2, 2.5, 3.7, 4.6]\n",
        "for i in range(len(a)):\n",
        "\ta[i] = int(a[i])\n",
        "a"
      ],
      "metadata": {
        "colab": {
          "base_uri": "https://localhost:8080/"
        },
        "id": "KipqPJeGMwAQ",
        "outputId": "950dcd8c-6abd-46da-d53c-f17eb45425eb"
      },
      "execution_count": 12,
      "outputs": [
        {
          "output_type": "execute_result",
          "data": {
            "text/plain": [
              "[1, 2, 3, 4]"
            ]
          },
          "metadata": {},
          "execution_count": 12
        }
      ]
    },
    {
      "cell_type": "code",
      "source": [
        "a = list(map(int, a))\n",
        "a"
      ],
      "metadata": {
        "colab": {
          "base_uri": "https://localhost:8080/"
        },
        "id": "tXsnqhGOM5QA",
        "outputId": "b69f16ae-606a-4c81-dc2e-bafa1b5c30c6"
      },
      "execution_count": 13,
      "outputs": [
        {
          "output_type": "execute_result",
          "data": {
            "text/plain": [
              "[1, 2, 3, 4]"
            ]
          },
          "metadata": {},
          "execution_count": 13
        }
      ]
    },
    {
      "cell_type": "code",
      "source": [
        "dict_heights = {'rohoon_height' : 178, 'yongdam_height': 180, 'sungwoong_height' : 175, 'youngmin_height' : 176, 'Gwangsoo_height': 180}\n",
        "list(map(height_high, dict_heights.values()))"
      ],
      "metadata": {
        "colab": {
          "base_uri": "https://localhost:8080/"
        },
        "id": "yM4I4WLkM-nJ",
        "outputId": "1afe6e25-02f4-4a38-c643-ac8c3f986e4c"
      },
      "execution_count": 14,
      "outputs": [
        {
          "output_type": "execute_result",
          "data": {
            "text/plain": [
              "['계속 클 것 입니다. :)',\n",
              " '키가 정말 크군요',\n",
              " '계속 클 것 입니다. :)',\n",
              " '계속 클 것 입니다. :)',\n",
              " '키가 정말 크군요']"
            ]
          },
          "metadata": {},
          "execution_count": 14
        }
      ]
    },
    {
      "cell_type": "markdown",
      "source": [
        "### filter"
      ],
      "metadata": {
        "id": "FJ7td1Q7NHoK"
      }
    },
    {
      "cell_type": "code",
      "source": [
        "users = [{'mail': 'gregorythomas@gmail.com', 'name': 'Brett Holland', 'gender': 'M'},\n",
        "{'mail': 'hintoncynthia@hotmail.com', 'name': 'Madison Martinez', 'gender': 'F'},\n",
        "{'mail': 'wwagner@gmail.com', 'name': 'Michael Jenkins', 'gender': 'M'},\n",
        "{'mail': 'daniel79@gmail.com', 'name': 'Karen Rodriguez', 'gender': 'F'},\n",
        "{'mail': 'ujackson@gmail.com', 'name': 'Amber Rhodes', 'gender': 'F'}]\n",
        "\n",
        "def is_man(user):\n",
        "\treturn user['gender'] == 'M'\n",
        "\n",
        "for man in filter(is_man, users):\n",
        "\tprint(man)"
      ],
      "metadata": {
        "colab": {
          "base_uri": "https://localhost:8080/"
        },
        "id": "FtI-8L3RNImh",
        "outputId": "98740648-7e42-4144-fedf-fc888fd2d667"
      },
      "execution_count": 15,
      "outputs": [
        {
          "output_type": "stream",
          "name": "stdout",
          "text": [
            "{'mail': 'gregorythomas@gmail.com', 'name': 'Brett Holland', 'gender': 'M'}\n",
            "{'mail': 'wwagner@gmail.com', 'name': 'Michael Jenkins', 'gender': 'M'}\n"
          ]
        }
      ]
    },
    {
      "cell_type": "code",
      "source": [
        "dict_heights = {'rohoon_height' : 178, 'yongdam_height': 180, 'sungwoong_height' : 175, 'youngmin_height' : 176, 'Gwangsoo_height': 180}\n",
        "list(filter(lambda x : True if dict_heights[x] >= 180 else False, dict_heights))"
      ],
      "metadata": {
        "colab": {
          "base_uri": "https://localhost:8080/"
        },
        "id": "JbGsMVM4NTIp",
        "outputId": "ecb26129-2ac4-451d-fccc-398d566bac74"
      },
      "execution_count": 18,
      "outputs": [
        {
          "output_type": "execute_result",
          "data": {
            "text/plain": [
              "['yongdam_height', 'Gwangsoo_height']"
            ]
          },
          "metadata": {},
          "execution_count": 18
        }
      ]
    },
    {
      "cell_type": "markdown",
      "source": [
        "### for, while(구구단)"
      ],
      "metadata": {
        "id": "shJFXbPuNeRo"
      }
    },
    {
      "cell_type": "code",
      "source": [
        "# for\n",
        "for i in range(2, 10):\n",
        "\tfor j in range(1, 10):\n",
        "\t\tprint('{}x{}={}'.format(i,j, i*j), end = '\\t')\n",
        "\tprint()"
      ],
      "metadata": {
        "colab": {
          "base_uri": "https://localhost:8080/"
        },
        "id": "r_is3tukNUJ5",
        "outputId": "ec007fd5-03db-4921-f5a7-9fb9a82b12c5"
      },
      "execution_count": 19,
      "outputs": [
        {
          "output_type": "stream",
          "name": "stdout",
          "text": [
            "2x1=2\t2x2=4\t2x3=6\t2x4=8\t2x5=10\t2x6=12\t2x7=14\t2x8=16\t2x9=18\t\n",
            "3x1=3\t3x2=6\t3x3=9\t3x4=12\t3x5=15\t3x6=18\t3x7=21\t3x8=24\t3x9=27\t\n",
            "4x1=4\t4x2=8\t4x3=12\t4x4=16\t4x5=20\t4x6=24\t4x7=28\t4x8=32\t4x9=36\t\n",
            "5x1=5\t5x2=10\t5x3=15\t5x4=20\t5x5=25\t5x6=30\t5x7=35\t5x8=40\t5x9=45\t\n",
            "6x1=6\t6x2=12\t6x3=18\t6x4=24\t6x5=30\t6x6=36\t6x7=42\t6x8=48\t6x9=54\t\n",
            "7x1=7\t7x2=14\t7x3=21\t7x4=28\t7x5=35\t7x6=42\t7x7=49\t7x8=56\t7x9=63\t\n",
            "8x1=8\t8x2=16\t8x3=24\t8x4=32\t8x5=40\t8x6=48\t8x7=56\t8x8=64\t8x9=72\t\n",
            "9x1=9\t9x2=18\t9x3=27\t9x4=36\t9x5=45\t9x6=54\t9x7=63\t9x8=72\t9x9=81\t\n"
          ]
        }
      ]
    },
    {
      "cell_type": "code",
      "source": [
        "# while\n",
        "i = 1\n",
        "while i < 9:\n",
        "\tj = 1\n",
        "\ti += 1\n",
        "\twhile j < 10:\n",
        "\t\tprint('{}x{}={}'.format(i, j, i*j), end = '\\t')\n",
        "\t\tj += 1\n",
        "\tprint()"
      ],
      "metadata": {
        "colab": {
          "base_uri": "https://localhost:8080/"
        },
        "id": "zed8yc_hNlWf",
        "outputId": "4cabb2b0-2063-442e-9a63-9d0795d771ab"
      },
      "execution_count": 20,
      "outputs": [
        {
          "output_type": "stream",
          "name": "stdout",
          "text": [
            "2x1=2\t2x2=4\t2x3=6\t2x4=8\t2x5=10\t2x6=12\t2x7=14\t2x8=16\t2x9=18\t\n",
            "3x1=3\t3x2=6\t3x3=9\t3x4=12\t3x5=15\t3x6=18\t3x7=21\t3x8=24\t3x9=27\t\n",
            "4x1=4\t4x2=8\t4x3=12\t4x4=16\t4x5=20\t4x6=24\t4x7=28\t4x8=32\t4x9=36\t\n",
            "5x1=5\t5x2=10\t5x3=15\t5x4=20\t5x5=25\t5x6=30\t5x7=35\t5x8=40\t5x9=45\t\n",
            "6x1=6\t6x2=12\t6x3=18\t6x4=24\t6x5=30\t6x6=36\t6x7=42\t6x8=48\t6x9=54\t\n",
            "7x1=7\t7x2=14\t7x3=21\t7x4=28\t7x5=35\t7x6=42\t7x7=49\t7x8=56\t7x9=63\t\n",
            "8x1=8\t8x2=16\t8x3=24\t8x4=32\t8x5=40\t8x6=48\t8x7=56\t8x8=64\t8x9=72\t\n",
            "9x1=9\t9x2=18\t9x3=27\t9x4=36\t9x5=45\t9x6=54\t9x7=63\t9x8=72\t9x9=81\t\n"
          ]
        }
      ]
    },
    {
      "cell_type": "markdown",
      "source": [
        "### iter(), next()"
      ],
      "metadata": {
        "id": "xwN0oGR3NrwP"
      }
    },
    {
      "cell_type": "code",
      "source": [
        "# iter()\n",
        "it = iter(range(3))\n",
        "print(next(it))\n",
        "print(next(it))\n",
        "print(next(it))"
      ],
      "metadata": {
        "colab": {
          "base_uri": "https://localhost:8080/"
        },
        "id": "NdFe5cE5Np7T",
        "outputId": "e1bbeb02-c909-4593-d416-8972fafccc61"
      },
      "execution_count": 22,
      "outputs": [
        {
          "output_type": "stream",
          "name": "stdout",
          "text": [
            "0\n",
            "1\n",
            "2\n"
          ]
        }
      ]
    },
    {
      "cell_type": "markdown",
      "source": [
        "### 선언된 변수 확인"
      ],
      "metadata": {
        "id": "AHFnYQWJN7L7"
      }
    },
    {
      "cell_type": "code",
      "source": [
        "# RAM에 load 된 변수들을 조회\n",
        "%who"
      ],
      "metadata": {
        "colab": {
          "base_uri": "https://localhost:8080/"
        },
        "id": "9mOJ9rXDN78g",
        "outputId": "3d89d63b-84ed-45ec-eae6-8205bea47274"
      },
      "execution_count": 23,
      "outputs": [
        {
          "output_type": "stream",
          "name": "stdout",
          "text": [
            "a\t dict_height\t dict_heights\t height_high\t i\t is_man\t it\t j\t list_numbers\t \n",
            "man\t plus_infinite\t plus_ver2\t pythagoras\t pythagoras_lambda\t users\t \n"
          ]
        }
      ]
    },
    {
      "cell_type": "code",
      "source": [
        "# RAM에 load 된 변수들을 상세 조회\n",
        "%whos"
      ],
      "metadata": {
        "colab": {
          "base_uri": "https://localhost:8080/"
        },
        "id": "aGQOCFONN-59",
        "outputId": "bd8f06d5-6ccd-459c-f208-a86c096ad564"
      },
      "execution_count": 24,
      "outputs": [
        {
          "output_type": "stream",
          "name": "stdout",
          "text": [
            "Variable            Type              Data/Info\n",
            "-----------------------------------------------\n",
            "a                   list              n=4\n",
            "dict_height         dict              n=5\n",
            "dict_heights        dict              n=5\n",
            "height_high         function          <function height_high at 0x7d389125d6c0>\n",
            "i                   int               9\n",
            "is_man              function          <function is_man at 0x7d389125c940>\n",
            "it                  range_iterator    <range_iterator object at 0x7d389128d5c0>\n",
            "j                   int               10\n",
            "list_numbers        list              n=10\n",
            "man                 dict              n=3\n",
            "plus_infinite       function          <function plus_infinite at 0x7d38911fda20>\n",
            "plus_ver2           function          <function plus_ver2 at 0x7d38911fd120>\n",
            "pythagoras          function          <function pythagoras at 0x7d38911ffe20>\n",
            "pythagoras_lambda   function          <function <lambda> at 0x7d38911fcaf0>\n",
            "users               list              n=5\n"
          ]
        }
      ]
    },
    {
      "cell_type": "code",
      "source": [
        "# RAM에 load 된 변수들을 초기화\n",
        "%reset"
      ],
      "metadata": {
        "colab": {
          "base_uri": "https://localhost:8080/"
        },
        "id": "6zS2Yz2wN_oZ",
        "outputId": "a85e9de3-bdf8-4846-b702-8f21a265f988"
      },
      "execution_count": 25,
      "outputs": [
        {
          "name": "stdout",
          "output_type": "stream",
          "text": [
            "Once deleted, variables cannot be recovered. Proceed (y/[n])? y\n"
          ]
        }
      ]
    }
  ]
}