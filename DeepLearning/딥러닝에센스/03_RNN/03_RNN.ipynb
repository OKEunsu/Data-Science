{
  "nbformat": 4,
  "nbformat_minor": 0,
  "metadata": {
    "colab": {
      "provenance": [],
      "toc_visible": true,
      "authorship_tag": "ABX9TyN9cSRij2957wKdmXV3jHCB"
    },
    "kernelspec": {
      "name": "python3",
      "display_name": "Python 3"
    },
    "language_info": {
      "name": "python"
    }
  },
  "cells": [
    {
      "cell_type": "markdown",
      "source": [
        "# Pytorch RNN"
      ],
      "metadata": {
        "id": "I0e0Jrfi172M"
      }
    },
    {
      "cell_type": "code",
      "execution_count": 1,
      "metadata": {
        "id": "H1urvxqkjkP3"
      },
      "outputs": [],
      "source": [
        "import torch\n",
        "import torch.nn as nn\n",
        "import torchvision\n",
        "from torchvision import datasets, transforms"
      ]
    },
    {
      "cell_type": "code",
      "source": [
        "inputs = torch.Tensor([1,2,3,4,5,6,7,8,9,10,11,12])\n",
        "# seq_length : 3, batch_size : 5\n",
        "# [[1,2,3], [4,5,6],[7,8,9],[10,11,12]]"
      ],
      "metadata": {
        "id": "BVIkjLcg1JN6"
      },
      "execution_count": 2,
      "outputs": []
    },
    {
      "cell_type": "code",
      "source": [
        "input_size = 1\n",
        "seq_length = 3\n",
        "hidden_size = 2\n",
        "num_layers = 2\n",
        "batch_size = 4"
      ],
      "metadata": {
        "id": "QaEjfAUo1U4v"
      },
      "execution_count": 9,
      "outputs": []
    },
    {
      "cell_type": "markdown",
      "source": [
        "RNN을 구현하기 위해서는 input_data(batch_size, sequence_length, input_size)  \n",
        "output_data(batch_size, sequence_length, hidden_size)"
      ],
      "metadata": {
        "id": "WH6_OJX4Ua8a"
      }
    },
    {
      "cell_type": "markdown",
      "metadata": {
        "id": "c2nqLi_5mJPR"
      },
      "source": [
        "## nn.RNN Basic"
      ]
    },
    {
      "cell_type": "markdown",
      "metadata": {
        "id": "gR2Ju5qKmJPW"
      },
      "source": [
        "Input : input과 hidden_0 이라는 2개의 input을 받음\n",
        "- input : neural network로 들어가는 sequence input [seq_length, batch size, input size]\n",
        "- hidden_0 : network의 초기 hidden state [num layers*num directions, batch size, input size]\n",
        "    - num directions : Bidirectional RNN일 경우 2, 나머지 1\n",
        "    - hidden_0은 따로 초기화 하지 않으면 Pytorch에 의해 자동으로 모두 0으로 초기화 됨"
      ]
    },
    {
      "cell_type": "markdown",
      "metadata": {
        "id": "QqXUIGl8mJPb"
      },
      "source": [
        "Output : out과 hidden이라는 2개의 출력을 냄\n",
        "- out : 마지막 RNN layer로부터 매 timesteps마다의 output\n",
        "- h_n : 모든 RNN layer로부터 마지막 timestep의 hidden value\n",
        "    - (num_layers* num_directions, batch, hidden_size)"
      ]
    },
    {
      "cell_type": "code",
      "source": [
        "rnn = nn.RNN(input_size, hidden_size, num_layers, batch_first=True)\n",
        "# batch first : [seq, batch, feature] -> [batch, seq, feature]\n",
        "# input : input, hidden 0 -> 2개의 input을 받음\n",
        "# output : out, hidden -> 2개의 출력"
      ],
      "metadata": {
        "id": "Y6-D2ptY1b4Y"
      },
      "execution_count": 4,
      "outputs": []
    },
    {
      "cell_type": "code",
      "source": [
        "# input : (seg_length, batch_size, input_size)\n",
        "# hidden_0 : network 초기의 hidden state : [num_layers*num directions, batch_size, input_size]"
      ],
      "metadata": {
        "id": "EtU7qRBH1sSC"
      },
      "execution_count": 5,
      "outputs": []
    },
    {
      "cell_type": "code",
      "source": [
        "# out : 마지막 RNN layer로부터 매 time step마다의 output (hello -> e, l, l, o)\n",
        "# h_n : 모든 RNN layer로부터 마지막 timestep의 hidden value(state)\n",
        "  # [num layers*num directions, batch size, hidden size]"
      ],
      "metadata": {
        "id": "u_HnuSno1vn2"
      },
      "execution_count": null,
      "outputs": []
    },
    {
      "cell_type": "code",
      "source": [
        "inputs.shape"
      ],
      "metadata": {
        "colab": {
          "base_uri": "https://localhost:8080/"
        },
        "id": "tWB_6kCp3I0p",
        "outputId": "b0f7a0cf-97dd-40bb-b577-260967e041b1"
      },
      "execution_count": 6,
      "outputs": [
        {
          "output_type": "execute_result",
          "data": {
            "text/plain": [
              "torch.Size([12])"
            ]
          },
          "metadata": {},
          "execution_count": 6
        }
      ]
    },
    {
      "cell_type": "code",
      "source": [
        "inputs = inputs.view(batch_size, seq_length, input_size)"
      ],
      "metadata": {
        "id": "2ZDm9UI23P43"
      },
      "execution_count": 10,
      "outputs": []
    },
    {
      "cell_type": "code",
      "source": [
        "inputs.shape"
      ],
      "metadata": {
        "colab": {
          "base_uri": "https://localhost:8080/"
        },
        "id": "MlkRhdwY3TYX",
        "outputId": "7e220de6-94de-417a-adc3-aa128a5af22d"
      },
      "execution_count": 11,
      "outputs": [
        {
          "output_type": "execute_result",
          "data": {
            "text/plain": [
              "torch.Size([4, 3, 1])"
            ]
          },
          "metadata": {},
          "execution_count": 11
        }
      ]
    },
    {
      "cell_type": "code",
      "source": [
        "out, hidden = rnn(inputs)\n",
        "print('out :',out.shape) # [batch size, seq length, num directions*hidden size]\n",
        "print('hidden :',hidden.shape) # [num layers*num directions, batch size, hidden size]"
      ],
      "metadata": {
        "colab": {
          "base_uri": "https://localhost:8080/"
        },
        "id": "iDgj4sl-3aE3",
        "outputId": "026dd42b-4e6b-4ab3-99ec-82a9cb5f433f"
      },
      "execution_count": 15,
      "outputs": [
        {
          "output_type": "stream",
          "name": "stdout",
          "text": [
            "out : torch.Size([4, 3, 2])\n",
            "hidden : torch.Size([2, 4, 2])\n"
          ]
        }
      ]
    },
    {
      "cell_type": "markdown",
      "metadata": {
        "id": "hCncdEZPmJP-"
      },
      "source": [
        "## Bi-directional RNN"
      ]
    },
    {
      "cell_type": "markdown",
      "metadata": {
        "id": "KQuQHoEPmJP-"
      },
      "source": [
        "- 시간 순, 시간 역행 순 모두 RNN 적용"
      ]
    },
    {
      "cell_type": "code",
      "source": [
        "bi_rnn = nn.RNN(input_size, hidden_size, num_layers, batch_first=True, bidirectional=True)"
      ],
      "metadata": {
        "id": "C0fFC7Rf4We6"
      },
      "execution_count": 18,
      "outputs": []
    },
    {
      "cell_type": "code",
      "source": [
        "inputs.shape"
      ],
      "metadata": {
        "colab": {
          "base_uri": "https://localhost:8080/"
        },
        "id": "0KhJaTmo4a0v",
        "outputId": "ef624ef5-c8f2-4018-aac6-0e1c5cbc947a"
      },
      "execution_count": 17,
      "outputs": [
        {
          "output_type": "execute_result",
          "data": {
            "text/plain": [
              "torch.Size([4, 3, 1])"
            ]
          },
          "metadata": {},
          "execution_count": 17
        }
      ]
    },
    {
      "cell_type": "code",
      "source": [
        "out, hidden = bi_rnn(inputs)"
      ],
      "metadata": {
        "id": "MRK8CrDF4cE2"
      },
      "execution_count": 19,
      "outputs": []
    },
    {
      "cell_type": "code",
      "source": [
        "print(out.shape)\n",
        "print(hidden.shape)"
      ],
      "metadata": {
        "colab": {
          "base_uri": "https://localhost:8080/"
        },
        "id": "QzjIysII4jjf",
        "outputId": "187240fc-8d21-42c8-ed1c-543b7e023be2"
      },
      "execution_count": 20,
      "outputs": [
        {
          "output_type": "stream",
          "name": "stdout",
          "text": [
            "torch.Size([4, 3, 4])\n",
            "torch.Size([4, 4, 2])\n"
          ]
        }
      ]
    },
    {
      "cell_type": "markdown",
      "metadata": {
        "id": "92HjskQ2mJQD"
      },
      "source": [
        "## Bi-directional RNN 방향 분리"
      ]
    },
    {
      "cell_type": "markdown",
      "metadata": {
        "id": "mwzxboQQmJQJ"
      },
      "source": [
        "out"
      ]
    },
    {
      "cell_type": "code",
      "source": [
        "out = out.view(batch_size, seq_length, 2, hidden_size) # 2 : 방향이 앞 뒤로 나눠짐\n",
        "out.shape"
      ],
      "metadata": {
        "colab": {
          "base_uri": "https://localhost:8080/"
        },
        "id": "xDIC8I044jmL",
        "outputId": "f38eef58-e7ca-40e0-9cfd-e7b5dd65b010"
      },
      "execution_count": 21,
      "outputs": [
        {
          "output_type": "execute_result",
          "data": {
            "text/plain": [
              "torch.Size([4, 3, 2, 2])"
            ]
          },
          "metadata": {},
          "execution_count": 21
        }
      ]
    },
    {
      "cell_type": "code",
      "source": [
        "out_direc1 = out[:,:,0,:] # 첫번째 방향\n",
        "out_direc2 = out[:,:,1,:] # 두번째 방향\n",
        "\n",
        "print(out_direc1.shape)\n",
        "print(out_direc2.shape)"
      ],
      "metadata": {
        "colab": {
          "base_uri": "https://localhost:8080/"
        },
        "id": "DIuEpZFx4jrF",
        "outputId": "a16d4f1d-d8be-4c31-b0d5-931a583f0a6e"
      },
      "execution_count": 22,
      "outputs": [
        {
          "output_type": "stream",
          "name": "stdout",
          "text": [
            "torch.Size([4, 3, 2])\n",
            "torch.Size([4, 3, 2])\n"
          ]
        }
      ]
    },
    {
      "cell_type": "markdown",
      "metadata": {
        "id": "6qSKb7Mv0-pL"
      },
      "source": [
        "h_n"
      ]
    },
    {
      "cell_type": "code",
      "source": [
        "hidden = hidden.view(num_layers, 2, batch_size, hidden_size)\n",
        "print(hidden.shape)\n",
        "\n",
        "hidden_direc1 = hidden[0,:,:,:]\n",
        "hidden_direc2 = hidden[1,:,:,:]\n",
        "\n",
        "print(hidden_direc1.shape)\n",
        "print(hidden_direc2.shape)"
      ],
      "metadata": {
        "colab": {
          "base_uri": "https://localhost:8080/"
        },
        "id": "3K_Z1PFi5anX",
        "outputId": "ee274dc4-63ee-48ef-8f68-7ee0711d9c6f"
      },
      "execution_count": 24,
      "outputs": [
        {
          "output_type": "stream",
          "name": "stdout",
          "text": [
            "torch.Size([2, 2, 4, 2])\n",
            "torch.Size([2, 4, 2])\n",
            "torch.Size([2, 4, 2])\n"
          ]
        }
      ]
    },
    {
      "cell_type": "markdown",
      "metadata": {
        "id": "ZyH4nihk1CcC"
      },
      "source": [
        "## RNN Aplication"
      ]
    },
    {
      "cell_type": "code",
      "source": [
        "# RNN application\n",
        "\n",
        "train_data = datasets.MNIST(root='data', train=True, download=True, transform=transforms.ToTensor())\n",
        "test_data = datasets.MNIST(root='data', train=False, download=True, transform=transforms.ToTensor())"
      ],
      "metadata": {
        "colab": {
          "base_uri": "https://localhost:8080/"
        },
        "id": "2yUq4u1EPPmy",
        "outputId": "9ad27cf3-183f-4413-d0b9-35754d718001"
      },
      "execution_count": 25,
      "outputs": [
        {
          "output_type": "stream",
          "name": "stdout",
          "text": [
            "Downloading http://yann.lecun.com/exdb/mnist/train-images-idx3-ubyte.gz\n",
            "Failed to download (trying next):\n",
            "<urlopen error [SSL: CERTIFICATE_VERIFY_FAILED] certificate verify failed: certificate has expired (_ssl.c:1007)>\n",
            "\n",
            "Downloading https://ossci-datasets.s3.amazonaws.com/mnist/train-images-idx3-ubyte.gz\n",
            "Downloading https://ossci-datasets.s3.amazonaws.com/mnist/train-images-idx3-ubyte.gz to data/MNIST/raw/train-images-idx3-ubyte.gz\n"
          ]
        },
        {
          "output_type": "stream",
          "name": "stderr",
          "text": [
            "100%|██████████| 9.91M/9.91M [00:00<00:00, 39.0MB/s]\n"
          ]
        },
        {
          "output_type": "stream",
          "name": "stdout",
          "text": [
            "Extracting data/MNIST/raw/train-images-idx3-ubyte.gz to data/MNIST/raw\n",
            "\n",
            "Downloading http://yann.lecun.com/exdb/mnist/train-labels-idx1-ubyte.gz\n",
            "Failed to download (trying next):\n",
            "<urlopen error [SSL: CERTIFICATE_VERIFY_FAILED] certificate verify failed: certificate has expired (_ssl.c:1007)>\n",
            "\n",
            "Downloading https://ossci-datasets.s3.amazonaws.com/mnist/train-labels-idx1-ubyte.gz\n",
            "Downloading https://ossci-datasets.s3.amazonaws.com/mnist/train-labels-idx1-ubyte.gz to data/MNIST/raw/train-labels-idx1-ubyte.gz\n"
          ]
        },
        {
          "output_type": "stream",
          "name": "stderr",
          "text": [
            "100%|██████████| 28.9k/28.9k [00:00<00:00, 1.28MB/s]"
          ]
        },
        {
          "output_type": "stream",
          "name": "stdout",
          "text": [
            "Extracting data/MNIST/raw/train-labels-idx1-ubyte.gz to data/MNIST/raw\n",
            "\n",
            "Downloading http://yann.lecun.com/exdb/mnist/t10k-images-idx3-ubyte.gz\n"
          ]
        },
        {
          "output_type": "stream",
          "name": "stderr",
          "text": [
            "\n"
          ]
        },
        {
          "output_type": "stream",
          "name": "stdout",
          "text": [
            "Failed to download (trying next):\n",
            "<urlopen error [SSL: CERTIFICATE_VERIFY_FAILED] certificate verify failed: certificate has expired (_ssl.c:1007)>\n",
            "\n",
            "Downloading https://ossci-datasets.s3.amazonaws.com/mnist/t10k-images-idx3-ubyte.gz\n",
            "Downloading https://ossci-datasets.s3.amazonaws.com/mnist/t10k-images-idx3-ubyte.gz to data/MNIST/raw/t10k-images-idx3-ubyte.gz\n"
          ]
        },
        {
          "output_type": "stream",
          "name": "stderr",
          "text": [
            "100%|██████████| 1.65M/1.65M [00:00<00:00, 3.54MB/s]\n"
          ]
        },
        {
          "output_type": "stream",
          "name": "stdout",
          "text": [
            "Extracting data/MNIST/raw/t10k-images-idx3-ubyte.gz to data/MNIST/raw\n",
            "\n",
            "Downloading http://yann.lecun.com/exdb/mnist/t10k-labels-idx1-ubyte.gz\n",
            "Failed to download (trying next):\n",
            "<urlopen error [SSL: CERTIFICATE_VERIFY_FAILED] certificate verify failed: certificate has expired (_ssl.c:1007)>\n",
            "\n",
            "Downloading https://ossci-datasets.s3.amazonaws.com/mnist/t10k-labels-idx1-ubyte.gz\n",
            "Downloading https://ossci-datasets.s3.amazonaws.com/mnist/t10k-labels-idx1-ubyte.gz to data/MNIST/raw/t10k-labels-idx1-ubyte.gz\n"
          ]
        },
        {
          "output_type": "stream",
          "name": "stderr",
          "text": [
            "100%|██████████| 4.54k/4.54k [00:00<00:00, 5.75MB/s]"
          ]
        },
        {
          "output_type": "stream",
          "name": "stdout",
          "text": [
            "Extracting data/MNIST/raw/t10k-labels-idx1-ubyte.gz to data/MNIST/raw\n",
            "\n"
          ]
        },
        {
          "output_type": "stream",
          "name": "stderr",
          "text": [
            "\n"
          ]
        }
      ]
    },
    {
      "cell_type": "code",
      "source": [
        "from torch.utils.data import DataLoader\n",
        "train_loader = DataLoader(train_data, batch_size=batch_size, shuffle=True)\n",
        "test_loader = DataLoader(test_data, batch_size=batch_size, shuffle=False)"
      ],
      "metadata": {
        "id": "zQJUMp04PtMa"
      },
      "execution_count": 27,
      "outputs": []
    },
    {
      "cell_type": "code",
      "source": [
        "# 수정된 모델 정의에서 input_size를 28로 설정\n",
        "class RNN(nn.Module):\n",
        "    def __init__(self, num_classes):\n",
        "        super(RNN, self).__init__()\n",
        "        self.input_size = 28  # input_size를 데이터 크기에 맞춤\n",
        "        self.hidden_size = 64\n",
        "        self.num_layers = 2\n",
        "        self.num_classes = num_classes\n",
        "        self.rnn = nn.RNN(self.input_size, self.hidden_size, self.num_layers, batch_first=True)\n",
        "        self.fc = nn.Linear(self.hidden_size, self.num_classes)\n",
        "\n",
        "    def forward(self, x):\n",
        "        out, hidden = self.rnn(x)\n",
        "        out = self.fc(out[:, -1, :])  # 마지막 시퀀스만 사용\n",
        "        return out"
      ],
      "metadata": {
        "id": "vwcJQeZaSKAY"
      },
      "execution_count": 49,
      "outputs": []
    },
    {
      "cell_type": "code",
      "source": [
        "device = torch.device('cuda' if torch.cuda.is_available() else 'cpu')\n",
        "# 나머지 학습 코드\n",
        "model = RNN(num_classes=10).to(device)\n",
        "CELoss = nn.CrossEntropyLoss()\n",
        "adam_optimizer = torch.optim.Adam(model.parameters())"
      ],
      "metadata": {
        "id": "Zx1F7jrwT0u6"
      },
      "execution_count": 51,
      "outputs": []
    },
    {
      "cell_type": "code",
      "source": [
        "total_epochs = 3\n",
        "sequence_length = 28\n",
        "input_size = 28"
      ],
      "metadata": {
        "id": "ZssMqk5cZgBA"
      },
      "execution_count": 46,
      "outputs": []
    },
    {
      "cell_type": "code",
      "source": [
        "for epoch in range(total_epochs):\n",
        "    for i, (images, labels) in enumerate(train_loader):\n",
        "        # seq_length와 input_size에 맞게 reshape\n",
        "        images = images.reshape(-1, sequence_length, 28).to(device)\n",
        "        labels = labels.to(device)\n",
        "\n",
        "        outputs = model(images)\n",
        "        loss = CELoss(outputs, labels)\n",
        "\n",
        "        adam_optimizer.zero_grad()\n",
        "        loss.backward()\n",
        "        adam_optimizer.step()\n",
        "    print('Epoch [{}/{}], Loss: {:.4f}'.format(epoch+1, total_epochs, loss.item()))"
      ],
      "metadata": {
        "colab": {
          "base_uri": "https://localhost:8080/"
        },
        "id": "0NKYaoBBZ_Ix",
        "outputId": "5141ed38-3a30-4fa1-cc52-4d98761724cf"
      },
      "execution_count": 53,
      "outputs": [
        {
          "output_type": "stream",
          "name": "stdout",
          "text": [
            "Epoch [1/3], Loss: 1.3074\n",
            "Epoch [2/3], Loss: 0.1179\n",
            "Epoch [3/3], Loss: 0.4045\n"
          ]
        }
      ]
    },
    {
      "cell_type": "code",
      "source": [
        "with torch.no_grad():\n",
        "    correct = 0\n",
        "    total = 0\n",
        "\n",
        "    for images, labels in test_loader:\n",
        "      images = images.reshape(-1, sequence_length, 28).to(device)\n",
        "      labels = labels.to(device)\n",
        "\n",
        "      outputs = model(images)\n",
        "      _, predicted = torch.max(outputs.data, 1)\n",
        "      total += labels.size(0)\n",
        "      correct += (predicted == labels).sum().item()\n",
        "\n",
        "    print('Test Accuracy of the model on the 10000 test images: {} %'.format(100 * correct / total))"
      ],
      "metadata": {
        "colab": {
          "base_uri": "https://localhost:8080/"
        },
        "id": "jtzSZvdjbR4P",
        "outputId": "4057c355-4b3e-4544-d4af-19f170afe914"
      },
      "execution_count": 54,
      "outputs": [
        {
          "output_type": "stream",
          "name": "stdout",
          "text": [
            "Test Accuracy of the model on the 10000 test images: 81.43 %\n"
          ]
        }
      ]
    },
    {
      "cell_type": "code",
      "source": [
        "class Bi_RNN(nn.Module):\n",
        "  def __init__(self, num_classes):\n",
        "    super(Bi_RNN, self).__init__()\n",
        "    self.input_size = 28\n",
        "    self.hidden_size = 128\n",
        "    self.num_layers = 2\n",
        "    self.RNN = nn.RNN(input_size=self.input_size, hidden_size=self.hidden_size, num_layers=self.num_layers, batch_first=True, bidirectional=True)\n",
        "    # [seq, batch,geature] -> [batch, seq, feature]\n",
        "    self.fc = nn.Linear(self.hidden_size*2, num_classes)\n",
        "\n",
        "  def forward(self, x):\n",
        "    out, _ = self.RNN(x)\n",
        "    out = self.fc(out[:, -1, :])\n",
        "    return out"
      ],
      "metadata": {
        "id": "CsX8fS8haBCX"
      },
      "execution_count": 55,
      "outputs": []
    },
    {
      "cell_type": "code",
      "source": [
        "model = Bi_RNN(num_classes=10).to(device)\n",
        "CELoss = nn.CrossEntropyLoss()\n",
        "adam_optimizer = torch.optim.Adam(model.parameters())"
      ],
      "metadata": {
        "id": "zf8xFbOob3qw"
      },
      "execution_count": 56,
      "outputs": []
    },
    {
      "cell_type": "markdown",
      "source": [
        "# Pytorch LSTM"
      ],
      "metadata": {
        "id": "rlbh8BcG2gMR"
      }
    },
    {
      "cell_type": "markdown",
      "source": [
        "## nn.LSTM Basic"
      ],
      "metadata": {
        "id": "8TJwzRakLSGO"
      }
    },
    {
      "cell_type": "code",
      "source": [
        "import torch\n",
        "import torch.nn as nn\n",
        "import torchvision\n",
        "from torchvision import datasets, transforms\n",
        "from torch.utils.data import DataLoader"
      ],
      "metadata": {
        "id": "-Dadxs-9cZmR"
      },
      "execution_count": 58,
      "outputs": []
    },
    {
      "cell_type": "code",
      "source": [
        "inputs = torch.Tensor([1,2,3,4,5,6,7,8,9,10,11,12])"
      ],
      "metadata": {
        "id": "2ypMHmEs2y47"
      },
      "execution_count": 59,
      "outputs": []
    },
    {
      "cell_type": "code",
      "source": [
        "input_size = 1\n",
        "seq_length = 3\n",
        "hidden_size = 2\n",
        "num_layers = 2\n",
        "batch_size = 4"
      ],
      "metadata": {
        "id": "RI7E-cBs24Xu"
      },
      "execution_count": 60,
      "outputs": []
    },
    {
      "cell_type": "code",
      "source": [
        "# nn.LSTM()\n",
        "# Input : input, hidden_0\n",
        "  # input : [seq_length, batch_size, input_size]\n",
        "  # hidden_0 - hidden_init, cell_init\n",
        "# Output : out, hidden\n",
        "  # out : RNN과 동일\n",
        "  # h_n : [num_layers * num_directions, batch, hidden_size] - (hidden, cell)"
      ],
      "metadata": {
        "id": "wXplrmeD26dz"
      },
      "execution_count": null,
      "outputs": []
    },
    {
      "cell_type": "code",
      "source": [
        "lstm = nn.LSTM(input_size=input_size, hidden_size=hidden_size,num_layers=num_layers, batch_first=True)"
      ],
      "metadata": {
        "id": "xjGFYcAT4RYC"
      },
      "execution_count": 61,
      "outputs": []
    },
    {
      "cell_type": "code",
      "source": [
        "inputs = inputs.view(batch_size, seq_length, input_size)\n",
        "inputs.shape"
      ],
      "metadata": {
        "colab": {
          "base_uri": "https://localhost:8080/"
        },
        "id": "yS-JUfDz4Xit",
        "outputId": "a4db0bb1-9bb7-49e5-803f-c7d1d97adefc"
      },
      "execution_count": 64,
      "outputs": [
        {
          "output_type": "execute_result",
          "data": {
            "text/plain": [
              "torch.Size([4, 3, 1])"
            ]
          },
          "metadata": {},
          "execution_count": 64
        }
      ]
    },
    {
      "cell_type": "code",
      "source": [
        "hidden_init = torch.zeros(num_layers, batch_size, hidden_size)\n",
        "cell_init = torch.zeros(num_layers, batch_size, hidden_size)\n",
        "\n",
        "out, (hidden, cell) = lstm(inputs, (hidden_init, cell_init))\n",
        "print('out:', out.shape) # (batch_size, seg_length, num_directions*hidden_size)\n",
        "print('hidden:', hidden.shape) # [num_directions*num_layers, batch_size, hidden_size]\n",
        "print('cell:', cell.shape) # [num_directions*num_layers, batch_size, hidden_size]"
      ],
      "metadata": {
        "colab": {
          "base_uri": "https://localhost:8080/"
        },
        "id": "CSINWPto4pkz",
        "outputId": "c85123d9-cd88-4ce3-f481-d8fd81c07d27"
      },
      "execution_count": 69,
      "outputs": [
        {
          "output_type": "stream",
          "name": "stdout",
          "text": [
            "out: torch.Size([4, 3, 2])\n",
            "hidden: torch.Size([2, 4, 2])\n",
            "cell: torch.Size([2, 4, 2])\n"
          ]
        }
      ]
    },
    {
      "cell_type": "code",
      "source": [
        "train_data = datasets.MNIST(root='data', train=True, download=True, transform=transforms.ToTensor())\n",
        "test_data = datasets.MNIST(root='data', train=False, download=True, transform=transforms.ToTensor())"
      ],
      "metadata": {
        "id": "HKZUb2ahDT5M"
      },
      "execution_count": 70,
      "outputs": []
    },
    {
      "cell_type": "code",
      "source": [
        "train_loader = DataLoader(train_data, batch_size=batch_size, shuffle=True)\n",
        "test_loader = DataLoader(test_data, batch_size=batch_size, shuffle=False)"
      ],
      "metadata": {
        "id": "1H0gxp7j5Aj6"
      },
      "execution_count": 71,
      "outputs": []
    },
    {
      "cell_type": "markdown",
      "source": [
        "## LSTM application"
      ],
      "metadata": {
        "id": "3YEMnjMBK-Y1"
      }
    },
    {
      "cell_type": "code",
      "source": [
        "class LSTM(nn.Module):\n",
        "  def __init__(self, num_classes):\n",
        "    super(LSTM, self).__init__()\n",
        "\n",
        "    self.input_size = 28\n",
        "    self.hidden_size = 128\n",
        "    self.num_layers = 2\n",
        "\n",
        "    self.LSTM = nn.LSTM(input_size=self.input_size, hidden_size=self.hidden_size, num_layers=self.num_layers, batch_first=True)\n",
        "    self.fc = nn.Linear(self.hidden_size, num_classes)\n",
        "\n",
        "  def forward(self, x):\n",
        "    hidden_init = torch.zeros(self.num_layers, x.size(0), self.hidden_size)\n",
        "    cell_init = torch.zeros(self.num_layers, x.size(0), self.hidden_size)\n",
        "\n",
        "    out, hidden = self.LSTM(x, (hidden_init, cell_init))\n",
        "    # out ; mini batch, seq length, hidden_size\n",
        "    out = self.fc(out[:, -1, :])\n",
        "    return out"
      ],
      "metadata": {
        "id": "tBSmc5cL5Arb"
      },
      "execution_count": 73,
      "outputs": []
    },
    {
      "cell_type": "code",
      "source": [
        "model = LSTM(num_classes=10).to(device)\n",
        "\n",
        "CELoss = nn.CrossEntropyLoss()\n",
        "adam_optimizer = torch.optim.Adam(model.parameters())"
      ],
      "metadata": {
        "id": "bVMF3iv45Att"
      },
      "execution_count": 74,
      "outputs": []
    },
    {
      "cell_type": "code",
      "source": [
        "total_epochs = 3\n",
        "sequence_length = 28\n",
        "input_size = 28"
      ],
      "metadata": {
        "id": "cUmPdBEK5AwE"
      },
      "execution_count": 75,
      "outputs": []
    },
    {
      "cell_type": "code",
      "source": [
        "for epoch in range(total_epochs):\n",
        "  for images, labels in train_loader:\n",
        "    images = images.reshape(-1, sequence_length, input_size)\n",
        "\n",
        "    outputs = model(images)\n",
        "    loss = CELoss(outputs, labels)\n",
        "\n",
        "    adam_optimizer.zero_grad()\n",
        "    loss.backward()\n",
        "    adam_optimizer.step()\n",
        "  print('Epoch [{}/{}], Loss: {:.4f}'.format(epoch+1, total_epochs, loss.item()))"
      ],
      "metadata": {
        "colab": {
          "base_uri": "https://localhost:8080/"
        },
        "id": "BkXH-RIPFNLc",
        "outputId": "bf0a6f4b-5118-4e76-ff58-7622d8d8edd7"
      },
      "execution_count": 76,
      "outputs": [
        {
          "output_type": "stream",
          "name": "stdout",
          "text": [
            "Epoch [1/3], Loss: 0.0161\n",
            "Epoch [2/3], Loss: 0.0028\n",
            "Epoch [3/3], Loss: 0.0144\n"
          ]
        }
      ]
    },
    {
      "cell_type": "code",
      "source": [
        "model.eval()\n",
        "with torch.no_grad():\n",
        "  correct = 0\n",
        "  total = 0\n",
        "\n",
        "  for images, labels in test_loader:\n",
        "    images = images.reshape(-1, sequence_length, input_size)\n",
        "    outputs = model(images)\n",
        "    _, predicted = torch.max(outputs.data, 1)\n",
        "    total += labels.size(0)\n",
        "    correct += (predicted == labels).sum().item()\n",
        "\n",
        "  print('Test Accuracy of the model on the 10000 test images: {} %'.format(100 * correct / total))"
      ],
      "metadata": {
        "colab": {
          "base_uri": "https://localhost:8080/"
        },
        "id": "2YwUY9n2FuT-",
        "outputId": "7839f664-14e6-4a4e-ac69-d7a5d5516c17"
      },
      "execution_count": 77,
      "outputs": [
        {
          "output_type": "stream",
          "name": "stdout",
          "text": [
            "Test Accuracy of the model on the 10000 test images: 98.32 %\n"
          ]
        }
      ]
    },
    {
      "cell_type": "markdown",
      "source": [
        "## Bidirectional RNN Application"
      ],
      "metadata": {
        "id": "5KzV0omhK5Zh"
      }
    },
    {
      "cell_type": "code",
      "source": [
        "class B1_LSTM(nn.Module):\n",
        "  def __init__(self, num_classes):\n",
        "    super(B1_LSTM, self).__init__()\n",
        "    self.input_size = 28\n",
        "    self.hidden_size = 128\n",
        "    self.num_layers = 2\n",
        "    self.LSTM = nn.LSTM(input_size=self.input_size, hidden_size=self.hidden_size, num_layers=self.num_layers, batch_first=True, bidirectional=True)\n",
        "    self.fc = nn.Linear(self.hidden_size*2, num_classes)\n",
        "\n",
        "  def forward(self, x):\n",
        "    hidden_init = torch.zeros(self.num_layers*2, x.size(0), self.hidden_size)\n",
        "    cell_init = torch.zeros(self.num_layers*2, x.size(0), self.hidden_size)\n",
        "    out, _ = self.LSTM(x, (hidden_init, cell_init)) # [mini-batch, seq-length, hidden-size]\n",
        "    out = self.fc(out[:, -1, :])\n",
        "    return out"
      ],
      "metadata": {
        "id": "jENa5wmBKMp2"
      },
      "execution_count": 79,
      "outputs": []
    },
    {
      "cell_type": "code",
      "source": [
        "device = torch.device('cuda' if torch.cuda.is_available() else 'cpu')\n",
        "model = B1_LSTM(num_classes=10).to(device)\n",
        "\n",
        "CELoss = nn.CrossEntropyLoss()\n",
        "adam_optimizer = torch.optim.Adam(model.parameters(), lr=0.001)"
      ],
      "metadata": {
        "id": "_cZqH3kBKJLl"
      },
      "execution_count": 80,
      "outputs": []
    },
    {
      "cell_type": "code",
      "source": [
        "total_epochs = 3\n",
        "sequence_length = 28\n",
        "input_size = 28"
      ],
      "metadata": {
        "id": "d7lKsMC5KhcP"
      },
      "execution_count": 81,
      "outputs": []
    },
    {
      "cell_type": "code",
      "source": [
        "total_step = len(train_loader)\n",
        "\n",
        "for epoch in range(total_epochs):\n",
        "  for i, (images, labels) in enumerate(train_loader):\n",
        "    images = images.reshape(-1, sequence_length, input_size).to(device)\n",
        "    labels = labels.to(device)\n",
        "\n",
        "    outputs = model(images)\n",
        "    loss = CELoss(outputs, labels)\n",
        "\n",
        "    adam_optimizer.zero_grad()\n",
        "    loss.backward()\n",
        "    adam_optimizer.step()\n",
        "\n",
        "    if (i+1) % 5000 == 0:\n",
        "      print('Epoch [{}/{}], Step [{}/{}], Loss: {:.4f}'.format(epoch+1, total_epochs, i+1, total_step, loss.item()))"
      ],
      "metadata": {
        "colab": {
          "base_uri": "https://localhost:8080/"
        },
        "id": "4RKMlUxBLsq2",
        "outputId": "6ecaef82-19fe-4d0c-e99f-540f84b1c7ae"
      },
      "execution_count": 85,
      "outputs": [
        {
          "output_type": "stream",
          "name": "stdout",
          "text": [
            "Epoch [1/3], Step [5000/15000], Loss: 0.0016\n",
            "Epoch [1/3], Step [10000/15000], Loss: 0.0003\n",
            "Epoch [1/3], Step [15000/15000], Loss: 0.0040\n",
            "Epoch [2/3], Step [5000/15000], Loss: 0.0019\n",
            "Epoch [2/3], Step [10000/15000], Loss: 0.0131\n",
            "Epoch [2/3], Step [15000/15000], Loss: 0.0012\n",
            "Epoch [3/3], Step [5000/15000], Loss: 0.0005\n",
            "Epoch [3/3], Step [10000/15000], Loss: 0.0004\n",
            "Epoch [3/3], Step [15000/15000], Loss: 0.0282\n"
          ]
        }
      ]
    },
    {
      "cell_type": "markdown",
      "source": [
        "# Tensorflow RNN"
      ],
      "metadata": {
        "id": "Fpl-0GnlMiMG"
      }
    },
    {
      "cell_type": "code",
      "source": [
        "import tensorflow as tf\n",
        "from tensorflow import keras\n",
        "from tensorflow.keras import Model, layers, optimizers, datasets"
      ],
      "metadata": {
        "id": "2LDgd0MtLyzn"
      },
      "execution_count": 86,
      "outputs": []
    },
    {
      "cell_type": "code",
      "source": [
        "x = tf.random.normal(shape=(32, 20, 100), mean=0, stddev=1.)"
      ],
      "metadata": {
        "id": "QGxMMP6nM_fG"
      },
      "execution_count": 87,
      "outputs": []
    },
    {
      "cell_type": "code",
      "source": [
        "rnn = layers.SimpleRNN(units=10)"
      ],
      "metadata": {
        "id": "MRhtTvKCNFco"
      },
      "execution_count": 88,
      "outputs": []
    },
    {
      "cell_type": "code",
      "source": [
        "x.shape # [batch_size, timestep, features]"
      ],
      "metadata": {
        "colab": {
          "base_uri": "https://localhost:8080/"
        },
        "id": "Lul6dR11NUCI",
        "outputId": "33bf306b-8d9f-45d2-8d93-3159dc0f5b73"
      },
      "execution_count": 89,
      "outputs": [
        {
          "output_type": "execute_result",
          "data": {
            "text/plain": [
              "TensorShape([32, 20, 100])"
            ]
          },
          "metadata": {},
          "execution_count": 89
        }
      ]
    },
    {
      "cell_type": "code",
      "source": [
        "output = rnn(x)\n",
        "output.shape"
      ],
      "metadata": {
        "colab": {
          "base_uri": "https://localhost:8080/"
        },
        "id": "69LSrwVJNU2W",
        "outputId": "70ff805d-1b4b-4005-fff3-39f756b2ffea"
      },
      "execution_count": 90,
      "outputs": [
        {
          "output_type": "execute_result",
          "data": {
            "text/plain": [
              "TensorShape([32, 10])"
            ]
          },
          "metadata": {},
          "execution_count": 90
        }
      ]
    },
    {
      "cell_type": "code",
      "source": [
        "rnn2 = layers.SimpleRNN(units=10, return_sequences=True)\n",
        "# output sequence 마지막 output을 return 할지 (False-defalut), full sequence를 return,"
      ],
      "metadata": {
        "id": "bK7heRJNNeck"
      },
      "execution_count": 94,
      "outputs": []
    },
    {
      "cell_type": "code",
      "source": [
        "x.shape"
      ],
      "metadata": {
        "colab": {
          "base_uri": "https://localhost:8080/"
        },
        "id": "r6wmW7OsOz1t",
        "outputId": "79ea2bd7-2d6c-48aa-f508-f5652a9d7bec"
      },
      "execution_count": 91,
      "outputs": [
        {
          "output_type": "execute_result",
          "data": {
            "text/plain": [
              "TensorShape([32, 20, 100])"
            ]
          },
          "metadata": {},
          "execution_count": 91
        }
      ]
    },
    {
      "cell_type": "code",
      "source": [
        "output2 = rnn2(x)\n",
        "output2.shape"
      ],
      "metadata": {
        "colab": {
          "base_uri": "https://localhost:8080/"
        },
        "id": "KnmyaDSaO1bh",
        "outputId": "c0517f8b-7544-4075-8036-d00a017a277d"
      },
      "execution_count": 95,
      "outputs": [
        {
          "output_type": "execute_result",
          "data": {
            "text/plain": [
              "TensorShape([32, 20, 10])"
            ]
          },
          "metadata": {},
          "execution_count": 95
        }
      ]
    },
    {
      "cell_type": "code",
      "source": [
        "rnn3 = layers.SimpleRNN(units=10, return_sequences=True, return_state=True)\n",
        "# output 이외에 state 출력"
      ],
      "metadata": {
        "id": "ZUM3W7LrRGfB"
      },
      "execution_count": 98,
      "outputs": []
    },
    {
      "cell_type": "code",
      "source": [
        "output3, final_sate = rnn3(x)"
      ],
      "metadata": {
        "id": "JKVK7UAXRGhp"
      },
      "execution_count": 99,
      "outputs": []
    },
    {
      "cell_type": "code",
      "source": [
        "print(output3.shape)\n",
        "print(final_sate.shape)"
      ],
      "metadata": {
        "colab": {
          "base_uri": "https://localhost:8080/"
        },
        "id": "EOxlomV6RGkC",
        "outputId": "9dcc0c07-9d1e-4268-adfd-3bcadddeb582"
      },
      "execution_count": 100,
      "outputs": [
        {
          "output_type": "stream",
          "name": "stdout",
          "text": [
            "(32, 20, 10)\n",
            "(32, 10)\n"
          ]
        }
      ]
    },
    {
      "cell_type": "code",
      "source": [
        "x.shape"
      ],
      "metadata": {
        "colab": {
          "base_uri": "https://localhost:8080/"
        },
        "id": "IDWWygCaXmlU",
        "outputId": "7b1a1fb6-db42-43eb-e927-b13531280f1c"
      },
      "execution_count": 101,
      "outputs": [
        {
          "output_type": "execute_result",
          "data": {
            "text/plain": [
              "TensorShape([32, 20, 100])"
            ]
          },
          "metadata": {},
          "execution_count": 101
        }
      ]
    },
    {
      "cell_type": "markdown",
      "source": [
        "## Bi-directional RNN"
      ],
      "metadata": {
        "id": "yxIrlKlmYOCB"
      }
    },
    {
      "cell_type": "code",
      "source": [
        "rnn = layers.SimpleRNN(units=10)"
      ],
      "metadata": {
        "id": "PAI1d1rtXmoI"
      },
      "execution_count": 102,
      "outputs": []
    },
    {
      "cell_type": "code",
      "source": [
        "bi_rnn = layers.Bidirectional(rnn)"
      ],
      "metadata": {
        "id": "YAXw3YfDXmqn"
      },
      "execution_count": 103,
      "outputs": []
    },
    {
      "cell_type": "code",
      "source": [
        "output = bi_rnn(x)"
      ],
      "metadata": {
        "id": "oC0PLdojYD7e"
      },
      "execution_count": 105,
      "outputs": []
    },
    {
      "cell_type": "code",
      "source": [
        "output.shape"
      ],
      "metadata": {
        "colab": {
          "base_uri": "https://localhost:8080/"
        },
        "id": "gbZG1jF9X-Q9",
        "outputId": "bd84286d-15c2-4f85-97ef-515b0e2e4fbb"
      },
      "execution_count": 106,
      "outputs": [
        {
          "output_type": "execute_result",
          "data": {
            "text/plain": [
              "TensorShape([32, 20])"
            ]
          },
          "metadata": {},
          "execution_count": 106
        }
      ]
    },
    {
      "cell_type": "markdown",
      "source": [
        "# Tensorflow LSTM"
      ],
      "metadata": {
        "id": "pbJuyIvFYH1e"
      }
    },
    {
      "cell_type": "code",
      "source": [
        "import tensorflow as tf\n",
        "from tensorflow import keras\n",
        "from tensorflow.keras import Model, layers, optimizers, datasets"
      ],
      "metadata": {
        "id": "k2eiGaxPYKln"
      },
      "execution_count": 1,
      "outputs": []
    },
    {
      "cell_type": "code",
      "source": [
        "x = tf.random.normal(shape=(32, 20, 100), mean=0, stddev=1.)"
      ],
      "metadata": {
        "id": "ZRXy1BtcYQW4"
      },
      "execution_count": 2,
      "outputs": []
    },
    {
      "cell_type": "code",
      "source": [
        "lstm = layers.LSTM(units=10)"
      ],
      "metadata": {
        "id": "XTH_zSXBnLp2"
      },
      "execution_count": 4,
      "outputs": []
    },
    {
      "cell_type": "code",
      "source": [
        "x.shape"
      ],
      "metadata": {
        "colab": {
          "base_uri": "https://localhost:8080/"
        },
        "id": "eD_2Ou2TYQZn",
        "outputId": "e31d5152-d3a8-44eb-a7af-e216f29edd9a"
      },
      "execution_count": 5,
      "outputs": [
        {
          "output_type": "execute_result",
          "data": {
            "text/plain": [
              "TensorShape([32, 20, 100])"
            ]
          },
          "metadata": {},
          "execution_count": 5
        }
      ]
    },
    {
      "cell_type": "code",
      "source": [
        "out = lstm(x)\n",
        "out.shape"
      ],
      "metadata": {
        "colab": {
          "base_uri": "https://localhost:8080/"
        },
        "id": "IH0I_QJaYQcE",
        "outputId": "a7d9fa65-a321-492a-8a4d-05433fe94b4b"
      },
      "execution_count": 6,
      "outputs": [
        {
          "output_type": "execute_result",
          "data": {
            "text/plain": [
              "TensorShape([32, 10])"
            ]
          },
          "metadata": {},
          "execution_count": 6
        }
      ]
    },
    {
      "cell_type": "code",
      "source": [
        "lstm2 = layers.LSTM(units=10, return_sequences=True, return_state=True) # [batch, timesteps, features]\n",
        "# return_sequences : output sequences의 마지막 output을 return할지 (False - default), full sequence를 return할 지(True)\n",
        "# return_state : output이외에 last state(hidden_sate, cell_state)도 return할 지를 결정하는 인자(True)"
      ],
      "metadata": {
        "id": "gHBd6vC9nF-T"
      },
      "execution_count": 8,
      "outputs": []
    },
    {
      "cell_type": "code",
      "source": [
        "output2, final_hidden, final_cell = lstm2(x)\n",
        "print('output2 :', output2.shape)\n",
        "print('final_hidden :', final_hidden.shape)\n",
        "print('final_cell :', final_cell.shape)"
      ],
      "metadata": {
        "colab": {
          "base_uri": "https://localhost:8080/"
        },
        "id": "36L_FadxnGBs",
        "outputId": "4e7418e4-d5b0-4349-ffe7-0ef0beadbecc"
      },
      "execution_count": 10,
      "outputs": [
        {
          "output_type": "stream",
          "name": "stdout",
          "text": [
            "output2 : (32, 20, 10)\n",
            "final_hidden : (32, 10)\n",
            "final_cell : (32, 10)\n"
          ]
        }
      ]
    },
    {
      "cell_type": "markdown",
      "source": [
        "## LSTM application"
      ],
      "metadata": {
        "id": "XBETptoCZXNV"
      }
    },
    {
      "cell_type": "code",
      "source": [
        "class LSTM(Model):\n",
        "  def __init__(self, units1, units2, num_classes):\n",
        "    super(LSTM, self).__init__()\n",
        "    self.sequential = tf.keras.Sequential([\n",
        "        layers.LSTM(units1, return_sequences=True),\n",
        "        layers.BatchNormalization(),\n",
        "        layers.LSTM(units2),\n",
        "        layers.BatchNormalization(),\n",
        "        layers.Dense(num_classes, activation=tf.nn.softmax)\n",
        "    ])\n",
        "  def call(self, x):\n",
        "    out = self.sequential(x)\n",
        "    return out"
      ],
      "metadata": {
        "id": "JS3W5-V2ZfW5"
      },
      "execution_count": 20,
      "outputs": []
    },
    {
      "cell_type": "code",
      "source": [
        "(x_train, y_train), (x_test, y_test) = datasets.mnist.load_data()"
      ],
      "metadata": {
        "id": "zV0YSyv0ZfZn"
      },
      "execution_count": 21,
      "outputs": []
    },
    {
      "cell_type": "code",
      "source": [
        "x_train = x_train/255.\n",
        "x_test = x_test/255."
      ],
      "metadata": {
        "id": "DbKDlDj3ZfeF"
      },
      "execution_count": 22,
      "outputs": []
    },
    {
      "cell_type": "code",
      "source": [
        "units_1 = 128\n",
        "units_2 = 256\n",
        "num_classes = 10\n",
        "\n",
        "model = LSTM(units_1, units_2, num_classes)"
      ],
      "metadata": {
        "id": "grAVFz1dYLHw"
      },
      "execution_count": 23,
      "outputs": []
    },
    {
      "cell_type": "code",
      "source": [
        "model.compile(optimizer='sgd', loss=keras.losses.SparseCategoricalCrossentropy(), metrics=['accuracy'])"
      ],
      "metadata": {
        "id": "xQ9ux_ZUYLKM"
      },
      "execution_count": 24,
      "outputs": []
    },
    {
      "cell_type": "code",
      "source": [
        "model.fit(x_train, y_train, validation_data = (x_test, y_test), batch_size=32, epochs=3)"
      ],
      "metadata": {
        "colab": {
          "base_uri": "https://localhost:8080/"
        },
        "id": "IjgmicINYLMS",
        "outputId": "fd2be616-c545-4863-f2cd-a25e9b6f3f6f"
      },
      "execution_count": 25,
      "outputs": [
        {
          "output_type": "stream",
          "name": "stdout",
          "text": [
            "Epoch 1/3\n",
            "\u001b[1m1875/1875\u001b[0m \u001b[32m━━━━━━━━━━━━━━━━━━━━\u001b[0m\u001b[37m\u001b[0m \u001b[1m291s\u001b[0m 154ms/step - accuracy: 0.3216 - loss: 1.9923 - val_accuracy: 0.6710 - val_loss: 0.9877\n",
            "Epoch 2/3\n",
            "\u001b[1m1875/1875\u001b[0m \u001b[32m━━━━━━━━━━━━━━━━━━━━\u001b[0m\u001b[37m\u001b[0m \u001b[1m277s\u001b[0m 130ms/step - accuracy: 0.7289 - loss: 0.8086 - val_accuracy: 0.8554 - val_loss: 0.4335\n",
            "Epoch 3/3\n",
            "\u001b[1m1875/1875\u001b[0m \u001b[32m━━━━━━━━━━━━━━━━━━━━\u001b[0m\u001b[37m\u001b[0m \u001b[1m255s\u001b[0m 126ms/step - accuracy: 0.8673 - loss: 0.4086 - val_accuracy: 0.8941 - val_loss: 0.3155\n"
          ]
        },
        {
          "output_type": "execute_result",
          "data": {
            "text/plain": [
              "<keras.src.callbacks.history.History at 0x7dbf8aa8efe0>"
            ]
          },
          "metadata": {},
          "execution_count": 25
        }
      ]
    },
    {
      "cell_type": "markdown",
      "source": [
        "## Bidirectional LSTM Application"
      ],
      "metadata": {
        "id": "7aJMcK4JZbFy"
      }
    },
    {
      "cell_type": "code",
      "source": [
        "class Bi_LSTM(Model):\n",
        "  def __init__(self, units1, units2, num_classes):\n",
        "    super(Bi_LSTM, self).__init__()\n",
        "\n",
        "    self.sequential = tf.keras.Sequential([\n",
        "        layers.LSTM(units1, return_sequences=True),\n",
        "        layers.BatchNormalization(),\n",
        "        layers.Bidirectional(layers.LSTM(units2)),\n",
        "        layers.BatchNormalization(),\n",
        "        layers.Dense(num_classes, activation=tf.nn.softmax)\n",
        "    ])\n",
        "  def call(self, x):\n",
        "    out = self.sequential(x)\n",
        "    return out"
      ],
      "metadata": {
        "id": "Unor3JhgyjrK"
      },
      "execution_count": 26,
      "outputs": []
    },
    {
      "cell_type": "code",
      "source": [
        "model = Bi_LSTM(units_1, units_2, num_classes)"
      ],
      "metadata": {
        "id": "mt5oDVtOZede"
      },
      "execution_count": 27,
      "outputs": []
    },
    {
      "cell_type": "code",
      "source": [
        "model.compile(optimizer='adam', loss=keras.losses.SparseCategoricalCrossentropy(), metrics=['accuracy'])"
      ],
      "metadata": {
        "id": "EvsAFj7EZgCQ"
      },
      "execution_count": 28,
      "outputs": []
    },
    {
      "cell_type": "code",
      "source": [
        "model.fit(x_train, y_train, validation_data = (x_test, y_test), batch_size=32, epochs=3)"
      ],
      "metadata": {
        "colab": {
          "base_uri": "https://localhost:8080/"
        },
        "id": "yi97UbQkZgE_",
        "outputId": "517fd3e6-21dd-460d-8c15-5dafcb9270fc"
      },
      "execution_count": 29,
      "outputs": [
        {
          "output_type": "stream",
          "name": "stdout",
          "text": [
            "Epoch 1/3\n",
            "\u001b[1m1875/1875\u001b[0m \u001b[32m━━━━━━━━━━━━━━━━━━━━\u001b[0m\u001b[37m\u001b[0m \u001b[1m437s\u001b[0m 230ms/step - accuracy: 0.8155 - loss: 0.5441 - val_accuracy: 0.9631 - val_loss: 0.1111\n",
            "Epoch 2/3\n",
            "\u001b[1m1875/1875\u001b[0m \u001b[32m━━━━━━━━━━━━━━━━━━━━\u001b[0m\u001b[37m\u001b[0m \u001b[1m427s\u001b[0m 228ms/step - accuracy: 0.9746 - loss: 0.0854 - val_accuracy: 0.9804 - val_loss: 0.0667\n",
            "Epoch 3/3\n",
            "\u001b[1m1875/1875\u001b[0m \u001b[32m━━━━━━━━━━━━━━━━━━━━\u001b[0m\u001b[37m\u001b[0m \u001b[1m444s\u001b[0m 229ms/step - accuracy: 0.9827 - loss: 0.0583 - val_accuracy: 0.9832 - val_loss: 0.0501\n"
          ]
        },
        {
          "output_type": "execute_result",
          "data": {
            "text/plain": [
              "<keras.src.callbacks.history.History at 0x7dbf80891210>"
            ]
          },
          "metadata": {},
          "execution_count": 29
        }
      ]
    }
  ]
}