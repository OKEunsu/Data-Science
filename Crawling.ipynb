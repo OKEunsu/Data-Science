{
  "nbformat": 4,
  "nbformat_minor": 0,
  "metadata": {
    "colab": {
      "provenance": [],
      "authorship_tag": "ABX9TyMKipVWmT5SMpaZEMZXsr9k"
    },
    "kernelspec": {
      "name": "python3",
      "display_name": "Python 3"
    },
    "language_info": {
      "name": "python"
    }
  },
  "cells": [
    {
      "cell_type": "markdown",
      "source": [
        "크롤링 : 소프트웨어를 사용해 웹상에서 정보를 찾아 특정 데이터베이스로 수집해 오는 작업 또는 기술\n",
        "\n",
        "## BeautifulSoup\n",
        "\n",
        "BeautifulSoup : 복잡한 웹페이지를 스크래핑하기 쉽도록 단순한 구조로 만들어주는 파이썬 라이브러리"
      ],
      "metadata": {
        "id": "I0GbPcwFNS3s"
      }
    },
    {
      "cell_type": "code",
      "execution_count": 8,
      "metadata": {
        "colab": {
          "base_uri": "https://localhost:8080/"
        },
        "id": "aIiYCsPHNAmY",
        "outputId": "dfaaea8b-4277-4d71-d7e7-dce5091d70ad"
      },
      "outputs": [
        {
          "name": "stdout",
          "output_type": "stream",
          "text": [
            "뉴스 기사 검색어 : 전세사기\n"
          ]
        }
      ],
      "source": [
        "# 패키지\n",
        "import requests\n",
        "from bs4 import BeautifulSoup\n",
        "\n",
        "#뉴스 기사 검색 키워드\n",
        "keyword = input('뉴스 기사 검색어 : ')\n",
        "url = f'https://search.naver.com/search.naver?where=news&sm=tab_jum&query={keyword}'\n",
        "\n",
        "news = requests.get(url)\n",
        "soup = BeautifulSoup(news.content, 'html.parser')"
      ]
    },
    {
      "cell_type": "code",
      "source": [
        "# a tag만 모아서 보기\n",
        "news = requests.get(url)\n",
        "soup = BeautifulSoup(news.content, 'html.parser')\n",
        "\n",
        "a = soup.find_all('a')\n",
        "a[:5]"
      ],
      "metadata": {
        "colab": {
          "base_uri": "https://localhost:8080/"
        },
        "id": "k48g_xjoNki5",
        "outputId": "97193f89-135e-4c55-cbd2-a3812f90c9d5"
      },
      "execution_count": 6,
      "outputs": [
        {
          "output_type": "execute_result",
          "data": {
            "text/plain": [
              "[<a href=\"#lnb\"><span>메뉴 영역으로 바로가기</span></a>,\n",
              " <a href=\"#content\"><span>본문 영역으로 바로가기</span></a>,\n",
              " <a class=\"link\" href=\"https://www.naver.com\" onclick=\"return goOtherCR(this, 'a=sta.naver&amp;r=&amp;i=&amp;u='+urlencode(this.href));\"><i class=\"spnew2 ico_logo\">NAVER</i></a>,\n",
              " <a aria-pressed=\"false\" class=\"bt_setkr\" href=\"#\" id=\"ke_kbd_btn\" onclick=\"return tCR('a=sch.ime');\" role=\"button\"> <i class=\"spnew2 ico_keyboard\">한글 입력기</i> <div class=\"guide_text\">입력도구</div> </a>,\n",
              " <a aria-pressed=\"false\" class=\"bt_atcp _btn_arw\" data-atcmp-element=\"\" href=\"#\" id=\"nautocomplete\" role=\"button\"><i class=\"spnew2 ico_arrow\">자동완성 레이어</i><div class=\"guide_text\">검색 레이어</div></a>]"
            ]
          },
          "metadata": {},
          "execution_count": 6
        }
      ]
    },
    {
      "cell_type": "code",
      "source": [
        "#a tag 아래에 .news_tit 이라는 클래스가 뉴스 제목임을 알 수 있다\n",
        "titles = soup.select('.news_tit')\n",
        "titles"
      ],
      "metadata": {
        "colab": {
          "base_uri": "https://localhost:8080/"
        },
        "id": "fk8Ay9c3NTTr",
        "outputId": "f8161421-590b-4e01-ed2a-05b8d1a154e4"
      },
      "execution_count": 4,
      "outputs": [
        {
          "output_type": "execute_result",
          "data": {
            "text/plain": [
              "[<a class=\"news_tit\" href=\"https://news.kmib.co.kr/article/view.asp?arcid=0019068856&amp;code=61121111&amp;cp=nv\" onclick=\"return goOtherCR(this, 'a=nws*h.tit&amp;r=1&amp;i=8800006F_000000000000000001667166&amp;g=005.0001667166&amp;u='+urlencode(this.href));\" target=\"_blank\" title=\"26억 전세사기의 죗값은 ‘징역 4년’…항소심도 솜방망이\">26억 <mark>전세사기</mark>의 죗값은 ‘징역 4년’…항소심도 솜방망이</a>,\n",
              " <a class=\"news_tit\" href=\"https://www.mk.co.kr/article/10921927\" onclick=\"return goOtherCR(this, 'a=nws*h.tit&amp;r=5&amp;i=880000BC_000000000000000005245194&amp;g=009.0005245194&amp;u='+urlencode(this.href));\" target=\"_blank\" title=\"“그 부동산 사장님도 한패였네”…전세사기 등 불법행위 무더기 적발\">“그 부동산 사장님도 한패였네”…<mark>전세사기</mark> 등 불법행위 무더기 적발</a>,\n",
              " <a class=\"news_tit\" href=\"http://www.newsis.com/view/?id=NISX20240115_0002592883&amp;cID=10401&amp;pID=10400\" onclick=\"return goOtherCR(this, 'a=nws*h.tit&amp;r=10&amp;i=88000127_000000000000000012320338&amp;g=003.0012320338&amp;u='+urlencode(this.href));\" target=\"_blank\" title='\"폐업한 부동산 간판 달고 무등록 중개\"…전세사기 중개사 대거 적발'>\"폐업한 부동산 간판 달고 무등록 중개\"…<mark>전세사기</mark> 중개사 대거 적발</a>,\n",
              " <a class=\"news_tit\" href=\"https://www.moneys.co.kr/article/2024011708221173493\" onclick=\"return goOtherCR(this, 'a=nws*h.tit&amp;r=15&amp;i=8812805E_000000000000000000975962&amp;g=417.0000975962&amp;u='+urlencode(this.href));\" target=\"_blank\" title=\"전세사기·고금리 우려에 '월세족' 늘었다… 경기 아파트 월세 비율 55%\"><mark>전세사기</mark>·고금리 우려에 '월세족' 늘었다… 경기 아파트 월세 비율 55%</a>,\n",
              " <a class=\"news_tit\" href=\"https://www.nocutnews.co.kr/news/6079207\" onclick=\"return goOtherCR(this, 'a=nws*h.tit&amp;r=17&amp;i=88000112_000000000000000003853313&amp;g=079.0003853313&amp;u='+urlencode(this.href));\" target=\"_blank\" title=\"'깡통전세 사기'에 '무등록 중개'…위법 중개사들 또 걸렸다\">'깡통<mark>전세 사기</mark>'에 '무등록 중개'…위법 중개사들 또 걸렸다</a>,\n",
              " <a class=\"news_tit\" href=\"https://www.yna.co.kr/view/AKR20240117031500052?input=1195m\" onclick=\"return goOtherCR(this, 'a=nws*a.tit&amp;r=22&amp;i=880000D8_000000000000000014448990&amp;g=001.0014448990&amp;u='+urlencode(this.href));\" target=\"_blank\" title=\"전세사기 예방…경남도, 공인중개사 점검해 위법행위 95건 적발\"><mark>전세사기</mark> 예방…경남도, 공인중개사 점검해 위법행위 95건 적발</a>,\n",
              " <a class=\"news_tit\" href=\"http://www.segye.com/newsView/20240116515210?OutUrl=naver\" onclick=\"return goOtherCR(this, 'a=nws*h.tit&amp;r=27&amp;i=880000D2_000000000000000003895401&amp;g=022.0003895401&amp;u='+urlencode(this.href));\" target=\"_blank\" title=\"‘전세사기 가담’ 공인중개사 429명 덜미\">‘<mark>전세사기</mark> 가담’ 공인중개사 429명 덜미</a>,\n",
              " <a class=\"news_tit\" href=\"https://biz.sbs.co.kr/article_hub/20000153046?division=NAVER\" onclick=\"return goOtherCR(this, 'a=nws*h.tit&amp;r=32&amp;i=8811AD97_000000000000000000366848&amp;g=374.0000366848&amp;u='+urlencode(this.href));\" target=\"_blank\" title=\"국가가 물어준 전세금 4조3천억원…이 돈 받을 수 있을까?\">국가가 물어준 <mark>전세</mark>금 4조3천억원…이 돈 받을 수 있을까?</a>,\n",
              " <a class=\"news_tit\" href=\"https://www.imaeil.com/page/view/2024011615592663570\" onclick=\"return goOtherCR(this, 'a=nws*h.tit&amp;r=37&amp;i=880000C1_000000000000000000857389&amp;g=088.0000857389&amp;u='+urlencode(this.href));\" target=\"_blank\" title=\"대구서 50억원대 '깡통전세' 사기 벌인 40대 징역 6년\">대구서 50억원대 '깡통<mark>전세</mark>' <mark>사기</mark> 벌인 40대 징역 6년</a>,\n",
              " <a class=\"news_tit\" href=\"https://view.asiae.co.kr/article/2024011707533972397\" onclick=\"return goOtherCR(this, 'a=nws*a.tit&amp;r=39&amp;i=88000385_000000000000000005368000&amp;g=277.0005368000&amp;u='+urlencode(this.href));\" target=\"_blank\" title=\"경기도, 올해 '전세사기' 등 부동산 범죄 엄중 수사\">경기도, 올해 '<mark>전세사기</mark>' 등 부동산 범죄 엄중 수사</a>]"
            ]
          },
          "metadata": {},
          "execution_count": 4
        }
      ]
    },
    {
      "cell_type": "code",
      "source": [
        "print(len(titles), '개의 뉴스가 검색되었습니다')\n",
        "print('')\n",
        "for title in titles:\n",
        "    print(title['title'])\n",
        "print()"
      ],
      "metadata": {
        "colab": {
          "base_uri": "https://localhost:8080/"
        },
        "id": "QqWKKw74Nnua",
        "outputId": "3385444c-6f0b-4ff1-c21e-047a1f94a2bf"
      },
      "execution_count": 5,
      "outputs": [
        {
          "output_type": "stream",
          "name": "stdout",
          "text": [
            "10 개의 뉴스가 검색되었습니다\n",
            "\n",
            "26억 전세사기의 죗값은 ‘징역 4년’…항소심도 솜방망이\n",
            "“그 부동산 사장님도 한패였네”…전세사기 등 불법행위 무더기 적발\n",
            "\"폐업한 부동산 간판 달고 무등록 중개\"…전세사기 중개사 대거 적발\n",
            "전세사기·고금리 우려에 '월세족' 늘었다… 경기 아파트 월세 비율 55%\n",
            "'깡통전세 사기'에 '무등록 중개'…위법 중개사들 또 걸렸다\n",
            "전세사기 예방…경남도, 공인중개사 점검해 위법행위 95건 적발\n",
            "‘전세사기 가담’ 공인중개사 429명 덜미\n",
            "국가가 물어준 전세금 4조3천억원…이 돈 받을 수 있을까?\n",
            "대구서 50억원대 '깡통전세' 사기 벌인 40대 징역 6년\n",
            "경기도, 올해 '전세사기' 등 부동산 범죄 엄중 수사\n",
            "\n"
          ]
        }
      ]
    },
    {
      "cell_type": "markdown",
      "source": [
        "## Selenium\n",
        "\n",
        "Selenium 웹 크롤링 라이브러리로, Webdriver API를 사용한다.\n",
        "\n",
        "이를 통해 운영체제에 설치한 크롬 등 브라우저를 직접 띄워 HTML을 가져오는 방식으로 볼 수 있기 때문에 직관적이고 편리하다."
      ],
      "metadata": {
        "id": "P-UeZ2p3OPg3"
      }
    },
    {
      "cell_type": "code",
      "source": [
        "# # packages\n",
        "# import pandas as pd\n",
        "# from selenium import webdriver\n",
        "# import time\n",
        "# import requests\n",
        "# from bs4 import BeautifulSoup\n",
        "\n",
        "# # 윤하 오르트 구름 유튜브 댓글 가져오기!\n",
        "# url = 'https://www.youtube.com/watch?v=oIRT3VfWVZ0'\n",
        "\n",
        "# #웹드라이버 가져오기\n",
        "# driver =  webdriver.Chrome(r'C:\\Temp1\\chromedriver_win32/chromedriver.exe')\n",
        "# driver.implicitly_wait(5) # 파싱하는데 걸리는 시간을 5로 주겠다\n",
        "# driver.get(url)\n",
        "\n",
        "# time.sleep(1.5)\n",
        "\n",
        "# driver.execute_script(\"window.scrollTo(0, 5757)\")\n",
        "# time.sleep(3) # 파싱하는데 걸리는 시간을 3초로 제한\n",
        "\n",
        "# #전체 스크롤의 크기 확인하기\n",
        "# last_height = driver.execute_script('return document.documentElement.scrollHeight')\n",
        "# last_height\n",
        "\n",
        "# #댓글 일부가 아니라 처음부터 끝까지 가져오자\n",
        "\n",
        "# #전체 스크롤의 크기 확인하기\n",
        "# last_height = driver.execute_script('return document.documentElement.scrollHeight')\n",
        "\n",
        "# #스크롤하다가 전체 스크롤의 크기와 같아지면 종료한다\n",
        "# while True:\n",
        "#     driver.execute_script('window.scrollTo(0, document.documentElement.scrollHeight);') #스크롤 끝까지 내리기\n",
        "#     time.sleep(3)\n",
        "#     now_height = driver.execute_script('return document.documentElement.scrollHeight') #다시 스크롤 크기 가져오기\n",
        "#     if now_height == last_height:\n",
        "#         break\n",
        "#     last_height = now_height\n",
        "\n",
        "# time.sleep(1.5)\n",
        "\n",
        "# reply_html = driver.page_source\n",
        "# soup = BeautifulSoup(reply_html, 'html.parser')\n",
        "\n",
        "# #크롬 개발자 도구를 활용해서 댓글 작성자 명(id)과 댓글 내용(contents)이 어디에 있는지 확인하자\n",
        "# #작성자 명은 headear-author인 div태그 안에 있는 a태그안에 들어있다\n",
        "# #댓글 내용은 content-text인 yt-formatted-string태그 안에 값이 들어있다\n",
        "\n",
        "# idlist = soup.select(\"div#header-author > h3 > #author-text > span\")\n",
        "# comment = soup.select(\"yt-formatted-string#content-text\")\n",
        "\n",
        "# #가져온 내용 확인하기\n",
        "# for i in range(len(idlist)):\n",
        "#     print(idlist[i].text ,comment[i].text)\n",
        "\n",
        "# # 전처리\n",
        "# id_new = []\n",
        "# comment_new = []\n",
        "\n",
        "# for i in range(len(idlist)):\n",
        "#     cln_id = idlist[i].text #태그 빼고 글만 보기\n",
        "#     cln_id = cln_id.replace('\\n', '')\n",
        "#     cln_id = cln_id.replace('\\t', '')\n",
        "#     cln_id = cln_id.replace('    ', '')\n",
        "#     id_new.append(cln_id)\n",
        "\n",
        "#     cln_comment = comment[i].text\n",
        "#     cln_comment = cln_comment.replace('\\n', '')\n",
        "#     cln_comment = cln_comment.replace('\\t', '')\n",
        "#     cln_comment = cln_comment.replace('    ', '')\n",
        "#     comment_new.append(cln_comment)\n",
        "\n",
        "# #가져온 내용 확인하기\n",
        "# for i in range(len(id_new)):\n",
        "#     print(id_new[i], comment_new[i])\n",
        "\n",
        "# #Dataframe 안에 넣어서 쓸수 있게 만들어주기\n",
        "# df = {\"ID\":id_new, \"Comment\":comment_new}\n",
        "# drive_df = pd.DataFrame(df)\n",
        "\n",
        "# drive_df.head()"
      ],
      "metadata": {
        "id": "JOS9ai9uOQDt"
      },
      "execution_count": null,
      "outputs": []
    }
  ]
}