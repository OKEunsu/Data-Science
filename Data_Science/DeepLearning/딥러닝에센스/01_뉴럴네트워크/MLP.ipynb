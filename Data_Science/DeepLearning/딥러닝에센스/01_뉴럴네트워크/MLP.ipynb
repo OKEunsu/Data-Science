{
  "nbformat": 4,
  "nbformat_minor": 0,
  "metadata": {
    "colab": {
      "provenance": [],
      "toc_visible": true,
      "authorship_tag": "ABX9TyON7t2GlZQ9NyDIQ0Lw/AoU"
    },
    "kernelspec": {
      "name": "python3",
      "display_name": "Python 3"
    },
    "language_info": {
      "name": "python"
    }
  },
  "cells": [
    {
      "cell_type": "markdown",
      "source": [
        "# 1. Pytorch 기본"
      ],
      "metadata": {
        "id": "u_pHvtI8QtEr"
      }
    },
    {
      "cell_type": "code",
      "execution_count": null,
      "metadata": {
        "id": "btFYy5RnvYf4",
        "colab": {
          "base_uri": "https://localhost:8080/"
        },
        "outputId": "47ce3550-d89e-4798-8af9-b4c07025b71e"
      },
      "outputs": [
        {
          "output_type": "stream",
          "name": "stdout",
          "text": [
            "2.4.1+cu121\n"
          ]
        }
      ],
      "source": [
        "import torch\n",
        "\n",
        "print(torch.__version__) # 토치 버젼"
      ]
    },
    {
      "cell_type": "code",
      "source": [
        "# Tensor 초기화\n",
        "x = [[0, 1], [2,3]]\n",
        "\n",
        "print('x:',x)\n",
        "print('type:',type(x))"
      ],
      "metadata": {
        "id": "pS-onYk-z155",
        "colab": {
          "base_uri": "https://localhost:8080/"
        },
        "outputId": "323ab993-4def-45b3-b8ba-3b8b1b89c3bb"
      },
      "execution_count": null,
      "outputs": [
        {
          "output_type": "stream",
          "name": "stdout",
          "text": [
            "x: [[0, 1], [2, 3]]\n",
            "type: <class 'list'>\n"
          ]
        }
      ]
    },
    {
      "cell_type": "code",
      "source": [
        "# 텐서\n",
        "x_tensor = torch.tensor(x)\n",
        "print('x_tensor:',x_tensor)\n",
        "print('type:',type(x_tensor))"
      ],
      "metadata": {
        "id": "lQeQotpw_suI",
        "colab": {
          "base_uri": "https://localhost:8080/"
        },
        "outputId": "2e9166b6-020f-4d38-a8b2-42eb6af48dab"
      },
      "execution_count": null,
      "outputs": [
        {
          "output_type": "stream",
          "name": "stdout",
          "text": [
            "x_tensor: tensor([[0, 1],\n",
            "        [2, 3]])\n",
            "type: <class 'torch.Tensor'>\n"
          ]
        }
      ]
    },
    {
      "cell_type": "code",
      "source": [
        "import numpy as np\n",
        "x_numpy = np.array(x)\n",
        "print('x_numpy shape :',type(x_numpy))\n",
        "\n",
        "# numpy -> tensor : from_numpy\n",
        "numpy_to_tensor = torch.from_numpy(x_numpy)\n",
        "print('numpy_to_tensor shape :',type(numpy_to_tensor))"
      ],
      "metadata": {
        "id": "ZQ1rMqHQBgFu",
        "colab": {
          "base_uri": "https://localhost:8080/"
        },
        "outputId": "a116fb45-0dae-4950-f0dc-bf1d85f91e2c"
      },
      "execution_count": null,
      "outputs": [
        {
          "output_type": "stream",
          "name": "stdout",
          "text": [
            "x_numpy shape : <class 'numpy.ndarray'>\n",
            "numpy_to_tensor shape : <class 'torch.Tensor'>\n"
          ]
        }
      ]
    },
    {
      "cell_type": "code",
      "source": [
        "# [0, 1) 범위에서 균등하게 분포된 랜덤 숫자를 생성\n",
        "rand_tensor = torch.rand(2,2)\n",
        "print(rand_tensor.shape)\n",
        "print(rand_tensor)"
      ],
      "metadata": {
        "id": "JuFWjv6tEAYl",
        "colab": {
          "base_uri": "https://localhost:8080/"
        },
        "outputId": "92c1fe88-d6c7-448e-d48f-2b3876b742de"
      },
      "execution_count": null,
      "outputs": [
        {
          "output_type": "stream",
          "name": "stdout",
          "text": [
            "torch.Size([2, 2])\n",
            "tensor([[0.5798, 0.1959],\n",
            "        [0.8237, 0.3647]])\n"
          ]
        }
      ]
    },
    {
      "cell_type": "code",
      "source": [
        "# 0인 배열 생성\n",
        "tensor_zero = torch.zeros(3,3)\n",
        "tensor_zero"
      ],
      "metadata": {
        "colab": {
          "base_uri": "https://localhost:8080/"
        },
        "id": "9ScickXYBQx4",
        "outputId": "7c036708-23aa-45d6-e830-070df774a967"
      },
      "execution_count": null,
      "outputs": [
        {
          "output_type": "execute_result",
          "data": {
            "text/plain": [
              "tensor([[0., 0., 0.],\n",
              "        [0., 0., 0.],\n",
              "        [0., 0., 0.]])"
            ]
          },
          "metadata": {},
          "execution_count": 9
        }
      ]
    },
    {
      "cell_type": "code",
      "source": [
        "# 1인 배열 생성\n",
        "tensor_one = torch.ones(3,3)\n",
        "tensor_one"
      ],
      "metadata": {
        "colab": {
          "base_uri": "https://localhost:8080/"
        },
        "id": "0U53K1mSB5-x",
        "outputId": "202aa06e-9318-4939-8287-e3ed569114c5"
      },
      "execution_count": null,
      "outputs": [
        {
          "output_type": "execute_result",
          "data": {
            "text/plain": [
              "tensor([[1., 1., 1.],\n",
              "        [1., 1., 1.],\n",
              "        [1., 1., 1.]])"
            ]
          },
          "metadata": {},
          "execution_count": 10
        }
      ]
    },
    {
      "cell_type": "code",
      "source": [
        "# 텐서 배열 생성\n",
        "x_tensor = torch.tensor([[1,2,3],[4,5,6]])\n",
        "x_tensor"
      ],
      "metadata": {
        "colab": {
          "base_uri": "https://localhost:8080/"
        },
        "id": "GYW_l6TtB9MS",
        "outputId": "03b307da-f19e-40dc-c6c3-fc441bfa04b4"
      },
      "execution_count": null,
      "outputs": [
        {
          "output_type": "execute_result",
          "data": {
            "text/plain": [
              "tensor([[1, 2, 3],\n",
              "        [4, 5, 6]])"
            ]
          },
          "metadata": {},
          "execution_count": 11
        }
      ]
    },
    {
      "cell_type": "markdown",
      "source": [
        "## 텐서 배열 인덱싱"
      ],
      "metadata": {
        "id": "M813JOetXD39"
      }
    },
    {
      "cell_type": "code",
      "source": [
        "# 0인 행\n",
        "x_tensor[0]"
      ],
      "metadata": {
        "colab": {
          "base_uri": "https://localhost:8080/"
        },
        "id": "_jGG066WCTEY",
        "outputId": "b8562661-26b2-4843-af99-dc83617a51b4"
      },
      "execution_count": null,
      "outputs": [
        {
          "output_type": "execute_result",
          "data": {
            "text/plain": [
              "tensor([1, 2, 3])"
            ]
          },
          "metadata": {},
          "execution_count": 12
        }
      ]
    },
    {
      "cell_type": "code",
      "source": [
        "# 1인 행\n",
        "x_tensor[1]"
      ],
      "metadata": {
        "colab": {
          "base_uri": "https://localhost:8080/"
        },
        "id": "HwXnBhidCUM_",
        "outputId": "4629938d-1a65-4bff-ede0-d20ed3ae8857"
      },
      "execution_count": null,
      "outputs": [
        {
          "output_type": "execute_result",
          "data": {
            "text/plain": [
              "tensor([4, 5, 6])"
            ]
          },
          "metadata": {},
          "execution_count": 13
        }
      ]
    },
    {
      "cell_type": "code",
      "source": [
        "# 마짐가 행, 모든 열\n",
        "x_tensor[-1,:]"
      ],
      "metadata": {
        "colab": {
          "base_uri": "https://localhost:8080/"
        },
        "id": "cU-tmlrvCXbf",
        "outputId": "50c0b3b2-7fa7-4f3b-9aa4-bb29b7ef5efc"
      },
      "execution_count": null,
      "outputs": [
        {
          "output_type": "execute_result",
          "data": {
            "text/plain": [
              "tensor([4, 5, 6])"
            ]
          },
          "metadata": {},
          "execution_count": 14
        }
      ]
    },
    {
      "cell_type": "code",
      "source": [
        "print('first column:', x_tensor[:,0])\n",
        "print('second column:', x_tensor[:,1])\n",
        "print('last column:', x_tensor[:,2])\n",
        "print('last column:', x_tensor[:,-1])\n",
        "print('second row, last column:', x_tensor[1,-1])"
      ],
      "metadata": {
        "colab": {
          "base_uri": "https://localhost:8080/"
        },
        "id": "yAEbaWKmCaXA",
        "outputId": "3b876f22-3ed3-44cf-a3cf-878e5ce56dda"
      },
      "execution_count": null,
      "outputs": [
        {
          "output_type": "stream",
          "name": "stdout",
          "text": [
            "first column: tensor([1, 4])\n",
            "second column: tensor([2, 5])\n",
            "last column: tensor([3, 6])\n",
            "last column: tensor([3, 6])\n",
            "second row, last column: tensor(6)\n"
          ]
        }
      ]
    },
    {
      "cell_type": "markdown",
      "source": [
        "## 값 변경"
      ],
      "metadata": {
        "id": "sOB4WZ7QXYS7"
      }
    },
    {
      "cell_type": "code",
      "source": [
        "print('x_tensor before:\\n', x_tensor)\n",
        "x_tensor[1,1] = 0\n",
        "print('\\nx_tensor after:\\n', x_tensor)"
      ],
      "metadata": {
        "colab": {
          "base_uri": "https://localhost:8080/"
        },
        "id": "q_41jtLGDGyJ",
        "outputId": "9c15c0df-4fb9-4881-bf1d-9234ae09ffed"
      },
      "execution_count": null,
      "outputs": [
        {
          "output_type": "stream",
          "name": "stdout",
          "text": [
            "x_tensor before:\n",
            " tensor([[1, 2, 3],\n",
            "        [4, 5, 6]])\n",
            "\n",
            "x_tensor after:\n",
            " tensor([[1, 2, 3],\n",
            "        [4, 0, 6]])\n"
          ]
        }
      ]
    },
    {
      "cell_type": "code",
      "source": [
        "# 행 값 변경\n",
        "x_tensor = torch.tensor([[1,2,3],[4,5,6]])\n",
        "x_tensor[1] = 0\n",
        "x_tensor"
      ],
      "metadata": {
        "colab": {
          "base_uri": "https://localhost:8080/"
        },
        "id": "kvj5RiLTDUHB",
        "outputId": "db99ee6f-6667-4cba-d8e9-ad9ce7ed0258"
      },
      "execution_count": null,
      "outputs": [
        {
          "output_type": "execute_result",
          "data": {
            "text/plain": [
              "tensor([[1, 2, 3],\n",
              "        [0, 0, 0]])"
            ]
          },
          "metadata": {},
          "execution_count": 14
        }
      ]
    },
    {
      "cell_type": "code",
      "source": [
        "x_tensor = torch.tensor([[1,2,3],[4,5,6]])\n",
        "\n",
        "concatenated_dim0 = torch.cat([x_tensor, x_tensor], dim=0) # cat : concate, dim : 0 -> 밑 행 방향 1 -> 옆 열 방향\n",
        "concatenated_dim0"
      ],
      "metadata": {
        "colab": {
          "base_uri": "https://localhost:8080/"
        },
        "id": "yGDSjbZbDmag",
        "outputId": "14b7fc72-7107-475b-b2aa-e8b44c64e25e"
      },
      "execution_count": null,
      "outputs": [
        {
          "output_type": "execute_result",
          "data": {
            "text/plain": [
              "tensor([[1, 2, 3],\n",
              "        [4, 5, 6],\n",
              "        [1, 2, 3],\n",
              "        [4, 5, 6]])"
            ]
          },
          "metadata": {},
          "execution_count": 15
        }
      ]
    },
    {
      "cell_type": "code",
      "source": [
        "concatenated_dim0.shape"
      ],
      "metadata": {
        "colab": {
          "base_uri": "https://localhost:8080/"
        },
        "id": "1ZpWKncrEEst",
        "outputId": "3c807521-891b-4f2f-ef3b-ef45eb8e5584"
      },
      "execution_count": null,
      "outputs": [
        {
          "output_type": "execute_result",
          "data": {
            "text/plain": [
              "torch.Size([4, 3])"
            ]
          },
          "metadata": {},
          "execution_count": 16
        }
      ]
    },
    {
      "cell_type": "code",
      "source": [
        "concatenated_dim1 = torch.cat([x_tensor, x_tensor], dim=1)\n",
        "concatenated_dim1"
      ],
      "metadata": {
        "colab": {
          "base_uri": "https://localhost:8080/"
        },
        "id": "OVim9_jND9Ri",
        "outputId": "67979fd8-b46e-4c40-f678-ba2c08744778"
      },
      "execution_count": null,
      "outputs": [
        {
          "output_type": "execute_result",
          "data": {
            "text/plain": [
              "tensor([[1, 2, 3, 1, 2, 3],\n",
              "        [4, 5, 6, 4, 5, 6]])"
            ]
          },
          "metadata": {},
          "execution_count": 17
        }
      ]
    },
    {
      "cell_type": "code",
      "source": [
        "concatenated_dim1.shape"
      ],
      "metadata": {
        "colab": {
          "base_uri": "https://localhost:8080/"
        },
        "id": "Q5VSVRErEJLc",
        "outputId": "9819e776-6fde-4e05-f777-7200a42fa361"
      },
      "execution_count": null,
      "outputs": [
        {
          "output_type": "execute_result",
          "data": {
            "text/plain": [
              "torch.Size([2, 6])"
            ]
          },
          "metadata": {},
          "execution_count": 18
        }
      ]
    },
    {
      "cell_type": "markdown",
      "source": [
        "## 배열 변경"
      ],
      "metadata": {
        "id": "DwgMw1YMYIvr"
      }
    },
    {
      "cell_type": "code",
      "source": [
        "print('2행 3열을 -> 3행 2열로')\n",
        "x_tensor.reshape(3,2)"
      ],
      "metadata": {
        "colab": {
          "base_uri": "https://localhost:8080/"
        },
        "id": "u3Pe8NPBEfVX",
        "outputId": "60742e86-0071-4c69-884e-3c64b4549d4d"
      },
      "execution_count": null,
      "outputs": [
        {
          "output_type": "stream",
          "name": "stdout",
          "text": [
            "2행 3열을 -> 3행 2열로\n"
          ]
        },
        {
          "output_type": "execute_result",
          "data": {
            "text/plain": [
              "tensor([[1, 2],\n",
              "        [3, 4],\n",
              "        [5, 6]])"
            ]
          },
          "metadata": {},
          "execution_count": 19
        }
      ]
    },
    {
      "cell_type": "code",
      "source": [
        "x_tensor_reshaped = x_tensor.reshape(3,2)\n",
        "x_tensor_reshaped"
      ],
      "metadata": {
        "colab": {
          "base_uri": "https://localhost:8080/"
        },
        "id": "N-CTRi2KEkkS",
        "outputId": "35fe2cc7-3d1e-4603-b505-534fd2cde16b"
      },
      "execution_count": null,
      "outputs": [
        {
          "output_type": "execute_result",
          "data": {
            "text/plain": [
              "tensor([[1, 2],\n",
              "        [3, 4],\n",
              "        [5, 6]])"
            ]
          },
          "metadata": {},
          "execution_count": 20
        }
      ]
    },
    {
      "cell_type": "code",
      "source": [
        "x_tensor_reshaped2 = x_tensor_reshaped.view(2,3)\n",
        "x_tensor_reshaped2"
      ],
      "metadata": {
        "colab": {
          "base_uri": "https://localhost:8080/"
        },
        "id": "umSFfpkFE6X4",
        "outputId": "128507f1-b9ff-464e-ab32-5fce8232a4d5"
      },
      "execution_count": null,
      "outputs": [
        {
          "output_type": "execute_result",
          "data": {
            "text/plain": [
              "tensor([[1, 2, 3],\n",
              "        [4, 5, 6]])"
            ]
          },
          "metadata": {},
          "execution_count": 21
        }
      ]
    },
    {
      "cell_type": "markdown",
      "source": [
        "## 배열 사칙연산"
      ],
      "metadata": {
        "id": "-ZBBpAhQYRR5"
      }
    },
    {
      "cell_type": "code",
      "source": [
        "mat_mul = x_tensor.matmul(x_tensor.T) # 곱하기 (2*3) * (3,2) = 2*2 배열\n",
        "mat_mul"
      ],
      "metadata": {
        "colab": {
          "base_uri": "https://localhost:8080/"
        },
        "id": "gJkEGtJoFFTR",
        "outputId": "3590e702-cc3b-4ba1-cbbf-75f1ead0703a"
      },
      "execution_count": null,
      "outputs": [
        {
          "output_type": "execute_result",
          "data": {
            "text/plain": [
              "tensor([[14, 32],\n",
              "        [32, 77]])"
            ]
          },
          "metadata": {},
          "execution_count": 22
        }
      ]
    },
    {
      "cell_type": "code",
      "source": [
        "mat_mul.shape"
      ],
      "metadata": {
        "colab": {
          "base_uri": "https://localhost:8080/"
        },
        "id": "el9LMBgpFnMv",
        "outputId": "e0a8997a-1542-497c-8088-2e7530e57ba8"
      },
      "execution_count": null,
      "outputs": [
        {
          "output_type": "execute_result",
          "data": {
            "text/plain": [
              "torch.Size([2, 2])"
            ]
          },
          "metadata": {},
          "execution_count": 23
        }
      ]
    },
    {
      "cell_type": "code",
      "source": [
        "element_product = x_tensor * x_tensor # 제곱\n",
        "element_product"
      ],
      "metadata": {
        "colab": {
          "base_uri": "https://localhost:8080/"
        },
        "id": "21pTxY7JFtPY",
        "outputId": "27e7bc60-f5b4-40dd-89f4-1d48cf8d9596"
      },
      "execution_count": null,
      "outputs": [
        {
          "output_type": "execute_result",
          "data": {
            "text/plain": [
              "tensor([[ 1,  4,  9],\n",
              "        [16, 25, 36]])"
            ]
          },
          "metadata": {},
          "execution_count": 24
        }
      ]
    },
    {
      "cell_type": "code",
      "source": [
        "element_product2 = x_tensor.mul(x_tensor) # 제곱\n",
        "element_product2"
      ],
      "metadata": {
        "colab": {
          "base_uri": "https://localhost:8080/"
        },
        "id": "gx3dU5CwFxvA",
        "outputId": "e4e74563-66ec-4856-cef5-8e8389dead6f"
      },
      "execution_count": null,
      "outputs": [
        {
          "output_type": "execute_result",
          "data": {
            "text/plain": [
              "tensor([[ 1,  4,  9],\n",
              "        [16, 25, 36]])"
            ]
          },
          "metadata": {},
          "execution_count": 25
        }
      ]
    },
    {
      "cell_type": "code",
      "source": [
        "x_tensor.sum() # 더하기"
      ],
      "metadata": {
        "colab": {
          "base_uri": "https://localhost:8080/"
        },
        "id": "YmDaJjrpF7lh",
        "outputId": "b6650105-99b2-453f-db59-379254c33c9c"
      },
      "execution_count": null,
      "outputs": [
        {
          "output_type": "execute_result",
          "data": {
            "text/plain": [
              "tensor(21)"
            ]
          },
          "metadata": {},
          "execution_count": 26
        }
      ]
    },
    {
      "cell_type": "code",
      "source": [
        "x_tensor.sum().item() # 값만 가져오기"
      ],
      "metadata": {
        "colab": {
          "base_uri": "https://localhost:8080/"
        },
        "id": "pDwHn7t-GAZE",
        "outputId": "36efdce6-1eec-42cd-b5a5-18bd4bcc8264"
      },
      "execution_count": null,
      "outputs": [
        {
          "output_type": "execute_result",
          "data": {
            "text/plain": [
              "21"
            ]
          },
          "metadata": {},
          "execution_count": 56
        }
      ]
    },
    {
      "cell_type": "markdown",
      "source": [
        "## 데이터"
      ],
      "metadata": {
        "id": "hyq7LDaOYgnS"
      }
    },
    {
      "cell_type": "code",
      "source": [
        "import torch\n",
        "from torch.utils.data import DataLoader\n",
        "from torchvision import datasets, transforms\n",
        "import matplotlib.pyplot as plt"
      ],
      "metadata": {
        "id": "_HoXuvTtbp_M"
      },
      "execution_count": null,
      "outputs": []
    },
    {
      "cell_type": "code",
      "source": [
        "train_data = datasets.MNIST(\n",
        "    root=\"data\",\n",
        "    train=True,\n",
        "    download=True,\n",
        "    transform=transforms.ToTensor(),\n",
        ")\n",
        "\n",
        "# 공개 데이터셋에서 테스트 데이터를 내려받습니다.\n",
        "test_data = datasets.MNIST(\n",
        "    root=\"data\",\n",
        "    train=False,\n",
        "    download=True,\n",
        "    transform=transforms.ToTensor(),\n",
        ")"
      ],
      "metadata": {
        "colab": {
          "base_uri": "https://localhost:8080/"
        },
        "id": "cbXfUOoRbrGl",
        "outputId": "71453167-0b92-42f5-a23d-ab777a05076e"
      },
      "execution_count": null,
      "outputs": [
        {
          "output_type": "stream",
          "name": "stdout",
          "text": [
            "Downloading http://yann.lecun.com/exdb/mnist/train-images-idx3-ubyte.gz\n",
            "Failed to download (trying next):\n",
            "<urlopen error [SSL: CERTIFICATE_VERIFY_FAILED] certificate verify failed: certificate has expired (_ssl.c:1007)>\n",
            "\n",
            "Downloading https://ossci-datasets.s3.amazonaws.com/mnist/train-images-idx3-ubyte.gz\n",
            "Downloading https://ossci-datasets.s3.amazonaws.com/mnist/train-images-idx3-ubyte.gz to data/MNIST/raw/train-images-idx3-ubyte.gz\n"
          ]
        },
        {
          "output_type": "stream",
          "name": "stderr",
          "text": [
            "100%|██████████| 9912422/9912422 [00:01<00:00, 5635867.67it/s] \n"
          ]
        },
        {
          "output_type": "stream",
          "name": "stdout",
          "text": [
            "Extracting data/MNIST/raw/train-images-idx3-ubyte.gz to data/MNIST/raw\n",
            "\n",
            "Downloading http://yann.lecun.com/exdb/mnist/train-labels-idx1-ubyte.gz\n",
            "Failed to download (trying next):\n",
            "<urlopen error [SSL: CERTIFICATE_VERIFY_FAILED] certificate verify failed: certificate has expired (_ssl.c:1007)>\n",
            "\n",
            "Downloading https://ossci-datasets.s3.amazonaws.com/mnist/train-labels-idx1-ubyte.gz\n",
            "Downloading https://ossci-datasets.s3.amazonaws.com/mnist/train-labels-idx1-ubyte.gz to data/MNIST/raw/train-labels-idx1-ubyte.gz\n"
          ]
        },
        {
          "output_type": "stream",
          "name": "stderr",
          "text": [
            "100%|██████████| 28881/28881 [00:00<00:00, 162719.25it/s]\n"
          ]
        },
        {
          "output_type": "stream",
          "name": "stdout",
          "text": [
            "Extracting data/MNIST/raw/train-labels-idx1-ubyte.gz to data/MNIST/raw\n",
            "\n",
            "Downloading http://yann.lecun.com/exdb/mnist/t10k-images-idx3-ubyte.gz\n",
            "Failed to download (trying next):\n",
            "<urlopen error [SSL: CERTIFICATE_VERIFY_FAILED] certificate verify failed: certificate has expired (_ssl.c:1007)>\n",
            "\n",
            "Downloading https://ossci-datasets.s3.amazonaws.com/mnist/t10k-images-idx3-ubyte.gz\n",
            "Downloading https://ossci-datasets.s3.amazonaws.com/mnist/t10k-images-idx3-ubyte.gz to data/MNIST/raw/t10k-images-idx3-ubyte.gz\n"
          ]
        },
        {
          "output_type": "stream",
          "name": "stderr",
          "text": [
            "100%|██████████| 1648877/1648877 [00:01<00:00, 1559989.70it/s]\n"
          ]
        },
        {
          "output_type": "stream",
          "name": "stdout",
          "text": [
            "Extracting data/MNIST/raw/t10k-images-idx3-ubyte.gz to data/MNIST/raw\n",
            "\n",
            "Downloading http://yann.lecun.com/exdb/mnist/t10k-labels-idx1-ubyte.gz\n",
            "Failed to download (trying next):\n",
            "<urlopen error [SSL: CERTIFICATE_VERIFY_FAILED] certificate verify failed: certificate has expired (_ssl.c:1007)>\n",
            "\n",
            "Downloading https://ossci-datasets.s3.amazonaws.com/mnist/t10k-labels-idx1-ubyte.gz\n",
            "Downloading https://ossci-datasets.s3.amazonaws.com/mnist/t10k-labels-idx1-ubyte.gz to data/MNIST/raw/t10k-labels-idx1-ubyte.gz\n"
          ]
        },
        {
          "output_type": "stream",
          "name": "stderr",
          "text": [
            "100%|██████████| 4542/4542 [00:00<00:00, 1587941.05it/s]"
          ]
        },
        {
          "output_type": "stream",
          "name": "stdout",
          "text": [
            "Extracting data/MNIST/raw/t10k-labels-idx1-ubyte.gz to data/MNIST/raw\n",
            "\n"
          ]
        },
        {
          "output_type": "stream",
          "name": "stderr",
          "text": [
            "\n"
          ]
        }
      ]
    },
    {
      "cell_type": "code",
      "source": [
        "train_loader = DataLoader(train_data, batch_size=128, shuffle=True) # 무작위, 배치 사이즈 = 128\n",
        "test_loader = DataLoader(test_data, batch_size=128, shuffle=False)"
      ],
      "metadata": {
        "id": "QDhZ7Gf-b8fA"
      },
      "execution_count": null,
      "outputs": []
    },
    {
      "cell_type": "code",
      "source": [
        "# 첫번째 그룹 가져오기\n",
        "data_iteration = iter(train_loader)\n",
        "images, labels = next(data_iteration)"
      ],
      "metadata": {
        "id": "wmbRFLe8cdPb"
      },
      "execution_count": null,
      "outputs": []
    },
    {
      "cell_type": "code",
      "source": [
        "print(images.shape)\n",
        "print(labels.shape)"
      ],
      "metadata": {
        "colab": {
          "base_uri": "https://localhost:8080/"
        },
        "id": "0LsobW2lci7A",
        "outputId": "798410ea-066f-4c4c-bda9-e56df9829656"
      },
      "execution_count": null,
      "outputs": [
        {
          "output_type": "stream",
          "name": "stdout",
          "text": [
            "torch.Size([128, 1, 28, 28])\n",
            "torch.Size([128])\n"
          ]
        }
      ]
    },
    {
      "cell_type": "code",
      "source": [
        "plt.imshow(images[0].reshape(28,28), cmap='gray')\n",
        "plt.show()"
      ],
      "metadata": {
        "colab": {
          "base_uri": "https://localhost:8080/",
          "height": 430
        },
        "id": "2qqT_zM4cxsM",
        "outputId": "a4b4e6bf-5077-4880-f219-5c4bc84abd79"
      },
      "execution_count": null,
      "outputs": [
        {
          "output_type": "display_data",
          "data": {
            "text/plain": [
              "<Figure size 640x480 with 1 Axes>"
            ],
            "image/png": "[encoded data removed]"
          },
          "metadata": {}
        }
      ]
    },
    {
      "cell_type": "code",
      "source": [
        "train_data = datasets.CIFAR10(\n",
        "    root=\"data\",\n",
        "    train=True,\n",
        "    download=True,\n",
        "    transform=transforms.ToTensor()\n",
        ")\n",
        "\n",
        "test_data = datasets.CIFAR10(\n",
        "    root=\"data\",\n",
        "    train=False,\n",
        "    download=True,\n",
        "    transform=transforms.ToTensor()\n",
        ")"
      ],
      "metadata": {
        "colab": {
          "base_uri": "https://localhost:8080/"
        },
        "id": "nDNin_AqdPqm",
        "outputId": "b79bf010-2433-49a9-d244-43d7f6823e12"
      },
      "execution_count": null,
      "outputs": [
        {
          "output_type": "stream",
          "name": "stdout",
          "text": [
            "Downloading https://www.cs.toronto.edu/~kriz/cifar-10-python.tar.gz to data/cifar-10-python.tar.gz\n"
          ]
        },
        {
          "output_type": "stream",
          "name": "stderr",
          "text": [
            "100%|██████████| 170498071/170498071 [00:10<00:00, 15609147.40it/s]\n"
          ]
        },
        {
          "output_type": "stream",
          "name": "stdout",
          "text": [
            "Extracting data/cifar-10-python.tar.gz to data\n",
            "Files already downloaded and verified\n"
          ]
        }
      ]
    },
    {
      "cell_type": "code",
      "source": [
        "train_loader = DataLoader(train_data, batch_size=64, shuffle=True)\n",
        "test_loader = DataLoader(test_data, batch_size=64, shuffle=False)"
      ],
      "metadata": {
        "id": "lL5ScLHKdRiv"
      },
      "execution_count": null,
      "outputs": []
    },
    {
      "cell_type": "code",
      "source": [
        "data_iteration = iter(train_loader)\n",
        "images, labels = next(data_iteration)\n",
        "\n",
        "print(images.shape)\n",
        "print(labels.shape)"
      ],
      "metadata": {
        "id": "u0vAQsNNdc6Y",
        "colab": {
          "base_uri": "https://localhost:8080/"
        },
        "outputId": "c4ca2994-f187-48c4-c4da-9635fb8f1741"
      },
      "execution_count": null,
      "outputs": [
        {
          "output_type": "stream",
          "name": "stdout",
          "text": [
            "torch.Size([64, 3, 32, 32])\n",
            "torch.Size([64])\n"
          ]
        }
      ]
    },
    {
      "cell_type": "code",
      "source": [
        "plt.imshow(np.transpose(images[0].numpy(), (1,2,0)))\n",
        "print(images[5].shape)\n",
        "print(labels[5])"
      ],
      "metadata": {
        "colab": {
          "base_uri": "https://localhost:8080/",
          "height": 467
        },
        "id": "twafcTojde0R",
        "outputId": "ef7afcbf-823f-403d-ad10-9b780f65fa51"
      },
      "execution_count": null,
      "outputs": [
        {
          "output_type": "stream",
          "name": "stdout",
          "text": [
            "torch.Size([3, 32, 32])\n",
            "tensor(7)\n"
          ]
        },
        {
          "output_type": "display_data",
          "data": {
            "text/plain": [
              "<Figure size 640x480 with 1 Axes>"
            ],
            "image/png": "[encoded data removed]"
          },
          "metadata": {}
        }
      ]
    },
    {
      "cell_type": "markdown",
      "source": [
        "## Custom 데이터 로더 만들기"
      ],
      "metadata": {
        "id": "AjELm3pIZagM"
      }
    },
    {
      "cell_type": "code",
      "source": [
        "import torch\n",
        "from torch.utils.data import Dataset, DataLoader\n",
        "import pandas as pd"
      ],
      "metadata": {
        "id": "LrSBfeTQeKE5"
      },
      "execution_count": null,
      "outputs": []
    },
    {
      "cell_type": "code",
      "source": [
        "class My_Dataset(Dataset):\n",
        "    def __init__(self, data, labels):\n",
        "        self.data = data\n",
        "        self.labels = labels\n",
        "\n",
        "    def __len__(self):\n",
        "        return len(self.labels)\n",
        "\n",
        "    def __getitem__(self, idx):\n",
        "        data = self.data[idx]\n",
        "        label = self.labels[idx]\n",
        "        sample = {\"Data\": data, \"Class\": label}\n",
        "        return sample"
      ],
      "metadata": {
        "id": "tGDKHtzsepCS"
      },
      "execution_count": null,
      "outputs": []
    },
    {
      "cell_type": "code",
      "source": [
        "# 데이터와 label 정의\n",
        "data = ['New York', 'Boston', 'California', 'Boston', 'New York']\n",
        "labels = [1, 2, 3, 2, 1]\n",
        "\n",
        "# Pandas형태의 DataFrame 정의\n",
        "Data_frame = pd.DataFrame({'Data': data, 'Labels': labels})\n",
        "\n",
        "# Dataset class 정의\n",
        "Data = My_Dataset(Data_frame['Data'],\n",
        "                  Data_frame['Labels'])"
      ],
      "metadata": {
        "id": "GyU6IfDIfZlz"
      },
      "execution_count": null,
      "outputs": []
    },
    {
      "cell_type": "code",
      "source": [
        "# Display text and label.\n",
        "print(next(iter(Data)))\n",
        "print('데이터 수: ', len(Data))\n",
        "print('모든 데이터: ', list(DataLoader(Data)))"
      ],
      "metadata": {
        "id": "uqaxpUvUfiR5",
        "colab": {
          "base_uri": "https://localhost:8080/"
        },
        "outputId": "904967e0-c8c7-4536-87b1-c5b943182aa2"
      },
      "execution_count": null,
      "outputs": [
        {
          "output_type": "stream",
          "name": "stdout",
          "text": [
            "{'Data': 'New York', 'Class': 1}\n",
            "데이터 수:  5\n",
            "모든 데이터:  [{'Data': ['New York'], 'Class': tensor([1])}, {'Data': ['Boston'], 'Class': tensor([2])}, {'Data': ['California'], 'Class': tensor([3])}, {'Data': ['Boston'], 'Class': tensor([2])}, {'Data': ['New York'], 'Class': tensor([1])}]\n"
          ]
        }
      ]
    },
    {
      "cell_type": "markdown",
      "source": [
        "# MLP 기본"
      ],
      "metadata": {
        "id": "GA5yfXfHZuno"
      }
    },
    {
      "cell_type": "code",
      "source": [
        "import os\n",
        "import torch\n",
        "from torch import nn\n",
        "from torch.utils.data import DataLoader\n",
        "from torchvision import datasets, transforms"
      ],
      "metadata": {
        "id": "eqWmICCN8YVX"
      },
      "execution_count": null,
      "outputs": []
    },
    {
      "cell_type": "code",
      "source": [
        "class NeuralNet(nn.Module):\n",
        "    def __init__(self, input_size, hidden_size, num_classes):\n",
        "        super(NeuralNet, self).__init__() # 부모 클래스 상속\n",
        "        self.mlp1 = nn.Linear(input_size, hidden_size)\n",
        "        self.relu = nn.ReLU()\n",
        "        self.mlp2 = nn.Linear(hidden_size, num_classes)\n",
        "        self.softmax = nn.Softmax(dim=1)\n",
        "    def forward(self, x):\n",
        "        out = self.mlp1(x)\n",
        "        out = self.relu(out)\n",
        "        out = self.mlp2(out)\n",
        "        out = self.softmax(out)\n",
        "        return out"
      ],
      "metadata": {
        "id": "IU3WBpYu8T9F"
      },
      "execution_count": null,
      "outputs": []
    },
    {
      "cell_type": "code",
      "source": [
        "# GPU 설정\n",
        "device = torch.device('cuda' if torch.cuda.is_available() else 'cpu')\n",
        "print(device)"
      ],
      "metadata": {
        "id": "tngvJ29S8_Bi",
        "colab": {
          "base_uri": "https://localhost:8080/"
        },
        "outputId": "065223ab-d9f4-4d23-a595-5d250ef5e545"
      },
      "execution_count": null,
      "outputs": [
        {
          "output_type": "stream",
          "name": "stdout",
          "text": [
            "cpu\n"
          ]
        }
      ]
    },
    {
      "cell_type": "code",
      "source": [
        "input_size = 28*28*1 # MNIST 이미지 크기\n",
        "hidden_size = 100 # hyper parameter\n",
        "num_classes = 10 # 총 class 개수\n",
        "\n",
        "model = NeuralNet(input_size, hidden_size, num_classes)\n",
        "print(model)"
      ],
      "metadata": {
        "id": "KojLOfYP9Ka1",
        "colab": {
          "base_uri": "https://localhost:8080/"
        },
        "outputId": "e1c53d61-af52-4afa-cab4-10a1a345c3be"
      },
      "execution_count": null,
      "outputs": [
        {
          "output_type": "stream",
          "name": "stdout",
          "text": [
            "NeuralNet(\n",
            "  (mlp1): Linear(in_features=784, out_features=100, bias=True)\n",
            "  (relu): ReLU()\n",
            "  (mlp2): Linear(in_features=100, out_features=10, bias=True)\n",
            "  (softmax): Softmax(dim=1)\n",
            ")\n"
          ]
        }
      ]
    },
    {
      "cell_type": "code",
      "source": [
        "data = torch.rand(1, 28*28).to(device)\n",
        "print('data:',data.shape)\n",
        "print('-'*40)\n",
        "\n",
        "pred = model(data)\n",
        "print('pred:',pred)\n",
        "print('-'*40)\n",
        "\n",
        "y_hat = pred.argmax(1)\n",
        "print('y hat:',y_hat)"
      ],
      "metadata": {
        "colab": {
          "base_uri": "https://localhost:8080/"
        },
        "id": "gsP_6Mp793VL",
        "outputId": "b57af902-9045-42de-94c2-fe8690952db2"
      },
      "execution_count": null,
      "outputs": [
        {
          "output_type": "stream",
          "name": "stdout",
          "text": [
            "data: torch.Size([1, 784])\n",
            "----------------------------------------\n",
            "pred: tensor([[0.1122, 0.0861, 0.0959, 0.0892, 0.0843, 0.1177, 0.0973, 0.1072, 0.0990,\n",
            "         0.1112]], grad_fn=<SoftmaxBackward0>)\n",
            "----------------------------------------\n",
            "y hat: tensor([5])\n"
          ]
        }
      ]
    },
    {
      "cell_type": "code",
      "source": [
        "pred.sum()"
      ],
      "metadata": {
        "colab": {
          "base_uri": "https://localhost:8080/"
        },
        "id": "IxtYZWHV_J6j",
        "outputId": "8ef9fdfe-653a-48b5-d01c-377024c09b2e"
      },
      "execution_count": null,
      "outputs": [
        {
          "output_type": "execute_result",
          "data": {
            "text/plain": [
              "tensor(1.0000, grad_fn=<SumBackward0>)"
            ]
          },
          "metadata": {},
          "execution_count": 39
        }
      ]
    },
    {
      "cell_type": "markdown",
      "source": [
        "## nn.Linear"
      ],
      "metadata": {
        "id": "PZXJBM4wg3EC"
      }
    },
    {
      "cell_type": "code",
      "source": [
        "x = torch.randn(3,1,28,28)\n",
        "\n",
        "fc_layer = nn.Linear(in_features=1*28*28, out_features=100) # 입력을 100인 벡터로 변환\n",
        "x_after_fc = fc_layer(x.reshape(-1, 1*28*28)) #\n",
        "print(x_after_fc.shape)"
      ],
      "metadata": {
        "colab": {
          "base_uri": "https://localhost:8080/"
        },
        "id": "safoEZdeH2S1",
        "outputId": "cce7a1f0-276c-4ef0-be5a-d81aed9b2707"
      },
      "execution_count": null,
      "outputs": [
        {
          "output_type": "stream",
          "name": "stdout",
          "text": [
            "torch.Size([3, 100])\n"
          ]
        }
      ]
    },
    {
      "cell_type": "code",
      "source": [
        "# nn.Flatten : x.reshape(-1,28*28)과 같은 역할\n",
        "# 28x28 사이즈의 이미지를 784 픽셀 값을 갖는 배열로 변환\n",
        "\n",
        "flatten = nn.Flatten()\n",
        "flat_x = flatten(x)\n",
        "print(flat_x.shape)\n",
        "\n",
        "fc_layer = nn.Linear(in_features=28*28, out_features=100)\n",
        "x_after_fc = fc_layer(flat_x)\n",
        "print('x_after_fc:',x_after_fc.shape)"
      ],
      "metadata": {
        "colab": {
          "base_uri": "https://localhost:8080/"
        },
        "id": "VC2iI7liI5s9",
        "outputId": "2b613ee9-aff5-4496-e28a-8f9b44092afa"
      },
      "execution_count": null,
      "outputs": [
        {
          "output_type": "stream",
          "name": "stdout",
          "text": [
            "torch.Size([3, 784])\n",
            "x_after_fc: torch.Size([3, 100])\n"
          ]
        }
      ]
    },
    {
      "cell_type": "markdown",
      "source": [
        "## nn.ReLU"
      ],
      "metadata": {
        "id": "2DuqooywmhDe"
      }
    },
    {
      "cell_type": "code",
      "source": [
        "x = torch.randn(3,28,28)\n",
        "\n",
        "before_relu = x[0][0]\n",
        "print('before_relu :', before_relu, before_relu.shape)\n",
        "print('-'*100)\n",
        "\n",
        "relu = nn.ReLU()\n",
        "after_relu = relu(before_relu)\n",
        "print('after_relu :', after_relu, after_relu.shape)"
      ],
      "metadata": {
        "colab": {
          "base_uri": "https://localhost:8080/"
        },
        "id": "Jz0sfveWJpP0",
        "outputId": "24df8ade-01c5-44be-8350-3d489242f0d9"
      },
      "execution_count": null,
      "outputs": [
        {
          "output_type": "stream",
          "name": "stdout",
          "text": [
            "before_relu : tensor([ 0.7015, -0.8063, -0.6750,  0.1591,  0.9458, -0.4506,  0.2804, -0.0866,\n",
            "         0.2259,  0.1680,  0.3709,  0.2360,  0.7892, -0.8017, -0.8580, -0.8235,\n",
            "        -0.4179, -0.1855,  0.7912,  0.9901,  2.8322,  2.2152,  1.1213,  0.6112,\n",
            "        -0.0609,  1.1182,  1.2333,  0.5116]) torch.Size([28])\n",
            "----------------------------------------------------------------------------------------------------\n",
            "after_relu : tensor([0.7015, 0.0000, 0.0000, 0.1591, 0.9458, 0.0000, 0.2804, 0.0000, 0.2259,\n",
            "        0.1680, 0.3709, 0.2360, 0.7892, 0.0000, 0.0000, 0.0000, 0.0000, 0.0000,\n",
            "        0.7912, 0.9901, 2.8322, 2.2152, 1.1213, 0.6112, 0.0000, 1.1182, 1.2333,\n",
            "        0.5116]) torch.Size([28])\n"
          ]
        }
      ]
    },
    {
      "cell_type": "markdown",
      "source": [
        "## Softmax"
      ],
      "metadata": {
        "id": "hxgdnf8kmqMn"
      }
    },
    {
      "cell_type": "code",
      "source": [
        "x = torch.randn(1,10)\n",
        "x"
      ],
      "metadata": {
        "id": "qHIlf5OOJ3s2",
        "colab": {
          "base_uri": "https://localhost:8080/"
        },
        "outputId": "dab51fa5-906d-4906-cdfe-9c315add50fe"
      },
      "execution_count": null,
      "outputs": [
        {
          "output_type": "execute_result",
          "data": {
            "text/plain": [
              "tensor([[-0.1701, -0.9102, -0.6453, -0.7422,  0.3436, -0.4769, -0.8399,  0.9156,\n",
              "         -1.9105, -0.0526]])"
            ]
          },
          "metadata": {},
          "execution_count": 43
        }
      ]
    },
    {
      "cell_type": "code",
      "source": [
        "softmax = nn.Softmax(dim=1)"
      ],
      "metadata": {
        "id": "AiNUbsDNKBYU"
      },
      "execution_count": null,
      "outputs": []
    },
    {
      "cell_type": "code",
      "source": [
        "pred = softmax(x)\n",
        "print('pred:', pred)\n",
        "print('sum of pred:',pred.sum())"
      ],
      "metadata": {
        "colab": {
          "base_uri": "https://localhost:8080/"
        },
        "id": "bmJhE2JuKJkk",
        "outputId": "652477a8-f39b-43ac-fa19-011814f3d9ac"
      },
      "execution_count": null,
      "outputs": [
        {
          "output_type": "stream",
          "name": "stdout",
          "text": [
            "pred: tensor([[0.1016, 0.0485, 0.0632, 0.0573, 0.1698, 0.0747, 0.0520, 0.3008, 0.0178,\n",
            "         0.1143]])\n",
            "sum of pred: tensor(1.0000)\n"
          ]
        }
      ]
    },
    {
      "cell_type": "markdown",
      "source": [
        "## nn.Sequential"
      ],
      "metadata": {
        "id": "96cbolQlmwbx"
      }
    },
    {
      "cell_type": "code",
      "source": [
        "class NeuralNet(nn.Module):\n",
        "    def __init__(self, input_size, hidden_size, num_classes):\n",
        "        super(NeuralNet, self).__init__()\n",
        "        self.mlp1 = nn.Linear(input_size, hidden_size)\n",
        "        self.relu = nn.ReLU()\n",
        "        self.mlp2 = nn.Linear(hidden_size, num_classes)\n",
        "        self.softmax = nn.Softmax(dim=1)\n",
        "    def forward(self, x):\n",
        "        out = self.mlp1(x)\n",
        "        out = self.relu(out)\n",
        "        out = self.mlp2(out)\n",
        "        out = self.softmax(out)\n",
        "        return out"
      ],
      "metadata": {
        "id": "eLWXA5QAKMSd"
      },
      "execution_count": null,
      "outputs": []
    },
    {
      "cell_type": "code",
      "source": [
        "input_size = 28*28*1 # MNIST 이미지 크기\n",
        "hidden_size = 100 # hyper parameter\n",
        "num_classes = 10 # 총 class 수\n",
        "\n",
        "model = NeuralNet(input_size, hidden_size, num_classes).to(device)\n",
        "print(model)"
      ],
      "metadata": {
        "id": "5UzG3NZYKUio",
        "colab": {
          "base_uri": "https://localhost:8080/"
        },
        "outputId": "27f6470e-95ab-4d0e-b231-9aadaf9a88db"
      },
      "execution_count": null,
      "outputs": [
        {
          "output_type": "stream",
          "name": "stdout",
          "text": [
            "NeuralNet(\n",
            "  (mlp1): Linear(in_features=784, out_features=100, bias=True)\n",
            "  (relu): ReLU()\n",
            "  (mlp2): Linear(in_features=100, out_features=10, bias=True)\n",
            "  (softmax): Softmax(dim=1)\n",
            ")\n"
          ]
        }
      ]
    },
    {
      "cell_type": "code",
      "source": [
        "# nn.Sequential : 여러 모듈들을 묶어서 사용 가능\n",
        "\n",
        "class NeuralNet2(nn.Module):\n",
        "    def __init__(self, input_size, hidden_size, num_classes):\n",
        "        super(NeuralNet, self).__init__()\n",
        "        sequential = nn.Sequential(\n",
        "            nn.Linear(input_size, hidden_size),\n",
        "            nn.ReLU(),\n",
        "            nn.Linear(hidden_size, num_classes),\n",
        "            nn.Softmax(dim=1),\n",
        "        )\n",
        "    def forward(self, x):\n",
        "        out = self.sequential(x)\n",
        "        return out"
      ],
      "metadata": {
        "id": "IokyojFQKY_t"
      },
      "execution_count": null,
      "outputs": []
    },
    {
      "cell_type": "code",
      "source": [
        "input_size = 28*28*1 # MNIST 이미지 크기\n",
        "hidden_size = 100 # hyper parameter\n",
        "num_classes = 10 # 총 class 수\n",
        "\n",
        "model = NeuralNet(input_size, hidden_size, num_classes).to(device)\n",
        "print(model)"
      ],
      "metadata": {
        "colab": {
          "base_uri": "https://localhost:8080/"
        },
        "id": "Ye7OhTWYLK3l",
        "outputId": "66d39faf-0fc1-468a-a6e1-52d3fa4b29a4"
      },
      "execution_count": null,
      "outputs": [
        {
          "output_type": "stream",
          "name": "stdout",
          "text": [
            "NeuralNet(\n",
            "  (mlp1): Linear(in_features=784, out_features=100, bias=True)\n",
            "  (relu): ReLU()\n",
            "  (mlp2): Linear(in_features=100, out_features=10, bias=True)\n",
            "  (softmax): Softmax(dim=1)\n",
            ")\n"
          ]
        }
      ]
    },
    {
      "cell_type": "markdown",
      "source": [
        "## 손실함수"
      ],
      "metadata": {
        "id": "fJIH8RNJm3dF"
      }
    },
    {
      "cell_type": "markdown",
      "source": [
        "### Cross Entropy"
      ],
      "metadata": {
        "id": "x6YCqG-am5bv"
      }
    },
    {
      "cell_type": "markdown",
      "source": [
        "Binary Cross Entropy Loss (nn.BCELoss())\n",
        "- Binary Class (0/1)에 적용\n",
        "- Loss 적용 전 sigmoid나 softmax를 취해줘야 함"
      ],
      "metadata": {
        "id": "TuSNvZJfm9Ot"
      }
    },
    {
      "cell_type": "code",
      "source": [
        "x = torch.randn(3)\n",
        "y = torch.tensor([0.,1.,0.]) # binary 이므로 target(y) 값은 0 또는 1"
      ],
      "metadata": {
        "id": "Eg4J37yzLcvL"
      },
      "execution_count": null,
      "outputs": []
    },
    {
      "cell_type": "code",
      "source": [
        "print('x:',x)\n",
        "print('y:',y)"
      ],
      "metadata": {
        "colab": {
          "base_uri": "https://localhost:8080/"
        },
        "id": "l7Hqt9kgMz6c",
        "outputId": "6468148b-a795-4e26-d9d3-ef60302b77a6"
      },
      "execution_count": null,
      "outputs": [
        {
          "output_type": "stream",
          "name": "stdout",
          "text": [
            "x: tensor([-0.3584,  0.0796,  0.8673])\n",
            "y: tensor([0., 1., 0.])\n"
          ]
        }
      ]
    },
    {
      "cell_type": "code",
      "source": [
        "# Binary Cross Entropy Loss\n",
        "bce_loss = nn.BCELoss()\n",
        "sigmoid = nn.Sigmoid()\n",
        "\n",
        "x_sigmoid = sigmoid(x)\n",
        "print('binary cross entropy loss value:', bce_loss(x_sigmoid,y))"
      ],
      "metadata": {
        "colab": {
          "base_uri": "https://localhost:8080/"
        },
        "id": "yXc0w0C9M04v",
        "outputId": "55d07fce-625a-4d86-df64-589e91bf5751"
      },
      "execution_count": null,
      "outputs": [
        {
          "output_type": "stream",
          "name": "stdout",
          "text": [
            "binary cross entropy loss value: tensor(0.8007)\n"
          ]
        }
      ]
    },
    {
      "cell_type": "markdown",
      "source": [
        "Binary Cross Entropy With Logits Loss (nn.BCEWithLogitsLoss())\n",
        "- Binary Class (0/1)에 적용\n",
        "- Loss안에 Sigmoid가 내장되어있음"
      ],
      "metadata": {
        "id": "pKHjnQstnCWC"
      }
    },
    {
      "cell_type": "code",
      "source": [
        "# Binary Cross Entropy Loss\n",
        "bce_with_logits_loss = nn.BCEWithLogitsLoss()\n",
        "\n",
        "print('binary cross entropy loss value:', bce_with_logits_loss(x,y))"
      ],
      "metadata": {
        "colab": {
          "base_uri": "https://localhost:8080/"
        },
        "id": "ap8lyKohM9eU",
        "outputId": "eaf82b16-8903-4028-a5d3-711c025b9bf0"
      },
      "execution_count": null,
      "outputs": [
        {
          "output_type": "stream",
          "name": "stdout",
          "text": [
            "binary cross entropy loss value: tensor(0.8007)\n"
          ]
        }
      ]
    },
    {
      "cell_type": "markdown",
      "source": [
        "Cross Entropy Loss (nn.CrossEntropyLoss())\n",
        "- Multi Class에서 적용\n",
        "- Loss안에 Softmax가 내장되어 있음"
      ],
      "metadata": {
        "id": "67Bb5sg0nGVu"
      }
    },
    {
      "cell_type": "code",
      "source": [
        "x = torch.randn(1,10)\n",
        "y = torch.tensor([1])"
      ],
      "metadata": {
        "id": "Y87FurBKOBcG"
      },
      "execution_count": null,
      "outputs": []
    },
    {
      "cell_type": "code",
      "source": [
        "print('x:',x)\n",
        "print('y:',y)"
      ],
      "metadata": {
        "colab": {
          "base_uri": "https://localhost:8080/"
        },
        "id": "aoXCLu_6Oyp_",
        "outputId": "2f482ee2-0f9c-4f4c-8c1d-5bb8f763c783"
      },
      "execution_count": null,
      "outputs": [
        {
          "output_type": "stream",
          "name": "stdout",
          "text": [
            "x: tensor([[ 1.2457, -0.1236, -0.6398, -0.5019, -0.1602,  1.3154,  0.0038, -1.2326,\n",
            "          0.0460, -1.3961]])\n",
            "y: tensor([1])\n"
          ]
        }
      ]
    },
    {
      "cell_type": "code",
      "source": [
        "# Cross Entropy Loss\n",
        "\n",
        "cross_entropy_loss = nn.CrossEntropyLoss()\n",
        "# Softmax와 Log를 한 후 Cross Entropy Loss\n",
        "\n",
        "print('cross_entropy loss value:', cross_entropy_loss(x,y))"
      ],
      "metadata": {
        "id": "THT2RiJhO4zV",
        "colab": {
          "base_uri": "https://localhost:8080/"
        },
        "outputId": "5ea68bfa-8c0a-4754-8136-87e4d001d1cb"
      },
      "execution_count": null,
      "outputs": [
        {
          "output_type": "stream",
          "name": "stdout",
          "text": [
            "cross_entropy loss value: tensor(2.6620)\n"
          ]
        }
      ]
    },
    {
      "cell_type": "markdown",
      "source": [
        "## MSE"
      ],
      "metadata": {
        "id": "THAQzs7qnMo2"
      }
    },
    {
      "cell_type": "code",
      "source": [
        "x = torch.randn(1,10)\n",
        "y = torch.randn(1,10)"
      ],
      "metadata": {
        "id": "ugS7DZ_2nNn_"
      },
      "execution_count": null,
      "outputs": []
    },
    {
      "cell_type": "code",
      "source": [
        "mse_loss = nn.MSELoss()\n",
        "print('cross_entropy loss value:', mse_loss(x,y))"
      ],
      "metadata": {
        "colab": {
          "base_uri": "https://localhost:8080/"
        },
        "id": "m1v8KiwenPCi",
        "outputId": "4cc1a2f6-eb8f-41bd-cf0d-033817991c44"
      },
      "execution_count": null,
      "outputs": [
        {
          "output_type": "stream",
          "name": "stdout",
          "text": [
            "cross_entropy loss value: tensor(1.3003)\n"
          ]
        }
      ]
    },
    {
      "cell_type": "markdown",
      "source": [
        "# MLP 응용"
      ],
      "metadata": {
        "id": "rFDoOiM_r4MM"
      }
    },
    {
      "cell_type": "markdown",
      "source": [
        "## 데이터"
      ],
      "metadata": {
        "id": "KqV4bE4Zuo9g"
      }
    },
    {
      "cell_type": "code",
      "source": [
        "import torch\n",
        "import torch.nn as nn\n",
        "from torch.utils.data import DataLoader\n",
        "from torchvision import datasets, transforms"
      ],
      "metadata": {
        "id": "0McDXebCsBJp"
      },
      "execution_count": null,
      "outputs": []
    },
    {
      "cell_type": "code",
      "source": [
        "train_data = datasets.MNIST(\n",
        "    root=\"data\",\n",
        "    train=True,\n",
        "    download=True,\n",
        "    transform=transforms.ToTensor(),\n",
        ")\n",
        "\n",
        "test_data = datasets.MNIST(\n",
        "    root=\"data\",\n",
        "    train=False,\n",
        "    download=True,\n",
        "    transform=transforms.ToTensor(),\n",
        ")"
      ],
      "metadata": {
        "id": "TD-SbIJ6sTbU"
      },
      "execution_count": null,
      "outputs": []
    },
    {
      "cell_type": "code",
      "source": [
        "train_loader = DataLoader(train_data, batch_size=128, shuffle=True)\n",
        "test_loader = DataLoader(test_data, batch_size=128, shuffle=False)"
      ],
      "metadata": {
        "id": "ZoCpUVMmshs5"
      },
      "execution_count": null,
      "outputs": []
    },
    {
      "cell_type": "markdown",
      "source": [
        "## 모델"
      ],
      "metadata": {
        "id": "_cS-acWRuq4E"
      }
    },
    {
      "cell_type": "code",
      "source": [
        "class Model(nn.Module):\n",
        "    def __init__(self, input_size, hidden_size, num_classes):\n",
        "        super(Model, self).__init__()\n",
        "        self.mlp1 = nn.Linear(input_size, hidden_size)\n",
        "        self.relu = nn.ReLU()\n",
        "        self.mlp2 = nn.Linear(hidden_size, num_classes)\n",
        "\n",
        "    def forward(self, x):\n",
        "        out = self.mlp1(x)\n",
        "        out = self.relu(out)\n",
        "        out = self.mlp2(out)\n",
        "\n",
        "        return out\n",
        "\n",
        "device = torch.device('cuda' if torch.cuda.is_available() else 'cpu')\n",
        "model = Model(input_size=28*28*1, hidden_size=100, num_classes=10).to(device)"
      ],
      "metadata": {
        "id": "g98VTavls__m"
      },
      "execution_count": null,
      "outputs": []
    },
    {
      "cell_type": "code",
      "source": [
        "CELoss = nn.CrossEntropyLoss()\n",
        "adam_optimizer = torch.optim.Adam(model.parameters(), lr=0.001) # 최적화 알고리즘 class 선언"
      ],
      "metadata": {
        "id": "Br9F8aXrtMD_"
      },
      "execution_count": null,
      "outputs": []
    },
    {
      "cell_type": "code",
      "source": [
        "# 뉴럴 네트워크 모델 학습\n",
        "total_epochs = 3\n",
        "print('number of iteration :', len(train_loader))\n",
        "# epoch : 모든 데이터를 한 번 학습하는 단위\n",
        "for epoch in range(total_epochs):\n",
        "    # iteration : 한 'mini-batch' 단위의 데이터를 학습하는 단위\n",
        "    for i, (images, labels) in enumerate(train_loader):\n",
        "        # images : [mini-batch, 1, 28, 28]\n",
        "        # labels : [mini-batch]\n",
        "        images = images.reshape(-1, 28*28).to(device)\n",
        "        labels = labels.to(device)\n",
        "\n",
        "        # Forward pass\n",
        "        outputs = model(images)\n",
        "        ce_loss = CELoss(outputs, labels)\n",
        "\n",
        "        # Backward and optimize\n",
        "        adam_optimizer.zero_grad() # 다양한 optimization 기법 적용 가능\n",
        "        ce_loss.backward() # Back propagation\n",
        "        adam_optimizer.step() # optimizer 작동\n",
        "\n",
        "    print ('Epoch [{}/{}], Loss: {:.4f}'.format(epoch+1, total_epochs, ce_loss.item()))"
      ],
      "metadata": {
        "colab": {
          "base_uri": "https://localhost:8080/"
        },
        "id": "uIQCdc-vt3OO",
        "outputId": "3150823b-6690-46a7-d027-747c0aba50a5"
      },
      "execution_count": null,
      "outputs": [
        {
          "output_type": "stream",
          "name": "stdout",
          "text": [
            "number of iteration : 469\n",
            "Epoch [1/3], Loss: 0.1418\n",
            "Epoch [2/3], Loss: 0.2194\n",
            "Epoch [3/3], Loss: 0.1439\n"
          ]
        }
      ]
    },
    {
      "cell_type": "code",
      "source": [
        "# 학습이 끝난 후 모델 성능 테스트\n",
        "# test에서는 back propagation 작업을 하지 않으므로 gradient를 계산하지 않도록 함 - 메모리의 효율성을 위해\n",
        "with torch.no_grad(): # gradient 계산하지 않도록 하는 코드\n",
        "    correct = 0\n",
        "    total = 0\n",
        "    for images, labels in test_loader:\n",
        "        images = images.reshape(-1, 28*28).to(device)\n",
        "        labels = labels.to(device)\n",
        "        outputs = model(images)\n",
        "        _, predicted = torch.max(outputs.data, 1)\n",
        "        total += labels.size(0)\n",
        "        correct += (predicted == labels).sum().item()\n",
        "\n",
        "    print('Accuracy of the network on the 10000 test images: {} %'.format(100 * correct / total))"
      ],
      "metadata": {
        "colab": {
          "base_uri": "https://localhost:8080/"
        },
        "id": "fmnmYUx0ulrY",
        "outputId": "dcee6943-3676-423c-ac55-b4b96d2cde92"
      },
      "execution_count": null,
      "outputs": [
        {
          "output_type": "stream",
          "name": "stdout",
          "text": [
            "Accuracy of the network on the 10000 test images: 95.82 %\n"
          ]
        }
      ]
    },
    {
      "cell_type": "code",
      "source": [
        "# 학습한 모델을 model.ckpt라는 이름으로 저장\n",
        "torch.save(model.state_dict(), 'model_basic.ckpt')"
      ],
      "metadata": {
        "id": "pbA92Z5Num6z"
      },
      "execution_count": null,
      "outputs": []
    },
    {
      "cell_type": "markdown",
      "source": [
        "## 최적화"
      ],
      "metadata": {
        "id": "rVYylOakvcN0"
      }
    },
    {
      "cell_type": "code",
      "source": [
        "# Stochastic Gradient Descent\n",
        "sgd_optimizer = torch.optim.SGD(model.parameters(), lr=0.001)\n",
        "sgd_with_momentum_optimizer = torch.optim.SGD(model.parameters(), lr=0.001, momentum=0.9)\n",
        "Adagrad_optimizer = torch.optim.Adagrad(model.parameters(), lr = 0.01)\n",
        "RMSprop_optimizer = torch.optim.RMSprop(model.parameters(), lr = 0.01)\n",
        "Adam_optimizer = torch.optim.Adam(model.parameters(), lr = 0.001)"
      ],
      "metadata": {
        "id": "IUiDdVkNvdQy"
      },
      "execution_count": null,
      "outputs": []
    },
    {
      "cell_type": "code",
      "source": [
        "# # 뉴럴 네트워크 모델 학습\n",
        "# total_epochs = 3\n",
        "# print('number of iteration :', len(train_loader))\n",
        "# # epoch : 모든 데이터를 한 번 학습하는 단위\n",
        "# for epoch in range(total_epochs):\n",
        "#     # iteration : 한 'mini-batch' 단위의 데이터를 학습하는 단위\n",
        "#     for i, (images, labels) in enumerate(train_loader):\n",
        "#         # images : [mini-batch, 1, 28, 28]\n",
        "#         # labels : [mini-batch]\n",
        "#         images = images.reshape(-1, 28*28).to(device)\n",
        "#         labels = labels.to(device)\n",
        "\n",
        "#         # Forward pass\n",
        "#         outputs = model(images)\n",
        "#         ce_loss = CELoss(outputs, labels)\n",
        "\n",
        "#         # Backward and optimize\n",
        "#         RMSprop_optimizer.zero_grad() # 다양한 optimization 기법 적용 가능\n",
        "#         ce_loss.backward() # Back propagation\n",
        "#         RMSprop_optimizer.step() # optimizer 작동\n",
        "\n",
        "#     print ('Epoch [{}/{}], Loss: {:.4f}'.format(epoch+1, total_epochs, ce_loss.item()))"
      ],
      "metadata": {
        "id": "Lsi-_B1_4eje"
      },
      "execution_count": null,
      "outputs": []
    },
    {
      "cell_type": "markdown",
      "source": [
        "## Drop out"
      ],
      "metadata": {
        "id": "zIdJ86924xZS"
      }
    },
    {
      "cell_type": "code",
      "source": [
        "class Model(nn.Module):\n",
        "    def __init__(self, input_size, hidden_size, num_classes):\n",
        "        super(Model, self).__init__()\n",
        "        self.mlp1 = nn.Linear(input_size, hidden_size)\n",
        "        self.dropout = nn.Dropout(p=0.5)\n",
        "        self.relu = nn.ReLU()\n",
        "        self.mlp2 = nn.Linear(hidden_size, num_classes)\n",
        "\n",
        "    def forward(self, x):\n",
        "        out = self.mlp1(x)\n",
        "        out = self.dropout(out)\n",
        "        out = self.relu(out)\n",
        "        out = self.mlp2(out)\n",
        "\n",
        "        return out\n",
        "\n",
        "device = torch.device('cuda' if torch.cuda.is_available() else 'cpu')\n",
        "model = Model(input_size=28*28*1, hidden_size=100, num_classes=10).to(device)"
      ],
      "metadata": {
        "id": "wyhalCVt4o3m"
      },
      "execution_count": null,
      "outputs": []
    },
    {
      "cell_type": "markdown",
      "source": [
        "## Batch Normalization"
      ],
      "metadata": {
        "id": "fR3ZaoIa5vpX"
      }
    },
    {
      "cell_type": "code",
      "source": [
        "class Model(nn.Module):\n",
        "    def __init__(self, input_size, hidden_size, num_classes):\n",
        "        super(Model, self).__init__()\n",
        "        self.mlp1 = nn.Linear(input_size, hidden_size)\n",
        "        self.bn = nn.BatchNorm1d(hidden_size)\n",
        "        self.relu = nn.ReLU()\n",
        "        self.mlp2 = nn.Linear(hidden_size, num_classes)\n",
        "\n",
        "    def forward(self, x):\n",
        "        out = self.mlp1(x)\n",
        "        out = self.bn(out)\n",
        "        out = self.relu(out)\n",
        "        out = self.mlp2(out)\n",
        "\n",
        "        return out\n",
        "\n",
        "device = torch.device('cuda' if torch.cuda.is_available() else 'cpu')\n",
        "model = Model(input_size=28*28*1, hidden_size=100, num_classes=10).to(device)"
      ],
      "metadata": {
        "id": "Ql3NLGYg5wOe"
      },
      "execution_count": null,
      "outputs": []
    },
    {
      "cell_type": "markdown",
      "source": [
        "# Tensorflow 기본"
      ],
      "metadata": {
        "id": "J0qyvcfIFJmJ"
      }
    },
    {
      "cell_type": "code",
      "source": [
        "import tensorflow as tf\n",
        "tf.__version__"
      ],
      "metadata": {
        "colab": {
          "base_uri": "https://localhost:8080/",
          "height": 35
        },
        "id": "sRn1R6W2FM0w",
        "outputId": "62345fc6-038c-407d-9de2-00b98d008f9f"
      },
      "execution_count": null,
      "outputs": [
        {
          "output_type": "execute_result",
          "data": {
            "text/plain": [
              "'2.17.0'"
            ],
            "application/vnd.google.colaboratory.intrinsic+json": {
              "type": "string"
            }
          },
          "metadata": {},
          "execution_count": 71
        }
      ]
    },
    {
      "cell_type": "code",
      "source": [
        "a = tf.constant(5)\n",
        "b = tf.constant(10)\n",
        "c = tf.constant(15)"
      ],
      "metadata": {
        "id": "8lvlF1R3FSGy"
      },
      "execution_count": null,
      "outputs": []
    },
    {
      "cell_type": "code",
      "source": [
        "string = tf.constant('tensorflow')\n",
        "print(string)"
      ],
      "metadata": {
        "colab": {
          "base_uri": "https://localhost:8080/"
        },
        "id": "dxnWXO03FgRT",
        "outputId": "17790659-2ee5-4c9a-f201-afbc05974d80"
      },
      "execution_count": null,
      "outputs": [
        {
          "output_type": "stream",
          "name": "stdout",
          "text": [
            "tf.Tensor(b'tensorflow', shape=(), dtype=string)\n"
          ]
        }
      ]
    },
    {
      "cell_type": "code",
      "source": [
        "print('tensor a :', a)"
      ],
      "metadata": {
        "colab": {
          "base_uri": "https://localhost:8080/"
        },
        "id": "Cb0PWXkKFjd4",
        "outputId": "706abfe0-9838-45dc-d366-73c7d652868c"
      },
      "execution_count": null,
      "outputs": [
        {
          "output_type": "stream",
          "name": "stdout",
          "text": [
            "tensor a : tf.Tensor(5, shape=(), dtype=int32)\n"
          ]
        }
      ]
    },
    {
      "cell_type": "code",
      "source": [
        "a_numpy = a.numpy()\n",
        "type(a_numpy)"
      ],
      "metadata": {
        "colab": {
          "base_uri": "https://localhost:8080/"
        },
        "id": "ZDMGPX44FvVf",
        "outputId": "d7ed5468-2eb1-415a-b276-9d2dc23b17e7"
      },
      "execution_count": null,
      "outputs": [
        {
          "output_type": "execute_result",
          "data": {
            "text/plain": [
              "numpy.int32"
            ]
          },
          "metadata": {},
          "execution_count": 75
        }
      ]
    },
    {
      "cell_type": "code",
      "source": [
        "rand_tensor = tf.random.normal(shape=(2,2), mean=0, stddev=1)\n",
        "print(rand_tensor)"
      ],
      "metadata": {
        "colab": {
          "base_uri": "https://localhost:8080/"
        },
        "id": "PQtaR3B0F1Y7",
        "outputId": "0a261ecb-6834-4645-e2d3-cd3c99b110d3"
      },
      "execution_count": null,
      "outputs": [
        {
          "output_type": "stream",
          "name": "stdout",
          "text": [
            "tf.Tensor(\n",
            "[[ 0.17528611 -0.7467304 ]\n",
            " [-0.489532    1.16076   ]], shape=(2, 2), dtype=float32)\n"
          ]
        }
      ]
    },
    {
      "cell_type": "markdown",
      "source": [
        "## Tensor 연산"
      ],
      "metadata": {
        "id": "Fpcwgj48G2G9"
      }
    },
    {
      "cell_type": "code",
      "source": [
        "x_tensor = tf.constant([[1,2,3],[4,5,6]])\n",
        "x_tensor"
      ],
      "metadata": {
        "colab": {
          "base_uri": "https://localhost:8080/"
        },
        "id": "hckeTOK8GruK",
        "outputId": "bff6684a-c98d-461c-fc80-1a123b07e734"
      },
      "execution_count": null,
      "outputs": [
        {
          "output_type": "execute_result",
          "data": {
            "text/plain": [
              "<tf.Tensor: shape=(2, 3), dtype=int32, numpy=\n",
              "array([[1, 2, 3],\n",
              "       [4, 5, 6]], dtype=int32)>"
            ]
          },
          "metadata": {},
          "execution_count": 78
        }
      ]
    },
    {
      "cell_type": "code",
      "source": [
        "x_tensor[0]"
      ],
      "metadata": {
        "colab": {
          "base_uri": "https://localhost:8080/"
        },
        "id": "tllpRdPpHaL7",
        "outputId": "68a5c066-11c5-4b58-9c9f-f56b41150b81"
      },
      "execution_count": null,
      "outputs": [
        {
          "output_type": "execute_result",
          "data": {
            "text/plain": [
              "<tf.Tensor: shape=(3,), dtype=int32, numpy=array([1, 2, 3], dtype=int32)>"
            ]
          },
          "metadata": {},
          "execution_count": 79
        }
      ]
    },
    {
      "cell_type": "code",
      "source": [
        "x_tensor[-1,:]"
      ],
      "metadata": {
        "colab": {
          "base_uri": "https://localhost:8080/"
        },
        "id": "NEJwwxQ1IBYM",
        "outputId": "3beb3c06-ac16-4cc4-fbe1-7ad0d9247602"
      },
      "execution_count": null,
      "outputs": [
        {
          "output_type": "execute_result",
          "data": {
            "text/plain": [
              "<tf.Tensor: shape=(3,), dtype=int32, numpy=array([4, 5, 6], dtype=int32)>"
            ]
          },
          "metadata": {},
          "execution_count": 80
        }
      ]
    },
    {
      "cell_type": "code",
      "source": [
        "print(x_tensor[:,0])\n",
        "print(x_tensor[:,1])\n",
        "print(x_tensor[:,2])"
      ],
      "metadata": {
        "colab": {
          "base_uri": "https://localhost:8080/"
        },
        "id": "P0ZTIpgrIT4E",
        "outputId": "e7220330-ae0f-4593-ba8d-be9e2bd6e767"
      },
      "execution_count": null,
      "outputs": [
        {
          "output_type": "stream",
          "name": "stdout",
          "text": [
            "tf.Tensor([1 4], shape=(2,), dtype=int32)\n",
            "tf.Tensor([2 5], shape=(2,), dtype=int32)\n",
            "tf.Tensor([3 6], shape=(2,), dtype=int32)\n"
          ]
        }
      ]
    },
    {
      "cell_type": "code",
      "source": [
        "print(x_tensor[1,2])"
      ],
      "metadata": {
        "colab": {
          "base_uri": "https://localhost:8080/"
        },
        "id": "xcue1lnQIkAy",
        "outputId": "cac55f69-ea0f-45dd-a198-ba190dc80a94"
      },
      "execution_count": null,
      "outputs": [
        {
          "output_type": "stream",
          "name": "stdout",
          "text": [
            "tf.Tensor(6, shape=(), dtype=int32)\n"
          ]
        }
      ]
    },
    {
      "cell_type": "code",
      "source": [
        "x_tensor = tf.constant([[1,2,3],[4,5,6]])\n",
        "\n",
        "concatenated_dim0 = tf.concat([x_tensor, x_tensor], axis=0)\n",
        "print(concatenated_dim0)"
      ],
      "metadata": {
        "colab": {
          "base_uri": "https://localhost:8080/"
        },
        "id": "o9mpHSrPIlm7",
        "outputId": "5a3d035f-8001-4675-ddef-872b30a49e24"
      },
      "execution_count": null,
      "outputs": [
        {
          "output_type": "stream",
          "name": "stdout",
          "text": [
            "tf.Tensor(\n",
            "[[1 2 3]\n",
            " [4 5 6]\n",
            " [1 2 3]\n",
            " [4 5 6]], shape=(4, 3), dtype=int32)\n"
          ]
        }
      ]
    },
    {
      "cell_type": "code",
      "source": [
        "concatenated_dim1 = tf.concat([x_tensor, x_tensor], axis=1)\n",
        "print(concatenated_dim1)"
      ],
      "metadata": {
        "colab": {
          "base_uri": "https://localhost:8080/"
        },
        "id": "73a0Ds0BI49R",
        "outputId": "9d3b8222-8331-449a-d0e4-459a1d26ac46"
      },
      "execution_count": null,
      "outputs": [
        {
          "output_type": "stream",
          "name": "stdout",
          "text": [
            "tf.Tensor(\n",
            "[[1 2 3 1 2 3]\n",
            " [4 5 6 4 5 6]], shape=(2, 6), dtype=int32)\n"
          ]
        }
      ]
    },
    {
      "cell_type": "code",
      "source": [
        "x_tensor"
      ],
      "metadata": {
        "colab": {
          "base_uri": "https://localhost:8080/"
        },
        "id": "sv3JLt9XJmBi",
        "outputId": "f5d51104-ff21-4e7b-e9b1-986faa0df6f8"
      },
      "execution_count": null,
      "outputs": [
        {
          "output_type": "execute_result",
          "data": {
            "text/plain": [
              "<tf.Tensor: shape=(2, 3), dtype=int32, numpy=\n",
              "array([[1, 2, 3],\n",
              "       [4, 5, 6]], dtype=int32)>"
            ]
          },
          "metadata": {},
          "execution_count": 85
        }
      ]
    },
    {
      "cell_type": "code",
      "source": [
        "tf.reshape(x_tensor, (3,2))"
      ],
      "metadata": {
        "colab": {
          "base_uri": "https://localhost:8080/"
        },
        "id": "J8HX5hfSJnqq",
        "outputId": "d088bc1b-84a7-4408-f28a-0fb2055605f8"
      },
      "execution_count": null,
      "outputs": [
        {
          "output_type": "execute_result",
          "data": {
            "text/plain": [
              "<tf.Tensor: shape=(3, 2), dtype=int32, numpy=\n",
              "array([[1, 2],\n",
              "       [3, 4],\n",
              "       [5, 6]], dtype=int32)>"
            ]
          },
          "metadata": {},
          "execution_count": 86
        }
      ]
    },
    {
      "cell_type": "code",
      "source": [
        "# 산술 연산\n",
        "add = tf.add(a,b)\n",
        "print(add)"
      ],
      "metadata": {
        "colab": {
          "base_uri": "https://localhost:8080/"
        },
        "id": "_mUmPLO5JteT",
        "outputId": "9ef0f9b1-d082-4bd8-a937-3bb243e5b57f"
      },
      "execution_count": null,
      "outputs": [
        {
          "output_type": "stream",
          "name": "stdout",
          "text": [
            "tf.Tensor(15, shape=(), dtype=int32)\n"
          ]
        }
      ]
    },
    {
      "cell_type": "code",
      "source": [
        "sub = tf.subtract(a,b)\n",
        "print(sub)"
      ],
      "metadata": {
        "colab": {
          "base_uri": "https://localhost:8080/"
        },
        "id": "KLnj7ZjFKM5l",
        "outputId": "2d97c0a7-b5a8-4cab-e8f5-dd4108bc19f6"
      },
      "execution_count": null,
      "outputs": [
        {
          "output_type": "stream",
          "name": "stdout",
          "text": [
            "tf.Tensor(-5, shape=(), dtype=int32)\n"
          ]
        }
      ]
    },
    {
      "cell_type": "code",
      "source": [
        "mul = tf.multiply(a,b)\n",
        "print(mul)"
      ],
      "metadata": {
        "colab": {
          "base_uri": "https://localhost:8080/"
        },
        "id": "0lIoUuChLIZT",
        "outputId": "05b2c3dc-2f8d-480f-d886-89a8cdcc8bd8"
      },
      "execution_count": null,
      "outputs": [
        {
          "output_type": "stream",
          "name": "stdout",
          "text": [
            "tf.Tensor(50, shape=(), dtype=int32)\n"
          ]
        }
      ]
    },
    {
      "cell_type": "code",
      "source": [
        "div = tf.divide(a, b)\n",
        "print(div)"
      ],
      "metadata": {
        "colab": {
          "base_uri": "https://localhost:8080/"
        },
        "id": "vI_sIcWFLPXy",
        "outputId": "91c01a34-8036-4b30-b820-0b528740bc20"
      },
      "execution_count": null,
      "outputs": [
        {
          "output_type": "stream",
          "name": "stdout",
          "text": [
            "tf.Tensor(0.5, shape=(), dtype=float64)\n"
          ]
        }
      ]
    },
    {
      "cell_type": "code",
      "source": [
        "mean = tf.reduce_mean([a,b,c])\n",
        "print(mean)"
      ],
      "metadata": {
        "colab": {
          "base_uri": "https://localhost:8080/"
        },
        "id": "B4Hju25OLW-2",
        "outputId": "d2d35da7-ecc5-426b-be2b-db1ca78816e1"
      },
      "execution_count": null,
      "outputs": [
        {
          "output_type": "stream",
          "name": "stdout",
          "text": [
            "tf.Tensor(10, shape=(), dtype=int32)\n"
          ]
        }
      ]
    },
    {
      "cell_type": "code",
      "source": [
        "sum = tf.reduce_sum([a,b,c])\n",
        "print(sum)"
      ],
      "metadata": {
        "colab": {
          "base_uri": "https://localhost:8080/"
        },
        "id": "rwAYDUWOLaw5",
        "outputId": "56d3a529-3a4a-49c4-d641-415bab9b5d8c"
      },
      "execution_count": null,
      "outputs": [
        {
          "output_type": "stream",
          "name": "stdout",
          "text": [
            "tf.Tensor(30, shape=(), dtype=int32)\n"
          ]
        }
      ]
    },
    {
      "cell_type": "markdown",
      "source": [
        "## Matrics"
      ],
      "metadata": {
        "id": "zdHbY22MLnNf"
      }
    },
    {
      "cell_type": "code",
      "source": [
        "x_tensor1 = tf.constant([[1,2,3],[4,5,6]])\n",
        "x_tensor2 = tf.constant([[7,8,9],[10,11,11]])\n",
        "\n",
        "mat_mul = tf.matmul(x_tensor1, tf.transpose(x_tensor2))\n",
        "print(mat_mul)"
      ],
      "metadata": {
        "colab": {
          "base_uri": "https://localhost:8080/"
        },
        "id": "_PodGgwVLeAL",
        "outputId": "05cba9a2-ecaf-4928-a28a-fd4303c9476b"
      },
      "execution_count": null,
      "outputs": [
        {
          "output_type": "stream",
          "name": "stdout",
          "text": [
            "tf.Tensor(\n",
            "[[ 50  65]\n",
            " [122 161]], shape=(2, 2), dtype=int32)\n"
          ]
        }
      ]
    },
    {
      "cell_type": "markdown",
      "source": [
        "## 데이터"
      ],
      "metadata": {
        "id": "jR3JIyN6ObcA"
      }
    },
    {
      "cell_type": "code",
      "source": [
        "from tensorflow.keras.datasets import mnist\n",
        "(train_images, train_labels), (test_images, test_labels) = mnist.load_data()"
      ],
      "metadata": {
        "colab": {
          "base_uri": "https://localhost:8080/"
        },
        "id": "rcxgC8t1PKrD",
        "outputId": "fad4b8c7-e3cb-4ee8-c9e8-cc3840279fc6"
      },
      "execution_count": null,
      "outputs": [
        {
          "output_type": "stream",
          "name": "stdout",
          "text": [
            "Downloading data from https://storage.googleapis.com/tensorflow/tf-keras-datasets/mnist.npz\n",
            "\u001b[1m11490434/11490434\u001b[0m \u001b[32m━━━━━━━━━━━━━━━━━━━━\u001b[0m\u001b[37m\u001b[0m \u001b[1m1s\u001b[0m 0us/step\n"
          ]
        }
      ]
    },
    {
      "cell_type": "code",
      "source": [
        "print(train_images.shape, len(train_labels))"
      ],
      "metadata": {
        "colab": {
          "base_uri": "https://localhost:8080/"
        },
        "id": "cJk5nR7KQY0w",
        "outputId": "1be2a696-06d4-4f1a-b7d6-bf418e8fd455"
      },
      "execution_count": null,
      "outputs": [
        {
          "output_type": "stream",
          "name": "stdout",
          "text": [
            "(60000, 28, 28) 60000\n"
          ]
        }
      ]
    },
    {
      "cell_type": "code",
      "source": [
        "print(test_images.shape, len(test_labels))"
      ],
      "metadata": {
        "colab": {
          "base_uri": "https://localhost:8080/"
        },
        "id": "t27G5RFsQwFm",
        "outputId": "b9cada27-0bc5-432d-981f-016c50f462e8"
      },
      "execution_count": null,
      "outputs": [
        {
          "output_type": "stream",
          "name": "stdout",
          "text": [
            "(10000, 28, 28) 10000\n"
          ]
        }
      ]
    },
    {
      "cell_type": "code",
      "source": [
        "train_labels"
      ],
      "metadata": {
        "colab": {
          "base_uri": "https://localhost:8080/"
        },
        "id": "LsDU7pgqQ2mY",
        "outputId": "32395eaa-94da-4407-f635-e3607cb7a363"
      },
      "execution_count": null,
      "outputs": [
        {
          "output_type": "execute_result",
          "data": {
            "text/plain": [
              "array([5, 0, 4, ..., 5, 6, 8], dtype=uint8)"
            ]
          },
          "metadata": {},
          "execution_count": 104
        }
      ]
    },
    {
      "cell_type": "code",
      "source": [
        "test_labels"
      ],
      "metadata": {
        "colab": {
          "base_uri": "https://localhost:8080/"
        },
        "id": "bJWcIVQGQ4WN",
        "outputId": "b3dd0ebb-556b-4ab8-beb3-a17f24408db3"
      },
      "execution_count": null,
      "outputs": [
        {
          "output_type": "execute_result",
          "data": {
            "text/plain": [
              "array([7, 2, 1, ..., 4, 5, 6], dtype=uint8)"
            ]
          },
          "metadata": {},
          "execution_count": 105
        }
      ]
    },
    {
      "cell_type": "code",
      "source": [
        "import matplotlib.pyplot as plt\n",
        "plt.imshow(train_images[0])\n",
        "plt.show()"
      ],
      "metadata": {
        "colab": {
          "base_uri": "https://localhost:8080/",
          "height": 430
        },
        "id": "kjUAzo3RQ-CO",
        "outputId": "31aa4396-a9d4-4e48-9eac-22c23a0aa3d9"
      },
      "execution_count": null,
      "outputs": [
        {
          "output_type": "display_data",
          "data": {
            "text/plain": [
              "<Figure size 640x480 with 1 Axes>"
            ],
            "image/png": "[encoded data removed]"
          },
          "metadata": {}
        }
      ]
    },
    {
      "cell_type": "code",
      "source": [
        "train_labels[0]"
      ],
      "metadata": {
        "colab": {
          "base_uri": "https://localhost:8080/"
        },
        "id": "g0KzZ8dyRBvm",
        "outputId": "f2ef04be-f882-43db-a55e-cbd1096c6405"
      },
      "execution_count": null,
      "outputs": [
        {
          "output_type": "execute_result",
          "data": {
            "text/plain": [
              "5"
            ]
          },
          "metadata": {},
          "execution_count": 107
        }
      ]
    },
    {
      "cell_type": "code",
      "source": [
        "import tensorflow as tf\n",
        "from tensorflow.keras import Model, layers\n",
        "import numpy as np"
      ],
      "metadata": {
        "id": "dEu1knLXRDjT"
      },
      "execution_count": null,
      "outputs": []
    },
    {
      "cell_type": "code",
      "source": [
        "class NeuralNet(Model):\n",
        "  def __init__(self, hidden_1, hidden_2, num_classes):\n",
        "    super(NeuralNet, self).__init__()\n",
        "\n",
        "    self.mlp1 = layers.Dense(hidden_1, activation=tf.nn.relu)\n",
        "    self.mlp2 = layers.Dense(hidden_2, activation='relu')\n",
        "    self.mlp3 = layers.Dense(num_classes)\n",
        "\n",
        "  def call(self, x):\n",
        "    out = self.mlp1(x)\n",
        "    out = self.mlp2(out)\n",
        "    out = self.mlp3(x)\n",
        "    return out"
      ],
      "metadata": {
        "id": "L92zjCugoCnW"
      },
      "execution_count": null,
      "outputs": []
    },
    {
      "cell_type": "code",
      "source": [
        "hidden_1 = 128\n",
        "hidden_2 = 256\n",
        "num_classes = 10"
      ],
      "metadata": {
        "id": "ryVogoDipTMB"
      },
      "execution_count": null,
      "outputs": []
    },
    {
      "cell_type": "code",
      "source": [
        "model = NeuralNet(hidden_1, hidden_2, num_classes)"
      ],
      "metadata": {
        "id": "8R52m1gipW_B"
      },
      "execution_count": null,
      "outputs": []
    },
    {
      "cell_type": "code",
      "source": [
        "data = tf.random.normal(shape=(1,28*28), mean=0., stddev=1.)\n",
        "print(data.shape)"
      ],
      "metadata": {
        "colab": {
          "base_uri": "https://localhost:8080/"
        },
        "id": "06GKc0dopYFm",
        "outputId": "ef47e5db-5fb3-47cf-99da-df2739ef1f13"
      },
      "execution_count": null,
      "outputs": [
        {
          "output_type": "stream",
          "name": "stdout",
          "text": [
            "(1, 784)\n"
          ]
        }
      ]
    },
    {
      "cell_type": "code",
      "source": [
        "pred = model(data)\n",
        "print(pred)"
      ],
      "metadata": {
        "colab": {
          "base_uri": "https://localhost:8080/"
        },
        "id": "OZVdc9L4p-Nw",
        "outputId": "bd11514c-a770-4701-8332-4348f84011af"
      },
      "execution_count": null,
      "outputs": [
        {
          "output_type": "stream",
          "name": "stdout",
          "text": [
            "tf.Tensor(\n",
            "[[-2.3379464   1.2023448   0.69507235 -1.4693471   2.6198757   1.9904015\n",
            "  -0.8490392   1.5493857  -0.3076868   0.13371144]], shape=(1, 10), dtype=float32)\n"
          ]
        }
      ]
    },
    {
      "cell_type": "code",
      "source": [
        "y_hat = tf.argmax(pred, 1)\n",
        "print(y_hat)"
      ],
      "metadata": {
        "colab": {
          "base_uri": "https://localhost:8080/"
        },
        "id": "eIFlQ1QRrNfg",
        "outputId": "bb8fc61e-cf91-4aa4-9ee8-d282598317a0"
      },
      "execution_count": null,
      "outputs": [
        {
          "output_type": "stream",
          "name": "stdout",
          "text": [
            "tf.Tensor([4], shape=(1,), dtype=int64)\n"
          ]
        }
      ]
    },
    {
      "cell_type": "code",
      "source": [
        "x = tf.random.normal(shape=(3,28,28), mean=0., stddev=1.)"
      ],
      "metadata": {
        "id": "uYb8gG18rdkY"
      },
      "execution_count": null,
      "outputs": []
    },
    {
      "cell_type": "code",
      "source": [
        "fc_layer = layers.Dense(100)\n",
        "x_after_fc = fc_layer(tf.reshape(x, (-1, 28*28)))\n",
        "x_after_fc.shape"
      ],
      "metadata": {
        "colab": {
          "base_uri": "https://localhost:8080/"
        },
        "id": "U9VeXKDwtqwP",
        "outputId": "c50a1b5d-ddb8-4575-c4c9-58e1f8873ca7"
      },
      "execution_count": null,
      "outputs": [
        {
          "output_type": "execute_result",
          "data": {
            "text/plain": [
              "TensorShape([3, 100])"
            ]
          },
          "metadata": {},
          "execution_count": 126
        }
      ]
    },
    {
      "cell_type": "code",
      "source": [
        "x_after_fc[0][:10]"
      ],
      "metadata": {
        "colab": {
          "base_uri": "https://localhost:8080/"
        },
        "id": "gEZZ3zUTtwNJ",
        "outputId": "9302dd87-d447-4e44-e3b8-cb5bdb7788f8"
      },
      "execution_count": null,
      "outputs": [
        {
          "output_type": "execute_result",
          "data": {
            "text/plain": [
              "<tf.Tensor: shape=(10,), dtype=float32, numpy=\n",
              "array([-0.5130894 ,  1.2790326 ,  0.65523994,  0.98067373,  0.7852397 ,\n",
              "        1.1802073 ,  0.6736298 , -0.65625703, -1.5889417 ,  0.06796789],\n",
              "      dtype=float32)>"
            ]
          },
          "metadata": {},
          "execution_count": 127
        }
      ]
    },
    {
      "cell_type": "code",
      "source": [
        "fc_layer = layers.Dense(100, activation='relu')\n",
        "x_after_fc = fc_layer(tf.reshape(x, (-1, 28*28)))\n",
        "x_after_fc.shape"
      ],
      "metadata": {
        "colab": {
          "base_uri": "https://localhost:8080/"
        },
        "id": "NKZidBjjv94J",
        "outputId": "25251456-93e9-45f6-e577-5867f099d378"
      },
      "execution_count": null,
      "outputs": [
        {
          "output_type": "execute_result",
          "data": {
            "text/plain": [
              "TensorShape([3, 100])"
            ]
          },
          "metadata": {},
          "execution_count": 128
        }
      ]
    },
    {
      "cell_type": "code",
      "source": [
        "x_after_fc[0][:10]"
      ],
      "metadata": {
        "colab": {
          "base_uri": "https://localhost:8080/"
        },
        "id": "efi-GMPLwHJX",
        "outputId": "912cc415-c218-4309-8d98-ecd713d59ad2"
      },
      "execution_count": null,
      "outputs": [
        {
          "output_type": "execute_result",
          "data": {
            "text/plain": [
              "<tf.Tensor: shape=(10,), dtype=float32, numpy=\n",
              "array([0.        , 0.6697283 , 3.7277482 , 2.0714447 , 0.11448418,\n",
              "       1.2447172 , 1.4720888 , 1.1371601 , 0.        , 0.        ],\n",
              "      dtype=float32)>"
            ]
          },
          "metadata": {},
          "execution_count": 129
        }
      ]
    },
    {
      "cell_type": "code",
      "source": [
        "x = tf.random.normal(shape=(1,10), mean=0., stddev=1.)"
      ],
      "metadata": {
        "id": "MyhzE0lJw2GX"
      },
      "execution_count": null,
      "outputs": []
    },
    {
      "cell_type": "code",
      "source": [
        "pred = tf.nn.softmax(x)\n",
        "print(pred)"
      ],
      "metadata": {
        "colab": {
          "base_uri": "https://localhost:8080/"
        },
        "id": "InAhe7gkxXfn",
        "outputId": "72dec404-0cc3-43ac-d620-f1b09afdcd6f"
      },
      "execution_count": null,
      "outputs": [
        {
          "output_type": "stream",
          "name": "stdout",
          "text": [
            "tf.Tensor(\n",
            "[[0.01002319 0.06276197 0.25673902 0.05759416 0.00727882 0.41578612\n",
            "  0.03944466 0.02863582 0.04220348 0.07953283]], shape=(1, 10), dtype=float32)\n"
          ]
        }
      ]
    },
    {
      "cell_type": "markdown",
      "source": [
        "## tf.keras.Sequential"
      ],
      "metadata": {
        "id": "alR5fNM-2usu"
      }
    },
    {
      "cell_type": "code",
      "source": [
        "class NeuralNet(Model):\n",
        "  def __init__(self, hidden_1, hidden_2, num_classes):\n",
        "    super(NeuralNet, self).__init__()\n",
        "\n",
        "    self.mlp1 = layers.Dense(hidden_1, activation=tf.nn.relu)\n",
        "    self.mlp2 = layers.Dense(hidden_2, activation='relu')\n",
        "    self.mlp3 = layers.Dense(num_classes)\n",
        "\n",
        "  def call(self, x):\n",
        "    out = self.mlp1(x)\n",
        "    out = self.mlp2(out)\n",
        "    out = self.mlp3(x)\n",
        "    return out"
      ],
      "metadata": {
        "id": "R07y4LZixaZv"
      },
      "execution_count": null,
      "outputs": []
    },
    {
      "cell_type": "code",
      "source": [
        "hidden_1 = 128\n",
        "hidden_2 = 256\n",
        "num_classes = 10"
      ],
      "metadata": {
        "id": "k_32YfOdz72U"
      },
      "execution_count": null,
      "outputs": []
    },
    {
      "cell_type": "code",
      "source": [
        "model = NeuralNet(hidden_1, hidden_2, num_classes)"
      ],
      "metadata": {
        "id": "4C1boKUbz8nz"
      },
      "execution_count": null,
      "outputs": []
    },
    {
      "cell_type": "code",
      "source": [
        "class NeuralNet2(Model):\n",
        "  def __init__(self, hidden_1, hidden_2, num_classes):\n",
        "    super(NeuralNet2, self).__init__()\n",
        "\n",
        "    self.sequential = tf.keras.Sequential([\n",
        "      layers.Dense(hidden_1, activation=tf.nn.relu),\n",
        "      layers.Dense(hidden_2, activation='relu'),\n",
        "      layers.Dense(num_classes, activation=tf.nn.softmax)\n",
        "      ])\n",
        "\n",
        "  def call(self, x):\n",
        "    out = sequential(x)\n",
        "    return out"
      ],
      "metadata": {
        "id": "0ISideFr0Gpe"
      },
      "execution_count": null,
      "outputs": []
    },
    {
      "cell_type": "code",
      "source": [
        "hidden_1 = 128\n",
        "hidden_2 = 256\n",
        "num_classes = 10"
      ],
      "metadata": {
        "id": "Gyqod6Rz0tyx"
      },
      "execution_count": null,
      "outputs": []
    },
    {
      "cell_type": "code",
      "source": [
        "model = NeuralNet2(hidden_1, hidden_2, num_classes)"
      ],
      "metadata": {
        "id": "HWHQreEW0v6u"
      },
      "execution_count": null,
      "outputs": []
    },
    {
      "cell_type": "markdown",
      "source": [
        "## Sequential+add"
      ],
      "metadata": {
        "id": "-tVc4u4k2pVx"
      }
    },
    {
      "cell_type": "code",
      "source": [
        "model = tf.keras.Sequential()"
      ],
      "metadata": {
        "id": "GnxkXliR1HdW"
      },
      "execution_count": null,
      "outputs": []
    },
    {
      "cell_type": "code",
      "source": [
        "# sequential 다른 방법\n",
        "model.add(layers.Dense(hidden_1, activation='relu'))\n",
        "model.add(layers.Dense(hidden_2, activation='relu'))\n",
        "model.add(layers.Dense(num_classes, activation=tf.nn.softmax))"
      ],
      "metadata": {
        "id": "cHu76ppT1dpA"
      },
      "execution_count": null,
      "outputs": []
    },
    {
      "cell_type": "markdown",
      "source": [
        "## Compile"
      ],
      "metadata": {
        "id": "KJE4VZ0t2loV"
      }
    },
    {
      "cell_type": "code",
      "source": [
        "model.compile(loss='categorical_crossentropy', optimizer='sgd', metrics =['accuracy'])"
      ],
      "metadata": {
        "id": "VCBUAuhe1nMK"
      },
      "execution_count": null,
      "outputs": []
    },
    {
      "cell_type": "code",
      "source": [
        "model.compile(loss='sparse_categorical_corssentropy', optimizer='adam', metrics=['accuracy'])"
      ],
      "metadata": {
        "id": "pAMithQ910dB"
      },
      "execution_count": null,
      "outputs": []
    },
    {
      "cell_type": "code",
      "source": [
        "model.compile(loss='sparse_categorical_corssentropy', optimizer=tf.keras.optimizers.Adam(learning_rate=1e-3), metrics=['accuracy'])"
      ],
      "metadata": {
        "id": "9LSSJ20D2CF4"
      },
      "execution_count": null,
      "outputs": []
    },
    {
      "cell_type": "markdown",
      "source": [
        "# Tensorflow 응용"
      ],
      "metadata": {
        "id": "MrPkgEej2Wub"
      }
    },
    {
      "cell_type": "code",
      "source": [
        "import tensorflow as tf\n",
        "from tensorflow.keras import Model, layers, optimizers, datasets"
      ],
      "metadata": {
        "id": "DLIs5KbA_l7A"
      },
      "execution_count": null,
      "outputs": []
    },
    {
      "cell_type": "code",
      "source": [
        "(images_train, labels_train), (images_test, labels_test) = datasets.mnist.load_data()"
      ],
      "metadata": {
        "id": "l1YZWvSa_nJi"
      },
      "execution_count": null,
      "outputs": []
    },
    {
      "cell_type": "code",
      "source": [
        "images_train.shape"
      ],
      "metadata": {
        "colab": {
          "base_uri": "https://localhost:8080/"
        },
        "id": "hgpqe3QyAFcv",
        "outputId": "5994d8d2-3908-4a57-d7f1-0ef44bcd13bc"
      },
      "execution_count": null,
      "outputs": [
        {
          "output_type": "execute_result",
          "data": {
            "text/plain": [
              "(60000, 28, 28)"
            ]
          },
          "metadata": {},
          "execution_count": 161
        }
      ]
    },
    {
      "cell_type": "code",
      "source": [
        "images_train.min()"
      ],
      "metadata": {
        "colab": {
          "base_uri": "https://localhost:8080/"
        },
        "id": "fZW62EpYASgS",
        "outputId": "b4b7f42b-7abd-4f78-96ae-a059a745a0d2"
      },
      "execution_count": null,
      "outputs": [
        {
          "output_type": "execute_result",
          "data": {
            "text/plain": [
              "0"
            ]
          },
          "metadata": {},
          "execution_count": 162
        }
      ]
    },
    {
      "cell_type": "code",
      "source": [
        "images_train.max()"
      ],
      "metadata": {
        "colab": {
          "base_uri": "https://localhost:8080/"
        },
        "id": "GUV0nCnyAZ5v",
        "outputId": "b56a6d6f-fdef-439f-c466-2291f68611af"
      },
      "execution_count": null,
      "outputs": [
        {
          "output_type": "execute_result",
          "data": {
            "text/plain": [
              "255"
            ]
          },
          "metadata": {},
          "execution_count": 163
        }
      ]
    },
    {
      "cell_type": "code",
      "source": [
        "model = tf.keras.Sequential([\n",
        "    layers.Flatten(input_shape=(28,28)),\n",
        "    layers.Dense(128, activation='relu'),\n",
        "    layers.Dense(256, activation='relu'),\n",
        "    layers.Dense(10, activation='softmax')\n",
        "])"
      ],
      "metadata": {
        "id": "2rneFRioAbQJ"
      },
      "execution_count": null,
      "outputs": []
    },
    {
      "cell_type": "code",
      "source": [
        "model.compile(optimizer='adam',loss='sparse_categorical_crossentropy', metrics=['accuracy'])"
      ],
      "metadata": {
        "id": "LySVosxTJXRS"
      },
      "execution_count": null,
      "outputs": []
    },
    {
      "cell_type": "code",
      "source": [
        "model.fit(images_train, labels_train, epochs=5, batch_size=128)"
      ],
      "metadata": {
        "colab": {
          "base_uri": "https://localhost:8080/"
        },
        "id": "RLTMS9SAJlqp",
        "outputId": "2bcca4a5-ec7e-4cd7-f8b3-6809de94c66b"
      },
      "execution_count": null,
      "outputs": [
        {
          "output_type": "stream",
          "name": "stdout",
          "text": [
            "Epoch 1/5\n",
            "\u001b[1m469/469\u001b[0m \u001b[32m━━━━━━━━━━━━━━━━━━━━\u001b[0m\u001b[37m\u001b[0m \u001b[1m4s\u001b[0m 6ms/step - accuracy: 0.8705 - loss: 1.5262\n",
            "Epoch 2/5\n",
            "\u001b[1m469/469\u001b[0m \u001b[32m━━━━━━━━━━━━━━━━━━━━\u001b[0m\u001b[37m\u001b[0m \u001b[1m5s\u001b[0m 5ms/step - accuracy: 0.9242 - loss: 0.4255\n",
            "Epoch 3/5\n",
            "\u001b[1m469/469\u001b[0m \u001b[32m━━━━━━━━━━━━━━━━━━━━\u001b[0m\u001b[37m\u001b[0m \u001b[1m2s\u001b[0m 5ms/step - accuracy: 0.9448 - loss: 0.2716\n",
            "Epoch 4/5\n",
            "\u001b[1m469/469\u001b[0m \u001b[32m━━━━━━━━━━━━━━━━━━━━\u001b[0m\u001b[37m\u001b[0m \u001b[1m3s\u001b[0m 5ms/step - accuracy: 0.9560 - loss: 0.2116\n",
            "Epoch 5/5\n",
            "\u001b[1m469/469\u001b[0m \u001b[32m━━━━━━━━━━━━━━━━━━━━\u001b[0m\u001b[37m\u001b[0m \u001b[1m3s\u001b[0m 6ms/step - accuracy: 0.9598 - loss: 0.1875\n"
          ]
        },
        {
          "output_type": "execute_result",
          "data": {
            "text/plain": [
              "<keras.src.callbacks.history.History at 0x7c2cc1402980>"
            ]
          },
          "metadata": {},
          "execution_count": 168
        }
      ]
    },
    {
      "cell_type": "code",
      "source": [
        "model.evaluate(images_test, labels_test)"
      ],
      "metadata": {
        "colab": {
          "base_uri": "https://localhost:8080/"
        },
        "id": "o4UHuodtJrFl",
        "outputId": "0bdc2b0c-4f72-4533-9f27-b67cebd39057"
      },
      "execution_count": null,
      "outputs": [
        {
          "output_type": "stream",
          "name": "stdout",
          "text": [
            "\u001b[1m313/313\u001b[0m \u001b[32m━━━━━━━━━━━━━━━━━━━━\u001b[0m\u001b[37m\u001b[0m \u001b[1m1s\u001b[0m 3ms/step - accuracy: 0.9359 - loss: 0.3826\n"
          ]
        },
        {
          "output_type": "execute_result",
          "data": {
            "text/plain": [
              "[0.33720794320106506, 0.9456999897956848]"
            ]
          },
          "metadata": {},
          "execution_count": 169
        }
      ]
    },
    {
      "cell_type": "markdown",
      "source": [
        "## Dropout"
      ],
      "metadata": {
        "id": "DYdqI2H0Mejn"
      }
    },
    {
      "cell_type": "code",
      "source": [
        "class NeuralNet_dropout(Model):\n",
        "    def __init__(self, hidden_1, hidden_2, num_classes):\n",
        "        super(NeuralNet_dropout, self).__init__()\n",
        "\n",
        "        self.flatten = tf.keras.layers.Flatten()  # input_shape 제거\n",
        "        self.fc1 = layers.Dense(hidden_1)\n",
        "        self.dropout1 = layers.Dropout(rate=0.5)\n",
        "        self.fc2 = layers.Dense(hidden_2)\n",
        "        self.dropout2 = layers.Dropout(rate=0.5)\n",
        "        self.out = layers.Dense(num_classes)\n",
        "\n",
        "    def call(self, x):\n",
        "        x = self.flatten(x)\n",
        "        x = self.fc1(x)\n",
        "        x = self.dropout1(x)\n",
        "        x = tf.nn.relu(x)\n",
        "\n",
        "        x = self.fc2(x)\n",
        "        x = self.dropout2(x)\n",
        "        x = tf.nn.relu(x)\n",
        "\n",
        "        x = self.out(x)\n",
        "        x = tf.nn.softmax(x)\n",
        "        return x"
      ],
      "metadata": {
        "id": "Mq1zrH_PKCRC"
      },
      "execution_count": null,
      "outputs": []
    },
    {
      "cell_type": "code",
      "source": [
        "# NeuralNet_dropout 인스턴스를 먼저 생성\n",
        "hidden_1 = 128\n",
        "hidden_2 = 256\n",
        "num_classes = 10\n",
        "model_dropout = NeuralNet_dropout(hidden_1, hidden_2, num_classes)  # 인스턴스 생성\n",
        "\n",
        "# 입력 데이터 형태를 지정하고 모델을 호출\n",
        "inputs = tf.keras.Input(shape=(28, 28))\n",
        "outputs = model_dropout(inputs)  # NeuralNet_dropout 모델에 입력 전달\n",
        "\n",
        "# 최종적으로 Keras 모델 생성\n",
        "model = tf.keras.Model(inputs=inputs, outputs=outputs)"
      ],
      "metadata": {
        "id": "2fevl0stNOs8"
      },
      "execution_count": null,
      "outputs": []
    },
    {
      "cell_type": "code",
      "source": [
        "model.compile(optimizer='sgd', loss='sparse_categorical_crossentropy', metrics=['accuracy'])"
      ],
      "metadata": {
        "id": "wZwYaX8KLunI"
      },
      "execution_count": null,
      "outputs": []
    },
    {
      "cell_type": "code",
      "source": [
        "model.fit(images_train, labels_train, epochs=3, batch_size=64)"
      ],
      "metadata": {
        "colab": {
          "base_uri": "https://localhost:8080/"
        },
        "id": "dj76sTVqNdaT",
        "outputId": "194405e7-6614-4bef-a805-89e37f65f5ae"
      },
      "execution_count": null,
      "outputs": [
        {
          "output_type": "stream",
          "name": "stdout",
          "text": [
            "Epoch 1/3\n",
            "\u001b[1m938/938\u001b[0m \u001b[32m━━━━━━━━━━━━━━━━━━━━\u001b[0m\u001b[37m\u001b[0m \u001b[1m6s\u001b[0m 6ms/step - accuracy: 0.1133 - loss: 37.6422\n",
            "Epoch 2/3\n",
            "\u001b[1m938/938\u001b[0m \u001b[32m━━━━━━━━━━━━━━━━━━━━\u001b[0m\u001b[37m\u001b[0m \u001b[1m8s\u001b[0m 3ms/step - accuracy: 0.1146 - loss: 2.3013\n",
            "Epoch 3/3\n",
            "\u001b[1m938/938\u001b[0m \u001b[32m━━━━━━━━━━━━━━━━━━━━\u001b[0m\u001b[37m\u001b[0m \u001b[1m3s\u001b[0m 3ms/step - accuracy: 0.1097 - loss: 2.3016\n"
          ]
        },
        {
          "output_type": "execute_result",
          "data": {
            "text/plain": [
              "<keras.src.callbacks.history.History at 0x7c2cc0a6b4f0>"
            ]
          },
          "metadata": {},
          "execution_count": 194
        }
      ]
    },
    {
      "cell_type": "code",
      "source": [
        "test_loss, test_acc = model.evaluate(images_test,  labels_test, verbose=2)\n",
        "\n",
        "print('test accuracy:', test_acc)"
      ],
      "metadata": {
        "colab": {
          "base_uri": "https://localhost:8080/"
        },
        "id": "Qf8-GFyQNfMO",
        "outputId": "327f2f07-e44a-413f-ca8f-fa91fe24d978"
      },
      "execution_count": null,
      "outputs": [
        {
          "output_type": "stream",
          "name": "stdout",
          "text": [
            "313/313 - 1s - 2ms/step - accuracy: 0.1135 - loss: 2.3011\n",
            "test accuracy: 0.11349999904632568\n"
          ]
        }
      ]
    },
    {
      "cell_type": "markdown",
      "source": [
        "## Batch Normalization"
      ],
      "metadata": {
        "id": "er_VZElaN0oi"
      }
    },
    {
      "cell_type": "code",
      "source": [
        "class NeuralNet_bn(Model):\n",
        "    def __init__(self, hidden_1, hidden_2, num_classes):\n",
        "        super(NeuralNet_bn, self).__init__()\n",
        "\n",
        "        self.flatten = layers.Flatten(input_shape=(28,28))\n",
        "        self.fc1 = layers.Dense(hidden_1)\n",
        "        self.bn1 = layers.BatchNormalization()\n",
        "\n",
        "        self.fc2 = layers.Dense(hidden_2)\n",
        "        self.bn2 = layers.BatchNormalization()\n",
        "\n",
        "        self.out = layers.Dense(num_classes)\n",
        "\n",
        "    def call(self, x):\n",
        "        x = self.flatten(x)\n",
        "        x = self.fc1(x)\n",
        "        x = self.bn1(x)\n",
        "        x = tf.nn.relu(x)\n",
        "\n",
        "        x = self.fc2(x)\n",
        "        x = self.bn2(x)\n",
        "        x = tf.nn.relu(x)\n",
        "\n",
        "        x = self.out(x)\n",
        "        x = tf.nn.softmax(x)\n",
        "        return x"
      ],
      "metadata": {
        "id": "5XduCK2mN2Ts"
      },
      "execution_count": null,
      "outputs": []
    },
    {
      "cell_type": "code",
      "source": [
        "hidden_1 = 128\n",
        "hidden_2 = 256\n",
        "num_classes = 10\n",
        "\n",
        "model_bn = NeuralNet_bn(hidden_1, hidden_2, num_classes)"
      ],
      "metadata": {
        "colab": {
          "base_uri": "https://localhost:8080/"
        },
        "id": "_FRvtRRZN3wK",
        "outputId": "31cf5681-8b33-4b9f-f319-93fc0d59ad35"
      },
      "execution_count": null,
      "outputs": [
        {
          "output_type": "stream",
          "name": "stderr",
          "text": [
            "/usr/local/lib/python3.10/dist-packages/keras/src/layers/reshaping/flatten.py:37: UserWarning: Do not pass an `input_shape`/`input_dim` argument to a layer. When using Sequential models, prefer using an `Input(shape)` object as the first layer in the model instead.\n",
            "  super().__init__(**kwargs)\n"
          ]
        }
      ]
    },
    {
      "cell_type": "code",
      "source": [
        "model_bn.compile(optimizer='adam',\n",
        "              loss='sparse_categorical_crossentropy',\n",
        "              metrics=['accuracy'])"
      ],
      "metadata": {
        "id": "gyvZUw8eN5GW"
      },
      "execution_count": null,
      "outputs": []
    },
    {
      "cell_type": "code",
      "source": [
        "model_bn.fit(images_train, labels_train, epochs=3, batch_size=64)"
      ],
      "metadata": {
        "colab": {
          "base_uri": "https://localhost:8080/"
        },
        "id": "C-MvqSDkN7QV",
        "outputId": "e881ccd4-9b1e-4d49-8492-c926f8e53987"
      },
      "execution_count": null,
      "outputs": [
        {
          "output_type": "stream",
          "name": "stdout",
          "text": [
            "Epoch 1/3\n",
            "\u001b[1m938/938\u001b[0m \u001b[32m━━━━━━━━━━━━━━━━━━━━\u001b[0m\u001b[37m\u001b[0m \u001b[1m7s\u001b[0m 6ms/step - accuracy: 0.8271 - loss: 4.5043\n",
            "Epoch 2/3\n",
            "\u001b[1m938/938\u001b[0m \u001b[32m━━━━━━━━━━━━━━━━━━━━\u001b[0m\u001b[37m\u001b[0m \u001b[1m4s\u001b[0m 4ms/step - accuracy: 0.9247 - loss: 0.3790\n",
            "Epoch 3/3\n",
            "\u001b[1m938/938\u001b[0m \u001b[32m━━━━━━━━━━━━━━━━━━━━\u001b[0m\u001b[37m\u001b[0m \u001b[1m5s\u001b[0m 4ms/step - accuracy: 0.9429 - loss: 0.2529\n"
          ]
        },
        {
          "output_type": "execute_result",
          "data": {
            "text/plain": [
              "<keras.src.callbacks.history.History at 0x7c2cc0b464a0>"
            ]
          },
          "metadata": {},
          "execution_count": 200
        }
      ]
    },
    {
      "cell_type": "code",
      "source": [
        "test_loss, test_acc = model_bn.evaluate(images_test,  labels_test, verbose=2)\n",
        "\n",
        "print('test accuracy:', test_acc)"
      ],
      "metadata": {
        "id": "uq16dSRvN8T1"
      },
      "execution_count": null,
      "outputs": []
    },
    {
      "cell_type": "markdown",
      "source": [
        "# Wandb"
      ],
      "metadata": {
        "id": "jBkHX1S5ueSE"
      }
    },
    {
      "cell_type": "markdown",
      "source": [
        "## Pytorch"
      ],
      "metadata": {
        "id": "I6C5NkpWujvb"
      }
    },
    {
      "cell_type": "code",
      "source": [
        "import torch\n",
        "import torch.nn as nn\n",
        "import torchvision\n",
        "from torchvision import datasets, transforms\n",
        "from torch.utils.data import DataLoader"
      ],
      "metadata": {
        "id": "d4_vIBQKujCP"
      },
      "execution_count": null,
      "outputs": []
    },
    {
      "cell_type": "code",
      "source": [
        "train_data = datasets.MNIST(\n",
        "    root = 'data',\n",
        "    train = True,\n",
        "    transform = transforms.ToTensor(),\n",
        "    download = True,\n",
        ")\n",
        "test_data = datasets.MNIST(\n",
        "    root = 'data',\n",
        "    train = False,\n",
        "    transform = transforms.ToTensor()\n",
        ")"
      ],
      "metadata": {
        "colab": {
          "base_uri": "https://localhost:8080/"
        },
        "id": "XGa6GY7NJaHD",
        "outputId": "fa6f5c41-2fc3-41fe-dd6c-ea48623e5017"
      },
      "execution_count": null,
      "outputs": [
        {
          "output_type": "stream",
          "name": "stdout",
          "text": [
            "Downloading http://yann.lecun.com/exdb/mnist/train-images-idx3-ubyte.gz\n",
            "Failed to download (trying next):\n",
            "<urlopen error [SSL: CERTIFICATE_VERIFY_FAILED] certificate verify failed: certificate has expired (_ssl.c:1007)>\n",
            "\n",
            "Downloading https://ossci-datasets.s3.amazonaws.com/mnist/train-images-idx3-ubyte.gz\n",
            "Downloading https://ossci-datasets.s3.amazonaws.com/mnist/train-images-idx3-ubyte.gz to data/MNIST/raw/train-images-idx3-ubyte.gz\n"
          ]
        },
        {
          "output_type": "stream",
          "name": "stderr",
          "text": [
            "100%|██████████| 9.91M/9.91M [00:00<00:00, 37.5MB/s]\n"
          ]
        },
        {
          "output_type": "stream",
          "name": "stdout",
          "text": [
            "Extracting data/MNIST/raw/train-images-idx3-ubyte.gz to data/MNIST/raw\n",
            "\n",
            "Downloading http://yann.lecun.com/exdb/mnist/train-labels-idx1-ubyte.gz\n",
            "Failed to download (trying next):\n",
            "<urlopen error [SSL: CERTIFICATE_VERIFY_FAILED] certificate verify failed: certificate has expired (_ssl.c:1007)>\n",
            "\n",
            "Downloading https://ossci-datasets.s3.amazonaws.com/mnist/train-labels-idx1-ubyte.gz\n",
            "Downloading https://ossci-datasets.s3.amazonaws.com/mnist/train-labels-idx1-ubyte.gz to data/MNIST/raw/train-labels-idx1-ubyte.gz\n"
          ]
        },
        {
          "output_type": "stream",
          "name": "stderr",
          "text": [
            "100%|██████████| 28.9k/28.9k [00:00<00:00, 1.43MB/s]"
          ]
        },
        {
          "output_type": "stream",
          "name": "stdout",
          "text": [
            "Extracting data/MNIST/raw/train-labels-idx1-ubyte.gz to data/MNIST/raw\n",
            "\n",
            "Downloading http://yann.lecun.com/exdb/mnist/t10k-images-idx3-ubyte.gz\n"
          ]
        },
        {
          "output_type": "stream",
          "name": "stderr",
          "text": [
            "\n"
          ]
        },
        {
          "output_type": "stream",
          "name": "stdout",
          "text": [
            "Failed to download (trying next):\n",
            "<urlopen error [SSL: CERTIFICATE_VERIFY_FAILED] certificate verify failed: certificate has expired (_ssl.c:1007)>\n",
            "\n",
            "Downloading https://ossci-datasets.s3.amazonaws.com/mnist/t10k-images-idx3-ubyte.gz\n",
            "Downloading https://ossci-datasets.s3.amazonaws.com/mnist/t10k-images-idx3-ubyte.gz to data/MNIST/raw/t10k-images-idx3-ubyte.gz\n"
          ]
        },
        {
          "output_type": "stream",
          "name": "stderr",
          "text": [
            "100%|██████████| 1.65M/1.65M [00:00<00:00, 9.80MB/s]\n"
          ]
        },
        {
          "output_type": "stream",
          "name": "stdout",
          "text": [
            "Extracting data/MNIST/raw/t10k-images-idx3-ubyte.gz to data/MNIST/raw\n",
            "\n",
            "Downloading http://yann.lecun.com/exdb/mnist/t10k-labels-idx1-ubyte.gz\n",
            "Failed to download (trying next):\n",
            "<urlopen error [SSL: CERTIFICATE_VERIFY_FAILED] certificate verify failed: certificate has expired (_ssl.c:1007)>\n",
            "\n",
            "Downloading https://ossci-datasets.s3.amazonaws.com/mnist/t10k-labels-idx1-ubyte.gz\n",
            "Downloading https://ossci-datasets.s3.amazonaws.com/mnist/t10k-labels-idx1-ubyte.gz to data/MNIST/raw/t10k-labels-idx1-ubyte.gz\n"
          ]
        },
        {
          "output_type": "stream",
          "name": "stderr",
          "text": [
            "100%|██████████| 4.54k/4.54k [00:00<00:00, 6.48MB/s]\n"
          ]
        },
        {
          "output_type": "stream",
          "name": "stdout",
          "text": [
            "Extracting data/MNIST/raw/t10k-labels-idx1-ubyte.gz to data/MNIST/raw\n",
            "\n"
          ]
        }
      ]
    },
    {
      "cell_type": "code",
      "source": [
        "!pip install wandb -qqq"
      ],
      "metadata": {
        "id": "uzFACob4JbHB"
      },
      "execution_count": null,
      "outputs": []
    },
    {
      "cell_type": "code",
      "source": [
        "import wandb\n",
        "wandb.login()"
      ],
      "metadata": {
        "colab": {
          "base_uri": "https://localhost:8080/",
          "height": 145
        },
        "id": "iD5FZckOJqLd",
        "outputId": "65a3a1af-fa68-4e4d-e7fc-e931fd7baedb"
      },
      "execution_count": null,
      "outputs": [
        {
          "output_type": "stream",
          "name": "stderr",
          "text": [
            "\u001b[34m\u001b[1mwandb\u001b[0m: Using wandb-core as the SDK backend. Please refer to https://wandb.me/wandb-core for more information.\n"
          ]
        },
        {
          "output_type": "display_data",
          "data": {
            "text/plain": [
              "<IPython.core.display.Javascript object>"
            ],
            "application/javascript": [
              "\n",
              "        window._wandbApiKey = new Promise((resolve, reject) => {\n",
              "            function loadScript(url) {\n",
              "            return new Promise(function(resolve, reject) {\n",
              "                let newScript = document.createElement(\"script\");\n",
              "                newScript.onerror = reject;\n",
              "                newScript.onload = resolve;\n",
              "                document.body.appendChild(newScript);\n",
              "                newScript.src = url;\n",
              "            });\n",
              "            }\n",
              "            loadScript(\"https://cdn.jsdelivr.net/npm/postmate/build/postmate.min.js\").then(() => {\n",
              "            const iframe = document.createElement('iframe')\n",
              "            iframe.style.cssText = \"width:0;height:0;border:none\"\n",
              "            document.body.appendChild(iframe)\n",
              "            const handshake = new Postmate({\n",
              "                container: iframe,\n",
              "                url: 'https://wandb.ai/authorize'\n",
              "            });\n",
              "            const timeout = setTimeout(() => reject(\"Couldn't auto authenticate\"), 5000)\n",
              "            handshake.then(function(child) {\n",
              "                child.on('authorize', data => {\n",
              "                    clearTimeout(timeout)\n",
              "                    resolve(data)\n",
              "                });\n",
              "            });\n",
              "            })\n",
              "        });\n",
              "    "
            ]
          },
          "metadata": {}
        },
        {
          "output_type": "stream",
          "name": "stderr",
          "text": [
            "\u001b[34m\u001b[1mwandb\u001b[0m: Logging into wandb.ai. (Learn how to deploy a W&B server locally: https://wandb.me/wandb-server)\n",
            "\u001b[34m\u001b[1mwandb\u001b[0m: You can find your API key in your browser here: https://wandb.ai/authorize\n",
            "wandb: Paste an API key from your profile and hit enter, or press ctrl+c to quit:"
          ]
        },
        {
          "name": "stdout",
          "output_type": "stream",
          "text": [
            " ··········\n"
          ]
        },
        {
          "output_type": "stream",
          "name": "stderr",
          "text": [
            "\u001b[34m\u001b[1mwandb\u001b[0m: Appending key for api.wandb.ai to your netrc file: /root/.netrc\n"
          ]
        },
        {
          "output_type": "execute_result",
          "data": {
            "text/plain": [
              "True"
            ]
          },
          "metadata": {},
          "execution_count": 5
        }
      ]
    },
    {
      "cell_type": "code",
      "source": [
        "args = dict(\n",
        "    total_epoch = 3,\n",
        "    batch_size = 128,\n",
        "    learning_rate = 0.005,\n",
        "    num_classes = 10,\n",
        "    hidden_size = 100\n",
        ")"
      ],
      "metadata": {
        "id": "F2L2IWjbJ0Ku"
      },
      "execution_count": null,
      "outputs": []
    },
    {
      "cell_type": "code",
      "source": [
        "wandb.init(project='fast_campus_deep_learning(Pytorch)')\n",
        "wandb.config.update(args)"
      ],
      "metadata": {
        "colab": {
          "base_uri": "https://localhost:8080/",
          "height": 123
        },
        "id": "O8v5zF5wMQx7",
        "outputId": "46c4df90-85cb-4bde-df7b-75121e7c610d"
      },
      "execution_count": null,
      "outputs": [
        {
          "output_type": "stream",
          "name": "stderr",
          "text": [
            "\u001b[34m\u001b[1mwandb\u001b[0m: Currently logged in as: \u001b[33mesok0617\u001b[0m (\u001b[33mesok0617-okeunsu\u001b[0m). Use \u001b[1m`wandb login --relogin`\u001b[0m to force relogin\n"
          ]
        },
        {
          "output_type": "display_data",
          "data": {
            "text/plain": [
              "<IPython.core.display.HTML object>"
            ],
            "text/html": [
              "Tracking run with wandb version 0.18.5"
            ]
          },
          "metadata": {}
        },
        {
          "output_type": "display_data",
          "data": {
            "text/plain": [
              "<IPython.core.display.HTML object>"
            ],
            "text/html": [
              "Run data is saved locally in <code>/content/wandb/run-20241024_110317-8pq27lcp</code>"
            ]
          },
          "metadata": {}
        },
        {
          "output_type": "display_data",
          "data": {
            "text/plain": [
              "<IPython.core.display.HTML object>"
            ],
            "text/html": [
              "Syncing run <strong><a href='https://wandb.ai/esok0617-okeunsu/fast_campus_deep_learning%28Pytorch%29/runs/8pq27lcp' target=\"_blank\">polar-paper-1</a></strong> to <a href='https://wandb.ai/esok0617-okeunsu/fast_campus_deep_learning%28Pytorch%29' target=\"_blank\">Weights & Biases</a> (<a href='https://wandb.me/run' target=\"_blank\">docs</a>)<br/>"
            ]
          },
          "metadata": {}
        },
        {
          "output_type": "display_data",
          "data": {
            "text/plain": [
              "<IPython.core.display.HTML object>"
            ],
            "text/html": [
              " View project at <a href='https://wandb.ai/esok0617-okeunsu/fast_campus_deep_learning%28Pytorch%29' target=\"_blank\">https://wandb.ai/esok0617-okeunsu/fast_campus_deep_learning%28Pytorch%29</a>"
            ]
          },
          "metadata": {}
        },
        {
          "output_type": "display_data",
          "data": {
            "text/plain": [
              "<IPython.core.display.HTML object>"
            ],
            "text/html": [
              " View run at <a href='https://wandb.ai/esok0617-okeunsu/fast_campus_deep_learning%28Pytorch%29/runs/8pq27lcp' target=\"_blank\">https://wandb.ai/esok0617-okeunsu/fast_campus_deep_learning%28Pytorch%29/runs/8pq27lcp</a>"
            ]
          },
          "metadata": {}
        }
      ]
    },
    {
      "cell_type": "code",
      "source": [
        "train_loader = DataLoader(train_data, batch_size=args['batch_size'], shuffle=True)\n",
        "test_loader = DataLoader(test_data, batch_size=args['batch_size'], shuffle=False)"
      ],
      "metadata": {
        "id": "27lJQHVvMmKq"
      },
      "execution_count": null,
      "outputs": []
    },
    {
      "cell_type": "code",
      "source": [
        "class Model(nn.Module):\n",
        "  def __init__(self, input_size, hidden_size, num_classes):\n",
        "    super(Model, self).__init__()\n",
        "\n",
        "    self.mlp1 = nn.Linear(input_size, hidden_size)\n",
        "    self.relu = nn.ReLU()\n",
        "    self.mlp2 = nn.Linear(hidden_size,  num_classes)\n",
        "\n",
        "  def forward(self, x):\n",
        "    out = self.mlp1(x)\n",
        "    out = self.relu(out)\n",
        "    out = self.mlp2(out)\n",
        "\n",
        "    return out"
      ],
      "metadata": {
        "id": "eih21udNOjpk"
      },
      "execution_count": null,
      "outputs": []
    },
    {
      "cell_type": "code",
      "source": [
        "device = torch.device('cuda' if torch.cuda.is_available() else 'cpu')"
      ],
      "metadata": {
        "id": "8PUI2OdfOTQ-"
      },
      "execution_count": null,
      "outputs": []
    },
    {
      "cell_type": "code",
      "source": [
        "model = Model(input_size=28*28*1, hidden_size=args['hidden_size'], num_classes=args['num_classes']).to(device)"
      ],
      "metadata": {
        "id": "fm3NVvWPO14_"
      },
      "execution_count": null,
      "outputs": []
    },
    {
      "cell_type": "code",
      "source": [
        "CELoss = nn.CrossEntropyLoss()\n",
        "adam_optimizer = torch.optim.Adam(model.parameters(), lr = args['learning_rate'])"
      ],
      "metadata": {
        "id": "QIBfqXc7O2uT"
      },
      "execution_count": null,
      "outputs": []
    },
    {
      "cell_type": "code",
      "source": [
        "wandb.watch(model)"
      ],
      "metadata": {
        "id": "kLcTNX0tPPch"
      },
      "execution_count": null,
      "outputs": []
    },
    {
      "cell_type": "code",
      "source": [
        "def train_model(args):\n",
        "  for epoch in range(args['total_epoch']):\n",
        "    for i, (images, labels) in enumerate(train_loader):\n",
        "      images_flatten = images.reshape(-1, 28*28).to(device)\n",
        "      labels = labels.to(device)\n",
        "\n",
        "      outputs = model(images_flatten)\n",
        "      ce_loss = CELoss(outputs, labels)\n",
        "\n",
        "      adam_optimizer.zero_grad()\n",
        "      ce_loss.backward()\n",
        "      adam_optimizer.step()\n",
        "\n",
        "      if (i+1) % 10 == 0:\n",
        "        log_dict={\"Current Epoch\":epoch, \"CE loss\":ce_loss}\n",
        "        wandb.log(log_dict)"
      ],
      "metadata": {
        "id": "US54kbU8PRTE"
      },
      "execution_count": null,
      "outputs": []
    },
    {
      "cell_type": "code",
      "source": [
        "train_model(args)"
      ],
      "metadata": {
        "id": "zRPZtQRXTIld"
      },
      "execution_count": null,
      "outputs": []
    },
    {
      "cell_type": "code",
      "source": [
        "def test_model():\n",
        "    # 학습이 끝난 후 모델 성능 테스트\n",
        "    # test에서는 back propagation 작업을 하지 않으므로 gradient를 계산하지 않도록 함 - 메모리의 효율성을 위해\n",
        "\n",
        "    images_ex = []\n",
        "    with torch.no_grad(): # gradient 계산하지 않도록 하는 코드\n",
        "        correct = 0\n",
        "        total = 0\n",
        "        for i, (images, labels) in enumerate(test_loader):\n",
        "            images_flatten = images.reshape(-1, 28*28).to(device)\n",
        "            labels = labels.to(device)\n",
        "            outputs = model(images_flatten)\n",
        "            _, predicted = torch.max(outputs.data, 1)\n",
        "            total += labels.size(0)\n",
        "            correct += (predicted == labels).sum().item()\n",
        "\n",
        "            if (i+1)%10 == 0: # 10번 iteration을 돌 때 마다\n",
        "                images_ex.append(wandb.Image(\n",
        "                    images[0], caption=\"predicted: {} label: {}\".format(predicted[0].item(), labels[0])))\n",
        "                log_dict={\"test accuracy\":correct/total}\n",
        "                wandb.log(log_dict)\n",
        "\n",
        "        print('Accuracy of the network on the 10000 test images: {} %'.format(100 * correct / total))"
      ],
      "metadata": {
        "id": "cXGcVplhYOVF"
      },
      "execution_count": null,
      "outputs": []
    },
    {
      "cell_type": "code",
      "source": [
        "test_model()"
      ],
      "metadata": {
        "colab": {
          "base_uri": "https://localhost:8080/"
        },
        "id": "wTm7tqmRZAUy",
        "outputId": "3af5cca0-941b-4af7-dc15-3d8f02f1bed3"
      },
      "execution_count": null,
      "outputs": [
        {
          "output_type": "stream",
          "name": "stdout",
          "text": [
            "Accuracy of the network on the 10000 test images: 97.27 %\n"
          ]
        }
      ]
    },
    {
      "cell_type": "markdown",
      "source": [
        "## Tensorflow"
      ],
      "metadata": {
        "id": "blrs2BM7Z7nt"
      }
    },
    {
      "cell_type": "code",
      "source": [
        "import tensorflow as tf\n",
        "from tensorflow.keras import Model, layers, optimizers, datasets\n",
        "\n",
        "(images_train, labels_train), (images_test, labels_test) = datasets.mnist.load_data()\n",
        "print(images_train.shape, labels_train.shape)"
      ],
      "metadata": {
        "id": "DUEXGg2yZF6n",
        "colab": {
          "base_uri": "https://localhost:8080/"
        },
        "outputId": "5c80a283-0cc6-431a-e012-5dd8f3ebddf9"
      },
      "execution_count": null,
      "outputs": [
        {
          "output_type": "stream",
          "name": "stdout",
          "text": [
            "(60000, 28, 28) (60000,)\n"
          ]
        }
      ]
    },
    {
      "cell_type": "code",
      "source": [
        "images_train = images_train/255.\n",
        "images_test = images_test/255."
      ],
      "metadata": {
        "id": "ClAocFmdVw-y"
      },
      "execution_count": null,
      "outputs": []
    },
    {
      "cell_type": "code",
      "source": [
        "import wandb\n",
        "from wandb.keras import WandbCallback\n",
        "wandb.login()"
      ],
      "metadata": {
        "colab": {
          "base_uri": "https://localhost:8080/"
        },
        "id": "22Gq_inwbV57",
        "outputId": "07c51834-7024-4b02-b651-6c6858f16cc8"
      },
      "execution_count": null,
      "outputs": [
        {
          "output_type": "stream",
          "name": "stderr",
          "text": [
            "ERROR:wandb.jupyter:Failed to detect the name of this notebook, you can set it manually with the WANDB_NOTEBOOK_NAME environment variable to enable code saving.\n",
            "\u001b[34m\u001b[1mwandb\u001b[0m: Currently logged in as: \u001b[33mesok0617\u001b[0m (\u001b[33mesok0617-okeunsu\u001b[0m). Use \u001b[1m`wandb login --relogin`\u001b[0m to force relogin\n"
          ]
        },
        {
          "output_type": "execute_result",
          "data": {
            "text/plain": [
              "True"
            ]
          },
          "metadata": {},
          "execution_count": 3
        }
      ]
    },
    {
      "cell_type": "code",
      "source": [
        "args = dict(\n",
        "    total_epoch = 3,\n",
        "    batch_size = 128,\n",
        "    optimizer = 'adam',\n",
        "    loss = 'sparse_categorical_crossentropy',\n",
        "    metrics = 'accuracy',\n",
        "    learning_rate = 0.005,\n",
        "    num_classes = 10,\n",
        "    hidden_size = [128, 256]\n",
        ")"
      ],
      "metadata": {
        "id": "Z5-q6HZrbgJZ"
      },
      "execution_count": null,
      "outputs": []
    },
    {
      "cell_type": "code",
      "source": [
        "run = wandb.init(project='fast_campus_deep_learning(Tensorflow)')\n",
        "wandb.config.update(args)"
      ],
      "metadata": {
        "colab": {
          "base_uri": "https://localhost:8080/",
          "height": 87
        },
        "id": "YaVcO4VKdfDa",
        "outputId": "c277a995-0e5c-4203-c74f-51f3081779e5"
      },
      "execution_count": null,
      "outputs": [
        {
          "output_type": "display_data",
          "data": {
            "text/plain": [
              "<IPython.core.display.HTML object>"
            ],
            "text/html": [
              "wandb version 0.18.5 is available!  To upgrade, please run:\n",
              " $ pip install wandb --upgrade"
            ]
          },
          "metadata": {}
        },
        {
          "output_type": "display_data",
          "data": {
            "text/plain": [
              "<IPython.core.display.HTML object>"
            ],
            "text/html": [
              "Tracking run with wandb version 0.13.4"
            ]
          },
          "metadata": {}
        },
        {
          "output_type": "display_data",
          "data": {
            "text/plain": [
              "<IPython.core.display.HTML object>"
            ],
            "text/html": [
              "Run data is saved locally in <code>/content/wandb/run-20241025_115606-z6xpcuxh</code>"
            ]
          },
          "metadata": {}
        },
        {
          "output_type": "display_data",
          "data": {
            "text/plain": [
              "<IPython.core.display.HTML object>"
            ],
            "text/html": [
              "Syncing run <strong><a href=\"https://wandb.ai/esok0617-okeunsu/fast_campus_deep_learning%28Tensorflow%29/runs/z6xpcuxh\" target=\"_blank\">upbeat-dawn-2</a></strong> to <a href=\"https://wandb.ai/esok0617-okeunsu/fast_campus_deep_learning%28Tensorflow%29\" target=\"_blank\">Weights & Biases</a> (<a href=\"https://wandb.me/run\" target=\"_blank\">docs</a>)<br/>"
            ]
          },
          "metadata": {}
        }
      ]
    },
    {
      "cell_type": "code",
      "source": [
        "model = tf.keras.Sequential([\n",
        "    layers.Flatten(input_shape=(28, 28)),\n",
        "    layers.Dense(args['hidden_size'][0], activation='relu'),\n",
        "    layers.Dense(args['hidden_size'][1], activation='relu'),\n",
        "    layers.Dense(args['num_classes'], activation='softmax')\n",
        "])"
      ],
      "metadata": {
        "id": "qKFTafxidnXj"
      },
      "execution_count": null,
      "outputs": []
    },
    {
      "cell_type": "code",
      "source": [
        "# 옵티마이저 설정\n",
        "optimizer = tf.keras.optimizers.get(args['optimizer'])\n",
        "optimizer.learning_rate = args['learning_rate']\n",
        "\n",
        "# 모델 컴파일\n",
        "model.compile(optimizer=optimizer,\n",
        "              loss=args['loss'],\n",
        "              metrics=[args['metrics']])"
      ],
      "metadata": {
        "id": "kENrVqLLeUOc"
      },
      "execution_count": null,
      "outputs": []
    },
    {
      "cell_type": "code",
      "source": [
        "# 모델 학습\n",
        "model.fit(\n",
        "    images_train, labels_train,\n",
        "    validation_data=(images_test, labels_test),\n",
        "    epochs=args['total_epoch'],\n",
        "    batch_size=args['batch_size'],\n",
        "    callbacks=[WandbCallback()]\n",
        ")"
      ],
      "metadata": {
        "colab": {
          "base_uri": "https://localhost:8080/"
        },
        "id": "ZzW_Ln2geiyZ",
        "outputId": "f12cc6e1-dc7d-4972-ed09-258517f6d095"
      },
      "execution_count": null,
      "outputs": [
        {
          "output_type": "stream",
          "name": "stderr",
          "text": [
            "\u001b[34m\u001b[1mwandb\u001b[0m: \u001b[33mWARNING\u001b[0m The save_model argument by default saves the model in the HDF5 format that cannot save custom objects like subclassed models and custom layers. This behavior will be deprecated in a future release in favor of the SavedModel format. Meanwhile, the HDF5 model is saved as W&B files and the SavedModel as W&B Artifacts.\n"
          ]
        },
        {
          "output_type": "stream",
          "name": "stdout",
          "text": [
            "Epoch 1/3\n",
            "469/469 [==============================] - ETA: 0s - loss: 0.2191 - accuracy: 0.9326"
          ]
        },
        {
          "output_type": "stream",
          "name": "stderr",
          "text": [
            "\u001b[34m\u001b[1mwandb\u001b[0m: Adding directory to artifact (/content/wandb/run-20241025_115606-z6xpcuxh/files/model-best)... Done. 0.0s\n"
          ]
        },
        {
          "output_type": "stream",
          "name": "stdout",
          "text": [
            "\b\b\b\b\b\b\b\b\b\b\b\b\b\b\b\b\b\b\b\b\b\b\b\b\b\b\b\b\b\b\b\b\b\b\b\b\b\b\b\b\b\b\b\b\b\b\b\b\b\b\b\b\b\b\b\b\b\b\b\b\b\b\b\b\b\b\b\b\b\b\b\b\b\b\b\b\b\b\b\b\b\b\b\b\r469/469 [==============================] - 9s 17ms/step - loss: 0.2191 - accuracy: 0.9326 - val_loss: 0.1280 - val_accuracy: 0.9573\n",
            "Epoch 2/3\n",
            "468/469 [============================>.] - ETA: 0s - loss: 0.1012 - accuracy: 0.9691"
          ]
        },
        {
          "output_type": "stream",
          "name": "stderr",
          "text": [
            "\u001b[34m\u001b[1mwandb\u001b[0m: Adding directory to artifact (/content/wandb/run-20241025_115606-z6xpcuxh/files/model-best)... Done. 0.0s\n"
          ]
        },
        {
          "output_type": "stream",
          "name": "stdout",
          "text": [
            "\b\b\b\b\b\b\b\b\b\b\b\b\b\b\b\b\b\b\b\b\b\b\b\b\b\b\b\b\b\b\b\b\b\b\b\b\b\b\b\b\b\b\b\b\b\b\b\b\b\b\b\b\b\b\b\b\b\b\b\b\b\b\b\b\b\b\b\b\b\b\b\b\b\b\b\b\b\b\b\b\b\b\b\b\r469/469 [==============================] - 4s 8ms/step - loss: 0.1013 - accuracy: 0.9690 - val_loss: 0.1047 - val_accuracy: 0.9684\n",
            "Epoch 3/3\n",
            "469/469 [==============================] - 4s 8ms/step - loss: 0.0732 - accuracy: 0.9772 - val_loss: 0.1110 - val_accuracy: 0.9665\n"
          ]
        },
        {
          "output_type": "execute_result",
          "data": {
            "text/plain": [
              "<keras.callbacks.History at 0x7f61a276a7a0>"
            ]
          },
          "metadata": {},
          "execution_count": 8
        }
      ]
    },
    {
      "cell_type": "code",
      "source": [
        "loss, accuracy = model.evaluate(images_test, labels_test)"
      ],
      "metadata": {
        "colab": {
          "base_uri": "https://localhost:8080/"
        },
        "id": "ICFCyl4KfBZp",
        "outputId": "970ccf96-521e-46cf-aee5-a8658218242f"
      },
      "execution_count": null,
      "outputs": [
        {
          "output_type": "stream",
          "name": "stdout",
          "text": [
            "313/313 [==============================] - 2s 5ms/step - loss: 0.1110 - accuracy: 0.9665\n"
          ]
        }
      ]
    },
    {
      "cell_type": "code",
      "source": [
        "wandb.log({'test_loss':loss, 'test_accuracy':accuracy})"
      ],
      "metadata": {
        "id": "YFDqkdKjjhTC"
      },
      "execution_count": null,
      "outputs": []
    }
  ]
}
