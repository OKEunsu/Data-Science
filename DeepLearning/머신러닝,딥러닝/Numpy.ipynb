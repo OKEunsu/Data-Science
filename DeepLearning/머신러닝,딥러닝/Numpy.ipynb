{
  "nbformat": 4,
  "nbformat_minor": 0,
  "metadata": {
    "colab": {
      "provenance": [],
      "authorship_tag": "ABX9TyNIejNXE4vCnzNhaBPb0V3w"
    },
    "kernelspec": {
      "name": "python3",
      "display_name": "Python 3"
    },
    "language_info": {
      "name": "python"
    }
  },
  "cells": [
    {
      "cell_type": "code",
      "execution_count": 1,
      "metadata": {
        "id": "TYdDN9U7cF7k"
      },
      "outputs": [],
      "source": [
        "import numpy as np"
      ]
    },
    {
      "cell_type": "code",
      "source": [
        "# Numpy ndarray\n",
        "a = np.array([1,2,3])\n",
        "print(a, type(a))"
      ],
      "metadata": {
        "colab": {
          "base_uri": "https://localhost:8080/"
        },
        "id": "eUV9cpERiizN",
        "outputId": "c9fbe612-76ef-4f03-d3af-533fea490bfb"
      },
      "execution_count": 2,
      "outputs": [
        {
          "output_type": "stream",
          "name": "stdout",
          "text": [
            "[1 2 3] <class 'numpy.ndarray'>\n"
          ]
        }
      ]
    },
    {
      "cell_type": "code",
      "source": [
        "# List와 비교\n",
        "l = [1,2,3]\n",
        "a = np.array(l)\n",
        "print(l, type(l))\n",
        "print(a, type(a))"
      ],
      "metadata": {
        "colab": {
          "base_uri": "https://localhost:8080/"
        },
        "id": "VVnzzomakNar",
        "outputId": "aff7e5dd-4ea0-4f0a-8c08-43879247c16d"
      },
      "execution_count": 5,
      "outputs": [
        {
          "output_type": "stream",
          "name": "stdout",
          "text": [
            "[1, 2, 3] <class 'list'>\n",
            "[1 2 3] <class 'numpy.ndarray'>\n"
          ]
        }
      ]
    },
    {
      "cell_type": "code",
      "source": [
        "for item in l:\n",
        "  print(item)"
      ],
      "metadata": {
        "colab": {
          "base_uri": "https://localhost:8080/"
        },
        "id": "Flvn6EQHlCOJ",
        "outputId": "f0e1a870-6b31-4d44-cbf4-c1d8d0eba539"
      },
      "execution_count": 7,
      "outputs": [
        {
          "output_type": "stream",
          "name": "stdout",
          "text": [
            "1\n",
            "2\n",
            "3\n"
          ]
        }
      ]
    },
    {
      "cell_type": "code",
      "source": [
        "for item in a:\n",
        "  print(item)"
      ],
      "metadata": {
        "colab": {
          "base_uri": "https://localhost:8080/"
        },
        "id": "8T_c2JYMlrmJ",
        "outputId": "4aaac985-1763-4b79-c060-51730976f9b2"
      },
      "execution_count": 8,
      "outputs": [
        {
          "output_type": "stream",
          "name": "stdout",
          "text": [
            "1\n",
            "2\n",
            "3\n"
          ]
        }
      ]
    },
    {
      "cell_type": "code",
      "source": [
        "# 데이터 추가\n",
        "l.append(4)\n",
        "print(l)"
      ],
      "metadata": {
        "colab": {
          "base_uri": "https://localhost:8080/"
        },
        "id": "Vmhh6da6lvG-",
        "outputId": "c7e12039-9659-40ec-e244-b56332e8f1e0"
      },
      "execution_count": 9,
      "outputs": [
        {
          "output_type": "stream",
          "name": "stdout",
          "text": [
            "[1, 2, 3, 4]\n"
          ]
        }
      ]
    },
    {
      "cell_type": "code",
      "source": [
        "# np.array 데이터 추가\n",
        "a = np.append(a, 4)\n",
        "print(a)"
      ],
      "metadata": {
        "colab": {
          "base_uri": "https://localhost:8080/"
        },
        "id": "UHALkxYyl2yw",
        "outputId": "651dd42c-f454-46d8-ef4d-4a7bb4e791ff"
      },
      "execution_count": 11,
      "outputs": [
        {
          "output_type": "stream",
          "name": "stdout",
          "text": [
            "[1 2 3 4]\n"
          ]
        }
      ]
    },
    {
      "cell_type": "code",
      "source": [
        "# list 데이터 추가\n",
        "l = l + [5]\n",
        "print(l)"
      ],
      "metadata": {
        "colab": {
          "base_uri": "https://localhost:8080/"
        },
        "id": "ZJP-rb0dl-RA",
        "outputId": "31a1a974-b45a-4e13-c273-b4dbfa019d14"
      },
      "execution_count": 12,
      "outputs": [
        {
          "output_type": "stream",
          "name": "stdout",
          "text": [
            "[1, 2, 3, 4, 5]\n"
          ]
        }
      ]
    },
    {
      "cell_type": "code",
      "source": [
        "# List의 모든 원소를 2배를 만들기\n",
        "l = [1,2,3]\n",
        "i2 = []\n",
        "for item in l:\n",
        "  i2.append(item*2)\n",
        "print(i2)"
      ],
      "metadata": {
        "colab": {
          "base_uri": "https://localhost:8080/"
        },
        "id": "btKsjkvZmCrC",
        "outputId": "b200fe8d-f011-4816-e189-990e4c1a4a86"
      },
      "execution_count": 13,
      "outputs": [
        {
          "output_type": "stream",
          "name": "stdout",
          "text": [
            "[2, 4, 6]\n"
          ]
        }
      ]
    },
    {
      "cell_type": "code",
      "source": [
        "# ndarray의 모든 원소를 2배로 만들기\n",
        "a = np.array(l)\n",
        "a2 = a*2\n",
        "print(a2)"
      ],
      "metadata": {
        "colab": {
          "base_uri": "https://localhost:8080/"
        },
        "id": "EmcJy_5Dmq16",
        "outputId": "9e793417-bb18-4c6e-f6cb-6b1507a3d92b"
      },
      "execution_count": 14,
      "outputs": [
        {
          "output_type": "stream",
          "name": "stdout",
          "text": [
            "[2 4 6]\n"
          ]
        }
      ]
    },
    {
      "cell_type": "code",
      "source": [
        "# List는 원소가 두배가 된다\n",
        "l * 2"
      ],
      "metadata": {
        "colab": {
          "base_uri": "https://localhost:8080/"
        },
        "id": "6yyV9dfCoRPS",
        "outputId": "0645c72d-f7ce-44da-ca49-383e8ff789ff"
      },
      "execution_count": 15,
      "outputs": [
        {
          "output_type": "execute_result",
          "data": {
            "text/plain": [
              "[1, 2, 3, 1, 2, 3]"
            ]
          },
          "metadata": {},
          "execution_count": 15
        }
      ]
    },
    {
      "cell_type": "code",
      "source": [
        "# 배열\n",
        "a = np.array([1,2,3])\n",
        "print(a)\n",
        "print('type : {}\\nndim : {}\\nshape : {}\\ndtype : {}'.format(type(a), a.ndim, a.shape, a.dtype))"
      ],
      "metadata": {
        "colab": {
          "base_uri": "https://localhost:8080/"
        },
        "id": "7Zg6YyRooagD",
        "outputId": "3ca6bb01-605a-4c34-eba4-233d00b6e5c4"
      },
      "execution_count": 19,
      "outputs": [
        {
          "output_type": "stream",
          "name": "stdout",
          "text": [
            "[1 2 3]\n",
            "type : <class 'numpy.ndarray'>\n",
            "ndim : 1\n",
            "shape : (3,)\n",
            "dtype : int64\n"
          ]
        }
      ]
    },
    {
      "cell_type": "code",
      "source": [
        "# asarray : numpy array로 변환\n",
        "b = np.asarray(a)\n",
        "print(b)"
      ],
      "metadata": {
        "colab": {
          "base_uri": "https://localhost:8080/"
        },
        "id": "eK9d2xSXvNxi",
        "outputId": "33b102bd-8aef-4cf1-a7f2-c7cedf46783a"
      },
      "execution_count": 23,
      "outputs": [
        {
          "output_type": "stream",
          "name": "stdout",
          "text": [
            "[9 2 3]\n"
          ]
        }
      ]
    },
    {
      "cell_type": "code",
      "source": [
        "# b 요소 변환 a도 같이 변환\n",
        "b[0] = 9\n",
        "print(a)\n",
        "print(b)"
      ],
      "metadata": {
        "colab": {
          "base_uri": "https://localhost:8080/"
        },
        "id": "ZciSoupYvsNx",
        "outputId": "804a30d0-76f8-472c-bd02-7e7670b46cc6"
      },
      "execution_count": 24,
      "outputs": [
        {
          "output_type": "stream",
          "name": "stdout",
          "text": [
            "[9 2 3]\n",
            "[9 2 3]\n"
          ]
        }
      ]
    },
    {
      "cell_type": "code",
      "source": [
        "# 인자가 np.array일 경우에 반환, 아닐경우 새로운 np.array로 반환\n",
        "c = [1,2,3]\n",
        "d = np.asarray(c)\n",
        "d[0] = 8\n",
        "print(c)\n",
        "print(d)"
      ],
      "metadata": {
        "colab": {
          "base_uri": "https://localhost:8080/"
        },
        "id": "i0IhVD5qvtQB",
        "outputId": "f212c0ef-b55b-4a3e-a629-2e78a000c964"
      },
      "execution_count": 25,
      "outputs": [
        {
          "output_type": "stream",
          "name": "stdout",
          "text": [
            "[1, 2, 3]\n",
            "[8 2 3]\n"
          ]
        }
      ]
    },
    {
      "cell_type": "code",
      "source": [
        "# 3*4 0인 배열\n",
        "a = np.zeros((3,4))\n",
        "print(a)"
      ],
      "metadata": {
        "colab": {
          "base_uri": "https://localhost:8080/"
        },
        "id": "P0Ky3QFUwhMS",
        "outputId": "baf1aaf1-4083-4282-8659-345981a2e872"
      },
      "execution_count": 26,
      "outputs": [
        {
          "output_type": "stream",
          "name": "stdout",
          "text": [
            "[[0. 0. 0. 0.]\n",
            " [0. 0. 0. 0.]\n",
            " [0. 0. 0. 0.]]\n"
          ]
        }
      ]
    },
    {
      "cell_type": "code",
      "source": [
        "# 5*2 1인 배열\n",
        "b = np.ones((5,2))\n",
        "print(b)"
      ],
      "metadata": {
        "colab": {
          "base_uri": "https://localhost:8080/"
        },
        "id": "WtAwM8iiwxz1",
        "outputId": "25195ee2-5d40-4d5b-b0d0-b436ab727437"
      },
      "execution_count": 27,
      "outputs": [
        {
          "output_type": "stream",
          "name": "stdout",
          "text": [
            "[[1. 1.]\n",
            " [1. 1.]\n",
            " [1. 1.]\n",
            " [1. 1.]\n",
            " [1. 1.]]\n"
          ]
        }
      ]
    },
    {
      "cell_type": "code",
      "source": [
        "# 2*3 4인 배열\n",
        "c = np.full((2,3), 4)\n",
        "print(c)"
      ],
      "metadata": {
        "colab": {
          "base_uri": "https://localhost:8080/"
        },
        "id": "yiEwDtsqw3W6",
        "outputId": "6ce384a4-1e3b-40ef-eedd-0527c72d0cea"
      },
      "execution_count": 28,
      "outputs": [
        {
          "output_type": "stream",
          "name": "stdout",
          "text": [
            "[[4 4 4]\n",
            " [4 4 4]]\n"
          ]
        }
      ]
    },
    {
      "cell_type": "code",
      "source": [
        "# 2*3 빈 배열 생성 -> 배열 내용은 이미 존재한 값으로 랜덤\n",
        "d = np.empty((2,3))\n",
        "print(d)"
      ],
      "metadata": {
        "colab": {
          "base_uri": "https://localhost:8080/"
        },
        "id": "O8iYEaWZw7fc",
        "outputId": "af5fe242-4f8c-4485-c334-8d03ca3d4fe4"
      },
      "execution_count": 29,
      "outputs": [
        {
          "output_type": "stream",
          "name": "stdout",
          "text": [
            "[[4.77739272e-310 0.00000000e+000 5.29279385e+199]\n",
            " [6.45598269e+170 1.33717014e-152 2.19527311e-152]]\n"
          ]
        }
      ]
    },
    {
      "cell_type": "code",
      "source": [
        "# a 같은 배열 즉 3*4인 배열로 생성\n",
        "e = np.zeros_like(a) # 0으로\n",
        "f = np.ones_like(a) # 1으로\n",
        "g = np.full_like(a, 2) # 2으로\n",
        "h = np.empty_like(a) # 빈 배열으로\n",
        "print(e)\n",
        "print('')\n",
        "print(f)\n",
        "print('')\n",
        "print(g)\n",
        "print('')\n",
        "print(h)"
      ],
      "metadata": {
        "colab": {
          "base_uri": "https://localhost:8080/"
        },
        "id": "T1cvzJO7xBij",
        "outputId": "31bab2c6-b26a-4a96-f9cc-a31961d7edb3"
      },
      "execution_count": 31,
      "outputs": [
        {
          "output_type": "stream",
          "name": "stdout",
          "text": [
            "[[0. 0. 0. 0.]\n",
            " [0. 0. 0. 0.]\n",
            " [0. 0. 0. 0.]]\n",
            "\n",
            "[[1. 1. 1. 1.]\n",
            " [1. 1. 1. 1.]\n",
            " [1. 1. 1. 1.]]\n",
            "\n",
            "[[2. 2. 2. 2.]\n",
            " [2. 2. 2. 2.]\n",
            " [2. 2. 2. 2.]]\n",
            "\n",
            "[[4.77739268e-310 0.00000000e+000 0.00000000e+000 0.00000000e+000]\n",
            " [0.00000000e+000 0.00000000e+000 0.00000000e+000 0.00000000e+000]\n",
            " [0.00000000e+000 0.00000000e+000 0.00000000e+000 0.00000000e+000]]\n"
          ]
        }
      ]
    },
    {
      "cell_type": "code",
      "source": [
        "# 항등 행렬\n",
        "# eye : 대각선 행렬, identity : 단위 행렬 생성(행렬의 크기)\n",
        "i = np.eye(3)\n",
        "j = np.identity(3)\n",
        "print(i)\n",
        "print('')\n",
        "print(j)"
      ],
      "metadata": {
        "colab": {
          "base_uri": "https://localhost:8080/"
        },
        "id": "oVZ76zhIxoVp",
        "outputId": "5019428b-e5ee-44c0-bc40-4e787a1fe43d"
      },
      "execution_count": 48,
      "outputs": [
        {
          "output_type": "stream",
          "name": "stdout",
          "text": [
            "[[1. 0. 0.]\n",
            " [0. 1. 0.]\n",
            " [0. 0. 1.]]\n",
            "\n",
            "[[1. 0. 0.]\n",
            " [0. 1. 0.]\n",
            " [0. 0. 1.]]\n"
          ]
        }
      ]
    },
    {
      "cell_type": "code",
      "source": [
        "# eye는 k로 이동 할 수 있음 - 왼, + 오\n",
        "i2 = np.eye(3, k=1) * 2 # 곱하기로 숫자 변환\n",
        "print(i2 )"
      ],
      "metadata": {
        "colab": {
          "base_uri": "https://localhost:8080/"
        },
        "id": "G0uuwbtpy77M",
        "outputId": "1914b262-ed42-4472-e5ea-0108452791e8"
      },
      "execution_count": 49,
      "outputs": [
        {
          "output_type": "stream",
          "name": "stdout",
          "text": [
            "[[0. 2. 0.]\n",
            " [0. 0. 2.]\n",
            " [0. 0. 0.]]\n"
          ]
        }
      ]
    },
    {
      "cell_type": "code",
      "source": [
        "# 0~9까지 배열 생성\n",
        "k = np.arange(10)\n",
        "print(k)"
      ],
      "metadata": {
        "colab": {
          "base_uri": "https://localhost:8080/"
        },
        "id": "TYQbw2P-zh9K",
        "outputId": "de1ea10e-8127-45b4-d202-fee7ad6a6576"
      },
      "execution_count": 50,
      "outputs": [
        {
          "output_type": "stream",
          "name": "stdout",
          "text": [
            "[0 1 2 3 4 5 6 7 8 9]\n"
          ]
        }
      ]
    },
    {
      "cell_type": "code",
      "source": [
        "# 2*2인 랜덤 배열 생성(0~1의 랜덤한 값)\n",
        "l = np.random.rand(2,2)\n",
        "print(l)"
      ],
      "metadata": {
        "colab": {
          "base_uri": "https://localhost:8080/"
        },
        "id": "wyNemthCzl6L",
        "outputId": "84df281a-0662-406e-f405-ecfbece034ef"
      },
      "execution_count": 51,
      "outputs": [
        {
          "output_type": "stream",
          "name": "stdout",
          "text": [
            "[[0.90404081 0.40344794]\n",
            " [0.63169238 0.25699806]]\n"
          ]
        }
      ]
    },
    {
      "cell_type": "code",
      "source": [
        "# 2*2인 평균이 1이고 표준편차 1인 정규분포의 랜덤 배열 생성\n",
        "m = np.random.randn(2,2)\n",
        "print(m)"
      ],
      "metadata": {
        "colab": {
          "base_uri": "https://localhost:8080/"
        },
        "id": "aaMOWObHzuWk",
        "outputId": "c1bab58c-8903-4721-b6e1-5b21b42f8b7d"
      },
      "execution_count": 52,
      "outputs": [
        {
          "output_type": "stream",
          "name": "stdout",
          "text": [
            "[[ 0.93382772  1.08404168]\n",
            " [-0.83000549 -0.82461578]]\n"
          ]
        }
      ]
    },
    {
      "cell_type": "code",
      "source": [
        "# 배열의 dtype\n",
        "a = np.array([1, 2, 3])\n",
        "b = np.array([1, 2, 3], dtype=np.float64)\n",
        "c = np.array([1, 2, 3], dtype=np.int32)\n",
        "\n",
        "print(a.dtype, b.dtype, c.dtype)"
      ],
      "metadata": {
        "colab": {
          "base_uri": "https://localhost:8080/"
        },
        "id": "hYHHvSPuz4P3",
        "outputId": "dd5efbcf-d5fb-436f-c99e-c4cdf693b9f9"
      },
      "execution_count": 53,
      "outputs": [
        {
          "output_type": "stream",
          "name": "stdout",
          "text": [
            "int64 float64 int32\n"
          ]
        }
      ]
    },
    {
      "cell_type": "code",
      "source": [
        "d = np.array([1, 2, 3], dtype='i1')\n",
        "e = np.array([1, 2, 3], dtype='i2')\n",
        "f = np.array([1, 2, 3], dtype='i4')\n",
        "g = np.array([1, 2, 3], dtype='i8')\n",
        "\n",
        "print(d.dtype, e.dtype, f.dtype, g.dtype)"
      ],
      "metadata": {
        "colab": {
          "base_uri": "https://localhost:8080/"
        },
        "id": "zAB_vfg8z-Ru",
        "outputId": "96f32d73-2209-4ad4-b434-c25de8d68777"
      },
      "execution_count": 54,
      "outputs": [
        {
          "output_type": "stream",
          "name": "stdout",
          "text": [
            "int8 int16 int32 int64\n"
          ]
        }
      ]
    },
    {
      "cell_type": "code",
      "source": [
        "d = np.array([1, 2, 3], dtype='u1')\n",
        "e = np.array([1, 2, 3], dtype='u2')\n",
        "f = np.array([1, 2, 3], dtype='u4')\n",
        "g = np.array([1, 2, 3], dtype='u8')\n",
        "\n",
        "print(d.dtype, e.dtype, f.dtype, g.dtype)"
      ],
      "metadata": {
        "colab": {
          "base_uri": "https://localhost:8080/"
        },
        "id": "to0D1g7G0BEg",
        "outputId": "8e5ec845-07ee-48f5-b9bc-94f0e4c5b98c"
      },
      "execution_count": 55,
      "outputs": [
        {
          "output_type": "stream",
          "name": "stdout",
          "text": [
            "uint8 uint16 uint32 uint64\n"
          ]
        }
      ]
    },
    {
      "cell_type": "code",
      "source": [
        "h = np.array([1, 2, 3], dtype='f2')\n",
        "i = np.array([1, 2, 3], dtype='f4')\n",
        "j = np.array([1, 2, 3], dtype='f8')\n",
        "k = np.array([1, 2, 3], dtype='f16')\n",
        "\n",
        "print(h.dtype, i.dtype, j.dtype, k.dtype)"
      ],
      "metadata": {
        "colab": {
          "base_uri": "https://localhost:8080/"
        },
        "id": "1wWe8lrT0C3O",
        "outputId": "0c1d3766-553d-469a-952b-6a898206a8ef"
      },
      "execution_count": 56,
      "outputs": [
        {
          "output_type": "stream",
          "name": "stdout",
          "text": [
            "float16 float32 float64 float128\n"
          ]
        }
      ]
    },
    {
      "cell_type": "code",
      "source": [
        "h = np.array([1, 2, 3], dtype='f2')\n",
        "i = np.array([1, 2, 3], dtype='f')\n",
        "j = np.array([1, 2, 3], dtype='d')\n",
        "k = np.array([1, 2, 3], dtype='g')\n",
        "\n",
        "print(h.dtype, i.dtype, j.dtype, k.dtype)"
      ],
      "metadata": {
        "colab": {
          "base_uri": "https://localhost:8080/"
        },
        "id": "SDz4tc6t0HU5",
        "outputId": "d2821ba1-3155-4835-ed63-b3369d914d3a"
      },
      "execution_count": 58,
      "outputs": [
        {
          "output_type": "stream",
          "name": "stdout",
          "text": [
            "float16 float32 float64 float128\n"
          ]
        }
      ]
    },
    {
      "cell_type": "code",
      "source": [
        "i = i.astype(np.int32)\n",
        "print(i.dtype)"
      ],
      "metadata": {
        "colab": {
          "base_uri": "https://localhost:8080/"
        },
        "id": "D5BZORTI0LkL",
        "outputId": "c504dab3-7892-4274-ec41-4c2767ac9895"
      },
      "execution_count": 59,
      "outputs": [
        {
          "output_type": "stream",
          "name": "stdout",
          "text": [
            "int32\n"
          ]
        }
      ]
    },
    {
      "cell_type": "code",
      "source": [
        "j = j.astype(i.dtype)\n",
        "print(j.dtype)"
      ],
      "metadata": {
        "colab": {
          "base_uri": "https://localhost:8080/"
        },
        "id": "Y-tnaQkB0ROM",
        "outputId": "ebdfd502-dccc-47e0-954e-0d6cb4e7571d"
      },
      "execution_count": 60,
      "outputs": [
        {
          "output_type": "stream",
          "name": "stdout",
          "text": [
            "int32\n"
          ]
        }
      ]
    },
    {
      "cell_type": "code",
      "source": [
        "# 배열 indexing, slicing\n",
        "a = np.arange(10)\n",
        "print(a)"
      ],
      "metadata": {
        "colab": {
          "base_uri": "https://localhost:8080/"
        },
        "id": "_2pkd4JL0VHK",
        "outputId": "082305d2-706b-4ecf-8aae-bd28a5ee8f20"
      },
      "execution_count": 61,
      "outputs": [
        {
          "output_type": "stream",
          "name": "stdout",
          "text": [
            "[0 1 2 3 4 5 6 7 8 9]\n"
          ]
        }
      ]
    },
    {
      "cell_type": "code",
      "source": [
        "# indexing\n",
        "print(a[5])"
      ],
      "metadata": {
        "colab": {
          "base_uri": "https://localhost:8080/"
        },
        "id": "V6UA8Qij1iUU",
        "outputId": "2d479eb5-354d-43f7-b126-4e47c6eee7fc"
      },
      "execution_count": 62,
      "outputs": [
        {
          "output_type": "stream",
          "name": "stdout",
          "text": [
            "5\n"
          ]
        }
      ]
    },
    {
      "cell_type": "code",
      "source": [
        "# slicing\n",
        "print(a[5:8])"
      ],
      "metadata": {
        "colab": {
          "base_uri": "https://localhost:8080/"
        },
        "id": "uxBQh-871ix_",
        "outputId": "4306b9dd-2e26-4c83-bf88-68d43d3b15dd"
      },
      "execution_count": 63,
      "outputs": [
        {
          "output_type": "stream",
          "name": "stdout",
          "text": [
            "[5 6 7]\n"
          ]
        }
      ]
    },
    {
      "cell_type": "code",
      "source": [
        "print(a[-1])"
      ],
      "metadata": {
        "colab": {
          "base_uri": "https://localhost:8080/"
        },
        "id": "l9ndE-AW1jeA",
        "outputId": "e94653a8-136a-4a40-95cd-5dadbea08a29"
      },
      "execution_count": 64,
      "outputs": [
        {
          "output_type": "stream",
          "name": "stdout",
          "text": [
            "9\n"
          ]
        }
      ]
    },
    {
      "cell_type": "code",
      "source": [
        "print(a[7:-1])"
      ],
      "metadata": {
        "colab": {
          "base_uri": "https://localhost:8080/"
        },
        "id": "TVWeuaEn1k1T",
        "outputId": "edd092c7-ceb7-4bf5-f01c-650f96481e58"
      },
      "execution_count": 65,
      "outputs": [
        {
          "output_type": "stream",
          "name": "stdout",
          "text": [
            "[7 8]\n"
          ]
        }
      ]
    },
    {
      "cell_type": "code",
      "source": [
        "a[5:8] = 10\n",
        "print(a)"
      ],
      "metadata": {
        "colab": {
          "base_uri": "https://localhost:8080/"
        },
        "id": "0T09e16l1lzx",
        "outputId": "8abdbb62-8b67-479a-acc4-3cd2ada8f0a3"
      },
      "execution_count": 66,
      "outputs": [
        {
          "output_type": "stream",
          "name": "stdout",
          "text": [
            "[ 0  1  2  3  4 10 10 10  8  9]\n"
          ]
        }
      ]
    },
    {
      "cell_type": "code",
      "source": [
        "# indexcing, slicing의 차이\n",
        "b = np.arange(1, 13)\n",
        "# b = b.reshape(3, 4)\n",
        "print(b)\n",
        "print('')\n",
        "print(b.shape)\n",
        "print('')\n",
        "print(b.ndim)"
      ],
      "metadata": {
        "colab": {
          "base_uri": "https://localhost:8080/"
        },
        "id": "bzaPXa0n1oY1",
        "outputId": "41ae21f0-5405-42ab-cd55-18a454dac268"
      },
      "execution_count": 68,
      "outputs": [
        {
          "output_type": "stream",
          "name": "stdout",
          "text": [
            "[ 1  2  3  4  5  6  7  8  9 10 11 12]\n",
            "\n",
            "(12,)\n",
            "\n",
            "1\n"
          ]
        }
      ]
    },
    {
      "cell_type": "code",
      "source": [
        "indexing = b[1]\n",
        "slicing = b[1:2]\n",
        "print('indexing : {}\\nshape : {}\\nndim :{}'.format(indexing, indexing.shape, indexing.ndim))\n",
        "print('')\n",
        "print('slicing : {}\\nshape : {}\\nndim : {}'.format(slicing, slicing.shape, slicing.ndim))"
      ],
      "metadata": {
        "colab": {
          "base_uri": "https://localhost:8080/"
        },
        "id": "JA3nu3PsA7e_",
        "outputId": "1729c283-315f-45b7-ca73-f63bb9241c30"
      },
      "execution_count": 71,
      "outputs": [
        {
          "output_type": "stream",
          "name": "stdout",
          "text": [
            "indexing : 2\n",
            "shape : ()\n",
            "ndim :0\n",
            "\n",
            "slicing : [2]\n",
            "shape : (1,)\n",
            "ndim : 1\n"
          ]
        }
      ]
    },
    {
      "cell_type": "code",
      "source": [
        "# 배열 변환\n",
        "b = b.reshape(3, 4)\n",
        "print(b)\n",
        "print('')\n",
        "print(b.shape)\n",
        "print('')\n",
        "print(b.ndim)"
      ],
      "metadata": {
        "colab": {
          "base_uri": "https://localhost:8080/"
        },
        "id": "Qya2MUo6A-oM",
        "outputId": "dd33ed94-136a-4f87-ad92-4ae7914990f8"
      },
      "execution_count": 72,
      "outputs": [
        {
          "output_type": "stream",
          "name": "stdout",
          "text": [
            "[[ 1  2  3  4]\n",
            " [ 5  6  7  8]\n",
            " [ 9 10 11 12]]\n",
            "\n",
            "(3, 4)\n",
            "\n",
            "2\n"
          ]
        }
      ]
    },
    {
      "cell_type": "code",
      "source": [
        "row_r1 = b[1, :] # indexing # 차원 감소\n",
        "row_r2 = b[1:2, :] # sliceing\n",
        "print(row_r1, row_r1.shape, row_r1.ndim)\n",
        "print(row_r2, row_r2.shape, row_r2.ndim)"
      ],
      "metadata": {
        "colab": {
          "base_uri": "https://localhost:8080/"
        },
        "id": "1XdY-lJ_G_ve",
        "outputId": "e244313d-6305-4784-bbfe-e7c4d7d22dc6"
      },
      "execution_count": 73,
      "outputs": [
        {
          "output_type": "stream",
          "name": "stdout",
          "text": [
            "[5 6 7 8] (4,) 1\n",
            "[[5 6 7 8]] (1, 4) 2\n"
          ]
        }
      ]
    },
    {
      "cell_type": "code",
      "source": [
        "c = np.arange(24).reshape(2,3,4)\n",
        "print(c)\n",
        "print(c.shape)"
      ],
      "metadata": {
        "colab": {
          "base_uri": "https://localhost:8080/"
        },
        "id": "0NyoYm35HRtx",
        "outputId": "4f660e7f-8cbe-4c01-a2f5-9e1bb82d9b44"
      },
      "execution_count": 74,
      "outputs": [
        {
          "output_type": "stream",
          "name": "stdout",
          "text": [
            "[[[ 0  1  2  3]\n",
            "  [ 4  5  6  7]\n",
            "  [ 8  9 10 11]]\n",
            "\n",
            " [[12 13 14 15]\n",
            "  [16 17 18 19]\n",
            "  [20 21 22 23]]]\n",
            "(2, 3, 4)\n"
          ]
        }
      ]
    },
    {
      "cell_type": "code",
      "source": [
        "print(c[:,:,:1])\n",
        "print('')\n",
        "print(c[...,:1])"
      ],
      "metadata": {
        "colab": {
          "base_uri": "https://localhost:8080/"
        },
        "id": "Ns2D2gNWHVZp",
        "outputId": "6a78f141-ff36-4f9a-a339-66765f92ffa1"
      },
      "execution_count": 76,
      "outputs": [
        {
          "output_type": "stream",
          "name": "stdout",
          "text": [
            "[[[ 0]\n",
            "  [ 4]\n",
            "  [ 8]]\n",
            "\n",
            " [[12]\n",
            "  [16]\n",
            "  [20]]]\n",
            "\n",
            "[[[ 0]\n",
            "  [ 4]\n",
            "  [ 8]]\n",
            "\n",
            " [[12]\n",
            "  [16]\n",
            "  [20]]]\n"
          ]
        }
      ]
    },
    {
      "cell_type": "code",
      "source": [
        "print(c[0:1])\n",
        "print('')\n",
        "print(c[0::-1])"
      ],
      "metadata": {
        "colab": {
          "base_uri": "https://localhost:8080/"
        },
        "id": "tQkBKLVEHdPk",
        "outputId": "9a50c318-4dbe-45cd-81fb-e3f688ef831a"
      },
      "execution_count": 78,
      "outputs": [
        {
          "output_type": "stream",
          "name": "stdout",
          "text": [
            "[[[ 0  1  2  3]\n",
            "  [ 4  5  6  7]\n",
            "  [ 8  9 10 11]]]\n",
            "\n",
            "[[[ 0  1  2  3]\n",
            "  [ 4  5  6  7]\n",
            "  [ 8  9 10 11]]]\n"
          ]
        }
      ]
    },
    {
      "cell_type": "code",
      "source": [
        "print(c)"
      ],
      "metadata": {
        "colab": {
          "base_uri": "https://localhost:8080/"
        },
        "id": "aDnDiAF-LbhU",
        "outputId": "4adcaf80-bcc1-4e79-ea08-a04904b4bc55"
      },
      "execution_count": 80,
      "outputs": [
        {
          "output_type": "stream",
          "name": "stdout",
          "text": [
            "[[[ 0  1  2  3]\n",
            "  [ 4  5  6  7]\n",
            "  [ 8  9 10 11]]\n",
            "\n",
            " [[12 13 14 15]\n",
            "  [16 17 18 19]\n",
            "  [20 21 22 23]]]\n"
          ]
        }
      ]
    },
    {
      "cell_type": "code",
      "source": [
        "# boolean indexing\n",
        "bool_idx = (c > 10)\n",
        "print(bool_idx)"
      ],
      "metadata": {
        "colab": {
          "base_uri": "https://localhost:8080/"
        },
        "id": "tB5z3YQaPRZj",
        "outputId": "f1056a3b-aba6-4a44-9208-0932eb7d7e27"
      },
      "execution_count": 81,
      "outputs": [
        {
          "output_type": "stream",
          "name": "stdout",
          "text": [
            "[[[False False False False]\n",
            "  [False False False False]\n",
            "  [False False False  True]]\n",
            "\n",
            " [[ True  True  True  True]\n",
            "  [ True  True  True  True]\n",
            "  [ True  True  True  True]]]\n"
          ]
        }
      ]
    },
    {
      "cell_type": "code",
      "source": [
        "print(c[bool_idx])"
      ],
      "metadata": {
        "colab": {
          "base_uri": "https://localhost:8080/"
        },
        "id": "dhAsK8nqPTYs",
        "outputId": "d3132c46-2d83-460c-cf97-a4af06df0daf"
      },
      "execution_count": 82,
      "outputs": [
        {
          "output_type": "stream",
          "name": "stdout",
          "text": [
            "[11 12 13 14 15 16 17 18 19 20 21 22 23]\n"
          ]
        }
      ]
    },
    {
      "cell_type": "code",
      "source": [
        "# fancy indexing\n",
        "d = np.arange(8).reshape(8,-1)\n",
        "print(d, d.shape)"
      ],
      "metadata": {
        "colab": {
          "base_uri": "https://localhost:8080/"
        },
        "id": "ymD2t43QPWhJ",
        "outputId": "1eda93cc-b85f-4331-fdee-5b622b3fcac1"
      },
      "execution_count": 84,
      "outputs": [
        {
          "output_type": "stream",
          "name": "stdout",
          "text": [
            "[[0]\n",
            " [1]\n",
            " [2]\n",
            " [3]\n",
            " [4]\n",
            " [5]\n",
            " [6]\n",
            " [7]] (8, 1)\n"
          ]
        }
      ]
    },
    {
      "cell_type": "code",
      "source": [
        "d = np.hstack((d, d, d, d))\n",
        "print(d, d.shape)"
      ],
      "metadata": {
        "colab": {
          "base_uri": "https://localhost:8080/"
        },
        "id": "TyEPvlvNPbS8",
        "outputId": "28579571-05d7-46ab-83ad-64a4c8d903a0"
      },
      "execution_count": 85,
      "outputs": [
        {
          "output_type": "stream",
          "name": "stdout",
          "text": [
            "[[0 0 0 0]\n",
            " [1 1 1 1]\n",
            " [2 2 2 2]\n",
            " [3 3 3 3]\n",
            " [4 4 4 4]\n",
            " [5 5 5 5]\n",
            " [6 6 6 6]\n",
            " [7 7 7 7]] (8, 4)\n"
          ]
        }
      ]
    },
    {
      "cell_type": "code",
      "source": [
        "print(d[[3, 5, 1, 0]])"
      ],
      "metadata": {
        "colab": {
          "base_uri": "https://localhost:8080/"
        },
        "id": "jMNqTgmxPyAK",
        "outputId": "a8d89a25-2f55-4d9a-f0be-f4d8632d81ef"
      },
      "execution_count": 86,
      "outputs": [
        {
          "output_type": "stream",
          "name": "stdout",
          "text": [
            "[[3 3 3 3]\n",
            " [5 5 5 5]\n",
            " [1 1 1 1]\n",
            " [0 0 0 0]]\n"
          ]
        }
      ]
    },
    {
      "cell_type": "code",
      "source": [
        "print(d[[-3, -5, -7]])"
      ],
      "metadata": {
        "colab": {
          "base_uri": "https://localhost:8080/"
        },
        "id": "9PGITUh4P1dy",
        "outputId": "db625f46-1b68-4197-b712-b64d41b755f5"
      },
      "execution_count": 87,
      "outputs": [
        {
          "output_type": "stream",
          "name": "stdout",
          "text": [
            "[[5 5 5 5]\n",
            " [3 3 3 3]\n",
            " [1 1 1 1]]\n"
          ]
        }
      ]
    },
    {
      "cell_type": "code",
      "source": [
        "e = np.arange(32).reshape(8,4)\n",
        "print(e, e.shape)"
      ],
      "metadata": {
        "colab": {
          "base_uri": "https://localhost:8080/"
        },
        "id": "yri9FodGP53g",
        "outputId": "b8746119-d898-49c8-f124-29dc7d32efe5"
      },
      "execution_count": 88,
      "outputs": [
        {
          "output_type": "stream",
          "name": "stdout",
          "text": [
            "[[ 0  1  2  3]\n",
            " [ 4  5  6  7]\n",
            " [ 8  9 10 11]\n",
            " [12 13 14 15]\n",
            " [16 17 18 19]\n",
            " [20 21 22 23]\n",
            " [24 25 26 27]\n",
            " [28 29 30 31]] (8, 4)\n"
          ]
        }
      ]
    },
    {
      "cell_type": "code",
      "source": [
        "print(e[[1,5,7,2], [0,3,1,2]])"
      ],
      "metadata": {
        "colab": {
          "base_uri": "https://localhost:8080/"
        },
        "id": "FDwFvlqiP6zs",
        "outputId": "d07c3b87-6303-4f68-cb65-eaf53fcb14cb"
      },
      "execution_count": 89,
      "outputs": [
        {
          "output_type": "stream",
          "name": "stdout",
          "text": [
            "[ 4 23 29 10]\n"
          ]
        }
      ]
    },
    {
      "cell_type": "code",
      "source": [
        "print(e[[1,5,7,2]][:, [0,3,1,2]])"
      ],
      "metadata": {
        "colab": {
          "base_uri": "https://localhost:8080/"
        },
        "id": "vzdvxtZuRnbg",
        "outputId": "15f801a4-c27c-450d-ac70-25c717e2838b"
      },
      "execution_count": 90,
      "outputs": [
        {
          "output_type": "stream",
          "name": "stdout",
          "text": [
            "[[ 4  7  5  6]\n",
            " [20 23 21 22]\n",
            " [28 31 29 30]\n",
            " [ 8 11  9 10]]\n"
          ]
        }
      ]
    },
    {
      "cell_type": "code",
      "source": [
        "# transpose 축 변경\n",
        "f = np.arange(16).reshape(2,2,4)\n",
        "print(f, f.shape)"
      ],
      "metadata": {
        "colab": {
          "base_uri": "https://localhost:8080/"
        },
        "id": "lqC7wRTk4rJf",
        "outputId": "2c35c6b8-ee8f-4e32-b8c7-31adb0809216"
      },
      "execution_count": 92,
      "outputs": [
        {
          "output_type": "stream",
          "name": "stdout",
          "text": [
            "[[[ 0  1  2  3]\n",
            "  [ 4  5  6  7]]\n",
            "\n",
            " [[ 8  9 10 11]\n",
            "  [12 13 14 15]]] (2, 2, 4)\n"
          ]
        }
      ]
    },
    {
      "cell_type": "code",
      "source": [
        "# 차원의 순서 변경\n",
        "print(f.transpose(1, 0, 2))"
      ],
      "metadata": {
        "colab": {
          "base_uri": "https://localhost:8080/"
        },
        "id": "1oA7RSx24tA5",
        "outputId": "7cdcd1b5-7fe4-4ebd-88e3-ec60ba4f868f"
      },
      "execution_count": 93,
      "outputs": [
        {
          "output_type": "stream",
          "name": "stdout",
          "text": [
            "[[[ 0  1  2  3]\n",
            "  [ 8  9 10 11]]\n",
            "\n",
            " [[ 4  5  6  7]\n",
            "  [12 13 14 15]]]\n"
          ]
        }
      ]
    },
    {
      "cell_type": "code",
      "source": [
        "# 첫번째 축, 두번째 축 서로 교환\n",
        "print(f.swapaxes(0, 1))"
      ],
      "metadata": {
        "colab": {
          "base_uri": "https://localhost:8080/"
        },
        "id": "6Z-3wGRkAPL9",
        "outputId": "24df1410-7f0e-41cf-c50c-75654c0587b7"
      },
      "execution_count": 94,
      "outputs": [
        {
          "output_type": "stream",
          "name": "stdout",
          "text": [
            "[[[ 0  1  2  3]\n",
            "  [ 8  9 10 11]]\n",
            "\n",
            " [[ 4  5  6  7]\n",
            "  [12 13 14 15]]]\n"
          ]
        }
      ]
    },
    {
      "cell_type": "code",
      "source": [
        "# Numpy 연산\n",
        "x = np.array([[1,2], [3,4]], dtype=np.float64)\n",
        "y = np.array([[5,6], [7,8]], dtype=np.float64)\n",
        "print(x)\n",
        "print('')\n",
        "print(y)"
      ],
      "metadata": {
        "colab": {
          "base_uri": "https://localhost:8080/"
        },
        "id": "NdeMhUDjAmXL",
        "outputId": "ff4c93c8-ae76-4745-d3fe-2b4b4392632f"
      },
      "execution_count": 96,
      "outputs": [
        {
          "output_type": "stream",
          "name": "stdout",
          "text": [
            "[[1. 2.]\n",
            " [3. 4.]]\n",
            "\n",
            "[[5. 6.]\n",
            " [7. 8.]]\n"
          ]
        }
      ]
    },
    {
      "cell_type": "code",
      "source": [
        "# add\n",
        "print(x + y)\n",
        "print('')\n",
        "print(np.add(x, y))"
      ],
      "metadata": {
        "colab": {
          "base_uri": "https://localhost:8080/"
        },
        "id": "DEi73MWzAnaj",
        "outputId": "ee80707a-aa6d-4962-c2ec-a05431b56f29"
      },
      "execution_count": 98,
      "outputs": [
        {
          "output_type": "stream",
          "name": "stdout",
          "text": [
            "[[ 6.  8.]\n",
            " [10. 12.]]\n",
            "\n",
            "[[ 6.  8.]\n",
            " [10. 12.]]\n"
          ]
        }
      ]
    },
    {
      "cell_type": "code",
      "source": [
        "# sub\n",
        "print(x - y)\n",
        "print('')\n",
        "print(np.subtract(x, y))"
      ],
      "metadata": {
        "colab": {
          "base_uri": "https://localhost:8080/"
        },
        "id": "_ACftqb6ArpZ",
        "outputId": "7f7f2900-df49-4472-c13b-dad03fe4ec1b"
      },
      "execution_count": 99,
      "outputs": [
        {
          "output_type": "stream",
          "name": "stdout",
          "text": [
            "[[-4. -4.]\n",
            " [-4. -4.]]\n",
            "\n",
            "[[-4. -4.]\n",
            " [-4. -4.]]\n"
          ]
        }
      ]
    },
    {
      "cell_type": "code",
      "source": [
        "# multiful\n",
        "print(x * y)\n",
        "print('')\n",
        "print(np.multiply(x, y))"
      ],
      "metadata": {
        "colab": {
          "base_uri": "https://localhost:8080/"
        },
        "id": "o5xZMgPKA0yj",
        "outputId": "86043731-96a3-4f02-b152-ba36b0f0240d"
      },
      "execution_count": 100,
      "outputs": [
        {
          "output_type": "stream",
          "name": "stdout",
          "text": [
            "[[ 5. 12.]\n",
            " [21. 32.]]\n",
            "\n",
            "[[ 5. 12.]\n",
            " [21. 32.]]\n"
          ]
        }
      ]
    },
    {
      "cell_type": "code",
      "source": [
        "# divide\n",
        "print(x / y)\n",
        "print('')\n",
        "print(np.divide(x, y))"
      ],
      "metadata": {
        "colab": {
          "base_uri": "https://localhost:8080/"
        },
        "id": "z-IYy5euA5dn",
        "outputId": "5d71a014-f4ba-42bb-d76e-9c58e83ca94c"
      },
      "execution_count": 101,
      "outputs": [
        {
          "output_type": "stream",
          "name": "stdout",
          "text": [
            "[[0.2        0.33333333]\n",
            " [0.42857143 0.5       ]]\n",
            "[[0.2        0.33333333]\n",
            " [0.42857143 0.5       ]]\n"
          ]
        }
      ]
    },
    {
      "cell_type": "code",
      "source": [
        "# 행렬 곱\n",
        "print(x @ y)\n",
        "print('')\n",
        "print(np.matmul(x, y))"
      ],
      "metadata": {
        "colab": {
          "base_uri": "https://localhost:8080/"
        },
        "id": "0rBe1P06A6iu",
        "outputId": "8679a954-b524-4a14-841f-e311e54bc5f6"
      },
      "execution_count": 103,
      "outputs": [
        {
          "output_type": "stream",
          "name": "stdout",
          "text": [
            "[[19. 22.]\n",
            " [43. 50.]]\n",
            "\n",
            "[[19. 22.]\n",
            " [43. 50.]]\n"
          ]
        }
      ]
    },
    {
      "cell_type": "code",
      "source": [
        "z = np.arange(1, 11).reshape(2, 5)\n",
        "print(z)"
      ],
      "metadata": {
        "colab": {
          "base_uri": "https://localhost:8080/"
        },
        "id": "P1GWzx6GCZU3",
        "outputId": "a5f0175f-718c-4984-a2d4-5d0f33d7b9e5"
      },
      "execution_count": 104,
      "outputs": [
        {
          "output_type": "stream",
          "name": "stdout",
          "text": [
            "[[ 1  2  3  4  5]\n",
            " [ 6  7  8  9 10]]\n"
          ]
        }
      ]
    },
    {
      "cell_type": "code",
      "source": [
        "print(np.sum(z))"
      ],
      "metadata": {
        "colab": {
          "base_uri": "https://localhost:8080/"
        },
        "id": "V78yghcWCaH6",
        "outputId": "e0d46ce4-f31d-42d8-c7c3-72d461bc267e"
      },
      "execution_count": 105,
      "outputs": [
        {
          "output_type": "stream",
          "name": "stdout",
          "text": [
            "55\n"
          ]
        }
      ]
    },
    {
      "cell_type": "code",
      "source": [
        "sum1 = np.sum(z, axis=0) # 0번축\n",
        "sum2 = np.sum(z, axis=1) # 1번축\n",
        "sum3 = np.sum(z, axis=-1) # 0, 1 1번축\n",
        "print(sum1, sum1.shape)\n",
        "print(sum2, sum2.shape)\n",
        "print(sum3, sum3.shape)"
      ],
      "metadata": {
        "colab": {
          "base_uri": "https://localhost:8080/"
        },
        "id": "4qFG_p3wFH4e",
        "outputId": "4cf48b71-48fe-471a-d59c-cf03b8a4cd5f"
      },
      "execution_count": 106,
      "outputs": [
        {
          "output_type": "stream",
          "name": "stdout",
          "text": [
            "[ 7  9 11 13 15] (5,)\n",
            "[15 40] (2,)\n",
            "[15 40] (2,)\n"
          ]
        }
      ]
    },
    {
      "cell_type": "markdown",
      "source": [
        "여기서 축(axis)은 각 배열의 차원에 해당되는 index 입니다.\n",
        "\n",
        "axis=0에 대하여 sum을 하라는 것은 0번 축 혹은 차원이 없어지는 방향으로 원소들을 모두 더하라는 얘기입니다.\n",
        "\n",
        "즉, 위 예에서 sum1의 경우, z[0,:]+z[1,:]의 연산을 하라는 의미이고,\n",
        "\n",
        "sum2의 경우에는 z[:,0]+z[:,1]+z[:,2]+z[:,3]+z[:,4]의 연산을 하라는 의미입니다."
      ],
      "metadata": {
        "id": "VNmrRk8tFPuj"
      }
    },
    {
      "cell_type": "code",
      "source": [
        "# sum1\n",
        "print(z[0,:])\n",
        "print(z[1,:])\n",
        "print(z[0,:] + z[1,:])"
      ],
      "metadata": {
        "colab": {
          "base_uri": "https://localhost:8080/"
        },
        "id": "2qEAWBrRFQJm",
        "outputId": "e00a3bc3-d1e2-40e8-e5dd-b4dd874be77a"
      },
      "execution_count": 109,
      "outputs": [
        {
          "output_type": "stream",
          "name": "stdout",
          "text": [
            "[1 2 3 4 5]\n",
            "[ 6  7  8  9 10]\n",
            "[ 7  9 11 13 15]\n"
          ]
        }
      ]
    },
    {
      "cell_type": "code",
      "source": [
        "# sum2\n",
        "print(z[:,0] + z[:,1] + z[:,2] + z[:,3] + z[:,4])"
      ],
      "metadata": {
        "colab": {
          "base_uri": "https://localhost:8080/"
        },
        "id": "8IGCekDjFSLH",
        "outputId": "37562159-0c2b-49c2-b1e9-63a1594d8cb5"
      },
      "execution_count": 108,
      "outputs": [
        {
          "output_type": "stream",
          "name": "stdout",
          "text": [
            "[15 40]\n"
          ]
        }
      ]
    },
    {
      "cell_type": "code",
      "source": [
        "# Broadcasting\n",
        "x = np.array([[1,2,3], [4,5,6], [7,8,9], [10,11,12]])\n",
        "y = np.array([1,0,2])"
      ],
      "metadata": {
        "id": "UsMm12h4cMkG"
      },
      "execution_count": 110,
      "outputs": []
    },
    {
      "cell_type": "code",
      "source": [
        "print(x, x.shape)\n",
        "print('')\n",
        "print(y, y.shape)"
      ],
      "metadata": {
        "colab": {
          "base_uri": "https://localhost:8080/"
        },
        "id": "-__f9G1pcTIW",
        "outputId": "75c97b8d-6d21-4c7c-b599-82ebd22d4d99"
      },
      "execution_count": 113,
      "outputs": [
        {
          "output_type": "stream",
          "name": "stdout",
          "text": [
            "[[ 1  2  3]\n",
            " [ 4  5  6]\n",
            " [ 7  8  9]\n",
            " [10 11 12]] (4, 3)\n",
            "\n",
            "[1 0 2] (3,)\n"
          ]
        }
      ]
    },
    {
      "cell_type": "code",
      "source": [
        "z = x + y\n",
        "print(z, z.shape)"
      ],
      "metadata": {
        "colab": {
          "base_uri": "https://localhost:8080/"
        },
        "id": "duDtm_prcUpq",
        "outputId": "1df25b9d-9ca2-4cde-d70a-215b628f74ea"
      },
      "execution_count": 112,
      "outputs": [
        {
          "output_type": "stream",
          "name": "stdout",
          "text": [
            "[[ 2  2  5]\n",
            " [ 5  5  8]\n",
            " [ 8  8 11]\n",
            " [11 11 14]] (4, 3)\n"
          ]
        }
      ]
    },
    {
      "cell_type": "markdown",
      "source": [
        "두 개의 배열을 브로드캐스팅하는 것은 다음 규칙을 따릅니다.\n",
        "\n",
        "1. 배열의 랭크가 같지 않으면 두 모양이 같은 길이가 될 때까지 배열의 낮은 랭크쪽에 1을 붙입니다.\n",
        "2. 두 배열은 차원에서 크기가 같거나 배열 중 하나의 차원에 크기가 1 인 경우 차원에서 호환 가능하다고 합니다.\n",
        "3. 배열은 모든 차원에서 호환되면 함께 broadcast 될 수 있습니다.\n",
        "4. Broadcast 후 각 배열은 두 개의 입력 배열의 요소 모양 최대 개수와 동일한 모양을 가진 것처럼 동작합니다.\n",
        "5. 한 배열의 크기가 1이고 다른 배열의 크기가 1보다 큰 차원에서 첫 번째 배열은 마치 해당 차원을 따라 복사 된 것처럼 작동합니다\n",
        "\n",
        "실제로 동작하는 방식을 생각해 봅시다.\n",
        "\n",
        "1. A와 B의 모양을 생각합니다.\n",
        "2. 두 배열이 len(A.shape) == len(B.shape)인지 확인을 합니다.\n",
        "3. 같지 않은 경우에는 두 배열의 모양 길이가 같아질때까지 적은 쪽의 shape 앞에 1 을 추가해 줍니다.\n",
        "- 예: (5,3)–>(1,5,3)\n",
        "4. shape이 1인 곳은 복사가 됩니다.\n",
        "- 예: shape의 변화는 아래와 같게 될겁니다.\n",
        "- (5, 3)+(3,)\n",
        "- (5, 3)+(1, 3)\n",
        "- (5, 3) + (5, 3)\n",
        "- (5, 3)\n",
        "\n",
        "이 설명이 이해가되지 않으면 문서 또는 이 설명을 읽으십시오.\n",
        "\n",
        "https://docs.scipy.org/doc/numpy/user/basics.broadcasting.html\n",
        "\n",
        "http://scipy.github.io/old-wiki/pages/EricsBroadcastingDoc\n",
        "\n",
        "Broadcasting을 지원하는 함수들을 보편 함수라고합니다. 이 문서에서 모든 보편 함수 목록을 찾을 수 있습니다.\n",
        "https://docs.scipy.org/doc/numpy/reference/ufuncs.html#available-ufuncs"
      ],
      "metadata": {
        "id": "f9srRvNvcyfk"
      }
    },
    {
      "cell_type": "code",
      "source": [
        "x = np.array([1,2,3]).reshape(1,3)\n",
        "y = np.array([4,5]).reshape(1,2)\n",
        "print(x, x.shape)\n",
        "print('')\n",
        "print(y, y.shape)"
      ],
      "metadata": {
        "colab": {
          "base_uri": "https://localhost:8080/"
        },
        "id": "OlDo-Dt9czBW",
        "outputId": "d4748a6a-7ce6-40f1-db89-172482299cf3"
      },
      "execution_count": 115,
      "outputs": [
        {
          "output_type": "stream",
          "name": "stdout",
          "text": [
            "[[1 2 3]] (1, 3)\n",
            "\n",
            "[[4 5]] (1, 2)\n"
          ]
        }
      ]
    },
    {
      "cell_type": "code",
      "source": [
        "# broadcasting 조건에 맞지 않음\n",
        "print(x + y)"
      ],
      "metadata": {
        "id": "Hlvg2myadM4C"
      },
      "execution_count": null,
      "outputs": []
    },
    {
      "cell_type": "code",
      "source": [
        "y = y.swapaxes(0, 1)\n",
        "print(y, y.shape)"
      ],
      "metadata": {
        "colab": {
          "base_uri": "https://localhost:8080/"
        },
        "id": "GZjL_qJedOMy",
        "outputId": "34ebe673-542c-4e72-b5e1-12c50fd6f881"
      },
      "execution_count": 117,
      "outputs": [
        {
          "output_type": "stream",
          "name": "stdout",
          "text": [
            "[[4]\n",
            " [5]] (2, 1)\n"
          ]
        }
      ]
    },
    {
      "cell_type": "code",
      "source": [
        "# broadcasting 발생\n",
        "print(x + y)"
      ],
      "metadata": {
        "colab": {
          "base_uri": "https://localhost:8080/"
        },
        "id": "pmp-S8ZGdQ1_",
        "outputId": "91f75054-9eef-40d2-ec09-227bf3f024b9"
      },
      "execution_count": 118,
      "outputs": [
        {
          "output_type": "stream",
          "name": "stdout",
          "text": [
            "[[5 6 7]\n",
            " [6 7 8]]\n"
          ]
        }
      ]
    },
    {
      "cell_type": "code",
      "source": [
        "# shape 변경\n",
        "a = np.arange(24).reshape(2,3,4)\n",
        "print(a, a.shape)"
      ],
      "metadata": {
        "colab": {
          "base_uri": "https://localhost:8080/"
        },
        "id": "Bk3pQWDed1bw",
        "outputId": "650fc4f2-d785-40e5-824b-86d785268865"
      },
      "execution_count": 119,
      "outputs": [
        {
          "output_type": "stream",
          "name": "stdout",
          "text": [
            "[[[ 0  1  2  3]\n",
            "  [ 4  5  6  7]\n",
            "  [ 8  9 10 11]]\n",
            "\n",
            " [[12 13 14 15]\n",
            "  [16 17 18 19]\n",
            "  [20 21 22 23]]] (2, 3, 4)\n"
          ]
        }
      ]
    },
    {
      "cell_type": "code",
      "source": [
        "a = a.reshape(4, -1)\n",
        "print(a, a.shape)"
      ],
      "metadata": {
        "colab": {
          "base_uri": "https://localhost:8080/"
        },
        "id": "BxN8qXXXd4Bd",
        "outputId": "a085808a-aede-435b-dcd3-4bb55f405e30"
      },
      "execution_count": 120,
      "outputs": [
        {
          "output_type": "stream",
          "name": "stdout",
          "text": [
            "[[ 0  1  2  3  4  5]\n",
            " [ 6  7  8  9 10 11]\n",
            " [12 13 14 15 16 17]\n",
            " [18 19 20 21 22 23]] (4, 6)\n"
          ]
        }
      ]
    },
    {
      "cell_type": "code",
      "source": [
        "a = a[..., np.newaxis]\n",
        "print(a, a.shape)"
      ],
      "metadata": {
        "colab": {
          "base_uri": "https://localhost:8080/"
        },
        "id": "3iYsQxiJd6fb",
        "outputId": "10785b98-a4c7-4268-d641-3a934f2cbddc"
      },
      "execution_count": 121,
      "outputs": [
        {
          "output_type": "stream",
          "name": "stdout",
          "text": [
            "[[[ 0]\n",
            "  [ 1]\n",
            "  [ 2]\n",
            "  [ 3]\n",
            "  [ 4]\n",
            "  [ 5]]\n",
            "\n",
            " [[ 6]\n",
            "  [ 7]\n",
            "  [ 8]\n",
            "  [ 9]\n",
            "  [10]\n",
            "  [11]]\n",
            "\n",
            " [[12]\n",
            "  [13]\n",
            "  [14]\n",
            "  [15]\n",
            "  [16]\n",
            "  [17]]\n",
            "\n",
            " [[18]\n",
            "  [19]\n",
            "  [20]\n",
            "  [21]\n",
            "  [22]\n",
            "  [23]]] (4, 6, 1)\n"
          ]
        }
      ]
    },
    {
      "cell_type": "code",
      "source": [
        "a = a.reshape(4, 6)\n",
        "a = np.expand_dims(a, axis=0)\n",
        "print(a, a.shape)"
      ],
      "metadata": {
        "colab": {
          "base_uri": "https://localhost:8080/"
        },
        "id": "OnaA5b2EeEn2",
        "outputId": "5dd4cb8e-5dca-46a0-97fa-d6f057400c63"
      },
      "execution_count": 122,
      "outputs": [
        {
          "output_type": "stream",
          "name": "stdout",
          "text": [
            "[[[ 0  1  2  3  4  5]\n",
            "  [ 6  7  8  9 10 11]\n",
            "  [12 13 14 15 16 17]\n",
            "  [18 19 20 21 22 23]]] (1, 4, 6)\n"
          ]
        }
      ]
    },
    {
      "cell_type": "code",
      "source": [
        "a = a.reshape(4, 6)\n",
        "a = np.expand_dims(a, axis=1)\n",
        "print(a, a.shape)"
      ],
      "metadata": {
        "colab": {
          "base_uri": "https://localhost:8080/"
        },
        "id": "GXB4cQRaeNq_",
        "outputId": "ff0aea29-87f8-48bf-f775-d07ddd08aa5c"
      },
      "execution_count": 123,
      "outputs": [
        {
          "output_type": "stream",
          "name": "stdout",
          "text": [
            "[[[ 0  1  2  3  4  5]]\n",
            "\n",
            " [[ 6  7  8  9 10 11]]\n",
            "\n",
            " [[12 13 14 15 16 17]]\n",
            "\n",
            " [[18 19 20 21 22 23]]] (4, 1, 6)\n"
          ]
        }
      ]
    },
    {
      "cell_type": "code",
      "source": [
        "b = a.copy()\n",
        "print(b, b.shape)"
      ],
      "metadata": {
        "colab": {
          "base_uri": "https://localhost:8080/"
        },
        "id": "r7Q2L-areQhy",
        "outputId": "2cb00bfd-84a9-4242-f737-33edcd0120b4"
      },
      "execution_count": 124,
      "outputs": [
        {
          "output_type": "stream",
          "name": "stdout",
          "text": [
            "[[[ 0  1  2  3  4  5]]\n",
            "\n",
            " [[ 6  7  8  9 10 11]]\n",
            "\n",
            " [[12 13 14 15 16 17]]\n",
            "\n",
            " [[18 19 20 21 22 23]]] (4, 1, 6)\n"
          ]
        }
      ]
    },
    {
      "cell_type": "code",
      "source": [
        "c = np.concatenate((a, b), axis=-1)\n",
        "print(c, c.shape)"
      ],
      "metadata": {
        "colab": {
          "base_uri": "https://localhost:8080/"
        },
        "id": "soj6hJFZeSjt",
        "outputId": "602f627f-936a-4521-998b-791e63946425"
      },
      "execution_count": 125,
      "outputs": [
        {
          "output_type": "stream",
          "name": "stdout",
          "text": [
            "[[[ 0  1  2  3  4  5  0  1  2  3  4  5]]\n",
            "\n",
            " [[ 6  7  8  9 10 11  6  7  8  9 10 11]]\n",
            "\n",
            " [[12 13 14 15 16 17 12 13 14 15 16 17]]\n",
            "\n",
            " [[18 19 20 21 22 23 18 19 20 21 22 23]]] (4, 1, 12)\n"
          ]
        }
      ]
    },
    {
      "cell_type": "code",
      "source": [
        "c = np.concatenate((a, b), axis=0)\n",
        "print(c, c.shape)"
      ],
      "metadata": {
        "colab": {
          "base_uri": "https://localhost:8080/"
        },
        "id": "YxRfjtz-eVd6",
        "outputId": "1c902529-a631-464b-81c4-0c47c7006716"
      },
      "execution_count": 126,
      "outputs": [
        {
          "output_type": "stream",
          "name": "stdout",
          "text": [
            "[[[ 0  1  2  3  4  5]]\n",
            "\n",
            " [[ 6  7  8  9 10 11]]\n",
            "\n",
            " [[12 13 14 15 16 17]]\n",
            "\n",
            " [[18 19 20 21 22 23]]\n",
            "\n",
            " [[ 0  1  2  3  4  5]]\n",
            "\n",
            " [[ 6  7  8  9 10 11]]\n",
            "\n",
            " [[12 13 14 15 16 17]]\n",
            "\n",
            " [[18 19 20 21 22 23]]] (8, 1, 6)\n"
          ]
        }
      ]
    },
    {
      "cell_type": "code",
      "source": [
        "d = np.stack((a, b), axis=-1)\n",
        "print(d, d.shape)"
      ],
      "metadata": {
        "colab": {
          "base_uri": "https://localhost:8080/"
        },
        "id": "h-oVbNC0eYJQ",
        "outputId": "bcf3fc03-df02-4dbf-846e-e7976387f1aa"
      },
      "execution_count": 127,
      "outputs": [
        {
          "output_type": "stream",
          "name": "stdout",
          "text": [
            "[[[[ 0  0]\n",
            "   [ 1  1]\n",
            "   [ 2  2]\n",
            "   [ 3  3]\n",
            "   [ 4  4]\n",
            "   [ 5  5]]]\n",
            "\n",
            "\n",
            " [[[ 6  6]\n",
            "   [ 7  7]\n",
            "   [ 8  8]\n",
            "   [ 9  9]\n",
            "   [10 10]\n",
            "   [11 11]]]\n",
            "\n",
            "\n",
            " [[[12 12]\n",
            "   [13 13]\n",
            "   [14 14]\n",
            "   [15 15]\n",
            "   [16 16]\n",
            "   [17 17]]]\n",
            "\n",
            "\n",
            " [[[18 18]\n",
            "   [19 19]\n",
            "   [20 20]\n",
            "   [21 21]\n",
            "   [22 22]\n",
            "   [23 23]]]] (4, 1, 6, 2)\n"
          ]
        }
      ]
    },
    {
      "cell_type": "code",
      "source": [
        "d = np.stack((a, b), axis=0)\n",
        "print(d, d.shape)"
      ],
      "metadata": {
        "colab": {
          "base_uri": "https://localhost:8080/"
        },
        "id": "KPsPCUEBecyY",
        "outputId": "ecd5609a-5f50-44e1-81ec-ce78562be386"
      },
      "execution_count": 128,
      "outputs": [
        {
          "output_type": "stream",
          "name": "stdout",
          "text": [
            "[[[[ 0  1  2  3  4  5]]\n",
            "\n",
            "  [[ 6  7  8  9 10 11]]\n",
            "\n",
            "  [[12 13 14 15 16 17]]\n",
            "\n",
            "  [[18 19 20 21 22 23]]]\n",
            "\n",
            "\n",
            " [[[ 0  1  2  3  4  5]]\n",
            "\n",
            "  [[ 6  7  8  9 10 11]]\n",
            "\n",
            "  [[12 13 14 15 16 17]]\n",
            "\n",
            "  [[18 19 20 21 22 23]]]] (2, 4, 1, 6)\n"
          ]
        }
      ]
    }
  ]
}
